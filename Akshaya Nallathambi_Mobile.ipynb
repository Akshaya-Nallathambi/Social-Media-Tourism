{
 "cells": [
  {
   "cell_type": "code",
   "execution_count": 1,
   "id": "ce4a117b",
   "metadata": {},
   "outputs": [],
   "source": [
    "import numpy as np\n",
    "import pandas as pd  \n",
    "import matplotlib.pyplot as plt   \n",
    "import seaborn as sns\n",
    "%matplotlib inline \n",
    "import warnings\n",
    "warnings.filterwarnings(\"ignore\")\n",
    "from sklearn.linear_model import LogisticRegression\n",
    "from sklearn.discriminant_analysis import LinearDiscriminantAnalysis\n",
    "from sklearn.metrics import confusion_matrix\n",
    "from sklearn.metrics import classification_report\n",
    "from sklearn.model_selection import train_test_split,GridSearchCV\n",
    "\n",
    "from imblearn.over_sampling import SMOTE \n",
    "from sklearn import metrics\n",
    "\n",
    "import warnings\n",
    "warnings.filterwarnings(\"ignore\")"
   ]
  },
  {
   "cell_type": "code",
   "execution_count": 2,
   "id": "ae002b07",
   "metadata": {},
   "outputs": [
    {
     "data": {
      "text/html": [
       "<div>\n",
       "<style scoped>\n",
       "    .dataframe tbody tr th:only-of-type {\n",
       "        vertical-align: middle;\n",
       "    }\n",
       "\n",
       "    .dataframe tbody tr th {\n",
       "        vertical-align: top;\n",
       "    }\n",
       "\n",
       "    .dataframe thead th {\n",
       "        text-align: right;\n",
       "    }\n",
       "</style>\n",
       "<table border=\"1\" class=\"dataframe\">\n",
       "  <thead>\n",
       "    <tr style=\"text-align: right;\">\n",
       "      <th></th>\n",
       "      <th>0</th>\n",
       "      <th>1</th>\n",
       "      <th>2</th>\n",
       "      <th>3</th>\n",
       "      <th>4</th>\n",
       "    </tr>\n",
       "  </thead>\n",
       "  <tbody>\n",
       "    <tr>\n",
       "      <th>Taken_product</th>\n",
       "      <td>1</td>\n",
       "      <td>0</td>\n",
       "      <td>1</td>\n",
       "      <td>0</td>\n",
       "      <td>0</td>\n",
       "    </tr>\n",
       "    <tr>\n",
       "      <th>Yearly_avg_view_on_travel_page</th>\n",
       "      <td>307.0</td>\n",
       "      <td>367.0</td>\n",
       "      <td>277.0</td>\n",
       "      <td>247.0</td>\n",
       "      <td>202.0</td>\n",
       "    </tr>\n",
       "    <tr>\n",
       "      <th>preferred_device</th>\n",
       "      <td>Mobile</td>\n",
       "      <td>Mobile</td>\n",
       "      <td>Mobile</td>\n",
       "      <td>Mobile</td>\n",
       "      <td>Mobile</td>\n",
       "    </tr>\n",
       "    <tr>\n",
       "      <th>total_likes_on_outstation_checkin_given</th>\n",
       "      <td>38570.0</td>\n",
       "      <td>9765.0</td>\n",
       "      <td>48055.0</td>\n",
       "      <td>48720.0</td>\n",
       "      <td>20685.0</td>\n",
       "    </tr>\n",
       "    <tr>\n",
       "      <th>yearly_avg_Outstation_checkins</th>\n",
       "      <td>1</td>\n",
       "      <td>1</td>\n",
       "      <td>1</td>\n",
       "      <td>1</td>\n",
       "      <td>1</td>\n",
       "    </tr>\n",
       "    <tr>\n",
       "      <th>member_in_family</th>\n",
       "      <td>2</td>\n",
       "      <td>1</td>\n",
       "      <td>2</td>\n",
       "      <td>4</td>\n",
       "      <td>1</td>\n",
       "    </tr>\n",
       "    <tr>\n",
       "      <th>preferred_location_type</th>\n",
       "      <td>Financial</td>\n",
       "      <td>Financial</td>\n",
       "      <td>Other</td>\n",
       "      <td>Financial</td>\n",
       "      <td>Medical</td>\n",
       "    </tr>\n",
       "    <tr>\n",
       "      <th>Yearly_avg_comment_on_travel_page</th>\n",
       "      <td>94.0</td>\n",
       "      <td>61.0</td>\n",
       "      <td>92.0</td>\n",
       "      <td>56.0</td>\n",
       "      <td>40.0</td>\n",
       "    </tr>\n",
       "    <tr>\n",
       "      <th>total_likes_on_outofstation_checkin_received</th>\n",
       "      <td>5993</td>\n",
       "      <td>5130</td>\n",
       "      <td>2090</td>\n",
       "      <td>2909</td>\n",
       "      <td>3468</td>\n",
       "    </tr>\n",
       "    <tr>\n",
       "      <th>week_since_last_outstation_checkin</th>\n",
       "      <td>8</td>\n",
       "      <td>1</td>\n",
       "      <td>6</td>\n",
       "      <td>1</td>\n",
       "      <td>9</td>\n",
       "    </tr>\n",
       "    <tr>\n",
       "      <th>following_company_page</th>\n",
       "      <td>1</td>\n",
       "      <td>0</td>\n",
       "      <td>1</td>\n",
       "      <td>1</td>\n",
       "      <td>0</td>\n",
       "    </tr>\n",
       "    <tr>\n",
       "      <th>montly_avg_comment_on_company_page</th>\n",
       "      <td>11</td>\n",
       "      <td>23</td>\n",
       "      <td>15</td>\n",
       "      <td>11</td>\n",
       "      <td>12</td>\n",
       "    </tr>\n",
       "    <tr>\n",
       "      <th>working_flag</th>\n",
       "      <td>0</td>\n",
       "      <td>1</td>\n",
       "      <td>0</td>\n",
       "      <td>0</td>\n",
       "      <td>0</td>\n",
       "    </tr>\n",
       "    <tr>\n",
       "      <th>travelling_network_rating</th>\n",
       "      <td>1</td>\n",
       "      <td>4</td>\n",
       "      <td>2</td>\n",
       "      <td>3</td>\n",
       "      <td>4</td>\n",
       "    </tr>\n",
       "    <tr>\n",
       "      <th>Adult_flag</th>\n",
       "      <td>0</td>\n",
       "      <td>0</td>\n",
       "      <td>0</td>\n",
       "      <td>0</td>\n",
       "      <td>0</td>\n",
       "    </tr>\n",
       "    <tr>\n",
       "      <th>Daily_Avg_mins_spend_on_traveling_page</th>\n",
       "      <td>8</td>\n",
       "      <td>10</td>\n",
       "      <td>7</td>\n",
       "      <td>8</td>\n",
       "      <td>6</td>\n",
       "    </tr>\n",
       "  </tbody>\n",
       "</table>\n",
       "</div>"
      ],
      "text/plain": [
       "                                                      0          1        2  \\\n",
       "Taken_product                                         1          0        1   \n",
       "Yearly_avg_view_on_travel_page                    307.0      367.0    277.0   \n",
       "preferred_device                                 Mobile     Mobile   Mobile   \n",
       "total_likes_on_outstation_checkin_given         38570.0     9765.0  48055.0   \n",
       "yearly_avg_Outstation_checkins                        1          1        1   \n",
       "member_in_family                                      2          1        2   \n",
       "preferred_location_type                       Financial  Financial    Other   \n",
       "Yearly_avg_comment_on_travel_page                  94.0       61.0     92.0   \n",
       "total_likes_on_outofstation_checkin_received       5993       5130     2090   \n",
       "week_since_last_outstation_checkin                    8          1        6   \n",
       "following_company_page                                1          0        1   \n",
       "montly_avg_comment_on_company_page                   11         23       15   \n",
       "working_flag                                          0          1        0   \n",
       "travelling_network_rating                             1          4        2   \n",
       "Adult_flag                                            0          0        0   \n",
       "Daily_Avg_mins_spend_on_traveling_page                8         10        7   \n",
       "\n",
       "                                                      3        4  \n",
       "Taken_product                                         0        0  \n",
       "Yearly_avg_view_on_travel_page                    247.0    202.0  \n",
       "preferred_device                                 Mobile   Mobile  \n",
       "total_likes_on_outstation_checkin_given         48720.0  20685.0  \n",
       "yearly_avg_Outstation_checkins                        1        1  \n",
       "member_in_family                                      4        1  \n",
       "preferred_location_type                       Financial  Medical  \n",
       "Yearly_avg_comment_on_travel_page                  56.0     40.0  \n",
       "total_likes_on_outofstation_checkin_received       2909     3468  \n",
       "week_since_last_outstation_checkin                    1        9  \n",
       "following_company_page                                1        0  \n",
       "montly_avg_comment_on_company_page                   11       12  \n",
       "working_flag                                          0        0  \n",
       "travelling_network_rating                             3        4  \n",
       "Adult_flag                                            0        0  \n",
       "Daily_Avg_mins_spend_on_traveling_page                8        6  "
      ]
     },
     "execution_count": 2,
     "metadata": {},
     "output_type": "execute_result"
    }
   ],
   "source": [
    "df1 = pd.read_excel(\"Mobile Dataset.xlsx\")\n",
    "\n",
    "df1.head().T"
   ]
  },
  {
   "cell_type": "code",
   "execution_count": 3,
   "id": "f9f52e8d",
   "metadata": {},
   "outputs": [
    {
     "data": {
      "text/plain": [
       "(10652, 16)"
      ]
     },
     "execution_count": 3,
     "metadata": {},
     "output_type": "execute_result"
    }
   ],
   "source": [
    "df1.shape"
   ]
  },
  {
   "cell_type": "code",
   "execution_count": 4,
   "id": "692e05a0",
   "metadata": {},
   "outputs": [
    {
     "data": {
      "text/html": [
       "<div>\n",
       "<style scoped>\n",
       "    .dataframe tbody tr th:only-of-type {\n",
       "        vertical-align: middle;\n",
       "    }\n",
       "\n",
       "    .dataframe tbody tr th {\n",
       "        vertical-align: top;\n",
       "    }\n",
       "\n",
       "    .dataframe thead th {\n",
       "        text-align: right;\n",
       "    }\n",
       "</style>\n",
       "<table border=\"1\" class=\"dataframe\">\n",
       "  <thead>\n",
       "    <tr style=\"text-align: right;\">\n",
       "      <th></th>\n",
       "      <th>count</th>\n",
       "      <th>mean</th>\n",
       "      <th>std</th>\n",
       "      <th>min</th>\n",
       "      <th>25%</th>\n",
       "      <th>50%</th>\n",
       "      <th>75%</th>\n",
       "      <th>max</th>\n",
       "    </tr>\n",
       "  </thead>\n",
       "  <tbody>\n",
       "    <tr>\n",
       "      <th>Taken_product</th>\n",
       "      <td>10652.0</td>\n",
       "      <td>0.152084</td>\n",
       "      <td>0.359119</td>\n",
       "      <td>0.0</td>\n",
       "      <td>0.00</td>\n",
       "      <td>0.0</td>\n",
       "      <td>0.00</td>\n",
       "      <td>1.00</td>\n",
       "    </tr>\n",
       "    <tr>\n",
       "      <th>Yearly_avg_view_on_travel_page</th>\n",
       "      <td>10652.0</td>\n",
       "      <td>280.205642</td>\n",
       "      <td>66.567644</td>\n",
       "      <td>99.5</td>\n",
       "      <td>232.00</td>\n",
       "      <td>271.0</td>\n",
       "      <td>321.00</td>\n",
       "      <td>455.50</td>\n",
       "    </tr>\n",
       "    <tr>\n",
       "      <th>total_likes_on_outstation_checkin_given</th>\n",
       "      <td>10652.0</td>\n",
       "      <td>28170.414852</td>\n",
       "      <td>13937.016880</td>\n",
       "      <td>3570.0</td>\n",
       "      <td>16529.25</td>\n",
       "      <td>28076.0</td>\n",
       "      <td>40149.50</td>\n",
       "      <td>75242.25</td>\n",
       "    </tr>\n",
       "    <tr>\n",
       "      <th>yearly_avg_Outstation_checkins</th>\n",
       "      <td>10652.0</td>\n",
       "      <td>8.062336</td>\n",
       "      <td>8.682026</td>\n",
       "      <td>1.0</td>\n",
       "      <td>1.00</td>\n",
       "      <td>3.0</td>\n",
       "      <td>14.00</td>\n",
       "      <td>29.00</td>\n",
       "    </tr>\n",
       "    <tr>\n",
       "      <th>member_in_family</th>\n",
       "      <td>10652.0</td>\n",
       "      <td>2.924052</td>\n",
       "      <td>1.044928</td>\n",
       "      <td>1.0</td>\n",
       "      <td>2.00</td>\n",
       "      <td>3.0</td>\n",
       "      <td>4.00</td>\n",
       "      <td>10.00</td>\n",
       "    </tr>\n",
       "    <tr>\n",
       "      <th>Yearly_avg_comment_on_travel_page</th>\n",
       "      <td>10652.0</td>\n",
       "      <td>74.353173</td>\n",
       "      <td>21.556143</td>\n",
       "      <td>4.5</td>\n",
       "      <td>57.00</td>\n",
       "      <td>75.0</td>\n",
       "      <td>92.00</td>\n",
       "      <td>144.50</td>\n",
       "    </tr>\n",
       "    <tr>\n",
       "      <th>total_likes_on_outofstation_checkin_received</th>\n",
       "      <td>10652.0</td>\n",
       "      <td>6414.445644</td>\n",
       "      <td>4368.643190</td>\n",
       "      <td>1009.0</td>\n",
       "      <td>2945.75</td>\n",
       "      <td>4967.5</td>\n",
       "      <td>8394.25</td>\n",
       "      <td>16572.00</td>\n",
       "    </tr>\n",
       "    <tr>\n",
       "      <th>week_since_last_outstation_checkin</th>\n",
       "      <td>10652.0</td>\n",
       "      <td>3.224934</td>\n",
       "      <td>2.628021</td>\n",
       "      <td>0.0</td>\n",
       "      <td>1.00</td>\n",
       "      <td>3.0</td>\n",
       "      <td>5.00</td>\n",
       "      <td>11.00</td>\n",
       "    </tr>\n",
       "    <tr>\n",
       "      <th>following_company_page</th>\n",
       "      <td>10652.0</td>\n",
       "      <td>0.277225</td>\n",
       "      <td>0.447650</td>\n",
       "      <td>0.0</td>\n",
       "      <td>0.00</td>\n",
       "      <td>0.0</td>\n",
       "      <td>1.00</td>\n",
       "      <td>1.00</td>\n",
       "    </tr>\n",
       "    <tr>\n",
       "      <th>montly_avg_comment_on_company_page</th>\n",
       "      <td>10652.0</td>\n",
       "      <td>22.486481</td>\n",
       "      <td>7.370521</td>\n",
       "      <td>11.0</td>\n",
       "      <td>17.00</td>\n",
       "      <td>22.0</td>\n",
       "      <td>27.00</td>\n",
       "      <td>42.00</td>\n",
       "    </tr>\n",
       "    <tr>\n",
       "      <th>working_flag</th>\n",
       "      <td>10652.0</td>\n",
       "      <td>0.152460</td>\n",
       "      <td>0.359483</td>\n",
       "      <td>0.0</td>\n",
       "      <td>0.00</td>\n",
       "      <td>0.0</td>\n",
       "      <td>0.00</td>\n",
       "      <td>1.00</td>\n",
       "    </tr>\n",
       "    <tr>\n",
       "      <th>travelling_network_rating</th>\n",
       "      <td>10652.0</td>\n",
       "      <td>2.705595</td>\n",
       "      <td>1.080931</td>\n",
       "      <td>1.0</td>\n",
       "      <td>2.00</td>\n",
       "      <td>3.0</td>\n",
       "      <td>4.00</td>\n",
       "      <td>4.00</td>\n",
       "    </tr>\n",
       "    <tr>\n",
       "      <th>Adult_flag</th>\n",
       "      <td>10652.0</td>\n",
       "      <td>0.166729</td>\n",
       "      <td>0.372751</td>\n",
       "      <td>0.0</td>\n",
       "      <td>0.00</td>\n",
       "      <td>0.0</td>\n",
       "      <td>0.00</td>\n",
       "      <td>1.00</td>\n",
       "    </tr>\n",
       "    <tr>\n",
       "      <th>Daily_Avg_mins_spend_on_traveling_page</th>\n",
       "      <td>10652.0</td>\n",
       "      <td>13.643729</td>\n",
       "      <td>7.986216</td>\n",
       "      <td>0.0</td>\n",
       "      <td>8.00</td>\n",
       "      <td>12.0</td>\n",
       "      <td>18.00</td>\n",
       "      <td>33.00</td>\n",
       "    </tr>\n",
       "  </tbody>\n",
       "</table>\n",
       "</div>"
      ],
      "text/plain": [
       "                                                count          mean  \\\n",
       "Taken_product                                 10652.0      0.152084   \n",
       "Yearly_avg_view_on_travel_page                10652.0    280.205642   \n",
       "total_likes_on_outstation_checkin_given       10652.0  28170.414852   \n",
       "yearly_avg_Outstation_checkins                10652.0      8.062336   \n",
       "member_in_family                              10652.0      2.924052   \n",
       "Yearly_avg_comment_on_travel_page             10652.0     74.353173   \n",
       "total_likes_on_outofstation_checkin_received  10652.0   6414.445644   \n",
       "week_since_last_outstation_checkin            10652.0      3.224934   \n",
       "following_company_page                        10652.0      0.277225   \n",
       "montly_avg_comment_on_company_page            10652.0     22.486481   \n",
       "working_flag                                  10652.0      0.152460   \n",
       "travelling_network_rating                     10652.0      2.705595   \n",
       "Adult_flag                                    10652.0      0.166729   \n",
       "Daily_Avg_mins_spend_on_traveling_page        10652.0     13.643729   \n",
       "\n",
       "                                                       std     min       25%  \\\n",
       "Taken_product                                     0.359119     0.0      0.00   \n",
       "Yearly_avg_view_on_travel_page                   66.567644    99.5    232.00   \n",
       "total_likes_on_outstation_checkin_given       13937.016880  3570.0  16529.25   \n",
       "yearly_avg_Outstation_checkins                    8.682026     1.0      1.00   \n",
       "member_in_family                                  1.044928     1.0      2.00   \n",
       "Yearly_avg_comment_on_travel_page                21.556143     4.5     57.00   \n",
       "total_likes_on_outofstation_checkin_received   4368.643190  1009.0   2945.75   \n",
       "week_since_last_outstation_checkin                2.628021     0.0      1.00   \n",
       "following_company_page                            0.447650     0.0      0.00   \n",
       "montly_avg_comment_on_company_page                7.370521    11.0     17.00   \n",
       "working_flag                                      0.359483     0.0      0.00   \n",
       "travelling_network_rating                         1.080931     1.0      2.00   \n",
       "Adult_flag                                        0.372751     0.0      0.00   \n",
       "Daily_Avg_mins_spend_on_traveling_page            7.986216     0.0      8.00   \n",
       "\n",
       "                                                  50%       75%       max  \n",
       "Taken_product                                     0.0      0.00      1.00  \n",
       "Yearly_avg_view_on_travel_page                  271.0    321.00    455.50  \n",
       "total_likes_on_outstation_checkin_given       28076.0  40149.50  75242.25  \n",
       "yearly_avg_Outstation_checkins                    3.0     14.00     29.00  \n",
       "member_in_family                                  3.0      4.00     10.00  \n",
       "Yearly_avg_comment_on_travel_page                75.0     92.00    144.50  \n",
       "total_likes_on_outofstation_checkin_received   4967.5   8394.25  16572.00  \n",
       "week_since_last_outstation_checkin                3.0      5.00     11.00  \n",
       "following_company_page                            0.0      1.00      1.00  \n",
       "montly_avg_comment_on_company_page               22.0     27.00     42.00  \n",
       "working_flag                                      0.0      0.00      1.00  \n",
       "travelling_network_rating                         3.0      4.00      4.00  \n",
       "Adult_flag                                        0.0      0.00      1.00  \n",
       "Daily_Avg_mins_spend_on_traveling_page           12.0     18.00     33.00  "
      ]
     },
     "execution_count": 4,
     "metadata": {},
     "output_type": "execute_result"
    }
   ],
   "source": [
    "df1.describe().T"
   ]
  },
  {
   "cell_type": "code",
   "execution_count": 5,
   "id": "258c1e2e",
   "metadata": {},
   "outputs": [
    {
     "name": "stdout",
     "output_type": "stream",
     "text": [
      "<class 'pandas.core.frame.DataFrame'>\n",
      "RangeIndex: 10652 entries, 0 to 10651\n",
      "Data columns (total 16 columns):\n",
      " #   Column                                        Non-Null Count  Dtype  \n",
      "---  ------                                        --------------  -----  \n",
      " 0   Taken_product                                 10652 non-null  int64  \n",
      " 1   Yearly_avg_view_on_travel_page                10652 non-null  float64\n",
      " 2   preferred_device                              10652 non-null  object \n",
      " 3   total_likes_on_outstation_checkin_given       10652 non-null  float64\n",
      " 4   yearly_avg_Outstation_checkins                10652 non-null  int64  \n",
      " 5   member_in_family                              10652 non-null  int64  \n",
      " 6   preferred_location_type                       10652 non-null  object \n",
      " 7   Yearly_avg_comment_on_travel_page             10652 non-null  float64\n",
      " 8   total_likes_on_outofstation_checkin_received  10652 non-null  int64  \n",
      " 9   week_since_last_outstation_checkin            10652 non-null  int64  \n",
      " 10  following_company_page                        10652 non-null  int64  \n",
      " 11  montly_avg_comment_on_company_page            10652 non-null  int64  \n",
      " 12  working_flag                                  10652 non-null  int64  \n",
      " 13  travelling_network_rating                     10652 non-null  int64  \n",
      " 14  Adult_flag                                    10652 non-null  int64  \n",
      " 15  Daily_Avg_mins_spend_on_traveling_page        10652 non-null  int64  \n",
      "dtypes: float64(3), int64(11), object(2)\n",
      "memory usage: 1.3+ MB\n"
     ]
    }
   ],
   "source": [
    "df1.info()"
   ]
  },
  {
   "cell_type": "code",
   "execution_count": 6,
   "id": "e2fa4745",
   "metadata": {},
   "outputs": [
    {
     "data": {
      "text/plain": [
       "Taken_product                                   0\n",
       "Yearly_avg_view_on_travel_page                  0\n",
       "preferred_device                                0\n",
       "total_likes_on_outstation_checkin_given         0\n",
       "yearly_avg_Outstation_checkins                  0\n",
       "member_in_family                                0\n",
       "preferred_location_type                         0\n",
       "Yearly_avg_comment_on_travel_page               0\n",
       "total_likes_on_outofstation_checkin_received    0\n",
       "week_since_last_outstation_checkin              0\n",
       "following_company_page                          0\n",
       "montly_avg_comment_on_company_page              0\n",
       "working_flag                                    0\n",
       "travelling_network_rating                       0\n",
       "Adult_flag                                      0\n",
       "Daily_Avg_mins_spend_on_traveling_page          0\n",
       "dtype: int64"
      ]
     },
     "execution_count": 6,
     "metadata": {},
     "output_type": "execute_result"
    }
   ],
   "source": [
    "df1.isnull().sum()"
   ]
  },
  {
   "cell_type": "code",
   "execution_count": 7,
   "id": "75b8841d",
   "metadata": {},
   "outputs": [
    {
     "data": {
      "text/html": [
       "<div>\n",
       "<style scoped>\n",
       "    .dataframe tbody tr th:only-of-type {\n",
       "        vertical-align: middle;\n",
       "    }\n",
       "\n",
       "    .dataframe tbody tr th {\n",
       "        vertical-align: top;\n",
       "    }\n",
       "\n",
       "    .dataframe thead th {\n",
       "        text-align: right;\n",
       "    }\n",
       "</style>\n",
       "<table border=\"1\" class=\"dataframe\">\n",
       "  <thead>\n",
       "    <tr style=\"text-align: right;\">\n",
       "      <th></th>\n",
       "      <th>Taken_product</th>\n",
       "      <th>Yearly_avg_view_on_travel_page</th>\n",
       "      <th>preferred_device</th>\n",
       "      <th>total_likes_on_outstation_checkin_given</th>\n",
       "      <th>yearly_avg_Outstation_checkins</th>\n",
       "      <th>member_in_family</th>\n",
       "      <th>preferred_location_type</th>\n",
       "      <th>Yearly_avg_comment_on_travel_page</th>\n",
       "      <th>total_likes_on_outofstation_checkin_received</th>\n",
       "      <th>week_since_last_outstation_checkin</th>\n",
       "      <th>following_company_page</th>\n",
       "      <th>montly_avg_comment_on_company_page</th>\n",
       "      <th>working_flag</th>\n",
       "      <th>travelling_network_rating</th>\n",
       "      <th>Adult_flag</th>\n",
       "      <th>Daily_Avg_mins_spend_on_traveling_page</th>\n",
       "    </tr>\n",
       "  </thead>\n",
       "  <tbody>\n",
       "    <tr>\n",
       "      <th>0</th>\n",
       "      <td>1</td>\n",
       "      <td>307.0</td>\n",
       "      <td>Mobile</td>\n",
       "      <td>38570.0</td>\n",
       "      <td>1</td>\n",
       "      <td>2</td>\n",
       "      <td>Financial</td>\n",
       "      <td>94.0</td>\n",
       "      <td>5993</td>\n",
       "      <td>8</td>\n",
       "      <td>1</td>\n",
       "      <td>11</td>\n",
       "      <td>0</td>\n",
       "      <td>1</td>\n",
       "      <td>0</td>\n",
       "      <td>8</td>\n",
       "    </tr>\n",
       "    <tr>\n",
       "      <th>1</th>\n",
       "      <td>0</td>\n",
       "      <td>367.0</td>\n",
       "      <td>Mobile</td>\n",
       "      <td>9765.0</td>\n",
       "      <td>1</td>\n",
       "      <td>1</td>\n",
       "      <td>Financial</td>\n",
       "      <td>61.0</td>\n",
       "      <td>5130</td>\n",
       "      <td>1</td>\n",
       "      <td>0</td>\n",
       "      <td>23</td>\n",
       "      <td>1</td>\n",
       "      <td>4</td>\n",
       "      <td>0</td>\n",
       "      <td>10</td>\n",
       "    </tr>\n",
       "    <tr>\n",
       "      <th>2</th>\n",
       "      <td>1</td>\n",
       "      <td>277.0</td>\n",
       "      <td>Mobile</td>\n",
       "      <td>48055.0</td>\n",
       "      <td>1</td>\n",
       "      <td>2</td>\n",
       "      <td>Other</td>\n",
       "      <td>92.0</td>\n",
       "      <td>2090</td>\n",
       "      <td>6</td>\n",
       "      <td>1</td>\n",
       "      <td>15</td>\n",
       "      <td>0</td>\n",
       "      <td>2</td>\n",
       "      <td>0</td>\n",
       "      <td>7</td>\n",
       "    </tr>\n",
       "    <tr>\n",
       "      <th>3</th>\n",
       "      <td>0</td>\n",
       "      <td>247.0</td>\n",
       "      <td>Mobile</td>\n",
       "      <td>48720.0</td>\n",
       "      <td>1</td>\n",
       "      <td>4</td>\n",
       "      <td>Financial</td>\n",
       "      <td>56.0</td>\n",
       "      <td>2909</td>\n",
       "      <td>1</td>\n",
       "      <td>1</td>\n",
       "      <td>11</td>\n",
       "      <td>0</td>\n",
       "      <td>3</td>\n",
       "      <td>0</td>\n",
       "      <td>8</td>\n",
       "    </tr>\n",
       "    <tr>\n",
       "      <th>4</th>\n",
       "      <td>0</td>\n",
       "      <td>202.0</td>\n",
       "      <td>Mobile</td>\n",
       "      <td>20685.0</td>\n",
       "      <td>1</td>\n",
       "      <td>1</td>\n",
       "      <td>Medical</td>\n",
       "      <td>40.0</td>\n",
       "      <td>3468</td>\n",
       "      <td>9</td>\n",
       "      <td>0</td>\n",
       "      <td>12</td>\n",
       "      <td>0</td>\n",
       "      <td>4</td>\n",
       "      <td>0</td>\n",
       "      <td>6</td>\n",
       "    </tr>\n",
       "    <tr>\n",
       "      <th>...</th>\n",
       "      <td>...</td>\n",
       "      <td>...</td>\n",
       "      <td>...</td>\n",
       "      <td>...</td>\n",
       "      <td>...</td>\n",
       "      <td>...</td>\n",
       "      <td>...</td>\n",
       "      <td>...</td>\n",
       "      <td>...</td>\n",
       "      <td>...</td>\n",
       "      <td>...</td>\n",
       "      <td>...</td>\n",
       "      <td>...</td>\n",
       "      <td>...</td>\n",
       "      <td>...</td>\n",
       "      <td>...</td>\n",
       "    </tr>\n",
       "    <tr>\n",
       "      <th>10647</th>\n",
       "      <td>0</td>\n",
       "      <td>247.0</td>\n",
       "      <td>Mobile</td>\n",
       "      <td>11418.0</td>\n",
       "      <td>5</td>\n",
       "      <td>3</td>\n",
       "      <td>Historical site</td>\n",
       "      <td>99.0</td>\n",
       "      <td>9983</td>\n",
       "      <td>1</td>\n",
       "      <td>0</td>\n",
       "      <td>28</td>\n",
       "      <td>0</td>\n",
       "      <td>2</td>\n",
       "      <td>0</td>\n",
       "      <td>16</td>\n",
       "    </tr>\n",
       "    <tr>\n",
       "      <th>10648</th>\n",
       "      <td>0</td>\n",
       "      <td>210.0</td>\n",
       "      <td>Mobile</td>\n",
       "      <td>40886.0</td>\n",
       "      <td>5</td>\n",
       "      <td>3</td>\n",
       "      <td>Other</td>\n",
       "      <td>53.0</td>\n",
       "      <td>3024</td>\n",
       "      <td>2</td>\n",
       "      <td>0</td>\n",
       "      <td>32</td>\n",
       "      <td>0</td>\n",
       "      <td>4</td>\n",
       "      <td>0</td>\n",
       "      <td>14</td>\n",
       "    </tr>\n",
       "    <tr>\n",
       "      <th>10649</th>\n",
       "      <td>0</td>\n",
       "      <td>305.0</td>\n",
       "      <td>Mobile</td>\n",
       "      <td>21510.0</td>\n",
       "      <td>6</td>\n",
       "      <td>1</td>\n",
       "      <td>Historical site</td>\n",
       "      <td>55.0</td>\n",
       "      <td>10041</td>\n",
       "      <td>4</td>\n",
       "      <td>0</td>\n",
       "      <td>30</td>\n",
       "      <td>0</td>\n",
       "      <td>1</td>\n",
       "      <td>0</td>\n",
       "      <td>11</td>\n",
       "    </tr>\n",
       "    <tr>\n",
       "      <th>10650</th>\n",
       "      <td>0</td>\n",
       "      <td>214.0</td>\n",
       "      <td>Mobile</td>\n",
       "      <td>5478.0</td>\n",
       "      <td>4</td>\n",
       "      <td>3</td>\n",
       "      <td>Beach</td>\n",
       "      <td>103.0</td>\n",
       "      <td>6203</td>\n",
       "      <td>3</td>\n",
       "      <td>1</td>\n",
       "      <td>40</td>\n",
       "      <td>1</td>\n",
       "      <td>2</td>\n",
       "      <td>0</td>\n",
       "      <td>12</td>\n",
       "    </tr>\n",
       "    <tr>\n",
       "      <th>10651</th>\n",
       "      <td>0</td>\n",
       "      <td>270.0</td>\n",
       "      <td>Mobile</td>\n",
       "      <td>22025.0</td>\n",
       "      <td>8</td>\n",
       "      <td>3</td>\n",
       "      <td>Historical site</td>\n",
       "      <td>104.0</td>\n",
       "      <td>4470</td>\n",
       "      <td>2</td>\n",
       "      <td>0</td>\n",
       "      <td>29</td>\n",
       "      <td>0</td>\n",
       "      <td>1</td>\n",
       "      <td>0</td>\n",
       "      <td>14</td>\n",
       "    </tr>\n",
       "  </tbody>\n",
       "</table>\n",
       "<p>10652 rows × 16 columns</p>\n",
       "</div>"
      ],
      "text/plain": [
       "       Taken_product  Yearly_avg_view_on_travel_page preferred_device  \\\n",
       "0                  1                           307.0           Mobile   \n",
       "1                  0                           367.0           Mobile   \n",
       "2                  1                           277.0           Mobile   \n",
       "3                  0                           247.0           Mobile   \n",
       "4                  0                           202.0           Mobile   \n",
       "...              ...                             ...              ...   \n",
       "10647              0                           247.0           Mobile   \n",
       "10648              0                           210.0           Mobile   \n",
       "10649              0                           305.0           Mobile   \n",
       "10650              0                           214.0           Mobile   \n",
       "10651              0                           270.0           Mobile   \n",
       "\n",
       "       total_likes_on_outstation_checkin_given  \\\n",
       "0                                      38570.0   \n",
       "1                                       9765.0   \n",
       "2                                      48055.0   \n",
       "3                                      48720.0   \n",
       "4                                      20685.0   \n",
       "...                                        ...   \n",
       "10647                                  11418.0   \n",
       "10648                                  40886.0   \n",
       "10649                                  21510.0   \n",
       "10650                                   5478.0   \n",
       "10651                                  22025.0   \n",
       "\n",
       "       yearly_avg_Outstation_checkins  member_in_family  \\\n",
       "0                                   1                 2   \n",
       "1                                   1                 1   \n",
       "2                                   1                 2   \n",
       "3                                   1                 4   \n",
       "4                                   1                 1   \n",
       "...                               ...               ...   \n",
       "10647                               5                 3   \n",
       "10648                               5                 3   \n",
       "10649                               6                 1   \n",
       "10650                               4                 3   \n",
       "10651                               8                 3   \n",
       "\n",
       "      preferred_location_type  Yearly_avg_comment_on_travel_page  \\\n",
       "0                   Financial                               94.0   \n",
       "1                   Financial                               61.0   \n",
       "2                       Other                               92.0   \n",
       "3                   Financial                               56.0   \n",
       "4                     Medical                               40.0   \n",
       "...                       ...                                ...   \n",
       "10647         Historical site                               99.0   \n",
       "10648                   Other                               53.0   \n",
       "10649         Historical site                               55.0   \n",
       "10650                   Beach                              103.0   \n",
       "10651         Historical site                              104.0   \n",
       "\n",
       "       total_likes_on_outofstation_checkin_received  \\\n",
       "0                                              5993   \n",
       "1                                              5130   \n",
       "2                                              2090   \n",
       "3                                              2909   \n",
       "4                                              3468   \n",
       "...                                             ...   \n",
       "10647                                          9983   \n",
       "10648                                          3024   \n",
       "10649                                         10041   \n",
       "10650                                          6203   \n",
       "10651                                          4470   \n",
       "\n",
       "       week_since_last_outstation_checkin  following_company_page  \\\n",
       "0                                       8                       1   \n",
       "1                                       1                       0   \n",
       "2                                       6                       1   \n",
       "3                                       1                       1   \n",
       "4                                       9                       0   \n",
       "...                                   ...                     ...   \n",
       "10647                                   1                       0   \n",
       "10648                                   2                       0   \n",
       "10649                                   4                       0   \n",
       "10650                                   3                       1   \n",
       "10651                                   2                       0   \n",
       "\n",
       "       montly_avg_comment_on_company_page  working_flag  \\\n",
       "0                                      11             0   \n",
       "1                                      23             1   \n",
       "2                                      15             0   \n",
       "3                                      11             0   \n",
       "4                                      12             0   \n",
       "...                                   ...           ...   \n",
       "10647                                  28             0   \n",
       "10648                                  32             0   \n",
       "10649                                  30             0   \n",
       "10650                                  40             1   \n",
       "10651                                  29             0   \n",
       "\n",
       "       travelling_network_rating  Adult_flag  \\\n",
       "0                              1           0   \n",
       "1                              4           0   \n",
       "2                              2           0   \n",
       "3                              3           0   \n",
       "4                              4           0   \n",
       "...                          ...         ...   \n",
       "10647                          2           0   \n",
       "10648                          4           0   \n",
       "10649                          1           0   \n",
       "10650                          2           0   \n",
       "10651                          1           0   \n",
       "\n",
       "       Daily_Avg_mins_spend_on_traveling_page  \n",
       "0                                           8  \n",
       "1                                          10  \n",
       "2                                           7  \n",
       "3                                           8  \n",
       "4                                           6  \n",
       "...                                       ...  \n",
       "10647                                      16  \n",
       "10648                                      14  \n",
       "10649                                      11  \n",
       "10650                                      12  \n",
       "10651                                      14  \n",
       "\n",
       "[10652 rows x 16 columns]"
      ]
     },
     "execution_count": 7,
     "metadata": {},
     "output_type": "execute_result"
    }
   ],
   "source": [
    "df1c=df1.copy()\n",
    "df1c"
   ]
  },
  {
   "cell_type": "code",
   "execution_count": 8,
   "id": "83de9fb0",
   "metadata": {},
   "outputs": [
    {
     "data": {
      "text/plain": [
       "Financial          2409\n",
       "Beach              1963\n",
       "Medical            1845\n",
       "Historical site    1512\n",
       "Social media        633\n",
       "Other               587\n",
       "Entertainment       533\n",
       "Big Cities          528\n",
       "Trekking            444\n",
       "Tour and Travel     107\n",
       "Hill Stations        84\n",
       "OTT                   7\n",
       "Name: preferred_location_type, dtype: int64"
      ]
     },
     "execution_count": 8,
     "metadata": {},
     "output_type": "execute_result"
    }
   ],
   "source": [
    "df1c['preferred_location_type'].value_counts()"
   ]
  },
  {
   "cell_type": "code",
   "execution_count": 9,
   "id": "63e813c4",
   "metadata": {},
   "outputs": [
    {
     "name": "stdout",
     "output_type": "stream",
     "text": [
      "Feature: Preferred location type\n",
      "['Financial', 'Other', 'Medical', 'Beach', 'Entertainment', ..., 'OTT', 'Historical site', 'Big Cities', 'Trekking', 'Hill Stations']\n",
      "Length: 12\n",
      "Categories (12, object): ['Beach', 'Big Cities', 'Entertainment', 'Financial', ..., 'Other', 'Social media', 'Tour and Travel', 'Trekking']\n",
      "[ 3  8  6  0  2  9 10  7  5  1 11  4]\n"
     ]
    }
   ],
   "source": [
    "print('Feature: Preferred location type')\n",
    "print(pd.Categorical(df1c['preferred_location_type'].unique()))\n",
    "print(pd.Categorical(df1c['preferred_location_type'].unique()).codes)\n",
    "df1c['preferred_location_type'] = pd.Categorical(df1c['preferred_location_type']).codes"
   ]
  },
  {
   "cell_type": "code",
   "execution_count": 10,
   "id": "bb432a7b",
   "metadata": {},
   "outputs": [
    {
     "data": {
      "text/plain": [
       "3     2409\n",
       "0     1963\n",
       "6     1845\n",
       "5     1512\n",
       "9      633\n",
       "8      587\n",
       "2      533\n",
       "1      528\n",
       "11     444\n",
       "10     107\n",
       "4       84\n",
       "7        7\n",
       "Name: preferred_location_type, dtype: int64"
      ]
     },
     "execution_count": 10,
     "metadata": {},
     "output_type": "execute_result"
    }
   ],
   "source": [
    "df1c['preferred_location_type'].value_counts()"
   ]
  },
  {
   "cell_type": "code",
   "execution_count": 11,
   "id": "c39f538c",
   "metadata": {},
   "outputs": [
    {
     "data": {
      "text/html": [
       "<div>\n",
       "<style scoped>\n",
       "    .dataframe tbody tr th:only-of-type {\n",
       "        vertical-align: middle;\n",
       "    }\n",
       "\n",
       "    .dataframe tbody tr th {\n",
       "        vertical-align: top;\n",
       "    }\n",
       "\n",
       "    .dataframe thead th {\n",
       "        text-align: right;\n",
       "    }\n",
       "</style>\n",
       "<table border=\"1\" class=\"dataframe\">\n",
       "  <thead>\n",
       "    <tr style=\"text-align: right;\">\n",
       "      <th></th>\n",
       "      <th>Taken_product</th>\n",
       "      <th>Yearly_avg_view_on_travel_page</th>\n",
       "      <th>preferred_device</th>\n",
       "      <th>total_likes_on_outstation_checkin_given</th>\n",
       "      <th>yearly_avg_Outstation_checkins</th>\n",
       "      <th>member_in_family</th>\n",
       "      <th>preferred_location_type</th>\n",
       "      <th>Yearly_avg_comment_on_travel_page</th>\n",
       "      <th>total_likes_on_outofstation_checkin_received</th>\n",
       "      <th>week_since_last_outstation_checkin</th>\n",
       "      <th>following_company_page</th>\n",
       "      <th>montly_avg_comment_on_company_page</th>\n",
       "      <th>working_flag</th>\n",
       "      <th>travelling_network_rating</th>\n",
       "      <th>Adult_flag</th>\n",
       "      <th>Daily_Avg_mins_spend_on_traveling_page</th>\n",
       "    </tr>\n",
       "  </thead>\n",
       "  <tbody>\n",
       "    <tr>\n",
       "      <th>0</th>\n",
       "      <td>1</td>\n",
       "      <td>307.0</td>\n",
       "      <td>Mobile</td>\n",
       "      <td>38570.0</td>\n",
       "      <td>1</td>\n",
       "      <td>2</td>\n",
       "      <td>3</td>\n",
       "      <td>94.0</td>\n",
       "      <td>5993</td>\n",
       "      <td>8</td>\n",
       "      <td>1</td>\n",
       "      <td>11</td>\n",
       "      <td>0</td>\n",
       "      <td>1</td>\n",
       "      <td>0</td>\n",
       "      <td>8</td>\n",
       "    </tr>\n",
       "    <tr>\n",
       "      <th>1</th>\n",
       "      <td>0</td>\n",
       "      <td>367.0</td>\n",
       "      <td>Mobile</td>\n",
       "      <td>9765.0</td>\n",
       "      <td>1</td>\n",
       "      <td>1</td>\n",
       "      <td>3</td>\n",
       "      <td>61.0</td>\n",
       "      <td>5130</td>\n",
       "      <td>1</td>\n",
       "      <td>0</td>\n",
       "      <td>23</td>\n",
       "      <td>1</td>\n",
       "      <td>4</td>\n",
       "      <td>0</td>\n",
       "      <td>10</td>\n",
       "    </tr>\n",
       "    <tr>\n",
       "      <th>2</th>\n",
       "      <td>1</td>\n",
       "      <td>277.0</td>\n",
       "      <td>Mobile</td>\n",
       "      <td>48055.0</td>\n",
       "      <td>1</td>\n",
       "      <td>2</td>\n",
       "      <td>8</td>\n",
       "      <td>92.0</td>\n",
       "      <td>2090</td>\n",
       "      <td>6</td>\n",
       "      <td>1</td>\n",
       "      <td>15</td>\n",
       "      <td>0</td>\n",
       "      <td>2</td>\n",
       "      <td>0</td>\n",
       "      <td>7</td>\n",
       "    </tr>\n",
       "    <tr>\n",
       "      <th>3</th>\n",
       "      <td>0</td>\n",
       "      <td>247.0</td>\n",
       "      <td>Mobile</td>\n",
       "      <td>48720.0</td>\n",
       "      <td>1</td>\n",
       "      <td>4</td>\n",
       "      <td>3</td>\n",
       "      <td>56.0</td>\n",
       "      <td>2909</td>\n",
       "      <td>1</td>\n",
       "      <td>1</td>\n",
       "      <td>11</td>\n",
       "      <td>0</td>\n",
       "      <td>3</td>\n",
       "      <td>0</td>\n",
       "      <td>8</td>\n",
       "    </tr>\n",
       "    <tr>\n",
       "      <th>4</th>\n",
       "      <td>0</td>\n",
       "      <td>202.0</td>\n",
       "      <td>Mobile</td>\n",
       "      <td>20685.0</td>\n",
       "      <td>1</td>\n",
       "      <td>1</td>\n",
       "      <td>6</td>\n",
       "      <td>40.0</td>\n",
       "      <td>3468</td>\n",
       "      <td>9</td>\n",
       "      <td>0</td>\n",
       "      <td>12</td>\n",
       "      <td>0</td>\n",
       "      <td>4</td>\n",
       "      <td>0</td>\n",
       "      <td>6</td>\n",
       "    </tr>\n",
       "  </tbody>\n",
       "</table>\n",
       "</div>"
      ],
      "text/plain": [
       "   Taken_product  Yearly_avg_view_on_travel_page preferred_device  \\\n",
       "0              1                           307.0           Mobile   \n",
       "1              0                           367.0           Mobile   \n",
       "2              1                           277.0           Mobile   \n",
       "3              0                           247.0           Mobile   \n",
       "4              0                           202.0           Mobile   \n",
       "\n",
       "   total_likes_on_outstation_checkin_given  yearly_avg_Outstation_checkins  \\\n",
       "0                                  38570.0                               1   \n",
       "1                                   9765.0                               1   \n",
       "2                                  48055.0                               1   \n",
       "3                                  48720.0                               1   \n",
       "4                                  20685.0                               1   \n",
       "\n",
       "   member_in_family  preferred_location_type  \\\n",
       "0                 2                        3   \n",
       "1                 1                        3   \n",
       "2                 2                        8   \n",
       "3                 4                        3   \n",
       "4                 1                        6   \n",
       "\n",
       "   Yearly_avg_comment_on_travel_page  \\\n",
       "0                               94.0   \n",
       "1                               61.0   \n",
       "2                               92.0   \n",
       "3                               56.0   \n",
       "4                               40.0   \n",
       "\n",
       "   total_likes_on_outofstation_checkin_received  \\\n",
       "0                                          5993   \n",
       "1                                          5130   \n",
       "2                                          2090   \n",
       "3                                          2909   \n",
       "4                                          3468   \n",
       "\n",
       "   week_since_last_outstation_checkin  following_company_page  \\\n",
       "0                                   8                       1   \n",
       "1                                   1                       0   \n",
       "2                                   6                       1   \n",
       "3                                   1                       1   \n",
       "4                                   9                       0   \n",
       "\n",
       "   montly_avg_comment_on_company_page  working_flag  \\\n",
       "0                                  11             0   \n",
       "1                                  23             1   \n",
       "2                                  15             0   \n",
       "3                                  11             0   \n",
       "4                                  12             0   \n",
       "\n",
       "   travelling_network_rating  Adult_flag  \\\n",
       "0                          1           0   \n",
       "1                          4           0   \n",
       "2                          2           0   \n",
       "3                          3           0   \n",
       "4                          4           0   \n",
       "\n",
       "   Daily_Avg_mins_spend_on_traveling_page  \n",
       "0                                       8  \n",
       "1                                      10  \n",
       "2                                       7  \n",
       "3                                       8  \n",
       "4                                       6  "
      ]
     },
     "execution_count": 11,
     "metadata": {},
     "output_type": "execute_result"
    }
   ],
   "source": [
    "df_mobile = df1c.copy()\n",
    "\n",
    "df_mobile.head()"
   ]
  },
  {
   "cell_type": "code",
   "execution_count": 12,
   "id": "8916602d",
   "metadata": {},
   "outputs": [
    {
     "name": "stdout",
     "output_type": "stream",
     "text": [
      "<class 'pandas.core.frame.DataFrame'>\n",
      "RangeIndex: 10652 entries, 0 to 10651\n",
      "Data columns (total 16 columns):\n",
      " #   Column                                        Non-Null Count  Dtype  \n",
      "---  ------                                        --------------  -----  \n",
      " 0   Taken_product                                 10652 non-null  int64  \n",
      " 1   Yearly_avg_view_on_travel_page                10652 non-null  float64\n",
      " 2   preferred_device                              10652 non-null  object \n",
      " 3   total_likes_on_outstation_checkin_given       10652 non-null  float64\n",
      " 4   yearly_avg_Outstation_checkins                10652 non-null  int64  \n",
      " 5   member_in_family                              10652 non-null  int64  \n",
      " 6   preferred_location_type                       10652 non-null  int8   \n",
      " 7   Yearly_avg_comment_on_travel_page             10652 non-null  float64\n",
      " 8   total_likes_on_outofstation_checkin_received  10652 non-null  int64  \n",
      " 9   week_since_last_outstation_checkin            10652 non-null  int64  \n",
      " 10  following_company_page                        10652 non-null  int64  \n",
      " 11  montly_avg_comment_on_company_page            10652 non-null  int64  \n",
      " 12  working_flag                                  10652 non-null  int64  \n",
      " 13  travelling_network_rating                     10652 non-null  int64  \n",
      " 14  Adult_flag                                    10652 non-null  int64  \n",
      " 15  Daily_Avg_mins_spend_on_traveling_page        10652 non-null  int64  \n",
      "dtypes: float64(3), int64(11), int8(1), object(1)\n",
      "memory usage: 1.2+ MB\n"
     ]
    }
   ],
   "source": [
    "df_mobile.info()"
   ]
  },
  {
   "cell_type": "code",
   "execution_count": 13,
   "id": "18fb5cc2",
   "metadata": {},
   "outputs": [
    {
     "data": {
      "text/plain": [
       "(10652, 16)"
      ]
     },
     "execution_count": 13,
     "metadata": {},
     "output_type": "execute_result"
    }
   ],
   "source": [
    "df_mobile.shape"
   ]
  },
  {
   "cell_type": "code",
   "execution_count": 14,
   "id": "fb395a23",
   "metadata": {},
   "outputs": [],
   "source": [
    "from scipy.stats import zscore"
   ]
  },
  {
   "cell_type": "code",
   "execution_count": 15,
   "id": "fafda851",
   "metadata": {},
   "outputs": [
    {
     "data": {
      "text/html": [
       "<div>\n",
       "<style scoped>\n",
       "    .dataframe tbody tr th:only-of-type {\n",
       "        vertical-align: middle;\n",
       "    }\n",
       "\n",
       "    .dataframe tbody tr th {\n",
       "        vertical-align: top;\n",
       "    }\n",
       "\n",
       "    .dataframe thead th {\n",
       "        text-align: right;\n",
       "    }\n",
       "</style>\n",
       "<table border=\"1\" class=\"dataframe\">\n",
       "  <thead>\n",
       "    <tr style=\"text-align: right;\">\n",
       "      <th></th>\n",
       "      <th>Taken_product</th>\n",
       "      <th>Yearly_avg_view_on_travel_page</th>\n",
       "      <th>preferred_device</th>\n",
       "      <th>total_likes_on_outstation_checkin_given</th>\n",
       "      <th>yearly_avg_Outstation_checkins</th>\n",
       "      <th>member_in_family</th>\n",
       "      <th>preferred_location_type</th>\n",
       "      <th>Yearly_avg_comment_on_travel_page</th>\n",
       "      <th>total_likes_on_outofstation_checkin_received</th>\n",
       "      <th>week_since_last_outstation_checkin</th>\n",
       "      <th>following_company_page</th>\n",
       "      <th>montly_avg_comment_on_company_page</th>\n",
       "      <th>working_flag</th>\n",
       "      <th>travelling_network_rating</th>\n",
       "      <th>Adult_flag</th>\n",
       "      <th>Daily_Avg_mins_spend_on_traveling_page</th>\n",
       "    </tr>\n",
       "  </thead>\n",
       "  <tbody>\n",
       "    <tr>\n",
       "      <th>0</th>\n",
       "      <td>1</td>\n",
       "      <td>307.0</td>\n",
       "      <td>Mobile</td>\n",
       "      <td>38570.0</td>\n",
       "      <td>1</td>\n",
       "      <td>2</td>\n",
       "      <td>3</td>\n",
       "      <td>94.0</td>\n",
       "      <td>5993</td>\n",
       "      <td>8</td>\n",
       "      <td>1</td>\n",
       "      <td>11</td>\n",
       "      <td>0</td>\n",
       "      <td>1</td>\n",
       "      <td>0</td>\n",
       "      <td>8</td>\n",
       "    </tr>\n",
       "    <tr>\n",
       "      <th>1</th>\n",
       "      <td>0</td>\n",
       "      <td>367.0</td>\n",
       "      <td>Mobile</td>\n",
       "      <td>9765.0</td>\n",
       "      <td>1</td>\n",
       "      <td>1</td>\n",
       "      <td>3</td>\n",
       "      <td>61.0</td>\n",
       "      <td>5130</td>\n",
       "      <td>1</td>\n",
       "      <td>0</td>\n",
       "      <td>23</td>\n",
       "      <td>1</td>\n",
       "      <td>4</td>\n",
       "      <td>0</td>\n",
       "      <td>10</td>\n",
       "    </tr>\n",
       "    <tr>\n",
       "      <th>2</th>\n",
       "      <td>1</td>\n",
       "      <td>277.0</td>\n",
       "      <td>Mobile</td>\n",
       "      <td>48055.0</td>\n",
       "      <td>1</td>\n",
       "      <td>2</td>\n",
       "      <td>8</td>\n",
       "      <td>92.0</td>\n",
       "      <td>2090</td>\n",
       "      <td>6</td>\n",
       "      <td>1</td>\n",
       "      <td>15</td>\n",
       "      <td>0</td>\n",
       "      <td>2</td>\n",
       "      <td>0</td>\n",
       "      <td>7</td>\n",
       "    </tr>\n",
       "    <tr>\n",
       "      <th>3</th>\n",
       "      <td>0</td>\n",
       "      <td>247.0</td>\n",
       "      <td>Mobile</td>\n",
       "      <td>48720.0</td>\n",
       "      <td>1</td>\n",
       "      <td>4</td>\n",
       "      <td>3</td>\n",
       "      <td>56.0</td>\n",
       "      <td>2909</td>\n",
       "      <td>1</td>\n",
       "      <td>1</td>\n",
       "      <td>11</td>\n",
       "      <td>0</td>\n",
       "      <td>3</td>\n",
       "      <td>0</td>\n",
       "      <td>8</td>\n",
       "    </tr>\n",
       "    <tr>\n",
       "      <th>4</th>\n",
       "      <td>0</td>\n",
       "      <td>202.0</td>\n",
       "      <td>Mobile</td>\n",
       "      <td>20685.0</td>\n",
       "      <td>1</td>\n",
       "      <td>1</td>\n",
       "      <td>6</td>\n",
       "      <td>40.0</td>\n",
       "      <td>3468</td>\n",
       "      <td>9</td>\n",
       "      <td>0</td>\n",
       "      <td>12</td>\n",
       "      <td>0</td>\n",
       "      <td>4</td>\n",
       "      <td>0</td>\n",
       "      <td>6</td>\n",
       "    </tr>\n",
       "    <tr>\n",
       "      <th>...</th>\n",
       "      <td>...</td>\n",
       "      <td>...</td>\n",
       "      <td>...</td>\n",
       "      <td>...</td>\n",
       "      <td>...</td>\n",
       "      <td>...</td>\n",
       "      <td>...</td>\n",
       "      <td>...</td>\n",
       "      <td>...</td>\n",
       "      <td>...</td>\n",
       "      <td>...</td>\n",
       "      <td>...</td>\n",
       "      <td>...</td>\n",
       "      <td>...</td>\n",
       "      <td>...</td>\n",
       "      <td>...</td>\n",
       "    </tr>\n",
       "    <tr>\n",
       "      <th>10647</th>\n",
       "      <td>0</td>\n",
       "      <td>247.0</td>\n",
       "      <td>Mobile</td>\n",
       "      <td>11418.0</td>\n",
       "      <td>5</td>\n",
       "      <td>3</td>\n",
       "      <td>5</td>\n",
       "      <td>99.0</td>\n",
       "      <td>9983</td>\n",
       "      <td>1</td>\n",
       "      <td>0</td>\n",
       "      <td>28</td>\n",
       "      <td>0</td>\n",
       "      <td>2</td>\n",
       "      <td>0</td>\n",
       "      <td>16</td>\n",
       "    </tr>\n",
       "    <tr>\n",
       "      <th>10648</th>\n",
       "      <td>0</td>\n",
       "      <td>210.0</td>\n",
       "      <td>Mobile</td>\n",
       "      <td>40886.0</td>\n",
       "      <td>5</td>\n",
       "      <td>3</td>\n",
       "      <td>8</td>\n",
       "      <td>53.0</td>\n",
       "      <td>3024</td>\n",
       "      <td>2</td>\n",
       "      <td>0</td>\n",
       "      <td>32</td>\n",
       "      <td>0</td>\n",
       "      <td>4</td>\n",
       "      <td>0</td>\n",
       "      <td>14</td>\n",
       "    </tr>\n",
       "    <tr>\n",
       "      <th>10649</th>\n",
       "      <td>0</td>\n",
       "      <td>305.0</td>\n",
       "      <td>Mobile</td>\n",
       "      <td>21510.0</td>\n",
       "      <td>6</td>\n",
       "      <td>1</td>\n",
       "      <td>5</td>\n",
       "      <td>55.0</td>\n",
       "      <td>10041</td>\n",
       "      <td>4</td>\n",
       "      <td>0</td>\n",
       "      <td>30</td>\n",
       "      <td>0</td>\n",
       "      <td>1</td>\n",
       "      <td>0</td>\n",
       "      <td>11</td>\n",
       "    </tr>\n",
       "    <tr>\n",
       "      <th>10650</th>\n",
       "      <td>0</td>\n",
       "      <td>214.0</td>\n",
       "      <td>Mobile</td>\n",
       "      <td>5478.0</td>\n",
       "      <td>4</td>\n",
       "      <td>3</td>\n",
       "      <td>0</td>\n",
       "      <td>103.0</td>\n",
       "      <td>6203</td>\n",
       "      <td>3</td>\n",
       "      <td>1</td>\n",
       "      <td>40</td>\n",
       "      <td>1</td>\n",
       "      <td>2</td>\n",
       "      <td>0</td>\n",
       "      <td>12</td>\n",
       "    </tr>\n",
       "    <tr>\n",
       "      <th>10651</th>\n",
       "      <td>0</td>\n",
       "      <td>270.0</td>\n",
       "      <td>Mobile</td>\n",
       "      <td>22025.0</td>\n",
       "      <td>8</td>\n",
       "      <td>3</td>\n",
       "      <td>5</td>\n",
       "      <td>104.0</td>\n",
       "      <td>4470</td>\n",
       "      <td>2</td>\n",
       "      <td>0</td>\n",
       "      <td>29</td>\n",
       "      <td>0</td>\n",
       "      <td>1</td>\n",
       "      <td>0</td>\n",
       "      <td>14</td>\n",
       "    </tr>\n",
       "  </tbody>\n",
       "</table>\n",
       "<p>10652 rows × 16 columns</p>\n",
       "</div>"
      ],
      "text/plain": [
       "       Taken_product  Yearly_avg_view_on_travel_page preferred_device  \\\n",
       "0                  1                           307.0           Mobile   \n",
       "1                  0                           367.0           Mobile   \n",
       "2                  1                           277.0           Mobile   \n",
       "3                  0                           247.0           Mobile   \n",
       "4                  0                           202.0           Mobile   \n",
       "...              ...                             ...              ...   \n",
       "10647              0                           247.0           Mobile   \n",
       "10648              0                           210.0           Mobile   \n",
       "10649              0                           305.0           Mobile   \n",
       "10650              0                           214.0           Mobile   \n",
       "10651              0                           270.0           Mobile   \n",
       "\n",
       "       total_likes_on_outstation_checkin_given  \\\n",
       "0                                      38570.0   \n",
       "1                                       9765.0   \n",
       "2                                      48055.0   \n",
       "3                                      48720.0   \n",
       "4                                      20685.0   \n",
       "...                                        ...   \n",
       "10647                                  11418.0   \n",
       "10648                                  40886.0   \n",
       "10649                                  21510.0   \n",
       "10650                                   5478.0   \n",
       "10651                                  22025.0   \n",
       "\n",
       "       yearly_avg_Outstation_checkins  member_in_family  \\\n",
       "0                                   1                 2   \n",
       "1                                   1                 1   \n",
       "2                                   1                 2   \n",
       "3                                   1                 4   \n",
       "4                                   1                 1   \n",
       "...                               ...               ...   \n",
       "10647                               5                 3   \n",
       "10648                               5                 3   \n",
       "10649                               6                 1   \n",
       "10650                               4                 3   \n",
       "10651                               8                 3   \n",
       "\n",
       "       preferred_location_type  Yearly_avg_comment_on_travel_page  \\\n",
       "0                            3                               94.0   \n",
       "1                            3                               61.0   \n",
       "2                            8                               92.0   \n",
       "3                            3                               56.0   \n",
       "4                            6                               40.0   \n",
       "...                        ...                                ...   \n",
       "10647                        5                               99.0   \n",
       "10648                        8                               53.0   \n",
       "10649                        5                               55.0   \n",
       "10650                        0                              103.0   \n",
       "10651                        5                              104.0   \n",
       "\n",
       "       total_likes_on_outofstation_checkin_received  \\\n",
       "0                                              5993   \n",
       "1                                              5130   \n",
       "2                                              2090   \n",
       "3                                              2909   \n",
       "4                                              3468   \n",
       "...                                             ...   \n",
       "10647                                          9983   \n",
       "10648                                          3024   \n",
       "10649                                         10041   \n",
       "10650                                          6203   \n",
       "10651                                          4470   \n",
       "\n",
       "       week_since_last_outstation_checkin  following_company_page  \\\n",
       "0                                       8                       1   \n",
       "1                                       1                       0   \n",
       "2                                       6                       1   \n",
       "3                                       1                       1   \n",
       "4                                       9                       0   \n",
       "...                                   ...                     ...   \n",
       "10647                                   1                       0   \n",
       "10648                                   2                       0   \n",
       "10649                                   4                       0   \n",
       "10650                                   3                       1   \n",
       "10651                                   2                       0   \n",
       "\n",
       "       montly_avg_comment_on_company_page  working_flag  \\\n",
       "0                                      11             0   \n",
       "1                                      23             1   \n",
       "2                                      15             0   \n",
       "3                                      11             0   \n",
       "4                                      12             0   \n",
       "...                                   ...           ...   \n",
       "10647                                  28             0   \n",
       "10648                                  32             0   \n",
       "10649                                  30             0   \n",
       "10650                                  40             1   \n",
       "10651                                  29             0   \n",
       "\n",
       "       travelling_network_rating  Adult_flag  \\\n",
       "0                              1           0   \n",
       "1                              4           0   \n",
       "2                              2           0   \n",
       "3                              3           0   \n",
       "4                              4           0   \n",
       "...                          ...         ...   \n",
       "10647                          2           0   \n",
       "10648                          4           0   \n",
       "10649                          1           0   \n",
       "10650                          2           0   \n",
       "10651                          1           0   \n",
       "\n",
       "       Daily_Avg_mins_spend_on_traveling_page  \n",
       "0                                           8  \n",
       "1                                          10  \n",
       "2                                           7  \n",
       "3                                           8  \n",
       "4                                           6  \n",
       "...                                       ...  \n",
       "10647                                      16  \n",
       "10648                                      14  \n",
       "10649                                      11  \n",
       "10650                                      12  \n",
       "10651                                      14  \n",
       "\n",
       "[10652 rows x 16 columns]"
      ]
     },
     "execution_count": 15,
     "metadata": {},
     "output_type": "execute_result"
    }
   ],
   "source": [
    "df_mobile"
   ]
  },
  {
   "cell_type": "code",
   "execution_count": 16,
   "id": "48f03dee",
   "metadata": {},
   "outputs": [],
   "source": [
    "df_mobile['preferred_device']=df_mobile['preferred_device'].replace({'Mobile':1})"
   ]
  },
  {
   "cell_type": "code",
   "execution_count": 17,
   "id": "a452ea80",
   "metadata": {},
   "outputs": [
    {
     "data": {
      "text/plain": [
       "1    10652\n",
       "Name: preferred_device, dtype: int64"
      ]
     },
     "execution_count": 17,
     "metadata": {},
     "output_type": "execute_result"
    }
   ],
   "source": [
    "df_mobile['preferred_device'].value_counts()"
   ]
  },
  {
   "cell_type": "code",
   "execution_count": 18,
   "id": "b1c76767",
   "metadata": {},
   "outputs": [],
   "source": [
    "X= df_mobile.drop([\"Taken_product\"],axis=1)\n"
   ]
  },
  {
   "cell_type": "code",
   "execution_count": 19,
   "id": "8f3d3af3",
   "metadata": {},
   "outputs": [],
   "source": [
    "y=df_mobile.Taken_product"
   ]
  },
  {
   "cell_type": "code",
   "execution_count": 213,
   "id": "a9e9b37f",
   "metadata": {},
   "outputs": [
    {
     "data": {
      "text/html": [
       "<div>\n",
       "<style scoped>\n",
       "    .dataframe tbody tr th:only-of-type {\n",
       "        vertical-align: middle;\n",
       "    }\n",
       "\n",
       "    .dataframe tbody tr th {\n",
       "        vertical-align: top;\n",
       "    }\n",
       "\n",
       "    .dataframe thead th {\n",
       "        text-align: right;\n",
       "    }\n",
       "</style>\n",
       "<table border=\"1\" class=\"dataframe\">\n",
       "  <thead>\n",
       "    <tr style=\"text-align: right;\">\n",
       "      <th></th>\n",
       "      <th>Yearly_avg_view_on_travel_page</th>\n",
       "      <th>preferred_device</th>\n",
       "      <th>total_likes_on_outstation_checkin_given</th>\n",
       "      <th>yearly_avg_Outstation_checkins</th>\n",
       "      <th>member_in_family</th>\n",
       "      <th>preferred_location_type</th>\n",
       "      <th>Yearly_avg_comment_on_travel_page</th>\n",
       "      <th>total_likes_on_outofstation_checkin_received</th>\n",
       "      <th>week_since_last_outstation_checkin</th>\n",
       "      <th>following_company_page</th>\n",
       "      <th>montly_avg_comment_on_company_page</th>\n",
       "      <th>working_flag</th>\n",
       "      <th>travelling_network_rating</th>\n",
       "      <th>Adult_flag</th>\n",
       "      <th>Daily_Avg_mins_spend_on_traveling_page</th>\n",
       "    </tr>\n",
       "  </thead>\n",
       "  <tbody>\n",
       "    <tr>\n",
       "      <th>0</th>\n",
       "      <td>307.0</td>\n",
       "      <td>1</td>\n",
       "      <td>38570.0</td>\n",
       "      <td>1</td>\n",
       "      <td>2</td>\n",
       "      <td>3</td>\n",
       "      <td>94.0</td>\n",
       "      <td>5993</td>\n",
       "      <td>8</td>\n",
       "      <td>1</td>\n",
       "      <td>11</td>\n",
       "      <td>0</td>\n",
       "      <td>1</td>\n",
       "      <td>0</td>\n",
       "      <td>8</td>\n",
       "    </tr>\n",
       "    <tr>\n",
       "      <th>1</th>\n",
       "      <td>367.0</td>\n",
       "      <td>1</td>\n",
       "      <td>9765.0</td>\n",
       "      <td>1</td>\n",
       "      <td>1</td>\n",
       "      <td>3</td>\n",
       "      <td>61.0</td>\n",
       "      <td>5130</td>\n",
       "      <td>1</td>\n",
       "      <td>0</td>\n",
       "      <td>23</td>\n",
       "      <td>1</td>\n",
       "      <td>4</td>\n",
       "      <td>0</td>\n",
       "      <td>10</td>\n",
       "    </tr>\n",
       "    <tr>\n",
       "      <th>2</th>\n",
       "      <td>277.0</td>\n",
       "      <td>1</td>\n",
       "      <td>48055.0</td>\n",
       "      <td>1</td>\n",
       "      <td>2</td>\n",
       "      <td>8</td>\n",
       "      <td>92.0</td>\n",
       "      <td>2090</td>\n",
       "      <td>6</td>\n",
       "      <td>1</td>\n",
       "      <td>15</td>\n",
       "      <td>0</td>\n",
       "      <td>2</td>\n",
       "      <td>0</td>\n",
       "      <td>7</td>\n",
       "    </tr>\n",
       "    <tr>\n",
       "      <th>3</th>\n",
       "      <td>247.0</td>\n",
       "      <td>1</td>\n",
       "      <td>48720.0</td>\n",
       "      <td>1</td>\n",
       "      <td>4</td>\n",
       "      <td>3</td>\n",
       "      <td>56.0</td>\n",
       "      <td>2909</td>\n",
       "      <td>1</td>\n",
       "      <td>1</td>\n",
       "      <td>11</td>\n",
       "      <td>0</td>\n",
       "      <td>3</td>\n",
       "      <td>0</td>\n",
       "      <td>8</td>\n",
       "    </tr>\n",
       "    <tr>\n",
       "      <th>4</th>\n",
       "      <td>202.0</td>\n",
       "      <td>1</td>\n",
       "      <td>20685.0</td>\n",
       "      <td>1</td>\n",
       "      <td>1</td>\n",
       "      <td>6</td>\n",
       "      <td>40.0</td>\n",
       "      <td>3468</td>\n",
       "      <td>9</td>\n",
       "      <td>0</td>\n",
       "      <td>12</td>\n",
       "      <td>0</td>\n",
       "      <td>4</td>\n",
       "      <td>0</td>\n",
       "      <td>6</td>\n",
       "    </tr>\n",
       "  </tbody>\n",
       "</table>\n",
       "</div>"
      ],
      "text/plain": [
       "   Yearly_avg_view_on_travel_page  preferred_device  \\\n",
       "0                           307.0                 1   \n",
       "1                           367.0                 1   \n",
       "2                           277.0                 1   \n",
       "3                           247.0                 1   \n",
       "4                           202.0                 1   \n",
       "\n",
       "   total_likes_on_outstation_checkin_given  yearly_avg_Outstation_checkins  \\\n",
       "0                                  38570.0                               1   \n",
       "1                                   9765.0                               1   \n",
       "2                                  48055.0                               1   \n",
       "3                                  48720.0                               1   \n",
       "4                                  20685.0                               1   \n",
       "\n",
       "   member_in_family  preferred_location_type  \\\n",
       "0                 2                        3   \n",
       "1                 1                        3   \n",
       "2                 2                        8   \n",
       "3                 4                        3   \n",
       "4                 1                        6   \n",
       "\n",
       "   Yearly_avg_comment_on_travel_page  \\\n",
       "0                               94.0   \n",
       "1                               61.0   \n",
       "2                               92.0   \n",
       "3                               56.0   \n",
       "4                               40.0   \n",
       "\n",
       "   total_likes_on_outofstation_checkin_received  \\\n",
       "0                                          5993   \n",
       "1                                          5130   \n",
       "2                                          2090   \n",
       "3                                          2909   \n",
       "4                                          3468   \n",
       "\n",
       "   week_since_last_outstation_checkin  following_company_page  \\\n",
       "0                                   8                       1   \n",
       "1                                   1                       0   \n",
       "2                                   6                       1   \n",
       "3                                   1                       1   \n",
       "4                                   9                       0   \n",
       "\n",
       "   montly_avg_comment_on_company_page  working_flag  \\\n",
       "0                                  11             0   \n",
       "1                                  23             1   \n",
       "2                                  15             0   \n",
       "3                                  11             0   \n",
       "4                                  12             0   \n",
       "\n",
       "   travelling_network_rating  Adult_flag  \\\n",
       "0                          1           0   \n",
       "1                          4           0   \n",
       "2                          2           0   \n",
       "3                          3           0   \n",
       "4                          4           0   \n",
       "\n",
       "   Daily_Avg_mins_spend_on_traveling_page  \n",
       "0                                       8  \n",
       "1                                      10  \n",
       "2                                       7  \n",
       "3                                       8  \n",
       "4                                       6  "
      ]
     },
     "execution_count": 213,
     "metadata": {},
     "output_type": "execute_result"
    }
   ],
   "source": [
    "X.head()"
   ]
  },
  {
   "cell_type": "code",
   "execution_count": 214,
   "id": "e2bb4e7d",
   "metadata": {},
   "outputs": [
    {
     "data": {
      "text/plain": [
       "0    1\n",
       "1    0\n",
       "2    1\n",
       "3    0\n",
       "4    0\n",
       "Name: Taken_product, dtype: int64"
      ]
     },
     "execution_count": 214,
     "metadata": {},
     "output_type": "execute_result"
    }
   ],
   "source": [
    "y.head()"
   ]
  },
  {
   "cell_type": "code",
   "execution_count": 215,
   "id": "5aff9843",
   "metadata": {},
   "outputs": [
    {
     "name": "stdout",
     "output_type": "stream",
     "text": [
      "<class 'pandas.core.frame.DataFrame'>\n",
      "RangeIndex: 10652 entries, 0 to 10651\n",
      "Data columns (total 15 columns):\n",
      " #   Column                                        Non-Null Count  Dtype  \n",
      "---  ------                                        --------------  -----  \n",
      " 0   Yearly_avg_view_on_travel_page                10652 non-null  float64\n",
      " 1   preferred_device                              10652 non-null  int64  \n",
      " 2   total_likes_on_outstation_checkin_given       10652 non-null  float64\n",
      " 3   yearly_avg_Outstation_checkins                10652 non-null  int64  \n",
      " 4   member_in_family                              10652 non-null  int64  \n",
      " 5   preferred_location_type                       10652 non-null  int8   \n",
      " 6   Yearly_avg_comment_on_travel_page             10652 non-null  float64\n",
      " 7   total_likes_on_outofstation_checkin_received  10652 non-null  int64  \n",
      " 8   week_since_last_outstation_checkin            10652 non-null  int64  \n",
      " 9   following_company_page                        10652 non-null  int64  \n",
      " 10  montly_avg_comment_on_company_page            10652 non-null  int64  \n",
      " 11  working_flag                                  10652 non-null  int64  \n",
      " 12  travelling_network_rating                     10652 non-null  int64  \n",
      " 13  Adult_flag                                    10652 non-null  int64  \n",
      " 14  Daily_Avg_mins_spend_on_traveling_page        10652 non-null  int64  \n",
      "dtypes: float64(3), int64(11), int8(1)\n",
      "memory usage: 1.1 MB\n"
     ]
    }
   ],
   "source": [
    "X.info()"
   ]
  },
  {
   "cell_type": "code",
   "execution_count": 22,
   "id": "85bb5cef",
   "metadata": {},
   "outputs": [],
   "source": [
    "from sklearn.model_selection import train_test_split\n",
    "\n",
    "X_train, X_test, y_train, y_test = train_test_split(X, y, test_size=.30, random_state=1)"
   ]
  },
  {
   "cell_type": "code",
   "execution_count": 23,
   "id": "dffba42f",
   "metadata": {},
   "outputs": [
    {
     "data": {
      "text/html": [
       "<div>\n",
       "<style scoped>\n",
       "    .dataframe tbody tr th:only-of-type {\n",
       "        vertical-align: middle;\n",
       "    }\n",
       "\n",
       "    .dataframe tbody tr th {\n",
       "        vertical-align: top;\n",
       "    }\n",
       "\n",
       "    .dataframe thead th {\n",
       "        text-align: right;\n",
       "    }\n",
       "</style>\n",
       "<table border=\"1\" class=\"dataframe\">\n",
       "  <thead>\n",
       "    <tr style=\"text-align: right;\">\n",
       "      <th></th>\n",
       "      <th>Yearly_avg_view_on_travel_page</th>\n",
       "      <th>preferred_device</th>\n",
       "      <th>total_likes_on_outstation_checkin_given</th>\n",
       "      <th>yearly_avg_Outstation_checkins</th>\n",
       "      <th>member_in_family</th>\n",
       "      <th>preferred_location_type</th>\n",
       "      <th>Yearly_avg_comment_on_travel_page</th>\n",
       "      <th>total_likes_on_outofstation_checkin_received</th>\n",
       "      <th>week_since_last_outstation_checkin</th>\n",
       "      <th>following_company_page</th>\n",
       "      <th>montly_avg_comment_on_company_page</th>\n",
       "      <th>working_flag</th>\n",
       "      <th>travelling_network_rating</th>\n",
       "      <th>Adult_flag</th>\n",
       "      <th>Daily_Avg_mins_spend_on_traveling_page</th>\n",
       "    </tr>\n",
       "  </thead>\n",
       "  <tbody>\n",
       "    <tr>\n",
       "      <th>3531</th>\n",
       "      <td>249.0</td>\n",
       "      <td>1</td>\n",
       "      <td>4161.0</td>\n",
       "      <td>16</td>\n",
       "      <td>3</td>\n",
       "      <td>9</td>\n",
       "      <td>82.0</td>\n",
       "      <td>5366</td>\n",
       "      <td>5</td>\n",
       "      <td>0</td>\n",
       "      <td>20</td>\n",
       "      <td>0</td>\n",
       "      <td>3</td>\n",
       "      <td>0</td>\n",
       "      <td>9</td>\n",
       "    </tr>\n",
       "    <tr>\n",
       "      <th>6990</th>\n",
       "      <td>426.0</td>\n",
       "      <td>1</td>\n",
       "      <td>50509.0</td>\n",
       "      <td>11</td>\n",
       "      <td>5</td>\n",
       "      <td>1</td>\n",
       "      <td>96.0</td>\n",
       "      <td>5384</td>\n",
       "      <td>4</td>\n",
       "      <td>0</td>\n",
       "      <td>20</td>\n",
       "      <td>0</td>\n",
       "      <td>3</td>\n",
       "      <td>0</td>\n",
       "      <td>6</td>\n",
       "    </tr>\n",
       "    <tr>\n",
       "      <th>6230</th>\n",
       "      <td>267.0</td>\n",
       "      <td>1</td>\n",
       "      <td>45611.0</td>\n",
       "      <td>2</td>\n",
       "      <td>4</td>\n",
       "      <td>0</td>\n",
       "      <td>66.0</td>\n",
       "      <td>2778</td>\n",
       "      <td>3</td>\n",
       "      <td>0</td>\n",
       "      <td>20</td>\n",
       "      <td>0</td>\n",
       "      <td>3</td>\n",
       "      <td>0</td>\n",
       "      <td>14</td>\n",
       "    </tr>\n",
       "    <tr>\n",
       "      <th>6062</th>\n",
       "      <td>239.0</td>\n",
       "      <td>1</td>\n",
       "      <td>34270.0</td>\n",
       "      <td>1</td>\n",
       "      <td>4</td>\n",
       "      <td>5</td>\n",
       "      <td>96.0</td>\n",
       "      <td>4348</td>\n",
       "      <td>0</td>\n",
       "      <td>0</td>\n",
       "      <td>15</td>\n",
       "      <td>0</td>\n",
       "      <td>4</td>\n",
       "      <td>0</td>\n",
       "      <td>6</td>\n",
       "    </tr>\n",
       "    <tr>\n",
       "      <th>9198</th>\n",
       "      <td>367.0</td>\n",
       "      <td>1</td>\n",
       "      <td>41208.0</td>\n",
       "      <td>26</td>\n",
       "      <td>4</td>\n",
       "      <td>0</td>\n",
       "      <td>111.0</td>\n",
       "      <td>16572</td>\n",
       "      <td>5</td>\n",
       "      <td>0</td>\n",
       "      <td>28</td>\n",
       "      <td>0</td>\n",
       "      <td>3</td>\n",
       "      <td>0</td>\n",
       "      <td>33</td>\n",
       "    </tr>\n",
       "  </tbody>\n",
       "</table>\n",
       "</div>"
      ],
      "text/plain": [
       "      Yearly_avg_view_on_travel_page  preferred_device  \\\n",
       "3531                           249.0                 1   \n",
       "6990                           426.0                 1   \n",
       "6230                           267.0                 1   \n",
       "6062                           239.0                 1   \n",
       "9198                           367.0                 1   \n",
       "\n",
       "      total_likes_on_outstation_checkin_given  yearly_avg_Outstation_checkins  \\\n",
       "3531                                   4161.0                              16   \n",
       "6990                                  50509.0                              11   \n",
       "6230                                  45611.0                               2   \n",
       "6062                                  34270.0                               1   \n",
       "9198                                  41208.0                              26   \n",
       "\n",
       "      member_in_family  preferred_location_type  \\\n",
       "3531                 3                        9   \n",
       "6990                 5                        1   \n",
       "6230                 4                        0   \n",
       "6062                 4                        5   \n",
       "9198                 4                        0   \n",
       "\n",
       "      Yearly_avg_comment_on_travel_page  \\\n",
       "3531                               82.0   \n",
       "6990                               96.0   \n",
       "6230                               66.0   \n",
       "6062                               96.0   \n",
       "9198                              111.0   \n",
       "\n",
       "      total_likes_on_outofstation_checkin_received  \\\n",
       "3531                                          5366   \n",
       "6990                                          5384   \n",
       "6230                                          2778   \n",
       "6062                                          4348   \n",
       "9198                                         16572   \n",
       "\n",
       "      week_since_last_outstation_checkin  following_company_page  \\\n",
       "3531                                   5                       0   \n",
       "6990                                   4                       0   \n",
       "6230                                   3                       0   \n",
       "6062                                   0                       0   \n",
       "9198                                   5                       0   \n",
       "\n",
       "      montly_avg_comment_on_company_page  working_flag  \\\n",
       "3531                                  20             0   \n",
       "6990                                  20             0   \n",
       "6230                                  20             0   \n",
       "6062                                  15             0   \n",
       "9198                                  28             0   \n",
       "\n",
       "      travelling_network_rating  Adult_flag  \\\n",
       "3531                          3           0   \n",
       "6990                          3           0   \n",
       "6230                          3           0   \n",
       "6062                          4           0   \n",
       "9198                          3           0   \n",
       "\n",
       "      Daily_Avg_mins_spend_on_traveling_page  \n",
       "3531                                       9  \n",
       "6990                                       6  \n",
       "6230                                      14  \n",
       "6062                                       6  \n",
       "9198                                      33  "
      ]
     },
     "execution_count": 23,
     "metadata": {},
     "output_type": "execute_result"
    }
   ],
   "source": [
    "X_train.head()"
   ]
  },
  {
   "cell_type": "code",
   "execution_count": 24,
   "id": "4939f659",
   "metadata": {},
   "outputs": [
    {
     "data": {
      "text/plain": [
       "3531    1\n",
       "6990    0\n",
       "6230    0\n",
       "6062    0\n",
       "9198    0\n",
       "Name: Taken_product, dtype: int64"
      ]
     },
     "execution_count": 24,
     "metadata": {},
     "output_type": "execute_result"
    }
   ],
   "source": [
    "y_train.head()"
   ]
  },
  {
   "cell_type": "code",
   "execution_count": 25,
   "id": "153004fc",
   "metadata": {},
   "outputs": [
    {
     "data": {
      "text/html": [
       "<div>\n",
       "<style scoped>\n",
       "    .dataframe tbody tr th:only-of-type {\n",
       "        vertical-align: middle;\n",
       "    }\n",
       "\n",
       "    .dataframe tbody tr th {\n",
       "        vertical-align: top;\n",
       "    }\n",
       "\n",
       "    .dataframe thead th {\n",
       "        text-align: right;\n",
       "    }\n",
       "</style>\n",
       "<table border=\"1\" class=\"dataframe\">\n",
       "  <thead>\n",
       "    <tr style=\"text-align: right;\">\n",
       "      <th></th>\n",
       "      <th>Yearly_avg_view_on_travel_page</th>\n",
       "      <th>preferred_device</th>\n",
       "      <th>total_likes_on_outstation_checkin_given</th>\n",
       "      <th>yearly_avg_Outstation_checkins</th>\n",
       "      <th>member_in_family</th>\n",
       "      <th>preferred_location_type</th>\n",
       "      <th>Yearly_avg_comment_on_travel_page</th>\n",
       "      <th>total_likes_on_outofstation_checkin_received</th>\n",
       "      <th>week_since_last_outstation_checkin</th>\n",
       "      <th>following_company_page</th>\n",
       "      <th>montly_avg_comment_on_company_page</th>\n",
       "      <th>working_flag</th>\n",
       "      <th>travelling_network_rating</th>\n",
       "      <th>Adult_flag</th>\n",
       "      <th>Daily_Avg_mins_spend_on_traveling_page</th>\n",
       "    </tr>\n",
       "  </thead>\n",
       "  <tbody>\n",
       "    <tr>\n",
       "      <th>9636</th>\n",
       "      <td>351.0</td>\n",
       "      <td>1</td>\n",
       "      <td>36861.0</td>\n",
       "      <td>6</td>\n",
       "      <td>3</td>\n",
       "      <td>5</td>\n",
       "      <td>82.0</td>\n",
       "      <td>8937</td>\n",
       "      <td>8</td>\n",
       "      <td>0</td>\n",
       "      <td>27</td>\n",
       "      <td>0</td>\n",
       "      <td>4</td>\n",
       "      <td>0</td>\n",
       "      <td>25</td>\n",
       "    </tr>\n",
       "    <tr>\n",
       "      <th>4907</th>\n",
       "      <td>271.0</td>\n",
       "      <td>1</td>\n",
       "      <td>46072.0</td>\n",
       "      <td>1</td>\n",
       "      <td>4</td>\n",
       "      <td>8</td>\n",
       "      <td>45.0</td>\n",
       "      <td>16572</td>\n",
       "      <td>6</td>\n",
       "      <td>1</td>\n",
       "      <td>22</td>\n",
       "      <td>0</td>\n",
       "      <td>1</td>\n",
       "      <td>0</td>\n",
       "      <td>33</td>\n",
       "    </tr>\n",
       "    <tr>\n",
       "      <th>7220</th>\n",
       "      <td>260.0</td>\n",
       "      <td>1</td>\n",
       "      <td>22023.0</td>\n",
       "      <td>27</td>\n",
       "      <td>2</td>\n",
       "      <td>5</td>\n",
       "      <td>106.0</td>\n",
       "      <td>2323</td>\n",
       "      <td>2</td>\n",
       "      <td>0</td>\n",
       "      <td>24</td>\n",
       "      <td>0</td>\n",
       "      <td>4</td>\n",
       "      <td>0</td>\n",
       "      <td>9</td>\n",
       "    </tr>\n",
       "    <tr>\n",
       "      <th>2512</th>\n",
       "      <td>330.0</td>\n",
       "      <td>1</td>\n",
       "      <td>34335.0</td>\n",
       "      <td>1</td>\n",
       "      <td>3</td>\n",
       "      <td>3</td>\n",
       "      <td>90.0</td>\n",
       "      <td>3162</td>\n",
       "      <td>3</td>\n",
       "      <td>0</td>\n",
       "      <td>14</td>\n",
       "      <td>0</td>\n",
       "      <td>4</td>\n",
       "      <td>0</td>\n",
       "      <td>7</td>\n",
       "    </tr>\n",
       "    <tr>\n",
       "      <th>4485</th>\n",
       "      <td>234.0</td>\n",
       "      <td>1</td>\n",
       "      <td>26154.0</td>\n",
       "      <td>1</td>\n",
       "      <td>4</td>\n",
       "      <td>3</td>\n",
       "      <td>69.0</td>\n",
       "      <td>4474</td>\n",
       "      <td>1</td>\n",
       "      <td>0</td>\n",
       "      <td>42</td>\n",
       "      <td>1</td>\n",
       "      <td>4</td>\n",
       "      <td>0</td>\n",
       "      <td>15</td>\n",
       "    </tr>\n",
       "  </tbody>\n",
       "</table>\n",
       "</div>"
      ],
      "text/plain": [
       "      Yearly_avg_view_on_travel_page  preferred_device  \\\n",
       "9636                           351.0                 1   \n",
       "4907                           271.0                 1   \n",
       "7220                           260.0                 1   \n",
       "2512                           330.0                 1   \n",
       "4485                           234.0                 1   \n",
       "\n",
       "      total_likes_on_outstation_checkin_given  yearly_avg_Outstation_checkins  \\\n",
       "9636                                  36861.0                               6   \n",
       "4907                                  46072.0                               1   \n",
       "7220                                  22023.0                              27   \n",
       "2512                                  34335.0                               1   \n",
       "4485                                  26154.0                               1   \n",
       "\n",
       "      member_in_family  preferred_location_type  \\\n",
       "9636                 3                        5   \n",
       "4907                 4                        8   \n",
       "7220                 2                        5   \n",
       "2512                 3                        3   \n",
       "4485                 4                        3   \n",
       "\n",
       "      Yearly_avg_comment_on_travel_page  \\\n",
       "9636                               82.0   \n",
       "4907                               45.0   \n",
       "7220                              106.0   \n",
       "2512                               90.0   \n",
       "4485                               69.0   \n",
       "\n",
       "      total_likes_on_outofstation_checkin_received  \\\n",
       "9636                                          8937   \n",
       "4907                                         16572   \n",
       "7220                                          2323   \n",
       "2512                                          3162   \n",
       "4485                                          4474   \n",
       "\n",
       "      week_since_last_outstation_checkin  following_company_page  \\\n",
       "9636                                   8                       0   \n",
       "4907                                   6                       1   \n",
       "7220                                   2                       0   \n",
       "2512                                   3                       0   \n",
       "4485                                   1                       0   \n",
       "\n",
       "      montly_avg_comment_on_company_page  working_flag  \\\n",
       "9636                                  27             0   \n",
       "4907                                  22             0   \n",
       "7220                                  24             0   \n",
       "2512                                  14             0   \n",
       "4485                                  42             1   \n",
       "\n",
       "      travelling_network_rating  Adult_flag  \\\n",
       "9636                          4           0   \n",
       "4907                          1           0   \n",
       "7220                          4           0   \n",
       "2512                          4           0   \n",
       "4485                          4           0   \n",
       "\n",
       "      Daily_Avg_mins_spend_on_traveling_page  \n",
       "9636                                      25  \n",
       "4907                                      33  \n",
       "7220                                       9  \n",
       "2512                                       7  \n",
       "4485                                      15  "
      ]
     },
     "execution_count": 25,
     "metadata": {},
     "output_type": "execute_result"
    }
   ],
   "source": [
    "X_test.head()"
   ]
  },
  {
   "cell_type": "code",
   "execution_count": 26,
   "id": "69c26758",
   "metadata": {},
   "outputs": [
    {
     "data": {
      "text/plain": [
       "9636    0\n",
       "4907    0\n",
       "7220    0\n",
       "2512    0\n",
       "4485    0\n",
       "Name: Taken_product, dtype: int64"
      ]
     },
     "execution_count": 26,
     "metadata": {},
     "output_type": "execute_result"
    }
   ],
   "source": [
    "y_test.head()"
   ]
  },
  {
   "cell_type": "code",
   "execution_count": 27,
   "id": "df699520",
   "metadata": {},
   "outputs": [
    {
     "data": {
      "text/plain": [
       "(7456, 15)"
      ]
     },
     "execution_count": 27,
     "metadata": {},
     "output_type": "execute_result"
    }
   ],
   "source": [
    "X_train.shape"
   ]
  },
  {
   "cell_type": "code",
   "execution_count": 28,
   "id": "7ea6fe3c",
   "metadata": {},
   "outputs": [
    {
     "data": {
      "text/plain": [
       "(7456,)"
      ]
     },
     "execution_count": 28,
     "metadata": {},
     "output_type": "execute_result"
    }
   ],
   "source": [
    "y_train.shape"
   ]
  },
  {
   "cell_type": "code",
   "execution_count": 29,
   "id": "aac8125f",
   "metadata": {},
   "outputs": [
    {
     "data": {
      "text/plain": [
       "(3196, 15)"
      ]
     },
     "execution_count": 29,
     "metadata": {},
     "output_type": "execute_result"
    }
   ],
   "source": [
    "X_test.shape"
   ]
  },
  {
   "cell_type": "code",
   "execution_count": 30,
   "id": "517500c8",
   "metadata": {},
   "outputs": [
    {
     "data": {
      "text/plain": [
       "(3196,)"
      ]
     },
     "execution_count": 30,
     "metadata": {},
     "output_type": "execute_result"
    }
   ],
   "source": [
    "y_test.shape"
   ]
  },
  {
   "cell_type": "markdown",
   "id": "d261581a",
   "metadata": {},
   "source": [
    "###  CART"
   ]
  },
  {
   "cell_type": "code",
   "execution_count": 31,
   "id": "bf8a6ac4",
   "metadata": {},
   "outputs": [],
   "source": [
    "from sklearn.tree import DecisionTreeClassifier #from scikit Learn"
   ]
  },
  {
   "cell_type": "code",
   "execution_count": 32,
   "id": "6d095fcf",
   "metadata": {},
   "outputs": [],
   "source": [
    "# Initialise a Decision Tree Classifier\n",
    "dt_model = DecisionTreeClassifier(criterion = 'gini' )"
   ]
  },
  {
   "cell_type": "code",
   "execution_count": 33,
   "id": "426d214d",
   "metadata": {},
   "outputs": [
    {
     "data": {
      "text/plain": [
       "DecisionTreeClassifier()"
      ]
     },
     "execution_count": 33,
     "metadata": {},
     "output_type": "execute_result"
    }
   ],
   "source": [
    "# Fit the model\n",
    "dt_model.fit(X_train, y_train)"
   ]
  },
  {
   "cell_type": "code",
   "execution_count": 34,
   "id": "cb3e68f1",
   "metadata": {},
   "outputs": [],
   "source": [
    "from sklearn import tree\n",
    "\n",
    "train_char_label = ['No', 'Yes']\n",
    "ld_Tree_File = open('ld_Tree_File.dot','w')\n",
    "dot_data = tree.export_graphviz(dt_model, \n",
    "                                out_file=ld_Tree_File, \n",
    "                                feature_names = list(X_train), \n",
    "                                class_names = list(train_char_label))\n",
    "\n",
    "ld_Tree_File.close()"
   ]
  },
  {
   "cell_type": "code",
   "execution_count": 35,
   "id": "515995a1",
   "metadata": {},
   "outputs": [
    {
     "name": "stdout",
     "output_type": "stream",
     "text": [
      "                                                   Imp\n",
      "total_likes_on_outstation_checkin_given       0.235794\n",
      "total_likes_on_outofstation_checkin_received  0.234811\n",
      "Yearly_avg_view_on_travel_page                0.096317\n",
      "yearly_avg_Outstation_checkins                0.071916\n",
      "travelling_network_rating                     0.058867\n",
      "following_company_page                        0.051728\n",
      "week_since_last_outstation_checkin            0.051026\n",
      "member_in_family                              0.044496\n",
      "Yearly_avg_comment_on_travel_page             0.042069\n",
      "Daily_Avg_mins_spend_on_traveling_page        0.041717\n",
      "working_flag                                  0.030209\n",
      "preferred_location_type                       0.017958\n",
      "montly_avg_comment_on_company_page            0.014042\n",
      "Adult_flag                                    0.009049\n",
      "preferred_device                              0.000000\n"
     ]
    }
   ],
   "source": [
    "print (pd.DataFrame(dt_model.feature_importances_, columns = [\"Imp\"], index = X_train.columns).sort_values('Imp',ascending=False))"
   ]
  },
  {
   "cell_type": "code",
   "execution_count": 36,
   "id": "7b940a65",
   "metadata": {},
   "outputs": [],
   "source": [
    "y_predict = dt_model.predict(X_test)"
   ]
  },
  {
   "cell_type": "code",
   "execution_count": 37,
   "id": "ce7a6d60",
   "metadata": {},
   "outputs": [
    {
     "data": {
      "text/plain": [
       "(3196,)"
      ]
     },
     "execution_count": 37,
     "metadata": {},
     "output_type": "execute_result"
    }
   ],
   "source": [
    "y_predict.shape"
   ]
  },
  {
   "cell_type": "code",
   "execution_count": 38,
   "id": "5273aeae",
   "metadata": {},
   "outputs": [],
   "source": [
    "ytrain_predict = dt_model.predict(X_train)\n",
    "ytest_predict = dt_model.predict(X_test)"
   ]
  },
  {
   "cell_type": "code",
   "execution_count": 39,
   "id": "dc531304",
   "metadata": {},
   "outputs": [
    {
     "name": "stdout",
     "output_type": "stream",
     "text": [
      "ytrain_predict (7456,)\n",
      "ytest_predict (3196,)\n"
     ]
    }
   ],
   "source": [
    "print('ytrain_predict',ytrain_predict.shape)\n",
    "print('ytest_predict',ytest_predict.shape)"
   ]
  },
  {
   "cell_type": "code",
   "execution_count": 40,
   "id": "9840c740",
   "metadata": {},
   "outputs": [
    {
     "data": {
      "text/plain": [
       "array([0, 0, 0, ..., 0, 0, 0])"
      ]
     },
     "execution_count": 40,
     "metadata": {},
     "output_type": "execute_result"
    }
   ],
   "source": [
    "ytest_predict"
   ]
  },
  {
   "cell_type": "code",
   "execution_count": 41,
   "id": "61f2aed8",
   "metadata": {},
   "outputs": [
    {
     "data": {
      "text/plain": [
       "array([[1., 0.],\n",
       "       [1., 0.],\n",
       "       [1., 0.],\n",
       "       ...,\n",
       "       [1., 0.],\n",
       "       [1., 0.],\n",
       "       [1., 0.]])"
      ]
     },
     "execution_count": 41,
     "metadata": {},
     "output_type": "execute_result"
    }
   ],
   "source": [
    "ytest_predict_prob=dt_model.predict_proba(X_test)\n",
    "ytest_predict_prob"
   ]
  },
  {
   "cell_type": "code",
   "execution_count": 42,
   "id": "5d5587d1",
   "metadata": {},
   "outputs": [
    {
     "data": {
      "text/html": [
       "<div>\n",
       "<style scoped>\n",
       "    .dataframe tbody tr th:only-of-type {\n",
       "        vertical-align: middle;\n",
       "    }\n",
       "\n",
       "    .dataframe tbody tr th {\n",
       "        vertical-align: top;\n",
       "    }\n",
       "\n",
       "    .dataframe thead th {\n",
       "        text-align: right;\n",
       "    }\n",
       "</style>\n",
       "<table border=\"1\" class=\"dataframe\">\n",
       "  <thead>\n",
       "    <tr style=\"text-align: right;\">\n",
       "      <th></th>\n",
       "      <th>0</th>\n",
       "      <th>1</th>\n",
       "    </tr>\n",
       "  </thead>\n",
       "  <tbody>\n",
       "    <tr>\n",
       "      <th>0</th>\n",
       "      <td>1.0</td>\n",
       "      <td>0.0</td>\n",
       "    </tr>\n",
       "    <tr>\n",
       "      <th>1</th>\n",
       "      <td>1.0</td>\n",
       "      <td>0.0</td>\n",
       "    </tr>\n",
       "    <tr>\n",
       "      <th>2</th>\n",
       "      <td>1.0</td>\n",
       "      <td>0.0</td>\n",
       "    </tr>\n",
       "    <tr>\n",
       "      <th>3</th>\n",
       "      <td>1.0</td>\n",
       "      <td>0.0</td>\n",
       "    </tr>\n",
       "    <tr>\n",
       "      <th>4</th>\n",
       "      <td>1.0</td>\n",
       "      <td>0.0</td>\n",
       "    </tr>\n",
       "  </tbody>\n",
       "</table>\n",
       "</div>"
      ],
      "text/plain": [
       "     0    1\n",
       "0  1.0  0.0\n",
       "1  1.0  0.0\n",
       "2  1.0  0.0\n",
       "3  1.0  0.0\n",
       "4  1.0  0.0"
      ]
     },
     "execution_count": 42,
     "metadata": {},
     "output_type": "execute_result"
    }
   ],
   "source": [
    " pd.DataFrame(ytest_predict_prob).head()"
   ]
  },
  {
   "cell_type": "code",
   "execution_count": 43,
   "id": "2ed7612e",
   "metadata": {},
   "outputs": [
    {
     "name": "stdout",
     "output_type": "stream",
     "text": [
      "AUC: 1.000\n"
     ]
    },
    {
     "data": {
      "image/png": "[encoded data removed]",
      "text/plain": [
       "<Figure size 432x288 with 1 Axes>"
      ]
     },
     "metadata": {
      "needs_background": "light"
     },
     "output_type": "display_data"
    }
   ],
   "source": [
    "# predict probabilities\n",
    "probs = dt_model.predict_proba(X_train)\n",
    "# keep probabilities for the positive outcome only\n",
    "probs = probs[:, 1]\n",
    "# calculate AUC\n",
    "from sklearn.metrics import roc_auc_score\n",
    "auc = roc_auc_score(y_train, probs)\n",
    "print('AUC: %.3f' % auc)\n",
    "# calculate roc curve\n",
    "from sklearn.metrics import roc_curve\n",
    "fpr, tpr, thresholds = roc_curve(y_train, probs)\n",
    "plt.plot([0, 1], [0, 1], linestyle='--')\n",
    "# plot the roc curve for the model\n",
    "plt.plot(fpr, tpr, marker='.')\n",
    "# show the plot\n",
    "plt.show()"
   ]
  },
  {
   "cell_type": "code",
   "execution_count": 44,
   "id": "82c14870",
   "metadata": {},
   "outputs": [
    {
     "name": "stdout",
     "output_type": "stream",
     "text": [
      "AUC: 0.935\n"
     ]
    },
    {
     "data": {
      "image/png": "[encoded data removed]",
      "text/plain": [
       "<Figure size 432x288 with 1 Axes>"
      ]
     },
     "metadata": {
      "needs_background": "light"
     },
     "output_type": "display_data"
    }
   ],
   "source": [
    "# predict probabilities\n",
    "probs = dt_model.predict_proba(X_test)\n",
    "# keep probabilities for the positive outcome only\n",
    "probs = probs[:, 1]\n",
    "# calculate AUC\n",
    "from sklearn.metrics import roc_auc_score\n",
    "auc = roc_auc_score(y_test, probs)\n",
    "print('AUC: %.3f' % auc)\n",
    "# calculate roc curve\n",
    "from sklearn.metrics import roc_curve\n",
    "fpr, tpr, thresholds = roc_curve(y_test, probs)\n",
    "plt.plot([0, 1], [0, 1], linestyle='--')\n",
    "# plot the roc curve for the model\n",
    "plt.plot(fpr, tpr, marker='.')\n",
    "# show the plot\n",
    "plt.show()"
   ]
  },
  {
   "cell_type": "code",
   "execution_count": 45,
   "id": "00263c28",
   "metadata": {},
   "outputs": [],
   "source": [
    "from sklearn.metrics import classification_report,confusion_matrix"
   ]
  },
  {
   "cell_type": "code",
   "execution_count": 46,
   "id": "ba325232",
   "metadata": {},
   "outputs": [
    {
     "data": {
      "text/plain": [
       "array([[6330,    0],\n",
       "       [   0, 1126]])"
      ]
     },
     "execution_count": 46,
     "metadata": {},
     "output_type": "execute_result"
    }
   ],
   "source": [
    "confusion_matrix(y_train, ytrain_predict)"
   ]
  },
  {
   "cell_type": "code",
   "execution_count": 47,
   "id": "033ca19a",
   "metadata": {},
   "outputs": [
    {
     "data": {
      "text/plain": [
       "1.0"
      ]
     },
     "execution_count": 47,
     "metadata": {},
     "output_type": "execute_result"
    }
   ],
   "source": [
    "#Train Data Accuracy\n",
    "dt_model.score(X_train,y_train) "
   ]
  },
  {
   "cell_type": "code",
   "execution_count": 48,
   "id": "04aff97d",
   "metadata": {},
   "outputs": [
    {
     "name": "stdout",
     "output_type": "stream",
     "text": [
      "              precision    recall  f1-score   support\n",
      "\n",
      "           0       1.00      1.00      1.00      6330\n",
      "           1       1.00      1.00      1.00      1126\n",
      "\n",
      "    accuracy                           1.00      7456\n",
      "   macro avg       1.00      1.00      1.00      7456\n",
      "weighted avg       1.00      1.00      1.00      7456\n",
      "\n"
     ]
    }
   ],
   "source": [
    "print(classification_report(y_train, ytrain_predict))"
   ]
  },
  {
   "cell_type": "code",
   "execution_count": 49,
   "id": "3c5a512a",
   "metadata": {},
   "outputs": [
    {
     "data": {
      "text/plain": [
       "array([[2648,   54],\n",
       "       [  54,  440]])"
      ]
     },
     "execution_count": 49,
     "metadata": {},
     "output_type": "execute_result"
    }
   ],
   "source": [
    "confusion_matrix(y_test, ytest_predict)"
   ]
  },
  {
   "cell_type": "code",
   "execution_count": 50,
   "id": "c87a32a7",
   "metadata": {},
   "outputs": [
    {
     "data": {
      "text/plain": [
       "0.9662077596996246"
      ]
     },
     "execution_count": 50,
     "metadata": {},
     "output_type": "execute_result"
    }
   ],
   "source": [
    "#Test Data Accuracy\n",
    "dt_model.score(X_test,y_test)"
   ]
  },
  {
   "cell_type": "code",
   "execution_count": 51,
   "id": "97bc406e",
   "metadata": {},
   "outputs": [
    {
     "name": "stdout",
     "output_type": "stream",
     "text": [
      "              precision    recall  f1-score   support\n",
      "\n",
      "           0       0.98      0.98      0.98      2702\n",
      "           1       0.89      0.89      0.89       494\n",
      "\n",
      "    accuracy                           0.97      3196\n",
      "   macro avg       0.94      0.94      0.94      3196\n",
      "weighted avg       0.97      0.97      0.97      3196\n",
      "\n"
     ]
    }
   ],
   "source": [
    "print(classification_report(y_test, ytest_predict))"
   ]
  },
  {
   "cell_type": "markdown",
   "id": "9d17c9af",
   "metadata": {},
   "source": [
    "#### Tuning"
   ]
  },
  {
   "cell_type": "code",
   "execution_count": 52,
   "id": "3a731d9e",
   "metadata": {},
   "outputs": [
    {
     "data": {
      "text/plain": [
       "DecisionTreeClassifier(max_depth=9, min_samples_leaf=10, min_samples_split=80)"
      ]
     },
     "execution_count": 52,
     "metadata": {},
     "output_type": "execute_result"
    }
   ],
   "source": [
    "reg_dt_model = DecisionTreeClassifier(criterion = 'gini', max_depth = 9,min_samples_leaf=10,min_samples_split=80)\n",
    "reg_dt_model.fit(X_train, y_train)"
   ]
  },
  {
   "cell_type": "code",
   "execution_count": 53,
   "id": "908c8232",
   "metadata": {},
   "outputs": [],
   "source": [
    "ld_tree_regularized = open('ld_tree_regularized.dot','w')\n",
    "dot_data = tree.export_graphviz(reg_dt_model, out_file= ld_tree_regularized , feature_names = list(X_train), class_names = list(train_char_label))\n",
    "\n",
    "ld_tree_regularized.close()\n",
    "dot_data"
   ]
  },
  {
   "cell_type": "code",
   "execution_count": 54,
   "id": "6fc22405",
   "metadata": {},
   "outputs": [
    {
     "name": "stdout",
     "output_type": "stream",
     "text": [
      "                                                   Imp\n",
      "total_likes_on_outofstation_checkin_received  0.305415\n",
      "total_likes_on_outstation_checkin_given       0.196247\n",
      "following_company_page                        0.127319\n",
      "Yearly_avg_view_on_travel_page                0.100291\n",
      "yearly_avg_Outstation_checkins                0.062840\n",
      "week_since_last_outstation_checkin            0.045425\n",
      "Daily_Avg_mins_spend_on_traveling_page        0.037549\n",
      "travelling_network_rating                     0.036355\n",
      "member_in_family                              0.032949\n",
      "working_flag                                  0.024962\n",
      "Yearly_avg_comment_on_travel_page             0.018201\n",
      "Adult_flag                                    0.011442\n",
      "preferred_location_type                       0.000790\n",
      "montly_avg_comment_on_company_page            0.000216\n",
      "preferred_device                              0.000000\n"
     ]
    }
   ],
   "source": [
    "print (pd.DataFrame(reg_dt_model.feature_importances_, columns = [\"Imp\"], index = X_train.columns).sort_values('Imp',ascending=False))"
   ]
  },
  {
   "cell_type": "code",
   "execution_count": 55,
   "id": "1637b40c",
   "metadata": {},
   "outputs": [],
   "source": [
    "ytrain_predict = reg_dt_model.predict(X_train)\n",
    "ytest_predict = reg_dt_model.predict(X_test)"
   ]
  },
  {
   "cell_type": "code",
   "execution_count": 56,
   "id": "2f11406a",
   "metadata": {},
   "outputs": [
    {
     "name": "stdout",
     "output_type": "stream",
     "text": [
      "ytrain_predict (7456,)\n",
      "ytest_predict (3196,)\n"
     ]
    }
   ],
   "source": [
    "print('ytrain_predict',ytrain_predict.shape)\n",
    "print('ytest_predict',ytest_predict.shape)"
   ]
  },
  {
   "cell_type": "code",
   "execution_count": 57,
   "id": "07a22ff3",
   "metadata": {},
   "outputs": [
    {
     "data": {
      "text/plain": [
       "array([0, 0, 0, ..., 0, 0, 0])"
      ]
     },
     "execution_count": 57,
     "metadata": {},
     "output_type": "execute_result"
    }
   ],
   "source": [
    "ytest_predict"
   ]
  },
  {
   "cell_type": "code",
   "execution_count": 58,
   "id": "4e459f65",
   "metadata": {},
   "outputs": [
    {
     "data": {
      "text/plain": [
       "array([[0.91504178, 0.08495822],\n",
       "       [0.91578947, 0.08421053],\n",
       "       [0.9218492 , 0.0781508 ],\n",
       "       ...,\n",
       "       [0.9218492 , 0.0781508 ],\n",
       "       [0.5       , 0.5       ],\n",
       "       [0.91504178, 0.08495822]])"
      ]
     },
     "execution_count": 58,
     "metadata": {},
     "output_type": "execute_result"
    }
   ],
   "source": [
    "ytest_predict_prob=reg_dt_model.predict_proba(X_test)\n",
    "ytest_predict_prob"
   ]
  },
  {
   "cell_type": "code",
   "execution_count": 59,
   "id": "26e558bd",
   "metadata": {},
   "outputs": [
    {
     "data": {
      "text/html": [
       "<div>\n",
       "<style scoped>\n",
       "    .dataframe tbody tr th:only-of-type {\n",
       "        vertical-align: middle;\n",
       "    }\n",
       "\n",
       "    .dataframe tbody tr th {\n",
       "        vertical-align: top;\n",
       "    }\n",
       "\n",
       "    .dataframe thead th {\n",
       "        text-align: right;\n",
       "    }\n",
       "</style>\n",
       "<table border=\"1\" class=\"dataframe\">\n",
       "  <thead>\n",
       "    <tr style=\"text-align: right;\">\n",
       "      <th></th>\n",
       "      <th>0</th>\n",
       "      <th>1</th>\n",
       "    </tr>\n",
       "  </thead>\n",
       "  <tbody>\n",
       "    <tr>\n",
       "      <th>0</th>\n",
       "      <td>0.915042</td>\n",
       "      <td>0.084958</td>\n",
       "    </tr>\n",
       "    <tr>\n",
       "      <th>1</th>\n",
       "      <td>0.915789</td>\n",
       "      <td>0.084211</td>\n",
       "    </tr>\n",
       "    <tr>\n",
       "      <th>2</th>\n",
       "      <td>0.921849</td>\n",
       "      <td>0.078151</td>\n",
       "    </tr>\n",
       "    <tr>\n",
       "      <th>3</th>\n",
       "      <td>0.921849</td>\n",
       "      <td>0.078151</td>\n",
       "    </tr>\n",
       "    <tr>\n",
       "      <th>4</th>\n",
       "      <td>0.921849</td>\n",
       "      <td>0.078151</td>\n",
       "    </tr>\n",
       "  </tbody>\n",
       "</table>\n",
       "</div>"
      ],
      "text/plain": [
       "          0         1\n",
       "0  0.915042  0.084958\n",
       "1  0.915789  0.084211\n",
       "2  0.921849  0.078151\n",
       "3  0.921849  0.078151\n",
       "4  0.921849  0.078151"
      ]
     },
     "execution_count": 59,
     "metadata": {},
     "output_type": "execute_result"
    }
   ],
   "source": [
    " pd.DataFrame(ytest_predict_prob).head()"
   ]
  },
  {
   "cell_type": "code",
   "execution_count": 60,
   "id": "467400e0",
   "metadata": {},
   "outputs": [
    {
     "name": "stdout",
     "output_type": "stream",
     "text": [
      "AUC: 0.886\n"
     ]
    },
    {
     "data": {
      "image/png": "[encoded data removed]",
      "text/plain": [
       "<Figure size 432x288 with 1 Axes>"
      ]
     },
     "metadata": {
      "needs_background": "light"
     },
     "output_type": "display_data"
    }
   ],
   "source": [
    "# predict probabilities\n",
    "probs = reg_dt_model.predict_proba(X_train)\n",
    "# keep probabilities for the positive outcome only\n",
    "probs = probs[:, 1]\n",
    "# calculate AUC\n",
    "from sklearn.metrics import roc_auc_score\n",
    "auc = roc_auc_score(y_train, probs)\n",
    "print('AUC: %.3f' % auc)\n",
    "# calculate roc curve\n",
    "from sklearn.metrics import roc_curve\n",
    "fpr, tpr, thresholds = roc_curve(y_train, probs)\n",
    "plt.plot([0, 1], [0, 1], linestyle='--')\n",
    "# plot the roc curve for the model\n",
    "plt.plot(fpr, tpr, marker='.')\n",
    "# show the plot\n",
    "plt.show()"
   ]
  },
  {
   "cell_type": "code",
   "execution_count": 61,
   "id": "87a87094",
   "metadata": {},
   "outputs": [
    {
     "name": "stdout",
     "output_type": "stream",
     "text": [
      "AUC: 0.854\n"
     ]
    },
    {
     "data": {
      "image/png": "[encoded data removed]",
      "text/plain": [
       "<Figure size 432x288 with 1 Axes>"
      ]
     },
     "metadata": {
      "needs_background": "light"
     },
     "output_type": "display_data"
    }
   ],
   "source": [
    "# predict probabilities\n",
    "probs = reg_dt_model.predict_proba(X_test)\n",
    "# keep probabilities for the positive outcome only\n",
    "probs = probs[:, 1]\n",
    "# calculate AUC\n",
    "from sklearn.metrics import roc_auc_score\n",
    "auc = roc_auc_score(y_test, probs)\n",
    "print('AUC: %.3f' % auc)\n",
    "# calculate roc curve\n",
    "from sklearn.metrics import roc_curve\n",
    "fpr, tpr, thresholds = roc_curve(y_test, probs)\n",
    "plt.plot([0, 1], [0, 1], linestyle='--')\n",
    "# plot the roc curve for the model\n",
    "plt.plot(fpr, tpr, marker='.')\n",
    "# show the plot\n",
    "plt.show()"
   ]
  },
  {
   "cell_type": "code",
   "execution_count": 62,
   "id": "51fdbbb8",
   "metadata": {},
   "outputs": [],
   "source": [
    "from sklearn.metrics import classification_report,confusion_matrix"
   ]
  },
  {
   "cell_type": "code",
   "execution_count": 63,
   "id": "3fd0a399",
   "metadata": {},
   "outputs": [
    {
     "data": {
      "text/plain": [
       "array([[6131,  199],\n",
       "       [ 585,  541]])"
      ]
     },
     "execution_count": 63,
     "metadata": {},
     "output_type": "execute_result"
    }
   ],
   "source": [
    "confusion_matrix(y_train, ytrain_predict)"
   ]
  },
  {
   "cell_type": "code",
   "execution_count": 64,
   "id": "72712de0",
   "metadata": {},
   "outputs": [
    {
     "data": {
      "text/plain": [
       "0.8948497854077253"
      ]
     },
     "execution_count": 64,
     "metadata": {},
     "output_type": "execute_result"
    }
   ],
   "source": [
    "#Train Data Accuracy\n",
    "reg_dt_model.score(X_train,y_train)"
   ]
  },
  {
   "cell_type": "code",
   "execution_count": 65,
   "id": "9294fe7f",
   "metadata": {},
   "outputs": [
    {
     "name": "stdout",
     "output_type": "stream",
     "text": [
      "              precision    recall  f1-score   support\n",
      "\n",
      "           0       0.91      0.97      0.94      6330\n",
      "           1       0.73      0.48      0.58      1126\n",
      "\n",
      "    accuracy                           0.89      7456\n",
      "   macro avg       0.82      0.72      0.76      7456\n",
      "weighted avg       0.89      0.89      0.89      7456\n",
      "\n"
     ]
    }
   ],
   "source": [
    "print(classification_report(y_train, ytrain_predict))"
   ]
  },
  {
   "cell_type": "code",
   "execution_count": 66,
   "id": "d03982db",
   "metadata": {},
   "outputs": [
    {
     "data": {
      "text/plain": [
       "array([[2592,  110],\n",
       "       [ 262,  232]])"
      ]
     },
     "execution_count": 66,
     "metadata": {},
     "output_type": "execute_result"
    }
   ],
   "source": [
    "confusion_matrix(y_test, ytest_predict)"
   ]
  },
  {
   "cell_type": "code",
   "execution_count": 67,
   "id": "2116b512",
   "metadata": {},
   "outputs": [
    {
     "data": {
      "text/plain": [
       "0.8836045056320401"
      ]
     },
     "execution_count": 67,
     "metadata": {},
     "output_type": "execute_result"
    }
   ],
   "source": [
    "#Test Data Accuracy\n",
    "reg_dt_model.score(X_test,y_test)"
   ]
  },
  {
   "cell_type": "code",
   "execution_count": 68,
   "id": "972f55f4",
   "metadata": {},
   "outputs": [
    {
     "name": "stdout",
     "output_type": "stream",
     "text": [
      "              precision    recall  f1-score   support\n",
      "\n",
      "           0       0.91      0.96      0.93      2702\n",
      "           1       0.68      0.47      0.56       494\n",
      "\n",
      "    accuracy                           0.88      3196\n",
      "   macro avg       0.79      0.71      0.74      3196\n",
      "weighted avg       0.87      0.88      0.87      3196\n",
      "\n"
     ]
    }
   ],
   "source": [
    "print(classification_report(y_test, ytest_predict))"
   ]
  },
  {
   "cell_type": "markdown",
   "id": "45de23e0",
   "metadata": {},
   "source": [
    "#### SMOTE"
   ]
  },
  {
   "cell_type": "code",
   "execution_count": 69,
   "id": "6e1e769d",
   "metadata": {},
   "outputs": [],
   "source": [
    "sm = SMOTE()\n",
    "\n",
    "\n",
    "X_train_res, y_train_res = sm.fit_resample(X_train, y_train.ravel())"
   ]
  },
  {
   "cell_type": "code",
   "execution_count": 70,
   "id": "9e8d82f6",
   "metadata": {},
   "outputs": [
    {
     "data": {
      "text/plain": [
       "(12660, 15)"
      ]
     },
     "execution_count": 70,
     "metadata": {},
     "output_type": "execute_result"
    }
   ],
   "source": [
    "## Let's check the shape after SMOTE\n",
    "X_train_res.shape"
   ]
  },
  {
   "cell_type": "code",
   "execution_count": 71,
   "id": "cc87b6cb",
   "metadata": {},
   "outputs": [
    {
     "data": {
      "text/plain": [
       "DecisionTreeClassifier(max_depth=9, min_samples_leaf=10, min_samples_split=80)"
      ]
     },
     "execution_count": 71,
     "metadata": {},
     "output_type": "execute_result"
    }
   ],
   "source": [
    "smote_cart_model = DecisionTreeClassifier(criterion = 'gini', max_depth = 9,min_samples_leaf=10,min_samples_split=80)\n",
    "smote_cart_model.fit(X_train_res, y_train_res)"
   ]
  },
  {
   "cell_type": "code",
   "execution_count": 72,
   "id": "03f12ea8",
   "metadata": {},
   "outputs": [],
   "source": [
    "ytrain_predict = reg_dt_model.predict(X_train)\n",
    "ytest_predict = reg_dt_model.predict(X_test)"
   ]
  },
  {
   "cell_type": "code",
   "execution_count": 73,
   "id": "0dd0a67b",
   "metadata": {},
   "outputs": [
    {
     "name": "stdout",
     "output_type": "stream",
     "text": [
      "ytrain_predict (7456,)\n",
      "ytest_predict (3196,)\n"
     ]
    }
   ],
   "source": [
    "print('ytrain_predict',ytrain_predict.shape)\n",
    "print('ytest_predict',ytest_predict.shape)"
   ]
  },
  {
   "cell_type": "code",
   "execution_count": 74,
   "id": "83ab7502",
   "metadata": {},
   "outputs": [
    {
     "data": {
      "text/plain": [
       "array([0, 0, 0, ..., 0, 0, 0])"
      ]
     },
     "execution_count": 74,
     "metadata": {},
     "output_type": "execute_result"
    }
   ],
   "source": [
    "ytest_predict"
   ]
  },
  {
   "cell_type": "code",
   "execution_count": 75,
   "id": "dc748981",
   "metadata": {},
   "outputs": [
    {
     "data": {
      "text/plain": [
       "array([[0.91504178, 0.08495822],\n",
       "       [0.91578947, 0.08421053],\n",
       "       [0.9218492 , 0.0781508 ],\n",
       "       ...,\n",
       "       [0.9218492 , 0.0781508 ],\n",
       "       [0.5       , 0.5       ],\n",
       "       [0.91504178, 0.08495822]])"
      ]
     },
     "execution_count": 75,
     "metadata": {},
     "output_type": "execute_result"
    }
   ],
   "source": [
    "ytest_predict_prob=reg_dt_model.predict_proba(X_test)\n",
    "ytest_predict_prob"
   ]
  },
  {
   "cell_type": "code",
   "execution_count": 76,
   "id": "91e2b0ee",
   "metadata": {},
   "outputs": [
    {
     "data": {
      "text/html": [
       "<div>\n",
       "<style scoped>\n",
       "    .dataframe tbody tr th:only-of-type {\n",
       "        vertical-align: middle;\n",
       "    }\n",
       "\n",
       "    .dataframe tbody tr th {\n",
       "        vertical-align: top;\n",
       "    }\n",
       "\n",
       "    .dataframe thead th {\n",
       "        text-align: right;\n",
       "    }\n",
       "</style>\n",
       "<table border=\"1\" class=\"dataframe\">\n",
       "  <thead>\n",
       "    <tr style=\"text-align: right;\">\n",
       "      <th></th>\n",
       "      <th>0</th>\n",
       "      <th>1</th>\n",
       "    </tr>\n",
       "  </thead>\n",
       "  <tbody>\n",
       "    <tr>\n",
       "      <th>0</th>\n",
       "      <td>0.915042</td>\n",
       "      <td>0.084958</td>\n",
       "    </tr>\n",
       "    <tr>\n",
       "      <th>1</th>\n",
       "      <td>0.915789</td>\n",
       "      <td>0.084211</td>\n",
       "    </tr>\n",
       "    <tr>\n",
       "      <th>2</th>\n",
       "      <td>0.921849</td>\n",
       "      <td>0.078151</td>\n",
       "    </tr>\n",
       "    <tr>\n",
       "      <th>3</th>\n",
       "      <td>0.921849</td>\n",
       "      <td>0.078151</td>\n",
       "    </tr>\n",
       "    <tr>\n",
       "      <th>4</th>\n",
       "      <td>0.921849</td>\n",
       "      <td>0.078151</td>\n",
       "    </tr>\n",
       "  </tbody>\n",
       "</table>\n",
       "</div>"
      ],
      "text/plain": [
       "          0         1\n",
       "0  0.915042  0.084958\n",
       "1  0.915789  0.084211\n",
       "2  0.921849  0.078151\n",
       "3  0.921849  0.078151\n",
       "4  0.921849  0.078151"
      ]
     },
     "execution_count": 76,
     "metadata": {},
     "output_type": "execute_result"
    }
   ],
   "source": [
    " pd.DataFrame(ytest_predict_prob).head()"
   ]
  },
  {
   "cell_type": "code",
   "execution_count": 77,
   "id": "f8c80166",
   "metadata": {},
   "outputs": [
    {
     "name": "stdout",
     "output_type": "stream",
     "text": [
      "AUC: 0.886\n"
     ]
    },
    {
     "data": {
      "image/png": "[encoded data removed]",
      "text/plain": [
       "<Figure size 432x288 with 1 Axes>"
      ]
     },
     "metadata": {
      "needs_background": "light"
     },
     "output_type": "display_data"
    }
   ],
   "source": [
    "# predict probabilities\n",
    "probs = reg_dt_model.predict_proba(X_train)\n",
    "# keep probabilities for the positive outcome only\n",
    "probs = probs[:, 1]\n",
    "# calculate AUC\n",
    "from sklearn.metrics import roc_auc_score\n",
    "auc = roc_auc_score(y_train, probs)\n",
    "print('AUC: %.3f' % auc)\n",
    "# calculate roc curve\n",
    "from sklearn.metrics import roc_curve\n",
    "fpr, tpr, thresholds = roc_curve(y_train, probs)\n",
    "plt.plot([0, 1], [0, 1], linestyle='--')\n",
    "# plot the roc curve for the model\n",
    "plt.plot(fpr, tpr, marker='.')\n",
    "# show the plot\n",
    "plt.show()"
   ]
  },
  {
   "cell_type": "code",
   "execution_count": 78,
   "id": "087dc428",
   "metadata": {},
   "outputs": [
    {
     "name": "stdout",
     "output_type": "stream",
     "text": [
      "AUC: 0.854\n"
     ]
    },
    {
     "data": {
      "image/png": "[encoded data removed]",
      "text/plain": [
       "<Figure size 432x288 with 1 Axes>"
      ]
     },
     "metadata": {
      "needs_background": "light"
     },
     "output_type": "display_data"
    }
   ],
   "source": [
    "# predict probabilities\n",
    "probs = reg_dt_model.predict_proba(X_test)\n",
    "# keep probabilities for the positive outcome only\n",
    "probs = probs[:, 1]\n",
    "# calculate AUC\n",
    "from sklearn.metrics import roc_auc_score\n",
    "auc = roc_auc_score(y_test, probs)\n",
    "print('AUC: %.3f' % auc)\n",
    "# calculate roc curve\n",
    "from sklearn.metrics import roc_curve\n",
    "fpr, tpr, thresholds = roc_curve(y_test, probs)\n",
    "plt.plot([0, 1], [0, 1], linestyle='--')\n",
    "# plot the roc curve for the model\n",
    "plt.plot(fpr, tpr, marker='.')\n",
    "# show the plot\n",
    "plt.show()"
   ]
  },
  {
   "cell_type": "code",
   "execution_count": 79,
   "id": "b6aec00b",
   "metadata": {},
   "outputs": [],
   "source": [
    "from sklearn.metrics import classification_report,confusion_matrix"
   ]
  },
  {
   "cell_type": "code",
   "execution_count": 80,
   "id": "c4cb4c71",
   "metadata": {},
   "outputs": [
    {
     "data": {
      "text/plain": [
       "array([[6131,  199],\n",
       "       [ 585,  541]])"
      ]
     },
     "execution_count": 80,
     "metadata": {},
     "output_type": "execute_result"
    }
   ],
   "source": [
    "confusion_matrix(y_train, ytrain_predict)"
   ]
  },
  {
   "cell_type": "code",
   "execution_count": 81,
   "id": "1b6b5e6f",
   "metadata": {},
   "outputs": [
    {
     "data": {
      "text/plain": [
       "0.8948497854077253"
      ]
     },
     "execution_count": 81,
     "metadata": {},
     "output_type": "execute_result"
    }
   ],
   "source": [
    "#Train Data Accuracy\n",
    "reg_dt_model.score(X_train,y_train)"
   ]
  },
  {
   "cell_type": "code",
   "execution_count": 82,
   "id": "3c981804",
   "metadata": {},
   "outputs": [
    {
     "name": "stdout",
     "output_type": "stream",
     "text": [
      "              precision    recall  f1-score   support\n",
      "\n",
      "           0       0.91      0.97      0.94      6330\n",
      "           1       0.73      0.48      0.58      1126\n",
      "\n",
      "    accuracy                           0.89      7456\n",
      "   macro avg       0.82      0.72      0.76      7456\n",
      "weighted avg       0.89      0.89      0.89      7456\n",
      "\n"
     ]
    }
   ],
   "source": [
    "print(classification_report(y_train, ytrain_predict))"
   ]
  },
  {
   "cell_type": "code",
   "execution_count": 83,
   "id": "3878473f",
   "metadata": {},
   "outputs": [
    {
     "data": {
      "text/plain": [
       "array([[2592,  110],\n",
       "       [ 262,  232]])"
      ]
     },
     "execution_count": 83,
     "metadata": {},
     "output_type": "execute_result"
    }
   ],
   "source": [
    "confusion_matrix(y_test, ytest_predict)"
   ]
  },
  {
   "cell_type": "code",
   "execution_count": 84,
   "id": "926a9597",
   "metadata": {},
   "outputs": [
    {
     "data": {
      "text/plain": [
       "0.8836045056320401"
      ]
     },
     "execution_count": 84,
     "metadata": {},
     "output_type": "execute_result"
    }
   ],
   "source": [
    "#Test Data Accuracy\n",
    "reg_dt_model.score(X_test,y_test)"
   ]
  },
  {
   "cell_type": "code",
   "execution_count": 85,
   "id": "5fe8b14a",
   "metadata": {},
   "outputs": [
    {
     "name": "stdout",
     "output_type": "stream",
     "text": [
      "              precision    recall  f1-score   support\n",
      "\n",
      "           0       0.91      0.96      0.93      2702\n",
      "           1       0.68      0.47      0.56       494\n",
      "\n",
      "    accuracy                           0.88      3196\n",
      "   macro avg       0.79      0.71      0.74      3196\n",
      "weighted avg       0.87      0.88      0.87      3196\n",
      "\n"
     ]
    }
   ],
   "source": [
    "print(classification_report(y_test, ytest_predict))"
   ]
  },
  {
   "cell_type": "markdown",
   "id": "2071b244",
   "metadata": {},
   "source": [
    " ###  Logistic Regression\n"
   ]
  },
  {
   "cell_type": "code",
   "execution_count": 86,
   "id": "51dec5db",
   "metadata": {},
   "outputs": [],
   "source": [
    "from sklearn.linear_model import LogisticRegression"
   ]
  },
  {
   "cell_type": "code",
   "execution_count": 87,
   "id": "8bc4f800",
   "metadata": {},
   "outputs": [
    {
     "data": {
      "text/plain": [
       "LogisticRegression()"
      ]
     },
     "execution_count": 87,
     "metadata": {},
     "output_type": "execute_result"
    }
   ],
   "source": [
    "log_model = LogisticRegression()\n",
    "log_model.fit(X_train, y_train)"
   ]
  },
  {
   "cell_type": "code",
   "execution_count": 88,
   "id": "ce195882",
   "metadata": {},
   "outputs": [],
   "source": [
    "log_train_predict = log_model.predict(X_train)\n",
    "log_test_predict = log_model.predict(X_test)"
   ]
  },
  {
   "cell_type": "code",
   "execution_count": 89,
   "id": "7e7fb87d",
   "metadata": {},
   "outputs": [
    {
     "data": {
      "text/plain": [
       "0.8489806866952789"
      ]
     },
     "execution_count": 89,
     "metadata": {},
     "output_type": "execute_result"
    }
   ],
   "source": [
    "log_model.score(X_train,y_train)"
   ]
  },
  {
   "cell_type": "code",
   "execution_count": 90,
   "id": "06f97a38",
   "metadata": {},
   "outputs": [
    {
     "data": {
      "text/plain": [
       "0.8454317897371715"
      ]
     },
     "execution_count": 90,
     "metadata": {},
     "output_type": "execute_result"
    }
   ],
   "source": [
    "log_model.score(X_test,y_test)"
   ]
  },
  {
   "cell_type": "code",
   "execution_count": 107,
   "id": "d67d6e28",
   "metadata": {},
   "outputs": [
    {
     "data": {
      "image/png": "[encoded data removed]",
      "text/plain": [
       "<Figure size 432x288 with 2 Axes>"
      ]
     },
     "metadata": {
      "needs_background": "light"
     },
     "output_type": "display_data"
    }
   ],
   "source": [
    "#Confusion Matrix for Train set\n",
    "confusion_matrix(y_train,log_train_predict)\n",
    "sns.heatmap(confusion_matrix(y_train,log_train_predict),annot = True,cbar = True,fmt = 'd',)\n",
    "plt.xlabel('Predicted Label')\n",
    "plt.ylabel('Actual Label')\n",
    "plt.title('Confusion Matrix for Trainset')\n",
    "plt.show()"
   ]
  },
  {
   "cell_type": "code",
   "execution_count": 108,
   "id": "9d2ced89",
   "metadata": {},
   "outputs": [
    {
     "name": "stdout",
     "output_type": "stream",
     "text": [
      "              precision    recall  f1-score   support\n",
      "\n",
      "           0       0.85      1.00      0.92      6330\n",
      "           1       0.50      0.00      0.00      1126\n",
      "\n",
      "    accuracy                           0.85      7456\n",
      "   macro avg       0.67      0.50      0.46      7456\n",
      "weighted avg       0.80      0.85      0.78      7456\n",
      "\n"
     ]
    }
   ],
   "source": [
    "print(classification_report(y_train,log_train_predict)) "
   ]
  },
  {
   "cell_type": "code",
   "execution_count": 109,
   "id": "5376862b",
   "metadata": {},
   "outputs": [
    {
     "data": {
      "image/png": "[encoded data removed]",
      "text/plain": [
       "<Figure size 864x504 with 1 Axes>"
      ]
     },
     "metadata": {
      "needs_background": "light"
     },
     "output_type": "display_data"
    },
    {
     "name": "stdout",
     "output_type": "stream",
     "text": [
      "Area under Curve is 1.0\n"
     ]
    }
   ],
   "source": [
    "from sklearn.metrics import roc_curve,roc_auc_score\n",
    "rf_fpr,rf_tpr,_ = roc_curve(log_train_predict,log_model.predict_proba(X_train)[:,1])\n",
    "plt.figure(figsize = (12,7))\n",
    "plt.plot(rf_fpr,rf_tpr,marker = 'x',label = 'logit')\n",
    "plt.plot(np.arange(0,1.1,0.1),np.arange(0,1.1,0.1))# can directly give plt.plot([0,1],[0,1])\n",
    "plt.xlabel('False Positive Rate')\n",
    "plt.ylabel('True Positive Rate')\n",
    "plt.title('ROC')\n",
    "plt.show()\n",
    "\n",
    "print('Area under Curve is', roc_auc_score(log_train_predict,log_model.predict_proba(X_train)[:,1]))"
   ]
  },
  {
   "cell_type": "code",
   "execution_count": 110,
   "id": "cb0de19f",
   "metadata": {},
   "outputs": [
    {
     "data": {
      "image/png": "[encoded data removed]",
      "text/plain": [
       "<Figure size 432x288 with 2 Axes>"
      ]
     },
     "metadata": {
      "needs_background": "light"
     },
     "output_type": "display_data"
    }
   ],
   "source": [
    "#Confusion Matrix for Train set\n",
    "confusion_matrix(y_test,log_test_predict)\n",
    "sns.heatmap(confusion_matrix(y_test,log_test_predict),annot = True,cbar = True,fmt = 'd',)\n",
    "plt.xlabel('Predicted Label')\n",
    "plt.ylabel('Actual Label')\n",
    "plt.title('Confusion Matrix for Testset')\n",
    "plt.show()"
   ]
  },
  {
   "cell_type": "code",
   "execution_count": 111,
   "id": "b5cc3b59",
   "metadata": {},
   "outputs": [
    {
     "name": "stdout",
     "output_type": "stream",
     "text": [
      "              precision    recall  f1-score   support\n",
      "\n",
      "           0       0.85      1.00      0.92      2702\n",
      "           1       0.00      0.00      0.00       494\n",
      "\n",
      "    accuracy                           0.85      3196\n",
      "   macro avg       0.42      0.50      0.46      3196\n",
      "weighted avg       0.71      0.85      0.77      3196\n",
      "\n"
     ]
    }
   ],
   "source": [
    "print(classification_report(y_test,log_test_predict)) "
   ]
  },
  {
   "cell_type": "code",
   "execution_count": 115,
   "id": "c6523198",
   "metadata": {
    "scrolled": false
   },
   "outputs": [
    {
     "data": {
      "image/png": "[encoded data removed]",
      "text/plain": [
       "<Figure size 864x504 with 1 Axes>"
      ]
     },
     "metadata": {
      "needs_background": "light"
     },
     "output_type": "display_data"
    },
    {
     "ename": "ValueError",
     "evalue": "Only one class present in y_true. ROC AUC score is not defined in that case.",
     "output_type": "error",
     "traceback": [
      "\u001b[0;31m---------------------------------------------------------------------------\u001b[0m",
      "\u001b[0;31mValueError\u001b[0m                                Traceback (most recent call last)",
      "\u001b[0;32m<ipython-input-115-289ee230aef8>\u001b[0m in \u001b[0;36m<module>\u001b[0;34m\u001b[0m\n\u001b[1;32m      9\u001b[0m \u001b[0mplt\u001b[0m\u001b[0;34m.\u001b[0m\u001b[0mshow\u001b[0m\u001b[0;34m(\u001b[0m\u001b[0;34m)\u001b[0m\u001b[0;34m\u001b[0m\u001b[0;34m\u001b[0m\u001b[0m\n\u001b[1;32m     10\u001b[0m \u001b[0;34m\u001b[0m\u001b[0m\n\u001b[0;32m---> 11\u001b[0;31m \u001b[0mprint\u001b[0m\u001b[0;34m(\u001b[0m\u001b[0;34m'Area under Curve is'\u001b[0m\u001b[0;34m,\u001b[0m \u001b[0mroc_auc_score\u001b[0m\u001b[0;34m(\u001b[0m\u001b[0mlog_test_predict\u001b[0m\u001b[0;34m,\u001b[0m\u001b[0mlog_model\u001b[0m\u001b[0;34m.\u001b[0m\u001b[0mpredict_proba\u001b[0m\u001b[0;34m(\u001b[0m\u001b[0mX_test\u001b[0m\u001b[0;34m)\u001b[0m\u001b[0;34m[\u001b[0m\u001b[0;34m:\u001b[0m\u001b[0;34m,\u001b[0m\u001b[0;36m1\u001b[0m\u001b[0;34m]\u001b[0m\u001b[0;34m)\u001b[0m\u001b[0;34m)\u001b[0m\u001b[0;34m\u001b[0m\u001b[0;34m\u001b[0m\u001b[0m\n\u001b[0m\u001b[1;32m     12\u001b[0m \u001b[0;34m\u001b[0m\u001b[0m\n",
      "\u001b[0;32m/Applications/anaconda3/lib/python3.8/site-packages/sklearn/metrics/_ranking.py\u001b[0m in \u001b[0;36mroc_auc_score\u001b[0;34m(y_true, y_score, average, sample_weight, max_fpr, multi_class, labels)\u001b[0m\n\u001b[1;32m    565\u001b[0m         \u001b[0mlabels\u001b[0m \u001b[0;34m=\u001b[0m \u001b[0mnp\u001b[0m\u001b[0;34m.\u001b[0m\u001b[0munique\u001b[0m\u001b[0;34m(\u001b[0m\u001b[0my_true\u001b[0m\u001b[0;34m)\u001b[0m\u001b[0;34m\u001b[0m\u001b[0;34m\u001b[0m\u001b[0m\n\u001b[1;32m    566\u001b[0m         \u001b[0my_true\u001b[0m \u001b[0;34m=\u001b[0m \u001b[0mlabel_binarize\u001b[0m\u001b[0;34m(\u001b[0m\u001b[0my_true\u001b[0m\u001b[0;34m,\u001b[0m \u001b[0mclasses\u001b[0m\u001b[0;34m=\u001b[0m\u001b[0mlabels\u001b[0m\u001b[0;34m)\u001b[0m\u001b[0;34m[\u001b[0m\u001b[0;34m:\u001b[0m\u001b[0;34m,\u001b[0m \u001b[0;36m0\u001b[0m\u001b[0;34m]\u001b[0m\u001b[0;34m\u001b[0m\u001b[0;34m\u001b[0m\u001b[0m\n\u001b[0;32m--> 567\u001b[0;31m         return _average_binary_score(\n\u001b[0m\u001b[1;32m    568\u001b[0m             \u001b[0mpartial\u001b[0m\u001b[0;34m(\u001b[0m\u001b[0m_binary_roc_auc_score\u001b[0m\u001b[0;34m,\u001b[0m \u001b[0mmax_fpr\u001b[0m\u001b[0;34m=\u001b[0m\u001b[0mmax_fpr\u001b[0m\u001b[0;34m)\u001b[0m\u001b[0;34m,\u001b[0m\u001b[0;34m\u001b[0m\u001b[0;34m\u001b[0m\u001b[0m\n\u001b[1;32m    569\u001b[0m             \u001b[0my_true\u001b[0m\u001b[0;34m,\u001b[0m\u001b[0;34m\u001b[0m\u001b[0;34m\u001b[0m\u001b[0m\n",
      "\u001b[0;32m/Applications/anaconda3/lib/python3.8/site-packages/sklearn/metrics/_base.py\u001b[0m in \u001b[0;36m_average_binary_score\u001b[0;34m(binary_metric, y_true, y_score, average, sample_weight)\u001b[0m\n\u001b[1;32m     73\u001b[0m \u001b[0;34m\u001b[0m\u001b[0m\n\u001b[1;32m     74\u001b[0m     \u001b[0;32mif\u001b[0m \u001b[0my_type\u001b[0m \u001b[0;34m==\u001b[0m \u001b[0;34m\"binary\"\u001b[0m\u001b[0;34m:\u001b[0m\u001b[0;34m\u001b[0m\u001b[0;34m\u001b[0m\u001b[0m\n\u001b[0;32m---> 75\u001b[0;31m         \u001b[0;32mreturn\u001b[0m \u001b[0mbinary_metric\u001b[0m\u001b[0;34m(\u001b[0m\u001b[0my_true\u001b[0m\u001b[0;34m,\u001b[0m \u001b[0my_score\u001b[0m\u001b[0;34m,\u001b[0m \u001b[0msample_weight\u001b[0m\u001b[0;34m=\u001b[0m\u001b[0msample_weight\u001b[0m\u001b[0;34m)\u001b[0m\u001b[0;34m\u001b[0m\u001b[0;34m\u001b[0m\u001b[0m\n\u001b[0m\u001b[1;32m     76\u001b[0m \u001b[0;34m\u001b[0m\u001b[0m\n\u001b[1;32m     77\u001b[0m     \u001b[0mcheck_consistent_length\u001b[0m\u001b[0;34m(\u001b[0m\u001b[0my_true\u001b[0m\u001b[0;34m,\u001b[0m \u001b[0my_score\u001b[0m\u001b[0;34m,\u001b[0m \u001b[0msample_weight\u001b[0m\u001b[0;34m)\u001b[0m\u001b[0;34m\u001b[0m\u001b[0;34m\u001b[0m\u001b[0m\n",
      "\u001b[0;32m/Applications/anaconda3/lib/python3.8/site-packages/sklearn/metrics/_ranking.py\u001b[0m in \u001b[0;36m_binary_roc_auc_score\u001b[0;34m(y_true, y_score, sample_weight, max_fpr)\u001b[0m\n\u001b[1;32m    335\u001b[0m     \u001b[0;34m\"\"\"Binary roc auc score.\"\"\"\u001b[0m\u001b[0;34m\u001b[0m\u001b[0;34m\u001b[0m\u001b[0m\n\u001b[1;32m    336\u001b[0m     \u001b[0;32mif\u001b[0m \u001b[0mlen\u001b[0m\u001b[0;34m(\u001b[0m\u001b[0mnp\u001b[0m\u001b[0;34m.\u001b[0m\u001b[0munique\u001b[0m\u001b[0;34m(\u001b[0m\u001b[0my_true\u001b[0m\u001b[0;34m)\u001b[0m\u001b[0;34m)\u001b[0m \u001b[0;34m!=\u001b[0m \u001b[0;36m2\u001b[0m\u001b[0;34m:\u001b[0m\u001b[0;34m\u001b[0m\u001b[0;34m\u001b[0m\u001b[0m\n\u001b[0;32m--> 337\u001b[0;31m         raise ValueError(\n\u001b[0m\u001b[1;32m    338\u001b[0m             \u001b[0;34m\"Only one class present in y_true. ROC AUC score \"\u001b[0m\u001b[0;34m\u001b[0m\u001b[0;34m\u001b[0m\u001b[0m\n\u001b[1;32m    339\u001b[0m             \u001b[0;34m\"is not defined in that case.\"\u001b[0m\u001b[0;34m\u001b[0m\u001b[0;34m\u001b[0m\u001b[0m\n",
      "\u001b[0;31mValueError\u001b[0m: Only one class present in y_true. ROC AUC score is not defined in that case."
     ]
    }
   ],
   "source": [
    "from sklearn.metrics import roc_curve,roc_auc_score\n",
    "rf_fpr,rf_tpr,_ = roc_curve(log_test_predict,log_model.predict_proba(X_test)[:,1])\n",
    "plt.figure(figsize = (12,7))\n",
    "plt.plot(rf_fpr,rf_tpr,marker = 'x',label = 'logit')\n",
    "plt.plot(np.arange(0,1.1,0.1),np.arange(0,1.1,0.1))# can directly give plt.plot([0,1],[0,1])\n",
    "plt.xlabel('False Positive Rate')\n",
    "plt.ylabel('True Positive Rate')\n",
    "plt.title('ROC')\n",
    "plt.show()\n",
    "\n",
    "print('Area under Curve is', roc_auc_score(log_test_predict,log_model.predict_proba(X_test)[:,1]))\n",
    "\n"
   ]
  },
  {
   "cell_type": "code",
   "execution_count": 164,
   "id": "034ab359",
   "metadata": {},
   "outputs": [],
   "source": [
    "grid_log={'penalty':['none', 'l1', 'l2', 'elasticnet'],\n",
    "      'solver':['sag','lbfgs','newtoncg','lbfgs', 'liblinear', 'saga'],\n",
    "      'tol':[0.0001,0.00001]}"
   ]
  },
  {
   "cell_type": "code",
   "execution_count": 165,
   "id": "b1f4bed9",
   "metadata": {},
   "outputs": [],
   "source": [
    "grid_search1 = GridSearchCV(estimator = log_model, param_grid = grid_log, cv = 3,n_jobs=-1,scoring='f1')"
   ]
  },
  {
   "cell_type": "code",
   "execution_count": 166,
   "id": "4e411079",
   "metadata": {},
   "outputs": [
    {
     "data": {
      "text/plain": [
       "GridSearchCV(cv=3, estimator=LogisticRegression(), n_jobs=-1,\n",
       "             param_grid={'penalty': ['none', 'l1', 'l2', 'elasticnet'],\n",
       "                         'solver': ['sag', 'lbfgs', 'newtoncg', 'lbfgs',\n",
       "                                    'liblinear', 'saga'],\n",
       "                         'tol': [0.0001, 1e-05]},\n",
       "             scoring='f1')"
      ]
     },
     "execution_count": 166,
     "metadata": {},
     "output_type": "execute_result"
    }
   ],
   "source": [
    "grid_search1.fit(X_train, y_train)"
   ]
  },
  {
   "cell_type": "code",
   "execution_count": 167,
   "id": "e61c6418",
   "metadata": {},
   "outputs": [
    {
     "name": "stdout",
     "output_type": "stream",
     "text": [
      "{'penalty': 'l1', 'solver': 'liblinear', 'tol': 1e-05} \n",
      "\n",
      "LogisticRegression(penalty='l1', solver='liblinear', tol=1e-05)\n"
     ]
    }
   ],
   "source": [
    "print(grid_search1.best_params_,'\\n')\n",
    "print(grid_search1.best_estimator_)"
   ]
  },
  {
   "cell_type": "code",
   "execution_count": 168,
   "id": "73f0972c",
   "metadata": {},
   "outputs": [],
   "source": [
    "best_model1 = grid_search1.best_estimator_"
   ]
  },
  {
   "cell_type": "code",
   "execution_count": 169,
   "id": "7456d625",
   "metadata": {},
   "outputs": [],
   "source": [
    "# Prediction on the training set\n",
    "\n",
    "log_train_predict = best_model1.predict(X_train)\n",
    "log_test_predict = best_model1.predict(X_test)"
   ]
  },
  {
   "cell_type": "code",
   "execution_count": 170,
   "id": "dcd34bf1",
   "metadata": {},
   "outputs": [
    {
     "data": {
      "image/png": "[encoded data removed]",
      "text/plain": [
       "<Figure size 432x288 with 2 Axes>"
      ]
     },
     "metadata": {
      "needs_background": "light"
     },
     "output_type": "display_data"
    }
   ],
   "source": [
    "#Confusion Matrix for Train set\n",
    "confusion_matrix(y_train,log_train_predict)\n",
    "sns.heatmap(confusion_matrix(y_train,log_train_predict),annot = True,cbar = True,fmt = 'd',)\n",
    "plt.xlabel('Predicted Label')\n",
    "plt.ylabel('Actual Label')\n",
    "plt.title('Confusion Matrix for Trainset')\n",
    "plt.show()"
   ]
  },
  {
   "cell_type": "code",
   "execution_count": 171,
   "id": "10ae8551",
   "metadata": {},
   "outputs": [
    {
     "name": "stdout",
     "output_type": "stream",
     "text": [
      "              precision    recall  f1-score   support\n",
      "\n",
      "           0       0.86      0.99      0.92      6330\n",
      "           1       0.63      0.10      0.18      1126\n",
      "\n",
      "    accuracy                           0.86      7456\n",
      "   macro avg       0.75      0.55      0.55      7456\n",
      "weighted avg       0.83      0.86      0.81      7456\n",
      "\n"
     ]
    }
   ],
   "source": [
    "print(classification_report(y_train,log_train_predict)) "
   ]
  },
  {
   "cell_type": "code",
   "execution_count": 172,
   "id": "73f995ff",
   "metadata": {},
   "outputs": [
    {
     "data": {
      "image/png": "[encoded data removed]",
      "text/plain": [
       "<Figure size 864x504 with 1 Axes>"
      ]
     },
     "metadata": {
      "needs_background": "light"
     },
     "output_type": "display_data"
    },
    {
     "name": "stdout",
     "output_type": "stream",
     "text": [
      "Area under Curve is 1.0\n"
     ]
    }
   ],
   "source": [
    "from sklearn.metrics import roc_curve,roc_auc_score\n",
    "rf_fpr,rf_tpr,_ = roc_curve(log_train_predict,best_model1.predict_proba(X_train)[:,1])\n",
    "plt.figure(figsize = (12,7))\n",
    "plt.plot(rf_fpr,rf_tpr,marker = 'x',label = 'logit')\n",
    "plt.plot(np.arange(0,1.1,0.1),np.arange(0,1.1,0.1))# can directly give plt.plot([0,1],[0,1])\n",
    "plt.xlabel('False Positive Rate')\n",
    "plt.ylabel('True Positive Rate')\n",
    "plt.title('ROC')\n",
    "plt.show()\n",
    "\n",
    "print('Area under Curve is', roc_auc_score(log_train_predict,best_model1.predict_proba(X_train)[:,1]))"
   ]
  },
  {
   "cell_type": "code",
   "execution_count": 173,
   "id": "fd609297",
   "metadata": {},
   "outputs": [
    {
     "data": {
      "image/png": "[encoded data removed]",
      "text/plain": [
       "<Figure size 432x288 with 2 Axes>"
      ]
     },
     "metadata": {
      "needs_background": "light"
     },
     "output_type": "display_data"
    }
   ],
   "source": [
    "#Confusion Matrix for Test set\n",
    "confusion_matrix(y_test,log_test_predict)\n",
    "sns.heatmap(confusion_matrix(y_test,log_test_predict),annot = True,cbar = True,fmt = 'd',)\n",
    "plt.xlabel('Predicted Label')\n",
    "plt.ylabel('Actual Label')\n",
    "plt.title('Confusion Matrix for Testset')\n",
    "plt.show()"
   ]
  },
  {
   "cell_type": "code",
   "execution_count": 174,
   "id": "30b6b5eb",
   "metadata": {},
   "outputs": [
    {
     "name": "stdout",
     "output_type": "stream",
     "text": [
      "              precision    recall  f1-score   support\n",
      "\n",
      "           0       0.86      0.99      0.92      2702\n",
      "           1       0.62      0.11      0.19       494\n",
      "\n",
      "    accuracy                           0.85      3196\n",
      "   macro avg       0.74      0.55      0.55      3196\n",
      "weighted avg       0.82      0.85      0.81      3196\n",
      "\n"
     ]
    }
   ],
   "source": [
    "print(classification_report(y_test,log_test_predict)) "
   ]
  },
  {
   "cell_type": "code",
   "execution_count": 175,
   "id": "0c8b7693",
   "metadata": {},
   "outputs": [
    {
     "data": {
      "image/png": "[encoded data removed]",
      "text/plain": [
       "<Figure size 864x504 with 1 Axes>"
      ]
     },
     "metadata": {
      "needs_background": "light"
     },
     "output_type": "display_data"
    },
    {
     "name": "stdout",
     "output_type": "stream",
     "text": [
      "Area under Curve is 0.9409601670471236\n"
     ]
    }
   ],
   "source": [
    "from sklearn.metrics import roc_curve,roc_auc_score\n",
    "rf_fpr,rf_tpr,_ = roc_curve(log_test_predict,log_model.predict_proba(X_test)[:,1])\n",
    "plt.figure(figsize = (12,7))\n",
    "plt.plot(rf_fpr,rf_tpr,marker = 'x',label = 'logit')\n",
    "plt.plot(np.arange(0,1.1,0.1),np.arange(0,1.1,0.1))# can directly give plt.plot([0,1],[0,1])\n",
    "plt.xlabel('False Positive Rate')\n",
    "plt.ylabel('True Positive Rate')\n",
    "plt.title('ROC')\n",
    "plt.show()\n",
    "\n",
    "print('Area under Curve is', roc_auc_score(log_test_predict,log_model.predict_proba(X_test)[:,1]))"
   ]
  },
  {
   "cell_type": "code",
   "execution_count": 176,
   "id": "49fc4dba",
   "metadata": {},
   "outputs": [
    {
     "name": "stdout",
     "output_type": "stream",
     "text": [
      "Feature: 0, Score: -0.00439\n",
      "Feature: 1, Score: 0.00654\n",
      "Feature: 2, Score: -0.00001\n",
      "Feature: 3, Score: 0.02807\n",
      "Feature: 4, Score: 0.01180\n",
      "Feature: 5, Score: 0.02600\n",
      "Feature: 6, Score: -0.00079\n",
      "Feature: 7, Score: -0.00009\n",
      "Feature: 8, Score: 0.15529\n",
      "Feature: 9, Score: 1.43629\n",
      "Feature: 10, Score: -0.01208\n",
      "Feature: 11, Score: 0.09480\n",
      "Feature: 12, Score: -0.16040\n",
      "Feature: 13, Score: -0.71908\n",
      "Feature: 14, Score: -0.03008\n"
     ]
    },
    {
     "data": {
      "image/png": "[encoded data removed]",
      "text/plain": [
       "<Figure size 432x288 with 1 Axes>"
      ]
     },
     "metadata": {
      "needs_background": "light"
     },
     "output_type": "display_data"
    }
   ],
   "source": [
    "# get importance\n",
    "importance = best_model1.coef_[0]\n",
    "# summarize feature importance\n",
    "for i,v in enumerate(importance):\n",
    "\tprint('Feature: %0d, Score: %.5f' % (i,v))\n",
    "# plot feature importance\n",
    "plt.bar([x for x in range(len(importance))], importance)\n",
    "plt.show()"
   ]
  },
  {
   "cell_type": "markdown",
   "id": "2d4c4bbb",
   "metadata": {},
   "source": [
    "### Linear Discriminant Analysis"
   ]
  },
  {
   "cell_type": "code",
   "execution_count": 91,
   "id": "0976e381",
   "metadata": {},
   "outputs": [
    {
     "data": {
      "text/plain": [
       "LinearDiscriminantAnalysis()"
      ]
     },
     "execution_count": 91,
     "metadata": {},
     "output_type": "execute_result"
    }
   ],
   "source": [
    "LDA = LinearDiscriminantAnalysis()\n",
    "lda_model=LDA.fit(X_train, y_train)\n",
    "lda_model"
   ]
  },
  {
   "cell_type": "code",
   "execution_count": 92,
   "id": "dbe57f61",
   "metadata": {},
   "outputs": [],
   "source": [
    "lda_train_predict = lda_model.predict(X_train)\n",
    "lda_test_predict = lda_model.predict(X_test)"
   ]
  },
  {
   "cell_type": "code",
   "execution_count": 93,
   "id": "23210aa3",
   "metadata": {},
   "outputs": [
    {
     "data": {
      "text/plain": [
       "0.8560890557939914"
      ]
     },
     "execution_count": 93,
     "metadata": {},
     "output_type": "execute_result"
    }
   ],
   "source": [
    "lda_model.score(X_train,y_train)"
   ]
  },
  {
   "cell_type": "code",
   "execution_count": 94,
   "id": "f6c05026",
   "metadata": {},
   "outputs": [
    {
     "data": {
      "text/plain": [
       "0.8538798498122653"
      ]
     },
     "execution_count": 94,
     "metadata": {},
     "output_type": "execute_result"
    }
   ],
   "source": [
    "lda_model.score(X_test,y_test)"
   ]
  },
  {
   "cell_type": "code",
   "execution_count": 116,
   "id": "55ab890d",
   "metadata": {},
   "outputs": [
    {
     "data": {
      "image/png": "[encoded data removed]",
      "text/plain": [
       "<Figure size 432x288 with 2 Axes>"
      ]
     },
     "metadata": {
      "needs_background": "light"
     },
     "output_type": "display_data"
    }
   ],
   "source": [
    "#Confusion Matrix for Train set\n",
    "confusion_matrix(y_train,lda_train_predict)\n",
    "sns.heatmap(confusion_matrix(y_train,lda_train_predict),annot = True,cbar = True,fmt = 'd',)\n",
    "plt.xlabel('Predicted Label')\n",
    "plt.ylabel('Actual Label')\n",
    "plt.title('Confusion Matrix for Trainset')\n",
    "plt.show()"
   ]
  },
  {
   "cell_type": "code",
   "execution_count": 117,
   "id": "6bf72e40",
   "metadata": {},
   "outputs": [
    {
     "name": "stdout",
     "output_type": "stream",
     "text": [
      "              precision    recall  f1-score   support\n",
      "\n",
      "           0       0.86      0.99      0.92      6330\n",
      "           1       0.63      0.12      0.20      1126\n",
      "\n",
      "    accuracy                           0.86      7456\n",
      "   macro avg       0.75      0.55      0.56      7456\n",
      "weighted avg       0.83      0.86      0.81      7456\n",
      "\n"
     ]
    }
   ],
   "source": [
    "print(classification_report(y_train,lda_train_predict)) "
   ]
  },
  {
   "cell_type": "code",
   "execution_count": 118,
   "id": "5d5be3f3",
   "metadata": {},
   "outputs": [
    {
     "data": {
      "image/png": "[encoded data removed]",
      "text/plain": [
       "<Figure size 864x504 with 1 Axes>"
      ]
     },
     "metadata": {
      "needs_background": "light"
     },
     "output_type": "display_data"
    },
    {
     "name": "stdout",
     "output_type": "stream",
     "text": [
      "Area under Curve is 0.7535299498567536\n"
     ]
    }
   ],
   "source": [
    "from sklearn.metrics import roc_curve,roc_auc_score\n",
    "rf_fpr,rf_tpr,_ = roc_curve(y_train,lda_model.predict_proba(X_train)[:,1])\n",
    "plt.figure(figsize = (12,7))\n",
    "plt.plot(rf_fpr,rf_tpr,marker = 'x',label = 'LDA')\n",
    "plt.plot(np.arange(0,1.1,0.1),np.arange(0,1.1,0.1))# can directly give plt.plot([0,1],[0,1])\n",
    "plt.xlabel('False Positive Rate')\n",
    "plt.ylabel('True Positive Rate')\n",
    "plt.title('ROC')\n",
    "plt.show()\n",
    "\n",
    "print('Area under Curve is', roc_auc_score(y_train,lda_model.predict_proba(X_train)[:,1]))"
   ]
  },
  {
   "cell_type": "code",
   "execution_count": 119,
   "id": "4d66b1b8",
   "metadata": {},
   "outputs": [
    {
     "data": {
      "image/png": "[encoded data removed]",
      "text/plain": [
       "<Figure size 432x288 with 2 Axes>"
      ]
     },
     "metadata": {
      "needs_background": "light"
     },
     "output_type": "display_data"
    }
   ],
   "source": [
    "#Confusion Matrix for Train set\n",
    "confusion_matrix(y_test,lda_test_predict)\n",
    "sns.heatmap(confusion_matrix(y_test,lda_test_predict),annot = True,cbar = True,fmt = 'd',)\n",
    "plt.xlabel('Predicted Label')\n",
    "plt.ylabel('Actual Label')\n",
    "plt.title('Confusion Matrix for Testset')\n",
    "plt.show()"
   ]
  },
  {
   "cell_type": "code",
   "execution_count": 120,
   "id": "d6b8cf1d",
   "metadata": {},
   "outputs": [
    {
     "name": "stdout",
     "output_type": "stream",
     "text": [
      "              precision    recall  f1-score   support\n",
      "\n",
      "           0       0.86      0.99      0.92      2702\n",
      "           1       0.63      0.14      0.22       494\n",
      "\n",
      "    accuracy                           0.85      3196\n",
      "   macro avg       0.74      0.56      0.57      3196\n",
      "weighted avg       0.83      0.85      0.81      3196\n",
      "\n"
     ]
    }
   ],
   "source": [
    "print(classification_report(y_test,lda_test_predict)) "
   ]
  },
  {
   "cell_type": "code",
   "execution_count": 121,
   "id": "ad145776",
   "metadata": {},
   "outputs": [
    {
     "data": {
      "image/png": "[encoded data removed]",
      "text/plain": [
       "<Figure size 864x504 with 1 Axes>"
      ]
     },
     "metadata": {
      "needs_background": "light"
     },
     "output_type": "display_data"
    },
    {
     "name": "stdout",
     "output_type": "stream",
     "text": [
      "Area under Curve is 0.7697364675139422\n"
     ]
    }
   ],
   "source": [
    "from sklearn.metrics import roc_curve,roc_auc_score\n",
    "rf_fpr,rf_tpr,_ = roc_curve(y_test,lda_model.predict_proba(X_test)[:,1])\n",
    "plt.figure(figsize = (12,7))\n",
    "plt.plot(rf_fpr,rf_tpr,marker = 'x',label = 'LDA')\n",
    "plt.plot(np.arange(0,1.1,0.1),np.arange(0,1.1,0.1))# can directly give plt.plot([0,1],[0,1])\n",
    "plt.xlabel('False Positive Rate')\n",
    "plt.ylabel('True Positive Rate')\n",
    "plt.title('ROC')\n",
    "plt.show()\n",
    "\n",
    "print('Area under Curve is', roc_auc_score(y_test,lda_model.predict_proba(X_test)[:,1]))"
   ]
  },
  {
   "cell_type": "code",
   "execution_count": 177,
   "id": "49dc0b42",
   "metadata": {},
   "outputs": [],
   "source": [
    "grid_lda={ 'solver':['svd', 'lsqr', 'eigen'],\n",
    "          'shrinkage':['auto', 'float','none'],\n",
    "          'tol':[0.001,0.0001,0.00001]}"
   ]
  },
  {
   "cell_type": "code",
   "execution_count": 178,
   "id": "e4881ac5",
   "metadata": {},
   "outputs": [],
   "source": [
    "grid_search2 = GridSearchCV(estimator = lda_model, param_grid = grid_lda, cv = 3,n_jobs=-1,scoring='f1')"
   ]
  },
  {
   "cell_type": "code",
   "execution_count": 179,
   "id": "c145b03d",
   "metadata": {},
   "outputs": [
    {
     "data": {
      "text/plain": [
       "GridSearchCV(cv=3, estimator=LinearDiscriminantAnalysis(), n_jobs=-1,\n",
       "             param_grid={'shrinkage': ['auto', 'float', 'none'],\n",
       "                         'solver': ['svd', 'lsqr', 'eigen'],\n",
       "                         'tol': [0.001, 0.0001, 1e-05]},\n",
       "             scoring='f1')"
      ]
     },
     "execution_count": 179,
     "metadata": {},
     "output_type": "execute_result"
    }
   ],
   "source": [
    "grid_search2.fit(X_train, y_train)"
   ]
  },
  {
   "cell_type": "code",
   "execution_count": 180,
   "id": "09b33155",
   "metadata": {},
   "outputs": [
    {
     "data": {
      "text/plain": [
       "0.8538798498122653"
      ]
     },
     "execution_count": 180,
     "metadata": {},
     "output_type": "execute_result"
    }
   ],
   "source": [
    "lda_model.score(X_test,y_test)"
   ]
  },
  {
   "cell_type": "code",
   "execution_count": 181,
   "id": "9a232897",
   "metadata": {},
   "outputs": [
    {
     "name": "stdout",
     "output_type": "stream",
     "text": [
      "{'shrinkage': 'auto', 'solver': 'lsqr', 'tol': 0.001} \n",
      "\n",
      "LinearDiscriminantAnalysis(shrinkage='auto', solver='lsqr', tol=0.001)\n"
     ]
    }
   ],
   "source": [
    "print(grid_search2.best_params_,'\\n')\n",
    "print(grid_search2.best_estimator_)"
   ]
  },
  {
   "cell_type": "code",
   "execution_count": 182,
   "id": "9df1fbb8",
   "metadata": {},
   "outputs": [],
   "source": [
    "best_model2 = grid_search2.best_estimator_"
   ]
  },
  {
   "cell_type": "code",
   "execution_count": 183,
   "id": "9cc3f3ae",
   "metadata": {},
   "outputs": [],
   "source": [
    "lda_train_predict = best_model2.predict(X_train)\n",
    "lda_test_predict = best_model2.predict(X_test)"
   ]
  },
  {
   "cell_type": "code",
   "execution_count": 184,
   "id": "75fa8716",
   "metadata": {},
   "outputs": [
    {
     "data": {
      "image/png": "[encoded data removed]",
      "text/plain": [
       "<Figure size 432x288 with 2 Axes>"
      ]
     },
     "metadata": {
      "needs_background": "light"
     },
     "output_type": "display_data"
    }
   ],
   "source": [
    "#Confusion Matrix for Train set\n",
    "confusion_matrix(y_train,lda_train_predict)\n",
    "sns.heatmap(confusion_matrix(y_train,lda_train_predict),annot = True,cbar = True,fmt = 'd',)\n",
    "plt.xlabel('Predicted Label')\n",
    "plt.ylabel('Actual Label')\n",
    "plt.title('Confusion Matrix for Trainset')\n",
    "plt.show()"
   ]
  },
  {
   "cell_type": "code",
   "execution_count": 185,
   "id": "4b03ae32",
   "metadata": {},
   "outputs": [
    {
     "name": "stdout",
     "output_type": "stream",
     "text": [
      "              precision    recall  f1-score   support\n",
      "\n",
      "           0       0.86      0.99      0.92      6330\n",
      "           1       0.63      0.12      0.20      1126\n",
      "\n",
      "    accuracy                           0.86      7456\n",
      "   macro avg       0.75      0.55      0.56      7456\n",
      "weighted avg       0.83      0.86      0.81      7456\n",
      "\n"
     ]
    }
   ],
   "source": [
    "print(classification_report(y_train,lda_train_predict)) "
   ]
  },
  {
   "cell_type": "code",
   "execution_count": 186,
   "id": "5b40a714",
   "metadata": {},
   "outputs": [
    {
     "data": {
      "image/png": "[encoded data removed]",
      "text/plain": [
       "<Figure size 864x504 with 1 Axes>"
      ]
     },
     "metadata": {
      "needs_background": "light"
     },
     "output_type": "display_data"
    },
    {
     "name": "stdout",
     "output_type": "stream",
     "text": [
      "Area under Curve is 0.7535347200592628\n"
     ]
    }
   ],
   "source": [
    "from sklearn.metrics import roc_curve,roc_auc_score\n",
    "rf_fpr,rf_tpr,_ = roc_curve(y_train,best_model2.predict_proba(X_train)[:,1])\n",
    "plt.figure(figsize = (12,7))\n",
    "plt.plot(rf_fpr,rf_tpr,marker = 'x',label = 'LDA')\n",
    "plt.plot(np.arange(0,1.1,0.1),np.arange(0,1.1,0.1))# can directly give plt.plot([0,1],[0,1])\n",
    "plt.xlabel('False Positive Rate')\n",
    "plt.ylabel('True Positive Rate')\n",
    "plt.title('ROC')\n",
    "plt.show()\n",
    "\n",
    "print('Area under Curve is', roc_auc_score(y_train,best_model2.predict_proba(X_train)[:,1]))"
   ]
  },
  {
   "cell_type": "code",
   "execution_count": 187,
   "id": "c9c68e58",
   "metadata": {},
   "outputs": [
    {
     "data": {
      "image/png": "[encoded data removed]",
      "text/plain": [
       "<Figure size 432x288 with 2 Axes>"
      ]
     },
     "metadata": {
      "needs_background": "light"
     },
     "output_type": "display_data"
    }
   ],
   "source": [
    "#Confusion Matrix for Test set\n",
    "confusion_matrix(y_test,lda_test_predict)\n",
    "sns.heatmap(confusion_matrix(y_test,lda_test_predict),annot = True,cbar = True,fmt = 'd',)\n",
    "plt.xlabel('Predicted Label')\n",
    "plt.ylabel('Actual Label')\n",
    "plt.title('Confusion Matrix for Testset')\n",
    "plt.show()"
   ]
  },
  {
   "cell_type": "code",
   "execution_count": 188,
   "id": "e237706b",
   "metadata": {},
   "outputs": [
    {
     "name": "stdout",
     "output_type": "stream",
     "text": [
      "              precision    recall  f1-score   support\n",
      "\n",
      "           0       0.86      0.99      0.92      2702\n",
      "           1       0.63      0.14      0.23       494\n",
      "\n",
      "    accuracy                           0.85      3196\n",
      "   macro avg       0.75      0.56      0.57      3196\n",
      "weighted avg       0.83      0.85      0.81      3196\n",
      "\n"
     ]
    }
   ],
   "source": [
    "print(classification_report(y_test,lda_test_predict)) "
   ]
  },
  {
   "cell_type": "code",
   "execution_count": 189,
   "id": "287d1f0c",
   "metadata": {},
   "outputs": [
    {
     "data": {
      "image/png": "[encoded data removed]",
      "text/plain": [
       "<Figure size 864x504 with 1 Axes>"
      ]
     },
     "metadata": {
      "needs_background": "light"
     },
     "output_type": "display_data"
    },
    {
     "name": "stdout",
     "output_type": "stream",
     "text": [
      "Area under Curve is 0.7697364675139422\n"
     ]
    }
   ],
   "source": [
    "from sklearn.metrics import roc_curve,roc_auc_score\n",
    "rf_fpr,rf_tpr,_ = roc_curve(y_test,lda_model.predict_proba(X_test)[:,1])\n",
    "plt.figure(figsize = (12,7))\n",
    "plt.plot(rf_fpr,rf_tpr,marker = 'x',label = 'LDA')\n",
    "plt.plot(np.arange(0,1.1,0.1),np.arange(0,1.1,0.1))# can directly give plt.plot([0,1],[0,1])\n",
    "plt.xlabel('False Positive Rate')\n",
    "plt.ylabel('True Positive Rate')\n",
    "plt.title('ROC')\n",
    "plt.show()\n",
    "\n",
    "print('Area under Curve is', roc_auc_score(y_test,lda_model.predict_proba(X_test)[:,1]))"
   ]
  },
  {
   "cell_type": "markdown",
   "id": "7e9f3a46",
   "metadata": {},
   "source": []
  },
  {
   "cell_type": "code",
   "execution_count": 190,
   "id": "c8321223",
   "metadata": {
    "scrolled": false
   },
   "outputs": [
    {
     "name": "stdout",
     "output_type": "stream",
     "text": [
      "Feature: 0, Score: -0.00473\n",
      "Feature: 1, Score: -0.00000\n",
      "Feature: 2, Score: -0.00001\n",
      "Feature: 3, Score: 0.02671\n",
      "Feature: 4, Score: 0.00598\n",
      "Feature: 5, Score: 0.02396\n",
      "Feature: 6, Score: -0.00102\n",
      "Feature: 7, Score: -0.00006\n",
      "Feature: 8, Score: 0.15541\n",
      "Feature: 9, Score: 1.65607\n",
      "Feature: 10, Score: -0.01253\n",
      "Feature: 11, Score: 0.11041\n",
      "Feature: 12, Score: -0.14521\n",
      "Feature: 13, Score: -0.65973\n",
      "Feature: 14, Score: -0.02427\n"
     ]
    },
    {
     "data": {
      "image/png": "[encoded data removed]",
      "text/plain": [
       "<Figure size 432x288 with 1 Axes>"
      ]
     },
     "metadata": {
      "needs_background": "light"
     },
     "output_type": "display_data"
    }
   ],
   "source": [
    "# get importance\n",
    "importance = best_model2.coef_[0]\n",
    "# summarize feature importance\n",
    "for i,v in enumerate(importance):\n",
    "    print('Feature: %0d, Score: %.5f' % (i,v))\n",
    "# plot feature importance\n",
    "plt.bar([x for x in range(len(importance))], importance)\n",
    "plt.show()"
   ]
  },
  {
   "cell_type": "markdown",
   "id": "c83cea72",
   "metadata": {},
   "source": [
    " ### Random Forest"
   ]
  },
  {
   "cell_type": "code",
   "execution_count": 95,
   "id": "dca7aa6d",
   "metadata": {},
   "outputs": [],
   "source": [
    "from sklearn.ensemble import RandomForestClassifier\n",
    "\n",
    "RF_model=RandomForestClassifier(n_estimators=100,random_state=1)\n",
    "RF_model=RF_model.fit(X_train, y_train)"
   ]
  },
  {
   "cell_type": "code",
   "execution_count": 96,
   "id": "772060fb",
   "metadata": {},
   "outputs": [
    {
     "name": "stdout",
     "output_type": "stream",
     "text": [
      "1.0\n"
     ]
    }
   ],
   "source": [
    "RF_train_predict = RF_model.predict(X_train)\n",
    "model_score = RF_model.score(X_train, y_train)\n",
    "print(model_score)"
   ]
  },
  {
   "cell_type": "code",
   "execution_count": 97,
   "id": "7f599ac3",
   "metadata": {},
   "outputs": [
    {
     "name": "stdout",
     "output_type": "stream",
     "text": [
      "0.9715269086357947\n"
     ]
    }
   ],
   "source": [
    "RF_test_predict = RF_model.predict(X_test)\n",
    "model_score = RF_model.score(X_test, y_test)\n",
    "print(model_score)\n"
   ]
  },
  {
   "cell_type": "code",
   "execution_count": 122,
   "id": "c650d133",
   "metadata": {},
   "outputs": [
    {
     "data": {
      "image/png": "[encoded data removed]",
      "text/plain": [
       "<Figure size 432x288 with 2 Axes>"
      ]
     },
     "metadata": {
      "needs_background": "light"
     },
     "output_type": "display_data"
    }
   ],
   "source": [
    "#Confusion Matrix for Train set\n",
    "confusion_matrix(y_train,RF_train_predict)\n",
    "sns.heatmap(confusion_matrix(y_train,RF_train_predict),annot = True,cbar = True,fmt = 'd',)\n",
    "plt.xlabel('Predicted Label')\n",
    "plt.ylabel('Actual Label')\n",
    "plt.title('Confusion Matrix for Trainset')\n",
    "plt.show()"
   ]
  },
  {
   "cell_type": "code",
   "execution_count": 123,
   "id": "a80f8e5c",
   "metadata": {},
   "outputs": [
    {
     "name": "stdout",
     "output_type": "stream",
     "text": [
      "              precision    recall  f1-score   support\n",
      "\n",
      "           0       1.00      1.00      1.00      6330\n",
      "           1       1.00      1.00      1.00      1126\n",
      "\n",
      "    accuracy                           1.00      7456\n",
      "   macro avg       1.00      1.00      1.00      7456\n",
      "weighted avg       1.00      1.00      1.00      7456\n",
      "\n"
     ]
    }
   ],
   "source": [
    "print(classification_report(y_train,RF_train_predict)) "
   ]
  },
  {
   "cell_type": "code",
   "execution_count": 124,
   "id": "8f00e677",
   "metadata": {},
   "outputs": [
    {
     "data": {
      "image/png": "[encoded data removed]",
      "text/plain": [
       "<Figure size 864x504 with 1 Axes>"
      ]
     },
     "metadata": {
      "needs_background": "light"
     },
     "output_type": "display_data"
    },
    {
     "name": "stdout",
     "output_type": "stream",
     "text": [
      "Area under Curve is 1.0\n"
     ]
    }
   ],
   "source": [
    "from sklearn.metrics import roc_curve,roc_auc_score\n",
    "rf_fpr,rf_tpr,_ = roc_curve(y_train,RF_model.predict_proba(X_train)[:,1])\n",
    "plt.figure(figsize = (12,7))\n",
    "plt.plot(rf_fpr,rf_tpr,marker = 'x',label = 'RF')\n",
    "plt.plot(np.arange(0,1.1,0.1),np.arange(0,1.1,0.1))# can directly give plt.plot([0,1],[0,1])\n",
    "plt.xlabel('False Positive Rate')\n",
    "plt.ylabel('True Positive Rate')\n",
    "plt.title('ROC')\n",
    "plt.show()\n",
    "\n",
    "print('Area under Curve is', roc_auc_score(y_train,RF_model.predict_proba(X_train)[:,1]))"
   ]
  },
  {
   "cell_type": "code",
   "execution_count": 125,
   "id": "de30ec28",
   "metadata": {},
   "outputs": [
    {
     "data": {
      "image/png": "[encoded data removed]",
      "text/plain": [
       "<Figure size 432x288 with 2 Axes>"
      ]
     },
     "metadata": {
      "needs_background": "light"
     },
     "output_type": "display_data"
    }
   ],
   "source": [
    "#Confusion Matrix for Test set\n",
    "confusion_matrix(y_test,RF_test_predict)\n",
    "sns.heatmap(confusion_matrix(y_test,RF_test_predict),annot = True,cbar = True,fmt = 'd',)\n",
    "plt.xlabel('Predicted Label')\n",
    "plt.ylabel('Actual Label')\n",
    "plt.title('Confusion Matrix for Testset')\n",
    "plt.show()"
   ]
  },
  {
   "cell_type": "code",
   "execution_count": 126,
   "id": "5b732733",
   "metadata": {},
   "outputs": [
    {
     "name": "stdout",
     "output_type": "stream",
     "text": [
      "              precision    recall  f1-score   support\n",
      "\n",
      "           0       0.97      1.00      0.98      2702\n",
      "           1       1.00      0.82      0.90       494\n",
      "\n",
      "    accuracy                           0.97      3196\n",
      "   macro avg       0.98      0.91      0.94      3196\n",
      "weighted avg       0.97      0.97      0.97      3196\n",
      "\n"
     ]
    }
   ],
   "source": [
    "print(classification_report(y_test,RF_test_predict)) "
   ]
  },
  {
   "cell_type": "code",
   "execution_count": 127,
   "id": "8e072250",
   "metadata": {},
   "outputs": [
    {
     "data": {
      "image/png": "[encoded data removed]",
      "text/plain": [
       "<Figure size 864x504 with 1 Axes>"
      ]
     },
     "metadata": {
      "needs_background": "light"
     },
     "output_type": "display_data"
    },
    {
     "name": "stdout",
     "output_type": "stream",
     "text": [
      "Area under Curve is 0.9983184595606194\n"
     ]
    }
   ],
   "source": [
    "from sklearn.metrics import roc_curve,roc_auc_score\n",
    "rf_fpr,rf_tpr,_ = roc_curve(y_test,RF_model.predict_proba(X_test)[:,1])\n",
    "plt.figure(figsize = (12,7))\n",
    "plt.plot(rf_fpr,rf_tpr,marker = 'x',label = 'RF')\n",
    "plt.plot(np.arange(0,1.1,0.1),np.arange(0,1.1,0.1))# can directly give plt.plot([0,1],[0,1])\n",
    "plt.xlabel('False Positive Rate')\n",
    "plt.ylabel('True Positive Rate')\n",
    "plt.title('ROC')\n",
    "plt.show()\n",
    "\n",
    "print('Area under Curve is', roc_auc_score(y_test,RF_model.predict_proba(X_test)[:,1]))"
   ]
  },
  {
   "cell_type": "code",
   "execution_count": 140,
   "id": "b873a459",
   "metadata": {},
   "outputs": [
    {
     "name": "stdout",
     "output_type": "stream",
     "text": [
      "1.0\n"
     ]
    }
   ],
   "source": [
    "from sklearn.ensemble import RandomForestClassifier\n",
    "\n",
    "RF_model=RandomForestClassifier(n_estimators=100,random_state=1)\n",
    "RF_model=RF_model.fit(X_train, y_train)\n",
    "RF_train_predict = RF_model.predict(X_train)\n",
    "model_score = RF_model.score(X_train, y_train)\n",
    "print(model_score)"
   ]
  },
  {
   "cell_type": "code",
   "execution_count": 141,
   "id": "c8cea87e",
   "metadata": {},
   "outputs": [
    {
     "name": "stdout",
     "output_type": "stream",
     "text": [
      "0.9715269086357947\n"
     ]
    }
   ],
   "source": [
    "RF_test_predict = RF_model.predict(X_test)\n",
    "model_score = RF_model.score(X_test, y_test)\n",
    "print(model_score)"
   ]
  },
  {
   "cell_type": "markdown",
   "id": "50124bdb",
   "metadata": {},
   "source": [
    "### RF using grid search"
   ]
  },
  {
   "cell_type": "code",
   "execution_count": 142,
   "id": "ba519543",
   "metadata": {},
   "outputs": [],
   "source": [
    "from sklearn.model_selection import RandomizedSearchCV"
   ]
  },
  {
   "cell_type": "code",
   "execution_count": 143,
   "id": "738105bc",
   "metadata": {},
   "outputs": [
    {
     "name": "stdout",
     "output_type": "stream",
     "text": [
      "{'n_estimators': [200, 400, 600, 800, 1000, 1200, 1400, 1600, 1800, 2000], 'max_features': ['auto', 'sqrt'], 'max_depth': [10, 20, 30, 40, 50, 60, 70, 80, 90, 100, 110, None], 'min_samples_split': [2, 5, 10], 'min_samples_leaf': [1, 2, 4], 'bootstrap': [True, False]}\n"
     ]
    },
    {
     "data": {
      "text/plain": [
       "{'bootstrap': [True, False],\n",
       " 'max_depth': [10, 20, 30, 40, 50, 60, 70, 80, 90, 100, None],\n",
       " 'max_features': ['auto', 'sqrt'],\n",
       " 'min_samples_leaf': [1, 2, 4],\n",
       " 'min_samples_split': [2, 5, 10],\n",
       " 'n_estimators': [100, 200, 300]}"
      ]
     },
     "execution_count": 143,
     "metadata": {},
     "output_type": "execute_result"
    }
   ],
   "source": [
    "from sklearn.model_selection import RandomizedSearchCV# Number of trees in random forest\n",
    "n_estimators = [int(x) for x in np.linspace(start = 200, stop = 2000, num = 10)]\n",
    "# Number of features to consider at every split\n",
    "max_features = ['auto', 'sqrt']\n",
    "# Maximum number of levels in tree\n",
    "max_depth = [int(x) for x in np.linspace(10, 110, num = 11)]\n",
    "max_depth.append(None)\n",
    "# Minimum number of samples required to split a node\n",
    "min_samples_split = [2, 5, 10]\n",
    "# Minimum number of samples required at each leaf node\n",
    "min_samples_leaf = [1, 2, 4]\n",
    "# Method of selecting samples for training each tree\n",
    "bootstrap = [True, False]# Create the random grid\n",
    "random_grid = {'n_estimators': n_estimators,\n",
    "               'max_features': max_features,\n",
    "               'max_depth': max_depth,\n",
    "               'min_samples_split': min_samples_split,\n",
    "               'min_samples_leaf': min_samples_leaf,\n",
    "               'bootstrap': bootstrap}\n",
    "print(random_grid)\n",
    "{'bootstrap': [True, False],\n",
    " 'max_depth': [10, 20, 30, 40, 50, 60, 70, 80, 90, 100, None],\n",
    " 'max_features': ['auto', 'sqrt'],\n",
    " 'min_samples_leaf': [1, 2, 4],\n",
    " 'min_samples_split': [2, 5, 10],\n",
    " 'n_estimators': [100,200,300 ]}"
   ]
  },
  {
   "cell_type": "code",
   "execution_count": 144,
   "id": "082bedda",
   "metadata": {},
   "outputs": [],
   "source": [
    "param_grid={\n",
    "    'max_depth':[7,8,9,10],\n",
    "    'max_features':[3,4,5],\n",
    "    'min_samples_leaf':[50,100],\n",
    "    'min_samples_split':[150,300],\n",
    "    'n_estimators':[100,200,300]\n",
    "}\n",
    "rfcl =RandomForestClassifier()\n",
    "grid_search= GridSearchCV(estimator=rfcl,param_grid=param_grid,cv=3)"
   ]
  },
  {
   "cell_type": "code",
   "execution_count": 145,
   "id": "d672ad33",
   "metadata": {},
   "outputs": [
    {
     "name": "stdout",
     "output_type": "stream",
     "text": [
      "Fitting 3 folds for each of 100 candidates, totalling 300 fits\n"
     ]
    },
    {
     "data": {
      "text/plain": [
       "RandomizedSearchCV(cv=3, estimator=RandomForestClassifier(), n_iter=100,\n",
       "                   n_jobs=-1,\n",
       "                   param_distributions={'bootstrap': [True, False],\n",
       "                                        'max_depth': [10, 20, 30, 40, 50, 60,\n",
       "                                                      70, 80, 90, 100, 110,\n",
       "                                                      None],\n",
       "                                        'max_features': ['auto', 'sqrt'],\n",
       "                                        'min_samples_leaf': [1, 2, 4],\n",
       "                                        'min_samples_split': [2, 5, 10],\n",
       "                                        'n_estimators': [200, 400, 600, 800,\n",
       "                                                         1000, 1200, 1400, 1600,\n",
       "                                                         1800, 2000]},\n",
       "                   random_state=42, verbose=2)"
      ]
     },
     "execution_count": 145,
     "metadata": {},
     "output_type": "execute_result"
    }
   ],
   "source": [
    "# Use the random grid to search for best hyperparameters\n",
    "# First create the base model to tune\n",
    "rf = RandomForestClassifier()\n",
    "# Random search of parameters, using 3 fold cross validation, \n",
    "# search across 100 different combinations, and use all available cores\n",
    "rf_random = RandomizedSearchCV(estimator = rf, param_distributions = random_grid, n_iter = 100, cv = 3, verbose=2, random_state=42, n_jobs = -1)# Fit the random search model\n",
    "rf_random.fit(X_train, y_train)"
   ]
  },
  {
   "cell_type": "code",
   "execution_count": 146,
   "id": "2104e999",
   "metadata": {},
   "outputs": [
    {
     "data": {
      "text/plain": [
       "{'n_estimators': 1400,\n",
       " 'min_samples_split': 2,\n",
       " 'min_samples_leaf': 1,\n",
       " 'max_features': 'auto',\n",
       " 'max_depth': 40,\n",
       " 'bootstrap': False}"
      ]
     },
     "execution_count": 146,
     "metadata": {},
     "output_type": "execute_result"
    }
   ],
   "source": [
    "rf_random.best_params_"
   ]
  },
  {
   "cell_type": "code",
   "execution_count": 147,
   "id": "533bb090",
   "metadata": {},
   "outputs": [],
   "source": [
    "best_grid = rf_random.best_estimator_"
   ]
  },
  {
   "cell_type": "code",
   "execution_count": 148,
   "id": "f0b79185",
   "metadata": {},
   "outputs": [
    {
     "data": {
      "text/plain": [
       "RandomForestClassifier(bootstrap=False, max_depth=40, n_estimators=1400)"
      ]
     },
     "execution_count": 148,
     "metadata": {},
     "output_type": "execute_result"
    }
   ],
   "source": [
    "best_grid"
   ]
  },
  {
   "cell_type": "code",
   "execution_count": 149,
   "id": "9e2e9c83",
   "metadata": {},
   "outputs": [],
   "source": [
    "RF_train_predict = best_grid.predict(X_train)\n",
    "RF_test_predict = best_grid.predict(X_test)"
   ]
  },
  {
   "cell_type": "code",
   "execution_count": 150,
   "id": "bf1683d3",
   "metadata": {},
   "outputs": [
    {
     "data": {
      "image/png": "[encoded data removed]",
      "text/plain": [
       "<Figure size 432x288 with 2 Axes>"
      ]
     },
     "metadata": {
      "needs_background": "light"
     },
     "output_type": "display_data"
    }
   ],
   "source": [
    "#Confusion Matrix for Test set\n",
    "confusion_matrix(y_train,RF_train_predict)\n",
    "sns.heatmap(confusion_matrix(y_train,RF_train_predict),annot = True,cbar = True,fmt = 'd',)\n",
    "plt.xlabel('Predicted Label')\n",
    "plt.ylabel('Actual Label')\n",
    "plt.title('Confusion Matrix for Trainset')\n",
    "plt.show()"
   ]
  },
  {
   "cell_type": "code",
   "execution_count": 151,
   "id": "6eafe063",
   "metadata": {},
   "outputs": [
    {
     "name": "stdout",
     "output_type": "stream",
     "text": [
      "              precision    recall  f1-score   support\n",
      "\n",
      "           0       1.00      1.00      1.00      6330\n",
      "           1       1.00      1.00      1.00      1126\n",
      "\n",
      "    accuracy                           1.00      7456\n",
      "   macro avg       1.00      1.00      1.00      7456\n",
      "weighted avg       1.00      1.00      1.00      7456\n",
      "\n"
     ]
    }
   ],
   "source": [
    "print(classification_report(y_train,RF_train_predict)) "
   ]
  },
  {
   "cell_type": "code",
   "execution_count": 152,
   "id": "b9052916",
   "metadata": {},
   "outputs": [
    {
     "data": {
      "image/png": "[encoded data removed]",
      "text/plain": [
       "<Figure size 864x504 with 1 Axes>"
      ]
     },
     "metadata": {
      "needs_background": "light"
     },
     "output_type": "display_data"
    },
    {
     "name": "stdout",
     "output_type": "stream",
     "text": [
      "Area under Curve is 1.0\n"
     ]
    }
   ],
   "source": [
    "from sklearn.metrics import roc_curve,roc_auc_score\n",
    "rf_fpr,rf_tpr,_ = roc_curve(y_train,best_grid.predict_proba(X_train)[:,1])\n",
    "plt.figure(figsize = (12,7))\n",
    "plt.plot(rf_fpr,rf_tpr,marker = 'x',label = 'RF')\n",
    "plt.plot(np.arange(0,1.1,0.1),np.arange(0,1.1,0.1))# can directly give plt.plot([0,1],[0,1])\n",
    "plt.xlabel('False Positive Rate')\n",
    "plt.ylabel('True Positive Rate')\n",
    "plt.title('ROC')\n",
    "plt.show()\n",
    "\n",
    "print('Area under Curve is', roc_auc_score(y_train,best_grid.predict_proba(X_train)[:,1]))"
   ]
  },
  {
   "cell_type": "code",
   "execution_count": 153,
   "id": "710d38ad",
   "metadata": {},
   "outputs": [
    {
     "data": {
      "image/png": "[encoded data removed]",
      "text/plain": [
       "<Figure size 432x288 with 2 Axes>"
      ]
     },
     "metadata": {
      "needs_background": "light"
     },
     "output_type": "display_data"
    }
   ],
   "source": [
    "#Confusion Matrix for Test set\n",
    "confusion_matrix(y_test,RF_test_predict)\n",
    "sns.heatmap(confusion_matrix(y_test,RF_test_predict),annot = True,cbar = True,fmt = 'd',)\n",
    "plt.xlabel('Predicted Label')\n",
    "plt.ylabel('Actual Label')\n",
    "plt.title('Confusion Matrix for Trainset')\n",
    "plt.show()"
   ]
  },
  {
   "cell_type": "code",
   "execution_count": 154,
   "id": "d42af851",
   "metadata": {},
   "outputs": [
    {
     "name": "stdout",
     "output_type": "stream",
     "text": [
      "              precision    recall  f1-score   support\n",
      "\n",
      "           0       0.98      1.00      0.99      2702\n",
      "           1       1.00      0.91      0.95       494\n",
      "\n",
      "    accuracy                           0.99      3196\n",
      "   macro avg       0.99      0.95      0.97      3196\n",
      "weighted avg       0.99      0.99      0.99      3196\n",
      "\n"
     ]
    }
   ],
   "source": [
    "print(classification_report(y_test,RF_test_predict)) "
   ]
  },
  {
   "cell_type": "code",
   "execution_count": 155,
   "id": "df4166d8",
   "metadata": {},
   "outputs": [
    {
     "data": {
      "image/png": "[encoded data removed]",
      "text/plain": [
       "<Figure size 864x504 with 1 Axes>"
      ]
     },
     "metadata": {
      "needs_background": "light"
     },
     "output_type": "display_data"
    },
    {
     "name": "stdout",
     "output_type": "stream",
     "text": [
      "Area under Curve is 0.9995579822413746\n"
     ]
    }
   ],
   "source": [
    "from sklearn.metrics import roc_curve,roc_auc_score\n",
    "rf_fpr,rf_tpr,_ = roc_curve(y_test,best_grid.predict_proba(X_test)[:,1])\n",
    "plt.figure(figsize = (12,7))\n",
    "plt.plot(rf_fpr,rf_tpr,marker = 'x',label = 'RF')\n",
    "plt.plot(np.arange(0,1.1,0.1),np.arange(0,1.1,0.1))# can directly give plt.plot([0,1],[0,1])\n",
    "plt.xlabel('False Positive Rate')\n",
    "plt.ylabel('True Positive Rate')\n",
    "plt.title('ROC')\n",
    "plt.show()\n",
    "\n",
    "print('Area under Curve is', roc_auc_score(y_test,best_grid.predict_proba(X_test)[:,1]))"
   ]
  },
  {
   "cell_type": "code",
   "execution_count": 156,
   "id": "be3d58ec",
   "metadata": {},
   "outputs": [
    {
     "name": "stdout",
     "output_type": "stream",
     "text": [
      "Feature: 0, Score: 0.12542\n",
      "Feature: 1, Score: 0.00000\n",
      "Feature: 2, Score: 0.14582\n",
      "Feature: 3, Score: 0.07828\n",
      "Feature: 4, Score: 0.05032\n",
      "Feature: 5, Score: 0.04583\n",
      "Feature: 6, Score: 0.07225\n",
      "Feature: 7, Score: 0.17267\n",
      "Feature: 8, Score: 0.06267\n",
      "Feature: 9, Score: 0.06196\n",
      "Feature: 10, Score: 0.03735\n",
      "Feature: 11, Score: 0.01409\n",
      "Feature: 12, Score: 0.04693\n",
      "Feature: 13, Score: 0.01374\n",
      "Feature: 14, Score: 0.07268\n"
     ]
    },
    {
     "data": {
      "image/png": "[encoded data removed]",
      "text/plain": [
       "<Figure size 432x288 with 1 Axes>"
      ]
     },
     "metadata": {
      "needs_background": "light"
     },
     "output_type": "display_data"
    }
   ],
   "source": [
    "# get importance\n",
    "importance = best_grid.feature_importances_\n",
    "# summarize feature importance\n",
    "for i,v in enumerate(importance):\n",
    "    print('Feature: %0d, Score: %.5f' % (i,v))\n",
    "# plot feature importance\n",
    "plt.bar([x for x in range(len(importance))], importance)\n",
    "plt.show()"
   ]
  },
  {
   "cell_type": "markdown",
   "id": "23f75e77",
   "metadata": {},
   "source": [
    "###  KNN"
   ]
  },
  {
   "cell_type": "code",
   "execution_count": 98,
   "id": "55903ab9",
   "metadata": {},
   "outputs": [],
   "source": [
    "from sklearn.neighbors import KNeighborsClassifier\n"
   ]
  },
  {
   "cell_type": "code",
   "execution_count": 99,
   "id": "654f0567",
   "metadata": {},
   "outputs": [
    {
     "data": {
      "text/plain": [
       "[0.9931163954943679,\n",
       " 0.9780976220275344,\n",
       " 0.9652690863579474,\n",
       " 0.9389862327909887,\n",
       " 0.9102002503128911,\n",
       " 0.8811013767209012,\n",
       " 0.8670212765957447,\n",
       " 0.8692115143929913,\n",
       " 0.8676470588235294,\n",
       " 0.8601376720901126]"
      ]
     },
     "execution_count": 99,
     "metadata": {},
     "output_type": "execute_result"
    }
   ],
   "source": [
    "# empty list that will hold accuracy scores\n",
    "ac_scores = []\n",
    "\n",
    "# perform accuracy metrics for values from 1,3,5....19\n",
    "for k in range(1,20,2):\n",
    "    KNN = KNeighborsClassifier(n_neighbors=k)\n",
    "    KNN.fit(X_train, y_train)\n",
    "    # evaluate test accuracy\n",
    "    scores = KNN.score(X_test, y_test)\n",
    "    ac_scores.append(scores)\n",
    "\n",
    "# accuracy scores for 1,3,5,7....\n",
    "MCE = [1-x for x in ac_scores]\n",
    "acc = [x for x in ac_scores]\n",
    "acc"
   ]
  },
  {
   "cell_type": "code",
   "execution_count": 100,
   "id": "658d4764",
   "metadata": {},
   "outputs": [
    {
     "data": {
      "image/png": "[encoded data removed]",
      "text/plain": [
       "<Figure size 432x288 with 1 Axes>"
      ]
     },
     "metadata": {
      "needs_background": "light"
     },
     "output_type": "display_data"
    }
   ],
   "source": [
    "import matplotlib.pyplot as plt\n",
    "# plot misclassification error vs k\n",
    "plt.plot(range(1,20,2), MCE)\n",
    "plt.xlabel('Number of Neighbors K')\n",
    "plt.ylabel('Misclassification Error')\n",
    "plt.show()"
   ]
  },
  {
   "cell_type": "markdown",
   "id": "8f602433",
   "metadata": {},
   "source": [
    "#####  KNN model with k=3 is optimum from scree plot"
   ]
  },
  {
   "cell_type": "code",
   "execution_count": 101,
   "id": "ab70748c",
   "metadata": {},
   "outputs": [],
   "source": [
    "#model score k=3\n",
    "KNN_model=KNeighborsClassifier(n_neighbors=3)\n",
    "KNN_model.fit(X_train,y_train)\n",
    "KNN_train_predict = KNN_model.predict(X_train)\n",
    "\n",
    "KNN_test_predict = KNN_model.predict(X_test)\n"
   ]
  },
  {
   "cell_type": "code",
   "execution_count": 102,
   "id": "7ee718b0",
   "metadata": {},
   "outputs": [
    {
     "data": {
      "text/plain": [
       "0.994098712446352"
      ]
     },
     "execution_count": 102,
     "metadata": {},
     "output_type": "execute_result"
    }
   ],
   "source": [
    "KNN_model.score(X_train,y_train)"
   ]
  },
  {
   "cell_type": "code",
   "execution_count": 103,
   "id": "09af18fe",
   "metadata": {},
   "outputs": [
    {
     "data": {
      "text/plain": [
       "0.9780976220275344"
      ]
     },
     "execution_count": 103,
     "metadata": {},
     "output_type": "execute_result"
    }
   ],
   "source": [
    "KNN_model.score(X_test,y_test)"
   ]
  },
  {
   "cell_type": "code",
   "execution_count": 128,
   "id": "f3046353",
   "metadata": {},
   "outputs": [
    {
     "data": {
      "image/png": "[encoded data removed]",
      "text/plain": [
       "<Figure size 432x288 with 2 Axes>"
      ]
     },
     "metadata": {
      "needs_background": "light"
     },
     "output_type": "display_data"
    }
   ],
   "source": [
    "#Confusion Matrix for Train set\n",
    "confusion_matrix(y_train,KNN_train_predict)\n",
    "sns.heatmap(confusion_matrix(y_train,KNN_train_predict),annot = True,cbar = True,fmt = 'd',)\n",
    "plt.xlabel('Predicted Label')\n",
    "plt.ylabel('Actual Label')\n",
    "plt.title('Confusion Matrix for Trainset')\n",
    "plt.show()"
   ]
  },
  {
   "cell_type": "code",
   "execution_count": 129,
   "id": "4390f003",
   "metadata": {},
   "outputs": [
    {
     "name": "stdout",
     "output_type": "stream",
     "text": [
      "              precision    recall  f1-score   support\n",
      "\n",
      "           0       1.00      1.00      1.00      6330\n",
      "           1       0.99      0.97      0.98      1126\n",
      "\n",
      "    accuracy                           0.99      7456\n",
      "   macro avg       0.99      0.99      0.99      7456\n",
      "weighted avg       0.99      0.99      0.99      7456\n",
      "\n"
     ]
    }
   ],
   "source": [
    "print(classification_report(y_train,KNN_train_predict)) "
   ]
  },
  {
   "cell_type": "code",
   "execution_count": 130,
   "id": "c0d6c9d0",
   "metadata": {},
   "outputs": [
    {
     "data": {
      "image/png": "[encoded data removed]",
      "text/plain": [
       "<Figure size 864x504 with 1 Axes>"
      ]
     },
     "metadata": {
      "needs_background": "light"
     },
     "output_type": "display_data"
    },
    {
     "name": "stdout",
     "output_type": "stream",
     "text": [
      "Area under Curve is 0.9997297820578653\n"
     ]
    }
   ],
   "source": [
    "from sklearn.metrics import roc_curve,roc_auc_score\n",
    "rf_fpr,rf_tpr,_ = roc_curve(y_train,KNN_model.predict_proba(X_train)[:,1])\n",
    "plt.figure(figsize = (12,7))\n",
    "plt.plot(rf_fpr,rf_tpr,marker = 'x',label = 'RF')\n",
    "plt.plot(np.arange(0,1.1,0.1),np.arange(0,1.1,0.1))# can directly give plt.plot([0,1],[0,1])\n",
    "plt.xlabel('False Positive Rate')\n",
    "plt.ylabel('True Positive Rate')\n",
    "plt.title('ROC')\n",
    "plt.show()\n",
    "\n",
    "print('Area under Curve is', roc_auc_score(y_train,KNN_model.predict_proba(X_train)[:,1]))"
   ]
  },
  {
   "cell_type": "code",
   "execution_count": 131,
   "id": "0d029f80",
   "metadata": {},
   "outputs": [
    {
     "data": {
      "image/png": "[encoded data removed]",
      "text/plain": [
       "<Figure size 432x288 with 2 Axes>"
      ]
     },
     "metadata": {
      "needs_background": "light"
     },
     "output_type": "display_data"
    }
   ],
   "source": [
    "#Confusion Matrix for Train set\n",
    "confusion_matrix(y_test,KNN_test_predict)\n",
    "sns.heatmap(confusion_matrix(y_test,KNN_test_predict),annot = True,cbar = True,fmt = 'd',)\n",
    "plt.xlabel('Predicted Label')\n",
    "plt.ylabel('Actual Label')\n",
    "plt.title('Confusion Matrix for Testset')\n",
    "plt.show()"
   ]
  },
  {
   "cell_type": "code",
   "execution_count": 132,
   "id": "91e2dc5f",
   "metadata": {},
   "outputs": [
    {
     "name": "stdout",
     "output_type": "stream",
     "text": [
      "              precision    recall  f1-score   support\n",
      "\n",
      "           0       0.98      0.99      0.99      2702\n",
      "           1       0.95      0.91      0.93       494\n",
      "\n",
      "    accuracy                           0.98      3196\n",
      "   macro avg       0.97      0.95      0.96      3196\n",
      "weighted avg       0.98      0.98      0.98      3196\n",
      "\n"
     ]
    }
   ],
   "source": [
    "print(classification_report(y_test,KNN_test_predict)) "
   ]
  },
  {
   "cell_type": "code",
   "execution_count": 133,
   "id": "da5028f6",
   "metadata": {},
   "outputs": [
    {
     "data": {
      "image/png": "[encoded data removed]",
      "text/plain": [
       "<Figure size 864x504 with 1 Axes>"
      ]
     },
     "metadata": {
      "needs_background": "light"
     },
     "output_type": "display_data"
    },
    {
     "name": "stdout",
     "output_type": "stream",
     "text": [
      "Area under Curve is 0.9902302837604173\n"
     ]
    }
   ],
   "source": [
    "from sklearn.metrics import roc_curve,roc_auc_score\n",
    "rf_fpr,rf_tpr,_ = roc_curve(y_test,KNN_model.predict_proba(X_test)[:,1])\n",
    "plt.figure(figsize = (12,7))\n",
    "plt.plot(rf_fpr,rf_tpr,marker = 'x',label = 'RF')\n",
    "plt.plot(np.arange(0,1.1,0.1),np.arange(0,1.1,0.1))# can directly give plt.plot([0,1],[0,1])\n",
    "plt.xlabel('False Positive Rate')\n",
    "plt.ylabel('True Positive Rate')\n",
    "plt.title('ROC')\n",
    "plt.show()\n",
    "\n",
    "print('Area under Curve is', roc_auc_score(y_test,KNN_model.predict_proba(X_test)[:,1]))"
   ]
  },
  {
   "cell_type": "markdown",
   "id": "cd0e3914",
   "metadata": {},
   "source": [
    "### SMOTE"
   ]
  },
  {
   "cell_type": "code",
   "execution_count": 191,
   "id": "0d81c66e",
   "metadata": {},
   "outputs": [],
   "source": [
    "from imblearn.over_sampling import SMOTE \n",
    "from sklearn import metrics\n"
   ]
  },
  {
   "cell_type": "code",
   "execution_count": 192,
   "id": "f231604c",
   "metadata": {},
   "outputs": [],
   "source": [
    "sm = SMOTE()\n",
    "\n",
    "\n",
    "X_train_res, y_train_res = sm.fit_resample(X_train, y_train.ravel())"
   ]
  },
  {
   "cell_type": "code",
   "execution_count": 193,
   "id": "b961f4fe",
   "metadata": {},
   "outputs": [
    {
     "data": {
      "text/plain": [
       "(12660, 15)"
      ]
     },
     "execution_count": 193,
     "metadata": {},
     "output_type": "execute_result"
    }
   ],
   "source": [
    "X_train_res.shape"
   ]
  },
  {
   "cell_type": "markdown",
   "id": "a8b5d94f",
   "metadata": {},
   "source": [
    "### LOGIT"
   ]
  },
  {
   "cell_type": "code",
   "execution_count": 194,
   "id": "dce6f2ff",
   "metadata": {},
   "outputs": [
    {
     "data": {
      "text/plain": [
       "LogisticRegression()"
      ]
     },
     "execution_count": 194,
     "metadata": {},
     "output_type": "execute_result"
    }
   ],
   "source": [
    "smote_log_model = LogisticRegression()\n",
    "smote_log_model.fit(X_train_res, y_train_res)"
   ]
  },
  {
   "cell_type": "code",
   "execution_count": 195,
   "id": "81f794f1",
   "metadata": {},
   "outputs": [],
   "source": [
    "smote_log_train_predict = smote_log_model.predict(X_train_res)\n",
    "smote_log_test_predict = smote_log_model.predict(X_test)"
   ]
  },
  {
   "cell_type": "code",
   "execution_count": 196,
   "id": "eaade7da",
   "metadata": {},
   "outputs": [
    {
     "name": "stdout",
     "output_type": "stream",
     "text": [
      "0.6282780410742496\n",
      "[[3687 2643]\n",
      " [2063 4267]]\n",
      "              precision    recall  f1-score   support\n",
      "\n",
      "           0       0.64      0.58      0.61      6330\n",
      "           1       0.62      0.67      0.64      6330\n",
      "\n",
      "    accuracy                           0.63     12660\n",
      "   macro avg       0.63      0.63      0.63     12660\n",
      "weighted avg       0.63      0.63      0.63     12660\n",
      "\n"
     ]
    }
   ],
   "source": [
    "smote_log_train_predict = smote_log_model.predict(X_train_res)\n",
    "model_score = smote_log_model.score(X_train_res, y_train_res)\n",
    "print(model_score)\n",
    "print(metrics.confusion_matrix(y_train_res, smote_log_train_predict))\n",
    "print(metrics.classification_report(y_train_res ,smote_log_train_predict))"
   ]
  },
  {
   "cell_type": "code",
   "execution_count": 197,
   "id": "09cb5a0e",
   "metadata": {},
   "outputs": [
    {
     "name": "stdout",
     "output_type": "stream",
     "text": [
      "0.5991864831038799\n",
      "[[1574 1128]\n",
      " [ 153  341]]\n",
      "              precision    recall  f1-score   support\n",
      "\n",
      "           0       0.91      0.58      0.71      2702\n",
      "           1       0.23      0.69      0.35       494\n",
      "\n",
      "    accuracy                           0.60      3196\n",
      "   macro avg       0.57      0.64      0.53      3196\n",
      "weighted avg       0.81      0.60      0.65      3196\n",
      "\n"
     ]
    }
   ],
   "source": [
    "smote_log_test_predict = smote_log_model.predict(X_test)\n",
    "model_score = smote_log_model.score(X_test, y_test)\n",
    "print(model_score)\n",
    "print(metrics.confusion_matrix(y_test, smote_log_test_predict))\n",
    "print(metrics.classification_report(y_test ,smote_log_test_predict))"
   ]
  },
  {
   "cell_type": "markdown",
   "id": "e2e022aa",
   "metadata": {},
   "source": [
    "###  LDA"
   ]
  },
  {
   "cell_type": "code",
   "execution_count": 198,
   "id": "ad532d8f",
   "metadata": {},
   "outputs": [
    {
     "data": {
      "text/plain": [
       "LinearDiscriminantAnalysis()"
      ]
     },
     "execution_count": 198,
     "metadata": {},
     "output_type": "execute_result"
    }
   ],
   "source": [
    "smote_lda_model = LinearDiscriminantAnalysis()\n",
    "smote_lda_model.fit(X_train_res, y_train_res)"
   ]
  },
  {
   "cell_type": "code",
   "execution_count": 199,
   "id": "aae06297",
   "metadata": {},
   "outputs": [],
   "source": [
    "smote_lda_train_predict = smote_lda_model.predict(X_train_res)\n",
    "smote_lda_test_predict = smote_lda_model.predict(X_test)"
   ]
  },
  {
   "cell_type": "code",
   "execution_count": 200,
   "id": "d5aad16d",
   "metadata": {},
   "outputs": [
    {
     "name": "stdout",
     "output_type": "stream",
     "text": [
      "0.6282780410742496\n",
      "[[4227 2103]\n",
      " [1906 4424]]\n",
      "              precision    recall  f1-score   support\n",
      "\n",
      "           0       0.69      0.67      0.68      6330\n",
      "           1       0.68      0.70      0.69      6330\n",
      "\n",
      "    accuracy                           0.68     12660\n",
      "   macro avg       0.68      0.68      0.68     12660\n",
      "weighted avg       0.68      0.68      0.68     12660\n",
      "\n"
     ]
    }
   ],
   "source": [
    "smote_lda_train_predict = smote_lda_model.predict(X_train_res)\n",
    "model_score = smote_log_model.score(X_train_res, y_train_res)\n",
    "print(model_score)\n",
    "print(metrics.confusion_matrix(y_train_res, smote_lda_train_predict))\n",
    "print(metrics.classification_report(y_train_res ,smote_lda_train_predict))"
   ]
  },
  {
   "cell_type": "code",
   "execution_count": 201,
   "id": "e7bef18f",
   "metadata": {},
   "outputs": [
    {
     "name": "stdout",
     "output_type": "stream",
     "text": [
      "0.6789737171464331\n",
      "[[1791  911]\n",
      " [ 115  379]]\n",
      "              precision    recall  f1-score   support\n",
      "\n",
      "           0       0.94      0.66      0.78      2702\n",
      "           1       0.29      0.77      0.42       494\n",
      "\n",
      "    accuracy                           0.68      3196\n",
      "   macro avg       0.62      0.72      0.60      3196\n",
      "weighted avg       0.84      0.68      0.72      3196\n",
      "\n"
     ]
    }
   ],
   "source": [
    "smote_log_test_predict = smote_lda_model.predict(X_test)\n",
    "model_score = smote_lda_model.score(X_test, y_test)\n",
    "print(model_score)\n",
    "print(metrics.confusion_matrix(y_test, smote_lda_test_predict))\n",
    "print(metrics.classification_report(y_test ,smote_lda_test_predict))"
   ]
  },
  {
   "cell_type": "markdown",
   "id": "de43a342",
   "metadata": {},
   "source": [
    "###  KNN"
   ]
  },
  {
   "cell_type": "code",
   "execution_count": 202,
   "id": "c44c4cc2",
   "metadata": {},
   "outputs": [
    {
     "data": {
      "text/plain": [
       "KNeighborsClassifier(n_neighbors=3)"
      ]
     },
     "execution_count": 202,
     "metadata": {},
     "output_type": "execute_result"
    }
   ],
   "source": [
    "Smote_KNN = KNeighborsClassifier(n_neighbors=3)\n",
    "Smote_KNN.fit(X_train_res, y_train_res)"
   ]
  },
  {
   "cell_type": "code",
   "execution_count": 203,
   "id": "b5821a4f",
   "metadata": {},
   "outputs": [],
   "source": [
    "Smote_KNN_train_predict = Smote_KNN.predict(X_train_res)\n",
    "Smote_KNN_test_predict = Smote_KNN.predict(X_test)"
   ]
  },
  {
   "cell_type": "code",
   "execution_count": 204,
   "id": "ce452569",
   "metadata": {},
   "outputs": [
    {
     "name": "stdout",
     "output_type": "stream",
     "text": [
      "0.9936018957345971\n",
      "[[6296   34]\n",
      " [  47 6283]]\n",
      "              precision    recall  f1-score   support\n",
      "\n",
      "           0       0.99      0.99      0.99      6330\n",
      "           1       0.99      0.99      0.99      6330\n",
      "\n",
      "    accuracy                           0.99     12660\n",
      "   macro avg       0.99      0.99      0.99     12660\n",
      "weighted avg       0.99      0.99      0.99     12660\n",
      "\n"
     ]
    }
   ],
   "source": [
    "Smote_KNN_train_predict = Smote_KNN.predict(X_train_res)\n",
    "model_score = Smote_KNN.score(X_train_res, y_train_res)\n",
    "print(model_score)\n",
    "print(metrics.confusion_matrix(y_train_res, Smote_KNN_train_predict))\n",
    "print(metrics.classification_report(y_train_res ,Smote_KNN_train_predict))"
   ]
  },
  {
   "cell_type": "code",
   "execution_count": 205,
   "id": "88ea76b0",
   "metadata": {},
   "outputs": [
    {
     "name": "stdout",
     "output_type": "stream",
     "text": [
      "0.9815394242803505\n",
      "[[2655   47]\n",
      " [  12  482]]\n",
      "              precision    recall  f1-score   support\n",
      "\n",
      "           0       1.00      0.98      0.99      2702\n",
      "           1       0.91      0.98      0.94       494\n",
      "\n",
      "    accuracy                           0.98      3196\n",
      "   macro avg       0.95      0.98      0.97      3196\n",
      "weighted avg       0.98      0.98      0.98      3196\n",
      "\n"
     ]
    }
   ],
   "source": [
    "smote_log_test_predict = Smote_KNN.predict(X_test)\n",
    "model_score = Smote_KNN.score(X_test, y_test)\n",
    "print(model_score)\n",
    "print(metrics.confusion_matrix(y_test, smote_log_test_predict))\n",
    "print(metrics.classification_report(y_test ,smote_log_test_predict))"
   ]
  },
  {
   "cell_type": "markdown",
   "id": "f82719f3",
   "metadata": {},
   "source": [
    "###  RF\n"
   ]
  },
  {
   "cell_type": "code",
   "execution_count": 206,
   "id": "63e85a49",
   "metadata": {},
   "outputs": [],
   "source": [
    "Smote_RF_model=RandomForestClassifier(n_estimators=100,random_state=1)\n",
    "Smote_RF_model=Smote_RF_model.fit(X_train_res, y_train_res)"
   ]
  },
  {
   "cell_type": "code",
   "execution_count": 207,
   "id": "fb19392b",
   "metadata": {},
   "outputs": [],
   "source": [
    "Smote_RF_train_predict = Smote_RF_model.predict(X_train_res)\n",
    "Smote_RF_test_predict = Smote_RF_model.predict(X_test)"
   ]
  },
  {
   "cell_type": "code",
   "execution_count": 208,
   "id": "9a63a6ca",
   "metadata": {},
   "outputs": [
    {
     "name": "stdout",
     "output_type": "stream",
     "text": [
      "1.0\n",
      "[[6330    0]\n",
      " [   0 6330]]\n",
      "              precision    recall  f1-score   support\n",
      "\n",
      "           0       1.00      1.00      1.00      6330\n",
      "           1       1.00      1.00      1.00      6330\n",
      "\n",
      "    accuracy                           1.00     12660\n",
      "   macro avg       1.00      1.00      1.00     12660\n",
      "weighted avg       1.00      1.00      1.00     12660\n",
      "\n"
     ]
    }
   ],
   "source": [
    "Smote_RF_train_predict = Smote_RF_model.predict(X_train_res)\n",
    "model_score = Smote_RF_model.score(X_train_res, y_train_res)\n",
    "print(model_score)\n",
    "print(metrics.confusion_matrix(y_train_res, Smote_RF_train_predict))\n",
    "print(metrics.classification_report(y_train_res ,Smote_RF_train_predict))"
   ]
  },
  {
   "cell_type": "code",
   "execution_count": 209,
   "id": "48f5b6f4",
   "metadata": {},
   "outputs": [
    {
     "name": "stdout",
     "output_type": "stream",
     "text": [
      "0.9865456821026283\n",
      "[[2697    5]\n",
      " [  38  456]]\n",
      "              precision    recall  f1-score   support\n",
      "\n",
      "           0       0.99      1.00      0.99      2702\n",
      "           1       0.99      0.92      0.95       494\n",
      "\n",
      "    accuracy                           0.99      3196\n",
      "   macro avg       0.99      0.96      0.97      3196\n",
      "weighted avg       0.99      0.99      0.99      3196\n",
      "\n"
     ]
    }
   ],
   "source": [
    "Smote_RF_test_predict = Smote_RF_model.predict(X_test)\n",
    "model_score = Smote_RF_model.score(X_test, y_test)\n",
    "print(model_score)\n",
    "print(metrics.confusion_matrix(y_test, Smote_RF_test_predict))\n",
    "print(metrics.classification_report(y_test ,Smote_RF_test_predict))"
   ]
  }
 ],
 "metadata": {
  "kernelspec": {
   "display_name": "Python 3",
   "language": "python",
   "name": "python3"
  },
  "language_info": {
   "codemirror_mode": {
    "name": "ipython",
    "version": 3
   },
   "file_extension": ".py",
   "mimetype": "text/x-python",
   "name": "python",
   "nbconvert_exporter": "python",
   "pygments_lexer": "ipython3",
   "version": "3.8.8"
  }
 },
 "nbformat": 4,
 "nbformat_minor": 5
}
