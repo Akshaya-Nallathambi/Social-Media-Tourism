{
 "cells": [
  {
   "cell_type": "code",
   "execution_count": 509,
   "id": "ce4a117b",
   "metadata": {},
   "outputs": [],
   "source": [
    "import numpy as np\n",
    "import pandas as pd  \n",
    "import matplotlib.pyplot as plt   \n",
    "import seaborn as sns\n",
    "%matplotlib inline \n",
    "import warnings\n",
    "warnings.filterwarnings(\"ignore\")\n",
    "from sklearn.linear_model import LogisticRegression\n",
    "from sklearn.discriminant_analysis import LinearDiscriminantAnalysis\n",
    "from sklearn.metrics import confusion_matrix\n",
    "from sklearn.metrics import classification_report\n",
    "from sklearn.model_selection import train_test_split,GridSearchCV\n",
    "\n",
    "from imblearn.over_sampling import SMOTE \n",
    "from sklearn import metrics\n",
    "\n",
    "import warnings\n",
    "warnings.filterwarnings(\"ignore\")"
   ]
  },
  {
   "cell_type": "code",
   "execution_count": 510,
   "id": "ae002b07",
   "metadata": {},
   "outputs": [
    {
     "data": {
      "text/html": [
       "<div>\n",
       "<style scoped>\n",
       "    .dataframe tbody tr th:only-of-type {\n",
       "        vertical-align: middle;\n",
       "    }\n",
       "\n",
       "    .dataframe tbody tr th {\n",
       "        vertical-align: top;\n",
       "    }\n",
       "\n",
       "    .dataframe thead th {\n",
       "        text-align: right;\n",
       "    }\n",
       "</style>\n",
       "<table border=\"1\" class=\"dataframe\">\n",
       "  <thead>\n",
       "    <tr style=\"text-align: right;\">\n",
       "      <th></th>\n",
       "      <th>0</th>\n",
       "      <th>1</th>\n",
       "      <th>2</th>\n",
       "      <th>3</th>\n",
       "      <th>4</th>\n",
       "    </tr>\n",
       "  </thead>\n",
       "  <tbody>\n",
       "    <tr>\n",
       "      <th>Taken_product</th>\n",
       "      <td>0</td>\n",
       "      <td>0</td>\n",
       "      <td>0</td>\n",
       "      <td>0</td>\n",
       "      <td>1</td>\n",
       "    </tr>\n",
       "    <tr>\n",
       "      <th>Yearly_avg_view_on_travel_page</th>\n",
       "      <td>379.0</td>\n",
       "      <td>255.0</td>\n",
       "      <td>250.0</td>\n",
       "      <td>295.0</td>\n",
       "      <td>250.0</td>\n",
       "    </tr>\n",
       "    <tr>\n",
       "      <th>preferred_device</th>\n",
       "      <td>Laptop</td>\n",
       "      <td>Laptop</td>\n",
       "      <td>Laptop</td>\n",
       "      <td>Laptop</td>\n",
       "      <td>Laptop</td>\n",
       "    </tr>\n",
       "    <tr>\n",
       "      <th>total_likes_on_outstation_checkin_given</th>\n",
       "      <td>9776</td>\n",
       "      <td>48725</td>\n",
       "      <td>35184</td>\n",
       "      <td>7572</td>\n",
       "      <td>39379</td>\n",
       "    </tr>\n",
       "    <tr>\n",
       "      <th>yearly_avg_Outstation_checkins</th>\n",
       "      <td>8</td>\n",
       "      <td>3</td>\n",
       "      <td>2</td>\n",
       "      <td>23</td>\n",
       "      <td>16</td>\n",
       "    </tr>\n",
       "    <tr>\n",
       "      <th>member_in_family</th>\n",
       "      <td>1</td>\n",
       "      <td>4</td>\n",
       "      <td>2</td>\n",
       "      <td>3</td>\n",
       "      <td>1</td>\n",
       "    </tr>\n",
       "    <tr>\n",
       "      <th>preferred_location_type</th>\n",
       "      <td>Beach</td>\n",
       "      <td>Beach</td>\n",
       "      <td>Beach</td>\n",
       "      <td>Beach</td>\n",
       "      <td>Beach</td>\n",
       "    </tr>\n",
       "    <tr>\n",
       "      <th>Yearly_avg_comment_on_travel_page</th>\n",
       "      <td>64</td>\n",
       "      <td>59</td>\n",
       "      <td>84</td>\n",
       "      <td>48</td>\n",
       "      <td>80</td>\n",
       "    </tr>\n",
       "    <tr>\n",
       "      <th>total_likes_on_outofstation_checkin_received</th>\n",
       "      <td>5142</td>\n",
       "      <td>2913</td>\n",
       "      <td>3074</td>\n",
       "      <td>9532</td>\n",
       "      <td>3926</td>\n",
       "    </tr>\n",
       "    <tr>\n",
       "      <th>week_since_last_outstation_checkin</th>\n",
       "      <td>1</td>\n",
       "      <td>1</td>\n",
       "      <td>0</td>\n",
       "      <td>0</td>\n",
       "      <td>1</td>\n",
       "    </tr>\n",
       "    <tr>\n",
       "      <th>following_company_page</th>\n",
       "      <td>0</td>\n",
       "      <td>1</td>\n",
       "      <td>0</td>\n",
       "      <td>0</td>\n",
       "      <td>1</td>\n",
       "    </tr>\n",
       "    <tr>\n",
       "      <th>montly_avg_comment_on_company_page</th>\n",
       "      <td>33</td>\n",
       "      <td>19</td>\n",
       "      <td>23</td>\n",
       "      <td>33</td>\n",
       "      <td>33</td>\n",
       "    </tr>\n",
       "    <tr>\n",
       "      <th>working_flag</th>\n",
       "      <td>1</td>\n",
       "      <td>0</td>\n",
       "      <td>0</td>\n",
       "      <td>1</td>\n",
       "      <td>1</td>\n",
       "    </tr>\n",
       "    <tr>\n",
       "      <th>travelling_network_rating</th>\n",
       "      <td>4</td>\n",
       "      <td>3</td>\n",
       "      <td>3</td>\n",
       "      <td>2</td>\n",
       "      <td>2</td>\n",
       "    </tr>\n",
       "    <tr>\n",
       "      <th>Adult_flag</th>\n",
       "      <td>0</td>\n",
       "      <td>0</td>\n",
       "      <td>0</td>\n",
       "      <td>0</td>\n",
       "      <td>0</td>\n",
       "    </tr>\n",
       "    <tr>\n",
       "      <th>Daily_Avg_mins_spend_on_traveling_page</th>\n",
       "      <td>10</td>\n",
       "      <td>8</td>\n",
       "      <td>8</td>\n",
       "      <td>10</td>\n",
       "      <td>10</td>\n",
       "    </tr>\n",
       "  </tbody>\n",
       "</table>\n",
       "</div>"
      ],
      "text/plain": [
       "                                                   0       1       2       3  \\\n",
       "Taken_product                                      0       0       0       0   \n",
       "Yearly_avg_view_on_travel_page                 379.0   255.0   250.0   295.0   \n",
       "preferred_device                              Laptop  Laptop  Laptop  Laptop   \n",
       "total_likes_on_outstation_checkin_given         9776   48725   35184    7572   \n",
       "yearly_avg_Outstation_checkins                     8       3       2      23   \n",
       "member_in_family                                   1       4       2       3   \n",
       "preferred_location_type                        Beach   Beach   Beach   Beach   \n",
       "Yearly_avg_comment_on_travel_page                 64      59      84      48   \n",
       "total_likes_on_outofstation_checkin_received    5142    2913    3074    9532   \n",
       "week_since_last_outstation_checkin                 1       1       0       0   \n",
       "following_company_page                             0       1       0       0   \n",
       "montly_avg_comment_on_company_page                33      19      23      33   \n",
       "working_flag                                       1       0       0       1   \n",
       "travelling_network_rating                          4       3       3       2   \n",
       "Adult_flag                                         0       0       0       0   \n",
       "Daily_Avg_mins_spend_on_traveling_page            10       8       8      10   \n",
       "\n",
       "                                                   4  \n",
       "Taken_product                                      1  \n",
       "Yearly_avg_view_on_travel_page                 250.0  \n",
       "preferred_device                              Laptop  \n",
       "total_likes_on_outstation_checkin_given        39379  \n",
       "yearly_avg_Outstation_checkins                    16  \n",
       "member_in_family                                   1  \n",
       "preferred_location_type                        Beach  \n",
       "Yearly_avg_comment_on_travel_page                 80  \n",
       "total_likes_on_outofstation_checkin_received    3926  \n",
       "week_since_last_outstation_checkin                 1  \n",
       "following_company_page                             1  \n",
       "montly_avg_comment_on_company_page                33  \n",
       "working_flag                                       1  \n",
       "travelling_network_rating                          2  \n",
       "Adult_flag                                         0  \n",
       "Daily_Avg_mins_spend_on_traveling_page            10  "
      ]
     },
     "execution_count": 510,
     "metadata": {},
     "output_type": "execute_result"
    }
   ],
   "source": [
    "df1 = pd.read_excel(\"Laptop Dataset.xlsx\")\n",
    "\n",
    "df1.head().T"
   ]
  },
  {
   "cell_type": "code",
   "execution_count": 511,
   "id": "f9f52e8d",
   "metadata": {},
   "outputs": [
    {
     "data": {
      "text/plain": [
       "(1108, 16)"
      ]
     },
     "execution_count": 511,
     "metadata": {},
     "output_type": "execute_result"
    }
   ],
   "source": [
    "df1.shape"
   ]
  },
  {
   "cell_type": "code",
   "execution_count": 512,
   "id": "692e05a0",
   "metadata": {},
   "outputs": [
    {
     "data": {
      "text/html": [
       "<div>\n",
       "<style scoped>\n",
       "    .dataframe tbody tr th:only-of-type {\n",
       "        vertical-align: middle;\n",
       "    }\n",
       "\n",
       "    .dataframe tbody tr th {\n",
       "        vertical-align: top;\n",
       "    }\n",
       "\n",
       "    .dataframe thead th {\n",
       "        text-align: right;\n",
       "    }\n",
       "</style>\n",
       "<table border=\"1\" class=\"dataframe\">\n",
       "  <thead>\n",
       "    <tr style=\"text-align: right;\">\n",
       "      <th></th>\n",
       "      <th>count</th>\n",
       "      <th>mean</th>\n",
       "      <th>std</th>\n",
       "      <th>min</th>\n",
       "      <th>25%</th>\n",
       "      <th>50%</th>\n",
       "      <th>75%</th>\n",
       "      <th>max</th>\n",
       "    </tr>\n",
       "  </thead>\n",
       "  <tbody>\n",
       "    <tr>\n",
       "      <th>Taken_product</th>\n",
       "      <td>1108.0</td>\n",
       "      <td>0.249097</td>\n",
       "      <td>0.432686</td>\n",
       "      <td>0.0</td>\n",
       "      <td>0.00</td>\n",
       "      <td>0.0</td>\n",
       "      <td>0.00</td>\n",
       "      <td>1.0</td>\n",
       "    </tr>\n",
       "    <tr>\n",
       "      <th>Yearly_avg_view_on_travel_page</th>\n",
       "      <td>1108.0</td>\n",
       "      <td>282.115523</td>\n",
       "      <td>64.199977</td>\n",
       "      <td>138.0</td>\n",
       "      <td>237.00</td>\n",
       "      <td>270.5</td>\n",
       "      <td>325.00</td>\n",
       "      <td>455.5</td>\n",
       "    </tr>\n",
       "    <tr>\n",
       "      <th>total_likes_on_outstation_checkin_given</th>\n",
       "      <td>1108.0</td>\n",
       "      <td>27769.664260</td>\n",
       "      <td>13361.837042</td>\n",
       "      <td>3818.0</td>\n",
       "      <td>17650.25</td>\n",
       "      <td>26942.5</td>\n",
       "      <td>39380.25</td>\n",
       "      <td>52512.0</td>\n",
       "    </tr>\n",
       "    <tr>\n",
       "      <th>yearly_avg_Outstation_checkins</th>\n",
       "      <td>1108.0</td>\n",
       "      <td>9.277978</td>\n",
       "      <td>8.409913</td>\n",
       "      <td>1.0</td>\n",
       "      <td>2.00</td>\n",
       "      <td>7.0</td>\n",
       "      <td>15.00</td>\n",
       "      <td>29.0</td>\n",
       "    </tr>\n",
       "    <tr>\n",
       "      <th>member_in_family</th>\n",
       "      <td>1108.0</td>\n",
       "      <td>2.895307</td>\n",
       "      <td>1.044561</td>\n",
       "      <td>1.0</td>\n",
       "      <td>2.00</td>\n",
       "      <td>3.0</td>\n",
       "      <td>4.00</td>\n",
       "      <td>5.0</td>\n",
       "    </tr>\n",
       "    <tr>\n",
       "      <th>Yearly_avg_comment_on_travel_page</th>\n",
       "      <td>1108.0</td>\n",
       "      <td>77.496390</td>\n",
       "      <td>21.039323</td>\n",
       "      <td>33.0</td>\n",
       "      <td>60.00</td>\n",
       "      <td>77.0</td>\n",
       "      <td>95.00</td>\n",
       "      <td>125.0</td>\n",
       "    </tr>\n",
       "    <tr>\n",
       "      <th>total_likes_on_outofstation_checkin_received</th>\n",
       "      <td>1108.0</td>\n",
       "      <td>6130.675090</td>\n",
       "      <td>4105.791059</td>\n",
       "      <td>1098.0</td>\n",
       "      <td>2884.00</td>\n",
       "      <td>4759.5</td>\n",
       "      <td>7979.50</td>\n",
       "      <td>16572.0</td>\n",
       "    </tr>\n",
       "    <tr>\n",
       "      <th>week_since_last_outstation_checkin</th>\n",
       "      <td>1108.0</td>\n",
       "      <td>2.998195</td>\n",
       "      <td>2.493351</td>\n",
       "      <td>0.0</td>\n",
       "      <td>1.00</td>\n",
       "      <td>2.0</td>\n",
       "      <td>4.00</td>\n",
       "      <td>11.0</td>\n",
       "    </tr>\n",
       "    <tr>\n",
       "      <th>following_company_page</th>\n",
       "      <td>1108.0</td>\n",
       "      <td>0.310469</td>\n",
       "      <td>0.462895</td>\n",
       "      <td>0.0</td>\n",
       "      <td>0.00</td>\n",
       "      <td>0.0</td>\n",
       "      <td>1.00</td>\n",
       "      <td>1.0</td>\n",
       "    </tr>\n",
       "    <tr>\n",
       "      <th>montly_avg_comment_on_company_page</th>\n",
       "      <td>1108.0</td>\n",
       "      <td>26.391697</td>\n",
       "      <td>6.167198</td>\n",
       "      <td>14.0</td>\n",
       "      <td>22.00</td>\n",
       "      <td>26.0</td>\n",
       "      <td>31.00</td>\n",
       "      <td>42.0</td>\n",
       "    </tr>\n",
       "    <tr>\n",
       "      <th>working_flag</th>\n",
       "      <td>1108.0</td>\n",
       "      <td>0.166065</td>\n",
       "      <td>0.372307</td>\n",
       "      <td>0.0</td>\n",
       "      <td>0.00</td>\n",
       "      <td>0.0</td>\n",
       "      <td>0.00</td>\n",
       "      <td>1.0</td>\n",
       "    </tr>\n",
       "    <tr>\n",
       "      <th>travelling_network_rating</th>\n",
       "      <td>1108.0</td>\n",
       "      <td>2.776173</td>\n",
       "      <td>1.078864</td>\n",
       "      <td>1.0</td>\n",
       "      <td>2.00</td>\n",
       "      <td>3.0</td>\n",
       "      <td>4.00</td>\n",
       "      <td>4.0</td>\n",
       "    </tr>\n",
       "    <tr>\n",
       "      <th>Adult_flag</th>\n",
       "      <td>1108.0</td>\n",
       "      <td>0.151625</td>\n",
       "      <td>0.358819</td>\n",
       "      <td>0.0</td>\n",
       "      <td>0.00</td>\n",
       "      <td>0.0</td>\n",
       "      <td>0.00</td>\n",
       "      <td>1.0</td>\n",
       "    </tr>\n",
       "    <tr>\n",
       "      <th>Daily_Avg_mins_spend_on_traveling_page</th>\n",
       "      <td>1108.0</td>\n",
       "      <td>13.537004</td>\n",
       "      <td>7.926576</td>\n",
       "      <td>0.0</td>\n",
       "      <td>8.00</td>\n",
       "      <td>11.5</td>\n",
       "      <td>18.00</td>\n",
       "      <td>33.0</td>\n",
       "    </tr>\n",
       "  </tbody>\n",
       "</table>\n",
       "</div>"
      ],
      "text/plain": [
       "                                               count          mean  \\\n",
       "Taken_product                                 1108.0      0.249097   \n",
       "Yearly_avg_view_on_travel_page                1108.0    282.115523   \n",
       "total_likes_on_outstation_checkin_given       1108.0  27769.664260   \n",
       "yearly_avg_Outstation_checkins                1108.0      9.277978   \n",
       "member_in_family                              1108.0      2.895307   \n",
       "Yearly_avg_comment_on_travel_page             1108.0     77.496390   \n",
       "total_likes_on_outofstation_checkin_received  1108.0   6130.675090   \n",
       "week_since_last_outstation_checkin            1108.0      2.998195   \n",
       "following_company_page                        1108.0      0.310469   \n",
       "montly_avg_comment_on_company_page            1108.0     26.391697   \n",
       "working_flag                                  1108.0      0.166065   \n",
       "travelling_network_rating                     1108.0      2.776173   \n",
       "Adult_flag                                    1108.0      0.151625   \n",
       "Daily_Avg_mins_spend_on_traveling_page        1108.0     13.537004   \n",
       "\n",
       "                                                       std     min       25%  \\\n",
       "Taken_product                                     0.432686     0.0      0.00   \n",
       "Yearly_avg_view_on_travel_page                   64.199977   138.0    237.00   \n",
       "total_likes_on_outstation_checkin_given       13361.837042  3818.0  17650.25   \n",
       "yearly_avg_Outstation_checkins                    8.409913     1.0      2.00   \n",
       "member_in_family                                  1.044561     1.0      2.00   \n",
       "Yearly_avg_comment_on_travel_page                21.039323    33.0     60.00   \n",
       "total_likes_on_outofstation_checkin_received   4105.791059  1098.0   2884.00   \n",
       "week_since_last_outstation_checkin                2.493351     0.0      1.00   \n",
       "following_company_page                            0.462895     0.0      0.00   \n",
       "montly_avg_comment_on_company_page                6.167198    14.0     22.00   \n",
       "working_flag                                      0.372307     0.0      0.00   \n",
       "travelling_network_rating                         1.078864     1.0      2.00   \n",
       "Adult_flag                                        0.358819     0.0      0.00   \n",
       "Daily_Avg_mins_spend_on_traveling_page            7.926576     0.0      8.00   \n",
       "\n",
       "                                                  50%       75%      max  \n",
       "Taken_product                                     0.0      0.00      1.0  \n",
       "Yearly_avg_view_on_travel_page                  270.5    325.00    455.5  \n",
       "total_likes_on_outstation_checkin_given       26942.5  39380.25  52512.0  \n",
       "yearly_avg_Outstation_checkins                    7.0     15.00     29.0  \n",
       "member_in_family                                  3.0      4.00      5.0  \n",
       "Yearly_avg_comment_on_travel_page                77.0     95.00    125.0  \n",
       "total_likes_on_outofstation_checkin_received   4759.5   7979.50  16572.0  \n",
       "week_since_last_outstation_checkin                2.0      4.00     11.0  \n",
       "following_company_page                            0.0      1.00      1.0  \n",
       "montly_avg_comment_on_company_page               26.0     31.00     42.0  \n",
       "working_flag                                      0.0      0.00      1.0  \n",
       "travelling_network_rating                         3.0      4.00      4.0  \n",
       "Adult_flag                                        0.0      0.00      1.0  \n",
       "Daily_Avg_mins_spend_on_traveling_page           11.5     18.00     33.0  "
      ]
     },
     "execution_count": 512,
     "metadata": {},
     "output_type": "execute_result"
    }
   ],
   "source": [
    "df1.describe().T"
   ]
  },
  {
   "cell_type": "code",
   "execution_count": 513,
   "id": "258c1e2e",
   "metadata": {},
   "outputs": [
    {
     "name": "stdout",
     "output_type": "stream",
     "text": [
      "<class 'pandas.core.frame.DataFrame'>\n",
      "RangeIndex: 1108 entries, 0 to 1107\n",
      "Data columns (total 16 columns):\n",
      " #   Column                                        Non-Null Count  Dtype  \n",
      "---  ------                                        --------------  -----  \n",
      " 0   Taken_product                                 1108 non-null   int64  \n",
      " 1   Yearly_avg_view_on_travel_page                1108 non-null   float64\n",
      " 2   preferred_device                              1108 non-null   object \n",
      " 3   total_likes_on_outstation_checkin_given       1108 non-null   int64  \n",
      " 4   yearly_avg_Outstation_checkins                1108 non-null   int64  \n",
      " 5   member_in_family                              1108 non-null   int64  \n",
      " 6   preferred_location_type                       1108 non-null   object \n",
      " 7   Yearly_avg_comment_on_travel_page             1108 non-null   int64  \n",
      " 8   total_likes_on_outofstation_checkin_received  1108 non-null   int64  \n",
      " 9   week_since_last_outstation_checkin            1108 non-null   int64  \n",
      " 10  following_company_page                        1108 non-null   int64  \n",
      " 11  montly_avg_comment_on_company_page            1108 non-null   int64  \n",
      " 12  working_flag                                  1108 non-null   int64  \n",
      " 13  travelling_network_rating                     1108 non-null   int64  \n",
      " 14  Adult_flag                                    1108 non-null   int64  \n",
      " 15  Daily_Avg_mins_spend_on_traveling_page        1108 non-null   int64  \n",
      "dtypes: float64(1), int64(13), object(2)\n",
      "memory usage: 138.6+ KB\n"
     ]
    }
   ],
   "source": [
    "df1.info()"
   ]
  },
  {
   "cell_type": "code",
   "execution_count": 514,
   "id": "e2fa4745",
   "metadata": {},
   "outputs": [
    {
     "data": {
      "text/plain": [
       "Taken_product                                   0\n",
       "Yearly_avg_view_on_travel_page                  0\n",
       "preferred_device                                0\n",
       "total_likes_on_outstation_checkin_given         0\n",
       "yearly_avg_Outstation_checkins                  0\n",
       "member_in_family                                0\n",
       "preferred_location_type                         0\n",
       "Yearly_avg_comment_on_travel_page               0\n",
       "total_likes_on_outofstation_checkin_received    0\n",
       "week_since_last_outstation_checkin              0\n",
       "following_company_page                          0\n",
       "montly_avg_comment_on_company_page              0\n",
       "working_flag                                    0\n",
       "travelling_network_rating                       0\n",
       "Adult_flag                                      0\n",
       "Daily_Avg_mins_spend_on_traveling_page          0\n",
       "dtype: int64"
      ]
     },
     "execution_count": 514,
     "metadata": {},
     "output_type": "execute_result"
    }
   ],
   "source": [
    "df1.isnull().sum()"
   ]
  },
  {
   "cell_type": "code",
   "execution_count": 515,
   "id": "75b8841d",
   "metadata": {},
   "outputs": [
    {
     "data": {
      "text/html": [
       "<div>\n",
       "<style scoped>\n",
       "    .dataframe tbody tr th:only-of-type {\n",
       "        vertical-align: middle;\n",
       "    }\n",
       "\n",
       "    .dataframe tbody tr th {\n",
       "        vertical-align: top;\n",
       "    }\n",
       "\n",
       "    .dataframe thead th {\n",
       "        text-align: right;\n",
       "    }\n",
       "</style>\n",
       "<table border=\"1\" class=\"dataframe\">\n",
       "  <thead>\n",
       "    <tr style=\"text-align: right;\">\n",
       "      <th></th>\n",
       "      <th>Taken_product</th>\n",
       "      <th>Yearly_avg_view_on_travel_page</th>\n",
       "      <th>preferred_device</th>\n",
       "      <th>total_likes_on_outstation_checkin_given</th>\n",
       "      <th>yearly_avg_Outstation_checkins</th>\n",
       "      <th>member_in_family</th>\n",
       "      <th>preferred_location_type</th>\n",
       "      <th>Yearly_avg_comment_on_travel_page</th>\n",
       "      <th>total_likes_on_outofstation_checkin_received</th>\n",
       "      <th>week_since_last_outstation_checkin</th>\n",
       "      <th>following_company_page</th>\n",
       "      <th>montly_avg_comment_on_company_page</th>\n",
       "      <th>working_flag</th>\n",
       "      <th>travelling_network_rating</th>\n",
       "      <th>Adult_flag</th>\n",
       "      <th>Daily_Avg_mins_spend_on_traveling_page</th>\n",
       "    </tr>\n",
       "  </thead>\n",
       "  <tbody>\n",
       "    <tr>\n",
       "      <th>0</th>\n",
       "      <td>0</td>\n",
       "      <td>379.0</td>\n",
       "      <td>Laptop</td>\n",
       "      <td>9776</td>\n",
       "      <td>8</td>\n",
       "      <td>1</td>\n",
       "      <td>Beach</td>\n",
       "      <td>64</td>\n",
       "      <td>5142</td>\n",
       "      <td>1</td>\n",
       "      <td>0</td>\n",
       "      <td>33</td>\n",
       "      <td>1</td>\n",
       "      <td>4</td>\n",
       "      <td>0</td>\n",
       "      <td>10</td>\n",
       "    </tr>\n",
       "    <tr>\n",
       "      <th>1</th>\n",
       "      <td>0</td>\n",
       "      <td>255.0</td>\n",
       "      <td>Laptop</td>\n",
       "      <td>48725</td>\n",
       "      <td>3</td>\n",
       "      <td>4</td>\n",
       "      <td>Beach</td>\n",
       "      <td>59</td>\n",
       "      <td>2913</td>\n",
       "      <td>1</td>\n",
       "      <td>1</td>\n",
       "      <td>19</td>\n",
       "      <td>0</td>\n",
       "      <td>3</td>\n",
       "      <td>0</td>\n",
       "      <td>8</td>\n",
       "    </tr>\n",
       "    <tr>\n",
       "      <th>2</th>\n",
       "      <td>0</td>\n",
       "      <td>250.0</td>\n",
       "      <td>Laptop</td>\n",
       "      <td>35184</td>\n",
       "      <td>2</td>\n",
       "      <td>2</td>\n",
       "      <td>Beach</td>\n",
       "      <td>84</td>\n",
       "      <td>3074</td>\n",
       "      <td>0</td>\n",
       "      <td>0</td>\n",
       "      <td>23</td>\n",
       "      <td>0</td>\n",
       "      <td>3</td>\n",
       "      <td>0</td>\n",
       "      <td>8</td>\n",
       "    </tr>\n",
       "    <tr>\n",
       "      <th>3</th>\n",
       "      <td>0</td>\n",
       "      <td>295.0</td>\n",
       "      <td>Laptop</td>\n",
       "      <td>7572</td>\n",
       "      <td>23</td>\n",
       "      <td>3</td>\n",
       "      <td>Beach</td>\n",
       "      <td>48</td>\n",
       "      <td>9532</td>\n",
       "      <td>0</td>\n",
       "      <td>0</td>\n",
       "      <td>33</td>\n",
       "      <td>1</td>\n",
       "      <td>2</td>\n",
       "      <td>0</td>\n",
       "      <td>10</td>\n",
       "    </tr>\n",
       "    <tr>\n",
       "      <th>4</th>\n",
       "      <td>1</td>\n",
       "      <td>250.0</td>\n",
       "      <td>Laptop</td>\n",
       "      <td>39379</td>\n",
       "      <td>16</td>\n",
       "      <td>1</td>\n",
       "      <td>Beach</td>\n",
       "      <td>80</td>\n",
       "      <td>3926</td>\n",
       "      <td>1</td>\n",
       "      <td>1</td>\n",
       "      <td>33</td>\n",
       "      <td>1</td>\n",
       "      <td>2</td>\n",
       "      <td>0</td>\n",
       "      <td>10</td>\n",
       "    </tr>\n",
       "    <tr>\n",
       "      <th>...</th>\n",
       "      <td>...</td>\n",
       "      <td>...</td>\n",
       "      <td>...</td>\n",
       "      <td>...</td>\n",
       "      <td>...</td>\n",
       "      <td>...</td>\n",
       "      <td>...</td>\n",
       "      <td>...</td>\n",
       "      <td>...</td>\n",
       "      <td>...</td>\n",
       "      <td>...</td>\n",
       "      <td>...</td>\n",
       "      <td>...</td>\n",
       "      <td>...</td>\n",
       "      <td>...</td>\n",
       "      <td>...</td>\n",
       "    </tr>\n",
       "    <tr>\n",
       "      <th>1103</th>\n",
       "      <td>0</td>\n",
       "      <td>278.0</td>\n",
       "      <td>Laptop</td>\n",
       "      <td>24127</td>\n",
       "      <td>4</td>\n",
       "      <td>2</td>\n",
       "      <td>Beach</td>\n",
       "      <td>115</td>\n",
       "      <td>5184</td>\n",
       "      <td>7</td>\n",
       "      <td>0</td>\n",
       "      <td>35</td>\n",
       "      <td>0</td>\n",
       "      <td>2</td>\n",
       "      <td>1</td>\n",
       "      <td>23</td>\n",
       "    </tr>\n",
       "    <tr>\n",
       "      <th>1104</th>\n",
       "      <td>1</td>\n",
       "      <td>388.0</td>\n",
       "      <td>Laptop</td>\n",
       "      <td>30775</td>\n",
       "      <td>1</td>\n",
       "      <td>4</td>\n",
       "      <td>Beach</td>\n",
       "      <td>109</td>\n",
       "      <td>6787</td>\n",
       "      <td>8</td>\n",
       "      <td>0</td>\n",
       "      <td>29</td>\n",
       "      <td>0</td>\n",
       "      <td>4</td>\n",
       "      <td>1</td>\n",
       "      <td>14</td>\n",
       "    </tr>\n",
       "    <tr>\n",
       "      <th>1105</th>\n",
       "      <td>0</td>\n",
       "      <td>268.0</td>\n",
       "      <td>Laptop</td>\n",
       "      <td>42010</td>\n",
       "      <td>18</td>\n",
       "      <td>4</td>\n",
       "      <td>Beach</td>\n",
       "      <td>98</td>\n",
       "      <td>5753</td>\n",
       "      <td>2</td>\n",
       "      <td>1</td>\n",
       "      <td>34</td>\n",
       "      <td>0</td>\n",
       "      <td>4</td>\n",
       "      <td>1</td>\n",
       "      <td>17</td>\n",
       "    </tr>\n",
       "    <tr>\n",
       "      <th>1106</th>\n",
       "      <td>0</td>\n",
       "      <td>279.0</td>\n",
       "      <td>Laptop</td>\n",
       "      <td>30987</td>\n",
       "      <td>23</td>\n",
       "      <td>2</td>\n",
       "      <td>Historical site</td>\n",
       "      <td>58</td>\n",
       "      <td>2616</td>\n",
       "      <td>4</td>\n",
       "      <td>0</td>\n",
       "      <td>36</td>\n",
       "      <td>0</td>\n",
       "      <td>3</td>\n",
       "      <td>0</td>\n",
       "      <td>23</td>\n",
       "    </tr>\n",
       "    <tr>\n",
       "      <th>1107</th>\n",
       "      <td>0</td>\n",
       "      <td>382.0</td>\n",
       "      <td>Laptop</td>\n",
       "      <td>35851</td>\n",
       "      <td>2</td>\n",
       "      <td>3</td>\n",
       "      <td>Historical site</td>\n",
       "      <td>83</td>\n",
       "      <td>5444</td>\n",
       "      <td>3</td>\n",
       "      <td>0</td>\n",
       "      <td>32</td>\n",
       "      <td>0</td>\n",
       "      <td>4</td>\n",
       "      <td>0</td>\n",
       "      <td>20</td>\n",
       "    </tr>\n",
       "  </tbody>\n",
       "</table>\n",
       "<p>1108 rows × 16 columns</p>\n",
       "</div>"
      ],
      "text/plain": [
       "      Taken_product  Yearly_avg_view_on_travel_page preferred_device  \\\n",
       "0                 0                           379.0           Laptop   \n",
       "1                 0                           255.0           Laptop   \n",
       "2                 0                           250.0           Laptop   \n",
       "3                 0                           295.0           Laptop   \n",
       "4                 1                           250.0           Laptop   \n",
       "...             ...                             ...              ...   \n",
       "1103              0                           278.0           Laptop   \n",
       "1104              1                           388.0           Laptop   \n",
       "1105              0                           268.0           Laptop   \n",
       "1106              0                           279.0           Laptop   \n",
       "1107              0                           382.0           Laptop   \n",
       "\n",
       "      total_likes_on_outstation_checkin_given  yearly_avg_Outstation_checkins  \\\n",
       "0                                        9776                               8   \n",
       "1                                       48725                               3   \n",
       "2                                       35184                               2   \n",
       "3                                        7572                              23   \n",
       "4                                       39379                              16   \n",
       "...                                       ...                             ...   \n",
       "1103                                    24127                               4   \n",
       "1104                                    30775                               1   \n",
       "1105                                    42010                              18   \n",
       "1106                                    30987                              23   \n",
       "1107                                    35851                               2   \n",
       "\n",
       "      member_in_family preferred_location_type  \\\n",
       "0                    1                   Beach   \n",
       "1                    4                   Beach   \n",
       "2                    2                   Beach   \n",
       "3                    3                   Beach   \n",
       "4                    1                   Beach   \n",
       "...                ...                     ...   \n",
       "1103                 2                   Beach   \n",
       "1104                 4                   Beach   \n",
       "1105                 4                   Beach   \n",
       "1106                 2         Historical site   \n",
       "1107                 3         Historical site   \n",
       "\n",
       "      Yearly_avg_comment_on_travel_page  \\\n",
       "0                                    64   \n",
       "1                                    59   \n",
       "2                                    84   \n",
       "3                                    48   \n",
       "4                                    80   \n",
       "...                                 ...   \n",
       "1103                                115   \n",
       "1104                                109   \n",
       "1105                                 98   \n",
       "1106                                 58   \n",
       "1107                                 83   \n",
       "\n",
       "      total_likes_on_outofstation_checkin_received  \\\n",
       "0                                             5142   \n",
       "1                                             2913   \n",
       "2                                             3074   \n",
       "3                                             9532   \n",
       "4                                             3926   \n",
       "...                                            ...   \n",
       "1103                                          5184   \n",
       "1104                                          6787   \n",
       "1105                                          5753   \n",
       "1106                                          2616   \n",
       "1107                                          5444   \n",
       "\n",
       "      week_since_last_outstation_checkin  following_company_page  \\\n",
       "0                                      1                       0   \n",
       "1                                      1                       1   \n",
       "2                                      0                       0   \n",
       "3                                      0                       0   \n",
       "4                                      1                       1   \n",
       "...                                  ...                     ...   \n",
       "1103                                   7                       0   \n",
       "1104                                   8                       0   \n",
       "1105                                   2                       1   \n",
       "1106                                   4                       0   \n",
       "1107                                   3                       0   \n",
       "\n",
       "      montly_avg_comment_on_company_page  working_flag  \\\n",
       "0                                     33             1   \n",
       "1                                     19             0   \n",
       "2                                     23             0   \n",
       "3                                     33             1   \n",
       "4                                     33             1   \n",
       "...                                  ...           ...   \n",
       "1103                                  35             0   \n",
       "1104                                  29             0   \n",
       "1105                                  34             0   \n",
       "1106                                  36             0   \n",
       "1107                                  32             0   \n",
       "\n",
       "      travelling_network_rating  Adult_flag  \\\n",
       "0                             4           0   \n",
       "1                             3           0   \n",
       "2                             3           0   \n",
       "3                             2           0   \n",
       "4                             2           0   \n",
       "...                         ...         ...   \n",
       "1103                          2           1   \n",
       "1104                          4           1   \n",
       "1105                          4           1   \n",
       "1106                          3           0   \n",
       "1107                          4           0   \n",
       "\n",
       "      Daily_Avg_mins_spend_on_traveling_page  \n",
       "0                                         10  \n",
       "1                                          8  \n",
       "2                                          8  \n",
       "3                                         10  \n",
       "4                                         10  \n",
       "...                                      ...  \n",
       "1103                                      23  \n",
       "1104                                      14  \n",
       "1105                                      17  \n",
       "1106                                      23  \n",
       "1107                                      20  \n",
       "\n",
       "[1108 rows x 16 columns]"
      ]
     },
     "execution_count": 515,
     "metadata": {},
     "output_type": "execute_result"
    }
   ],
   "source": [
    "df1c=df1.copy()\n",
    "df1c"
   ]
  },
  {
   "cell_type": "code",
   "execution_count": 516,
   "id": "83de9fb0",
   "metadata": {},
   "outputs": [
    {
     "data": {
      "text/plain": [
       "Beach              492\n",
       "Historical site    344\n",
       "Big Cities         108\n",
       "Trekking            84\n",
       "Other               56\n",
       "Hill Stations       24\n",
       "Name: preferred_location_type, dtype: int64"
      ]
     },
     "execution_count": 516,
     "metadata": {},
     "output_type": "execute_result"
    }
   ],
   "source": [
    "df1c['preferred_location_type'].value_counts()"
   ]
  },
  {
   "cell_type": "code",
   "execution_count": 517,
   "id": "63e813c4",
   "metadata": {},
   "outputs": [
    {
     "name": "stdout",
     "output_type": "stream",
     "text": [
      "Feature: Preferred location type\n",
      "['Beach', 'Historical site', 'Big Cities', 'Trekking', 'Other', 'Hill Stations']\n",
      "Categories (6, object): ['Beach', 'Big Cities', 'Hill Stations', 'Historical site', 'Other', 'Trekking']\n",
      "[0 3 1 5 4 2]\n"
     ]
    }
   ],
   "source": [
    "print('Feature: Preferred location type')\n",
    "print(pd.Categorical(df1c['preferred_location_type'].unique()))\n",
    "print(pd.Categorical(df1c['preferred_location_type'].unique()).codes)\n",
    "df1c['preferred_location_type'] = pd.Categorical(df1c['preferred_location_type']).codes"
   ]
  },
  {
   "cell_type": "code",
   "execution_count": 518,
   "id": "bb432a7b",
   "metadata": {},
   "outputs": [
    {
     "data": {
      "text/plain": [
       "0    492\n",
       "3    344\n",
       "1    108\n",
       "5     84\n",
       "4     56\n",
       "2     24\n",
       "Name: preferred_location_type, dtype: int64"
      ]
     },
     "execution_count": 518,
     "metadata": {},
     "output_type": "execute_result"
    }
   ],
   "source": [
    "df1c['preferred_location_type'].value_counts()"
   ]
  },
  {
   "cell_type": "code",
   "execution_count": 519,
   "id": "c39f538c",
   "metadata": {},
   "outputs": [
    {
     "data": {
      "text/html": [
       "<div>\n",
       "<style scoped>\n",
       "    .dataframe tbody tr th:only-of-type {\n",
       "        vertical-align: middle;\n",
       "    }\n",
       "\n",
       "    .dataframe tbody tr th {\n",
       "        vertical-align: top;\n",
       "    }\n",
       "\n",
       "    .dataframe thead th {\n",
       "        text-align: right;\n",
       "    }\n",
       "</style>\n",
       "<table border=\"1\" class=\"dataframe\">\n",
       "  <thead>\n",
       "    <tr style=\"text-align: right;\">\n",
       "      <th></th>\n",
       "      <th>Taken_product</th>\n",
       "      <th>Yearly_avg_view_on_travel_page</th>\n",
       "      <th>preferred_device</th>\n",
       "      <th>total_likes_on_outstation_checkin_given</th>\n",
       "      <th>yearly_avg_Outstation_checkins</th>\n",
       "      <th>member_in_family</th>\n",
       "      <th>preferred_location_type</th>\n",
       "      <th>Yearly_avg_comment_on_travel_page</th>\n",
       "      <th>total_likes_on_outofstation_checkin_received</th>\n",
       "      <th>week_since_last_outstation_checkin</th>\n",
       "      <th>following_company_page</th>\n",
       "      <th>montly_avg_comment_on_company_page</th>\n",
       "      <th>working_flag</th>\n",
       "      <th>travelling_network_rating</th>\n",
       "      <th>Adult_flag</th>\n",
       "      <th>Daily_Avg_mins_spend_on_traveling_page</th>\n",
       "    </tr>\n",
       "  </thead>\n",
       "  <tbody>\n",
       "    <tr>\n",
       "      <th>0</th>\n",
       "      <td>0</td>\n",
       "      <td>379.0</td>\n",
       "      <td>Laptop</td>\n",
       "      <td>9776</td>\n",
       "      <td>8</td>\n",
       "      <td>1</td>\n",
       "      <td>0</td>\n",
       "      <td>64</td>\n",
       "      <td>5142</td>\n",
       "      <td>1</td>\n",
       "      <td>0</td>\n",
       "      <td>33</td>\n",
       "      <td>1</td>\n",
       "      <td>4</td>\n",
       "      <td>0</td>\n",
       "      <td>10</td>\n",
       "    </tr>\n",
       "    <tr>\n",
       "      <th>1</th>\n",
       "      <td>0</td>\n",
       "      <td>255.0</td>\n",
       "      <td>Laptop</td>\n",
       "      <td>48725</td>\n",
       "      <td>3</td>\n",
       "      <td>4</td>\n",
       "      <td>0</td>\n",
       "      <td>59</td>\n",
       "      <td>2913</td>\n",
       "      <td>1</td>\n",
       "      <td>1</td>\n",
       "      <td>19</td>\n",
       "      <td>0</td>\n",
       "      <td>3</td>\n",
       "      <td>0</td>\n",
       "      <td>8</td>\n",
       "    </tr>\n",
       "    <tr>\n",
       "      <th>2</th>\n",
       "      <td>0</td>\n",
       "      <td>250.0</td>\n",
       "      <td>Laptop</td>\n",
       "      <td>35184</td>\n",
       "      <td>2</td>\n",
       "      <td>2</td>\n",
       "      <td>0</td>\n",
       "      <td>84</td>\n",
       "      <td>3074</td>\n",
       "      <td>0</td>\n",
       "      <td>0</td>\n",
       "      <td>23</td>\n",
       "      <td>0</td>\n",
       "      <td>3</td>\n",
       "      <td>0</td>\n",
       "      <td>8</td>\n",
       "    </tr>\n",
       "    <tr>\n",
       "      <th>3</th>\n",
       "      <td>0</td>\n",
       "      <td>295.0</td>\n",
       "      <td>Laptop</td>\n",
       "      <td>7572</td>\n",
       "      <td>23</td>\n",
       "      <td>3</td>\n",
       "      <td>0</td>\n",
       "      <td>48</td>\n",
       "      <td>9532</td>\n",
       "      <td>0</td>\n",
       "      <td>0</td>\n",
       "      <td>33</td>\n",
       "      <td>1</td>\n",
       "      <td>2</td>\n",
       "      <td>0</td>\n",
       "      <td>10</td>\n",
       "    </tr>\n",
       "    <tr>\n",
       "      <th>4</th>\n",
       "      <td>1</td>\n",
       "      <td>250.0</td>\n",
       "      <td>Laptop</td>\n",
       "      <td>39379</td>\n",
       "      <td>16</td>\n",
       "      <td>1</td>\n",
       "      <td>0</td>\n",
       "      <td>80</td>\n",
       "      <td>3926</td>\n",
       "      <td>1</td>\n",
       "      <td>1</td>\n",
       "      <td>33</td>\n",
       "      <td>1</td>\n",
       "      <td>2</td>\n",
       "      <td>0</td>\n",
       "      <td>10</td>\n",
       "    </tr>\n",
       "  </tbody>\n",
       "</table>\n",
       "</div>"
      ],
      "text/plain": [
       "   Taken_product  Yearly_avg_view_on_travel_page preferred_device  \\\n",
       "0              0                           379.0           Laptop   \n",
       "1              0                           255.0           Laptop   \n",
       "2              0                           250.0           Laptop   \n",
       "3              0                           295.0           Laptop   \n",
       "4              1                           250.0           Laptop   \n",
       "\n",
       "   total_likes_on_outstation_checkin_given  yearly_avg_Outstation_checkins  \\\n",
       "0                                     9776                               8   \n",
       "1                                    48725                               3   \n",
       "2                                    35184                               2   \n",
       "3                                     7572                              23   \n",
       "4                                    39379                              16   \n",
       "\n",
       "   member_in_family  preferred_location_type  \\\n",
       "0                 1                        0   \n",
       "1                 4                        0   \n",
       "2                 2                        0   \n",
       "3                 3                        0   \n",
       "4                 1                        0   \n",
       "\n",
       "   Yearly_avg_comment_on_travel_page  \\\n",
       "0                                 64   \n",
       "1                                 59   \n",
       "2                                 84   \n",
       "3                                 48   \n",
       "4                                 80   \n",
       "\n",
       "   total_likes_on_outofstation_checkin_received  \\\n",
       "0                                          5142   \n",
       "1                                          2913   \n",
       "2                                          3074   \n",
       "3                                          9532   \n",
       "4                                          3926   \n",
       "\n",
       "   week_since_last_outstation_checkin  following_company_page  \\\n",
       "0                                   1                       0   \n",
       "1                                   1                       1   \n",
       "2                                   0                       0   \n",
       "3                                   0                       0   \n",
       "4                                   1                       1   \n",
       "\n",
       "   montly_avg_comment_on_company_page  working_flag  \\\n",
       "0                                  33             1   \n",
       "1                                  19             0   \n",
       "2                                  23             0   \n",
       "3                                  33             1   \n",
       "4                                  33             1   \n",
       "\n",
       "   travelling_network_rating  Adult_flag  \\\n",
       "0                          4           0   \n",
       "1                          3           0   \n",
       "2                          3           0   \n",
       "3                          2           0   \n",
       "4                          2           0   \n",
       "\n",
       "   Daily_Avg_mins_spend_on_traveling_page  \n",
       "0                                      10  \n",
       "1                                       8  \n",
       "2                                       8  \n",
       "3                                      10  \n",
       "4                                      10  "
      ]
     },
     "execution_count": 519,
     "metadata": {},
     "output_type": "execute_result"
    }
   ],
   "source": [
    "df_laptop = df1c.copy()\n",
    "\n",
    "df_laptop.head()"
   ]
  },
  {
   "cell_type": "code",
   "execution_count": 520,
   "id": "8916602d",
   "metadata": {},
   "outputs": [
    {
     "name": "stdout",
     "output_type": "stream",
     "text": [
      "<class 'pandas.core.frame.DataFrame'>\n",
      "RangeIndex: 1108 entries, 0 to 1107\n",
      "Data columns (total 16 columns):\n",
      " #   Column                                        Non-Null Count  Dtype  \n",
      "---  ------                                        --------------  -----  \n",
      " 0   Taken_product                                 1108 non-null   int64  \n",
      " 1   Yearly_avg_view_on_travel_page                1108 non-null   float64\n",
      " 2   preferred_device                              1108 non-null   object \n",
      " 3   total_likes_on_outstation_checkin_given       1108 non-null   int64  \n",
      " 4   yearly_avg_Outstation_checkins                1108 non-null   int64  \n",
      " 5   member_in_family                              1108 non-null   int64  \n",
      " 6   preferred_location_type                       1108 non-null   int8   \n",
      " 7   Yearly_avg_comment_on_travel_page             1108 non-null   int64  \n",
      " 8   total_likes_on_outofstation_checkin_received  1108 non-null   int64  \n",
      " 9   week_since_last_outstation_checkin            1108 non-null   int64  \n",
      " 10  following_company_page                        1108 non-null   int64  \n",
      " 11  montly_avg_comment_on_company_page            1108 non-null   int64  \n",
      " 12  working_flag                                  1108 non-null   int64  \n",
      " 13  travelling_network_rating                     1108 non-null   int64  \n",
      " 14  Adult_flag                                    1108 non-null   int64  \n",
      " 15  Daily_Avg_mins_spend_on_traveling_page        1108 non-null   int64  \n",
      "dtypes: float64(1), int64(13), int8(1), object(1)\n",
      "memory usage: 131.1+ KB\n"
     ]
    }
   ],
   "source": [
    "df_laptop.info()"
   ]
  },
  {
   "cell_type": "code",
   "execution_count": 521,
   "id": "18fb5cc2",
   "metadata": {},
   "outputs": [
    {
     "data": {
      "text/plain": [
       "(1108, 16)"
      ]
     },
     "execution_count": 521,
     "metadata": {},
     "output_type": "execute_result"
    }
   ],
   "source": [
    "df_laptop.shape"
   ]
  },
  {
   "cell_type": "code",
   "execution_count": 522,
   "id": "fb395a23",
   "metadata": {},
   "outputs": [],
   "source": [
    "from scipy.stats import zscore"
   ]
  },
  {
   "cell_type": "code",
   "execution_count": 523,
   "id": "fafda851",
   "metadata": {},
   "outputs": [
    {
     "data": {
      "text/html": [
       "<div>\n",
       "<style scoped>\n",
       "    .dataframe tbody tr th:only-of-type {\n",
       "        vertical-align: middle;\n",
       "    }\n",
       "\n",
       "    .dataframe tbody tr th {\n",
       "        vertical-align: top;\n",
       "    }\n",
       "\n",
       "    .dataframe thead th {\n",
       "        text-align: right;\n",
       "    }\n",
       "</style>\n",
       "<table border=\"1\" class=\"dataframe\">\n",
       "  <thead>\n",
       "    <tr style=\"text-align: right;\">\n",
       "      <th></th>\n",
       "      <th>Taken_product</th>\n",
       "      <th>Yearly_avg_view_on_travel_page</th>\n",
       "      <th>preferred_device</th>\n",
       "      <th>total_likes_on_outstation_checkin_given</th>\n",
       "      <th>yearly_avg_Outstation_checkins</th>\n",
       "      <th>member_in_family</th>\n",
       "      <th>preferred_location_type</th>\n",
       "      <th>Yearly_avg_comment_on_travel_page</th>\n",
       "      <th>total_likes_on_outofstation_checkin_received</th>\n",
       "      <th>week_since_last_outstation_checkin</th>\n",
       "      <th>following_company_page</th>\n",
       "      <th>montly_avg_comment_on_company_page</th>\n",
       "      <th>working_flag</th>\n",
       "      <th>travelling_network_rating</th>\n",
       "      <th>Adult_flag</th>\n",
       "      <th>Daily_Avg_mins_spend_on_traveling_page</th>\n",
       "    </tr>\n",
       "  </thead>\n",
       "  <tbody>\n",
       "    <tr>\n",
       "      <th>0</th>\n",
       "      <td>0</td>\n",
       "      <td>379.0</td>\n",
       "      <td>Laptop</td>\n",
       "      <td>9776</td>\n",
       "      <td>8</td>\n",
       "      <td>1</td>\n",
       "      <td>0</td>\n",
       "      <td>64</td>\n",
       "      <td>5142</td>\n",
       "      <td>1</td>\n",
       "      <td>0</td>\n",
       "      <td>33</td>\n",
       "      <td>1</td>\n",
       "      <td>4</td>\n",
       "      <td>0</td>\n",
       "      <td>10</td>\n",
       "    </tr>\n",
       "    <tr>\n",
       "      <th>1</th>\n",
       "      <td>0</td>\n",
       "      <td>255.0</td>\n",
       "      <td>Laptop</td>\n",
       "      <td>48725</td>\n",
       "      <td>3</td>\n",
       "      <td>4</td>\n",
       "      <td>0</td>\n",
       "      <td>59</td>\n",
       "      <td>2913</td>\n",
       "      <td>1</td>\n",
       "      <td>1</td>\n",
       "      <td>19</td>\n",
       "      <td>0</td>\n",
       "      <td>3</td>\n",
       "      <td>0</td>\n",
       "      <td>8</td>\n",
       "    </tr>\n",
       "    <tr>\n",
       "      <th>2</th>\n",
       "      <td>0</td>\n",
       "      <td>250.0</td>\n",
       "      <td>Laptop</td>\n",
       "      <td>35184</td>\n",
       "      <td>2</td>\n",
       "      <td>2</td>\n",
       "      <td>0</td>\n",
       "      <td>84</td>\n",
       "      <td>3074</td>\n",
       "      <td>0</td>\n",
       "      <td>0</td>\n",
       "      <td>23</td>\n",
       "      <td>0</td>\n",
       "      <td>3</td>\n",
       "      <td>0</td>\n",
       "      <td>8</td>\n",
       "    </tr>\n",
       "    <tr>\n",
       "      <th>3</th>\n",
       "      <td>0</td>\n",
       "      <td>295.0</td>\n",
       "      <td>Laptop</td>\n",
       "      <td>7572</td>\n",
       "      <td>23</td>\n",
       "      <td>3</td>\n",
       "      <td>0</td>\n",
       "      <td>48</td>\n",
       "      <td>9532</td>\n",
       "      <td>0</td>\n",
       "      <td>0</td>\n",
       "      <td>33</td>\n",
       "      <td>1</td>\n",
       "      <td>2</td>\n",
       "      <td>0</td>\n",
       "      <td>10</td>\n",
       "    </tr>\n",
       "    <tr>\n",
       "      <th>4</th>\n",
       "      <td>1</td>\n",
       "      <td>250.0</td>\n",
       "      <td>Laptop</td>\n",
       "      <td>39379</td>\n",
       "      <td>16</td>\n",
       "      <td>1</td>\n",
       "      <td>0</td>\n",
       "      <td>80</td>\n",
       "      <td>3926</td>\n",
       "      <td>1</td>\n",
       "      <td>1</td>\n",
       "      <td>33</td>\n",
       "      <td>1</td>\n",
       "      <td>2</td>\n",
       "      <td>0</td>\n",
       "      <td>10</td>\n",
       "    </tr>\n",
       "    <tr>\n",
       "      <th>...</th>\n",
       "      <td>...</td>\n",
       "      <td>...</td>\n",
       "      <td>...</td>\n",
       "      <td>...</td>\n",
       "      <td>...</td>\n",
       "      <td>...</td>\n",
       "      <td>...</td>\n",
       "      <td>...</td>\n",
       "      <td>...</td>\n",
       "      <td>...</td>\n",
       "      <td>...</td>\n",
       "      <td>...</td>\n",
       "      <td>...</td>\n",
       "      <td>...</td>\n",
       "      <td>...</td>\n",
       "      <td>...</td>\n",
       "    </tr>\n",
       "    <tr>\n",
       "      <th>1103</th>\n",
       "      <td>0</td>\n",
       "      <td>278.0</td>\n",
       "      <td>Laptop</td>\n",
       "      <td>24127</td>\n",
       "      <td>4</td>\n",
       "      <td>2</td>\n",
       "      <td>0</td>\n",
       "      <td>115</td>\n",
       "      <td>5184</td>\n",
       "      <td>7</td>\n",
       "      <td>0</td>\n",
       "      <td>35</td>\n",
       "      <td>0</td>\n",
       "      <td>2</td>\n",
       "      <td>1</td>\n",
       "      <td>23</td>\n",
       "    </tr>\n",
       "    <tr>\n",
       "      <th>1104</th>\n",
       "      <td>1</td>\n",
       "      <td>388.0</td>\n",
       "      <td>Laptop</td>\n",
       "      <td>30775</td>\n",
       "      <td>1</td>\n",
       "      <td>4</td>\n",
       "      <td>0</td>\n",
       "      <td>109</td>\n",
       "      <td>6787</td>\n",
       "      <td>8</td>\n",
       "      <td>0</td>\n",
       "      <td>29</td>\n",
       "      <td>0</td>\n",
       "      <td>4</td>\n",
       "      <td>1</td>\n",
       "      <td>14</td>\n",
       "    </tr>\n",
       "    <tr>\n",
       "      <th>1105</th>\n",
       "      <td>0</td>\n",
       "      <td>268.0</td>\n",
       "      <td>Laptop</td>\n",
       "      <td>42010</td>\n",
       "      <td>18</td>\n",
       "      <td>4</td>\n",
       "      <td>0</td>\n",
       "      <td>98</td>\n",
       "      <td>5753</td>\n",
       "      <td>2</td>\n",
       "      <td>1</td>\n",
       "      <td>34</td>\n",
       "      <td>0</td>\n",
       "      <td>4</td>\n",
       "      <td>1</td>\n",
       "      <td>17</td>\n",
       "    </tr>\n",
       "    <tr>\n",
       "      <th>1106</th>\n",
       "      <td>0</td>\n",
       "      <td>279.0</td>\n",
       "      <td>Laptop</td>\n",
       "      <td>30987</td>\n",
       "      <td>23</td>\n",
       "      <td>2</td>\n",
       "      <td>3</td>\n",
       "      <td>58</td>\n",
       "      <td>2616</td>\n",
       "      <td>4</td>\n",
       "      <td>0</td>\n",
       "      <td>36</td>\n",
       "      <td>0</td>\n",
       "      <td>3</td>\n",
       "      <td>0</td>\n",
       "      <td>23</td>\n",
       "    </tr>\n",
       "    <tr>\n",
       "      <th>1107</th>\n",
       "      <td>0</td>\n",
       "      <td>382.0</td>\n",
       "      <td>Laptop</td>\n",
       "      <td>35851</td>\n",
       "      <td>2</td>\n",
       "      <td>3</td>\n",
       "      <td>3</td>\n",
       "      <td>83</td>\n",
       "      <td>5444</td>\n",
       "      <td>3</td>\n",
       "      <td>0</td>\n",
       "      <td>32</td>\n",
       "      <td>0</td>\n",
       "      <td>4</td>\n",
       "      <td>0</td>\n",
       "      <td>20</td>\n",
       "    </tr>\n",
       "  </tbody>\n",
       "</table>\n",
       "<p>1108 rows × 16 columns</p>\n",
       "</div>"
      ],
      "text/plain": [
       "      Taken_product  Yearly_avg_view_on_travel_page preferred_device  \\\n",
       "0                 0                           379.0           Laptop   \n",
       "1                 0                           255.0           Laptop   \n",
       "2                 0                           250.0           Laptop   \n",
       "3                 0                           295.0           Laptop   \n",
       "4                 1                           250.0           Laptop   \n",
       "...             ...                             ...              ...   \n",
       "1103              0                           278.0           Laptop   \n",
       "1104              1                           388.0           Laptop   \n",
       "1105              0                           268.0           Laptop   \n",
       "1106              0                           279.0           Laptop   \n",
       "1107              0                           382.0           Laptop   \n",
       "\n",
       "      total_likes_on_outstation_checkin_given  yearly_avg_Outstation_checkins  \\\n",
       "0                                        9776                               8   \n",
       "1                                       48725                               3   \n",
       "2                                       35184                               2   \n",
       "3                                        7572                              23   \n",
       "4                                       39379                              16   \n",
       "...                                       ...                             ...   \n",
       "1103                                    24127                               4   \n",
       "1104                                    30775                               1   \n",
       "1105                                    42010                              18   \n",
       "1106                                    30987                              23   \n",
       "1107                                    35851                               2   \n",
       "\n",
       "      member_in_family  preferred_location_type  \\\n",
       "0                    1                        0   \n",
       "1                    4                        0   \n",
       "2                    2                        0   \n",
       "3                    3                        0   \n",
       "4                    1                        0   \n",
       "...                ...                      ...   \n",
       "1103                 2                        0   \n",
       "1104                 4                        0   \n",
       "1105                 4                        0   \n",
       "1106                 2                        3   \n",
       "1107                 3                        3   \n",
       "\n",
       "      Yearly_avg_comment_on_travel_page  \\\n",
       "0                                    64   \n",
       "1                                    59   \n",
       "2                                    84   \n",
       "3                                    48   \n",
       "4                                    80   \n",
       "...                                 ...   \n",
       "1103                                115   \n",
       "1104                                109   \n",
       "1105                                 98   \n",
       "1106                                 58   \n",
       "1107                                 83   \n",
       "\n",
       "      total_likes_on_outofstation_checkin_received  \\\n",
       "0                                             5142   \n",
       "1                                             2913   \n",
       "2                                             3074   \n",
       "3                                             9532   \n",
       "4                                             3926   \n",
       "...                                            ...   \n",
       "1103                                          5184   \n",
       "1104                                          6787   \n",
       "1105                                          5753   \n",
       "1106                                          2616   \n",
       "1107                                          5444   \n",
       "\n",
       "      week_since_last_outstation_checkin  following_company_page  \\\n",
       "0                                      1                       0   \n",
       "1                                      1                       1   \n",
       "2                                      0                       0   \n",
       "3                                      0                       0   \n",
       "4                                      1                       1   \n",
       "...                                  ...                     ...   \n",
       "1103                                   7                       0   \n",
       "1104                                   8                       0   \n",
       "1105                                   2                       1   \n",
       "1106                                   4                       0   \n",
       "1107                                   3                       0   \n",
       "\n",
       "      montly_avg_comment_on_company_page  working_flag  \\\n",
       "0                                     33             1   \n",
       "1                                     19             0   \n",
       "2                                     23             0   \n",
       "3                                     33             1   \n",
       "4                                     33             1   \n",
       "...                                  ...           ...   \n",
       "1103                                  35             0   \n",
       "1104                                  29             0   \n",
       "1105                                  34             0   \n",
       "1106                                  36             0   \n",
       "1107                                  32             0   \n",
       "\n",
       "      travelling_network_rating  Adult_flag  \\\n",
       "0                             4           0   \n",
       "1                             3           0   \n",
       "2                             3           0   \n",
       "3                             2           0   \n",
       "4                             2           0   \n",
       "...                         ...         ...   \n",
       "1103                          2           1   \n",
       "1104                          4           1   \n",
       "1105                          4           1   \n",
       "1106                          3           0   \n",
       "1107                          4           0   \n",
       "\n",
       "      Daily_Avg_mins_spend_on_traveling_page  \n",
       "0                                         10  \n",
       "1                                          8  \n",
       "2                                          8  \n",
       "3                                         10  \n",
       "4                                         10  \n",
       "...                                      ...  \n",
       "1103                                      23  \n",
       "1104                                      14  \n",
       "1105                                      17  \n",
       "1106                                      23  \n",
       "1107                                      20  \n",
       "\n",
       "[1108 rows x 16 columns]"
      ]
     },
     "execution_count": 523,
     "metadata": {},
     "output_type": "execute_result"
    }
   ],
   "source": [
    "df_laptop"
   ]
  },
  {
   "cell_type": "code",
   "execution_count": 524,
   "id": "48f03dee",
   "metadata": {},
   "outputs": [],
   "source": [
    "df_laptop['preferred_device']=df_laptop['preferred_device'].replace({'Laptop':1})"
   ]
  },
  {
   "cell_type": "code",
   "execution_count": 525,
   "id": "a452ea80",
   "metadata": {},
   "outputs": [
    {
     "data": {
      "text/plain": [
       "1    1108\n",
       "Name: preferred_device, dtype: int64"
      ]
     },
     "execution_count": 525,
     "metadata": {},
     "output_type": "execute_result"
    }
   ],
   "source": [
    "df_laptop['preferred_device'].value_counts()"
   ]
  },
  {
   "cell_type": "code",
   "execution_count": 526,
   "id": "b1c76767",
   "metadata": {},
   "outputs": [],
   "source": [
    "X= df_laptop.drop([\"Taken_product\"],axis=1)"
   ]
  },
  {
   "cell_type": "code",
   "execution_count": 527,
   "id": "8f3d3af3",
   "metadata": {},
   "outputs": [],
   "source": [
    "y=df_laptop.Taken_product"
   ]
  },
  {
   "cell_type": "code",
   "execution_count": 528,
   "id": "a9e9b37f",
   "metadata": {},
   "outputs": [
    {
     "data": {
      "text/html": [
       "<div>\n",
       "<style scoped>\n",
       "    .dataframe tbody tr th:only-of-type {\n",
       "        vertical-align: middle;\n",
       "    }\n",
       "\n",
       "    .dataframe tbody tr th {\n",
       "        vertical-align: top;\n",
       "    }\n",
       "\n",
       "    .dataframe thead th {\n",
       "        text-align: right;\n",
       "    }\n",
       "</style>\n",
       "<table border=\"1\" class=\"dataframe\">\n",
       "  <thead>\n",
       "    <tr style=\"text-align: right;\">\n",
       "      <th></th>\n",
       "      <th>Yearly_avg_view_on_travel_page</th>\n",
       "      <th>preferred_device</th>\n",
       "      <th>total_likes_on_outstation_checkin_given</th>\n",
       "      <th>yearly_avg_Outstation_checkins</th>\n",
       "      <th>member_in_family</th>\n",
       "      <th>preferred_location_type</th>\n",
       "      <th>Yearly_avg_comment_on_travel_page</th>\n",
       "      <th>total_likes_on_outofstation_checkin_received</th>\n",
       "      <th>week_since_last_outstation_checkin</th>\n",
       "      <th>following_company_page</th>\n",
       "      <th>montly_avg_comment_on_company_page</th>\n",
       "      <th>working_flag</th>\n",
       "      <th>travelling_network_rating</th>\n",
       "      <th>Adult_flag</th>\n",
       "      <th>Daily_Avg_mins_spend_on_traveling_page</th>\n",
       "    </tr>\n",
       "  </thead>\n",
       "  <tbody>\n",
       "    <tr>\n",
       "      <th>0</th>\n",
       "      <td>379.0</td>\n",
       "      <td>1</td>\n",
       "      <td>9776</td>\n",
       "      <td>8</td>\n",
       "      <td>1</td>\n",
       "      <td>0</td>\n",
       "      <td>64</td>\n",
       "      <td>5142</td>\n",
       "      <td>1</td>\n",
       "      <td>0</td>\n",
       "      <td>33</td>\n",
       "      <td>1</td>\n",
       "      <td>4</td>\n",
       "      <td>0</td>\n",
       "      <td>10</td>\n",
       "    </tr>\n",
       "    <tr>\n",
       "      <th>1</th>\n",
       "      <td>255.0</td>\n",
       "      <td>1</td>\n",
       "      <td>48725</td>\n",
       "      <td>3</td>\n",
       "      <td>4</td>\n",
       "      <td>0</td>\n",
       "      <td>59</td>\n",
       "      <td>2913</td>\n",
       "      <td>1</td>\n",
       "      <td>1</td>\n",
       "      <td>19</td>\n",
       "      <td>0</td>\n",
       "      <td>3</td>\n",
       "      <td>0</td>\n",
       "      <td>8</td>\n",
       "    </tr>\n",
       "    <tr>\n",
       "      <th>2</th>\n",
       "      <td>250.0</td>\n",
       "      <td>1</td>\n",
       "      <td>35184</td>\n",
       "      <td>2</td>\n",
       "      <td>2</td>\n",
       "      <td>0</td>\n",
       "      <td>84</td>\n",
       "      <td>3074</td>\n",
       "      <td>0</td>\n",
       "      <td>0</td>\n",
       "      <td>23</td>\n",
       "      <td>0</td>\n",
       "      <td>3</td>\n",
       "      <td>0</td>\n",
       "      <td>8</td>\n",
       "    </tr>\n",
       "    <tr>\n",
       "      <th>3</th>\n",
       "      <td>295.0</td>\n",
       "      <td>1</td>\n",
       "      <td>7572</td>\n",
       "      <td>23</td>\n",
       "      <td>3</td>\n",
       "      <td>0</td>\n",
       "      <td>48</td>\n",
       "      <td>9532</td>\n",
       "      <td>0</td>\n",
       "      <td>0</td>\n",
       "      <td>33</td>\n",
       "      <td>1</td>\n",
       "      <td>2</td>\n",
       "      <td>0</td>\n",
       "      <td>10</td>\n",
       "    </tr>\n",
       "    <tr>\n",
       "      <th>4</th>\n",
       "      <td>250.0</td>\n",
       "      <td>1</td>\n",
       "      <td>39379</td>\n",
       "      <td>16</td>\n",
       "      <td>1</td>\n",
       "      <td>0</td>\n",
       "      <td>80</td>\n",
       "      <td>3926</td>\n",
       "      <td>1</td>\n",
       "      <td>1</td>\n",
       "      <td>33</td>\n",
       "      <td>1</td>\n",
       "      <td>2</td>\n",
       "      <td>0</td>\n",
       "      <td>10</td>\n",
       "    </tr>\n",
       "  </tbody>\n",
       "</table>\n",
       "</div>"
      ],
      "text/plain": [
       "   Yearly_avg_view_on_travel_page  preferred_device  \\\n",
       "0                           379.0                 1   \n",
       "1                           255.0                 1   \n",
       "2                           250.0                 1   \n",
       "3                           295.0                 1   \n",
       "4                           250.0                 1   \n",
       "\n",
       "   total_likes_on_outstation_checkin_given  yearly_avg_Outstation_checkins  \\\n",
       "0                                     9776                               8   \n",
       "1                                    48725                               3   \n",
       "2                                    35184                               2   \n",
       "3                                     7572                              23   \n",
       "4                                    39379                              16   \n",
       "\n",
       "   member_in_family  preferred_location_type  \\\n",
       "0                 1                        0   \n",
       "1                 4                        0   \n",
       "2                 2                        0   \n",
       "3                 3                        0   \n",
       "4                 1                        0   \n",
       "\n",
       "   Yearly_avg_comment_on_travel_page  \\\n",
       "0                                 64   \n",
       "1                                 59   \n",
       "2                                 84   \n",
       "3                                 48   \n",
       "4                                 80   \n",
       "\n",
       "   total_likes_on_outofstation_checkin_received  \\\n",
       "0                                          5142   \n",
       "1                                          2913   \n",
       "2                                          3074   \n",
       "3                                          9532   \n",
       "4                                          3926   \n",
       "\n",
       "   week_since_last_outstation_checkin  following_company_page  \\\n",
       "0                                   1                       0   \n",
       "1                                   1                       1   \n",
       "2                                   0                       0   \n",
       "3                                   0                       0   \n",
       "4                                   1                       1   \n",
       "\n",
       "   montly_avg_comment_on_company_page  working_flag  \\\n",
       "0                                  33             1   \n",
       "1                                  19             0   \n",
       "2                                  23             0   \n",
       "3                                  33             1   \n",
       "4                                  33             1   \n",
       "\n",
       "   travelling_network_rating  Adult_flag  \\\n",
       "0                          4           0   \n",
       "1                          3           0   \n",
       "2                          3           0   \n",
       "3                          2           0   \n",
       "4                          2           0   \n",
       "\n",
       "   Daily_Avg_mins_spend_on_traveling_page  \n",
       "0                                      10  \n",
       "1                                       8  \n",
       "2                                       8  \n",
       "3                                      10  \n",
       "4                                      10  "
      ]
     },
     "execution_count": 528,
     "metadata": {},
     "output_type": "execute_result"
    }
   ],
   "source": [
    "X.head()"
   ]
  },
  {
   "cell_type": "code",
   "execution_count": 529,
   "id": "e2bb4e7d",
   "metadata": {},
   "outputs": [
    {
     "data": {
      "text/plain": [
       "0    0\n",
       "1    0\n",
       "2    0\n",
       "3    0\n",
       "4    1\n",
       "Name: Taken_product, dtype: int64"
      ]
     },
     "execution_count": 529,
     "metadata": {},
     "output_type": "execute_result"
    }
   ],
   "source": [
    "y.head()"
   ]
  },
  {
   "cell_type": "code",
   "execution_count": 530,
   "id": "85bb5cef",
   "metadata": {},
   "outputs": [],
   "source": [
    "from sklearn.model_selection import train_test_split\n",
    "\n",
    "X_train, X_test, y_train, y_test = train_test_split(X, y, test_size=.30, random_state=1)"
   ]
  },
  {
   "cell_type": "code",
   "execution_count": 531,
   "id": "dffba42f",
   "metadata": {},
   "outputs": [
    {
     "data": {
      "text/html": [
       "<div>\n",
       "<style scoped>\n",
       "    .dataframe tbody tr th:only-of-type {\n",
       "        vertical-align: middle;\n",
       "    }\n",
       "\n",
       "    .dataframe tbody tr th {\n",
       "        vertical-align: top;\n",
       "    }\n",
       "\n",
       "    .dataframe thead th {\n",
       "        text-align: right;\n",
       "    }\n",
       "</style>\n",
       "<table border=\"1\" class=\"dataframe\">\n",
       "  <thead>\n",
       "    <tr style=\"text-align: right;\">\n",
       "      <th></th>\n",
       "      <th>Yearly_avg_view_on_travel_page</th>\n",
       "      <th>preferred_device</th>\n",
       "      <th>total_likes_on_outstation_checkin_given</th>\n",
       "      <th>yearly_avg_Outstation_checkins</th>\n",
       "      <th>member_in_family</th>\n",
       "      <th>preferred_location_type</th>\n",
       "      <th>Yearly_avg_comment_on_travel_page</th>\n",
       "      <th>total_likes_on_outofstation_checkin_received</th>\n",
       "      <th>week_since_last_outstation_checkin</th>\n",
       "      <th>following_company_page</th>\n",
       "      <th>montly_avg_comment_on_company_page</th>\n",
       "      <th>working_flag</th>\n",
       "      <th>travelling_network_rating</th>\n",
       "      <th>Adult_flag</th>\n",
       "      <th>Daily_Avg_mins_spend_on_traveling_page</th>\n",
       "    </tr>\n",
       "  </thead>\n",
       "  <tbody>\n",
       "    <tr>\n",
       "      <th>667</th>\n",
       "      <td>328.0</td>\n",
       "      <td>1</td>\n",
       "      <td>20006</td>\n",
       "      <td>8</td>\n",
       "      <td>3</td>\n",
       "      <td>0</td>\n",
       "      <td>81</td>\n",
       "      <td>16572</td>\n",
       "      <td>2</td>\n",
       "      <td>0</td>\n",
       "      <td>26</td>\n",
       "      <td>0</td>\n",
       "      <td>2</td>\n",
       "      <td>0</td>\n",
       "      <td>33</td>\n",
       "    </tr>\n",
       "    <tr>\n",
       "      <th>737</th>\n",
       "      <td>281.0</td>\n",
       "      <td>1</td>\n",
       "      <td>21306</td>\n",
       "      <td>7</td>\n",
       "      <td>3</td>\n",
       "      <td>1</td>\n",
       "      <td>96</td>\n",
       "      <td>4691</td>\n",
       "      <td>3</td>\n",
       "      <td>0</td>\n",
       "      <td>35</td>\n",
       "      <td>0</td>\n",
       "      <td>4</td>\n",
       "      <td>0</td>\n",
       "      <td>21</td>\n",
       "    </tr>\n",
       "    <tr>\n",
       "      <th>820</th>\n",
       "      <td>246.0</td>\n",
       "      <td>1</td>\n",
       "      <td>26433</td>\n",
       "      <td>26</td>\n",
       "      <td>4</td>\n",
       "      <td>1</td>\n",
       "      <td>86</td>\n",
       "      <td>5685</td>\n",
       "      <td>3</td>\n",
       "      <td>1</td>\n",
       "      <td>32</td>\n",
       "      <td>0</td>\n",
       "      <td>3</td>\n",
       "      <td>0</td>\n",
       "      <td>17</td>\n",
       "    </tr>\n",
       "    <tr>\n",
       "      <th>385</th>\n",
       "      <td>365.0</td>\n",
       "      <td>1</td>\n",
       "      <td>25177</td>\n",
       "      <td>27</td>\n",
       "      <td>2</td>\n",
       "      <td>0</td>\n",
       "      <td>85</td>\n",
       "      <td>6404</td>\n",
       "      <td>4</td>\n",
       "      <td>1</td>\n",
       "      <td>24</td>\n",
       "      <td>0</td>\n",
       "      <td>4</td>\n",
       "      <td>0</td>\n",
       "      <td>8</td>\n",
       "    </tr>\n",
       "    <tr>\n",
       "      <th>785</th>\n",
       "      <td>370.0</td>\n",
       "      <td>1</td>\n",
       "      <td>24832</td>\n",
       "      <td>7</td>\n",
       "      <td>2</td>\n",
       "      <td>3</td>\n",
       "      <td>113</td>\n",
       "      <td>2718</td>\n",
       "      <td>4</td>\n",
       "      <td>1</td>\n",
       "      <td>23</td>\n",
       "      <td>0</td>\n",
       "      <td>3</td>\n",
       "      <td>1</td>\n",
       "      <td>26</td>\n",
       "    </tr>\n",
       "  </tbody>\n",
       "</table>\n",
       "</div>"
      ],
      "text/plain": [
       "     Yearly_avg_view_on_travel_page  preferred_device  \\\n",
       "667                           328.0                 1   \n",
       "737                           281.0                 1   \n",
       "820                           246.0                 1   \n",
       "385                           365.0                 1   \n",
       "785                           370.0                 1   \n",
       "\n",
       "     total_likes_on_outstation_checkin_given  yearly_avg_Outstation_checkins  \\\n",
       "667                                    20006                               8   \n",
       "737                                    21306                               7   \n",
       "820                                    26433                              26   \n",
       "385                                    25177                              27   \n",
       "785                                    24832                               7   \n",
       "\n",
       "     member_in_family  preferred_location_type  \\\n",
       "667                 3                        0   \n",
       "737                 3                        1   \n",
       "820                 4                        1   \n",
       "385                 2                        0   \n",
       "785                 2                        3   \n",
       "\n",
       "     Yearly_avg_comment_on_travel_page  \\\n",
       "667                                 81   \n",
       "737                                 96   \n",
       "820                                 86   \n",
       "385                                 85   \n",
       "785                                113   \n",
       "\n",
       "     total_likes_on_outofstation_checkin_received  \\\n",
       "667                                         16572   \n",
       "737                                          4691   \n",
       "820                                          5685   \n",
       "385                                          6404   \n",
       "785                                          2718   \n",
       "\n",
       "     week_since_last_outstation_checkin  following_company_page  \\\n",
       "667                                   2                       0   \n",
       "737                                   3                       0   \n",
       "820                                   3                       1   \n",
       "385                                   4                       1   \n",
       "785                                   4                       1   \n",
       "\n",
       "     montly_avg_comment_on_company_page  working_flag  \\\n",
       "667                                  26             0   \n",
       "737                                  35             0   \n",
       "820                                  32             0   \n",
       "385                                  24             0   \n",
       "785                                  23             0   \n",
       "\n",
       "     travelling_network_rating  Adult_flag  \\\n",
       "667                          2           0   \n",
       "737                          4           0   \n",
       "820                          3           0   \n",
       "385                          4           0   \n",
       "785                          3           1   \n",
       "\n",
       "     Daily_Avg_mins_spend_on_traveling_page  \n",
       "667                                      33  \n",
       "737                                      21  \n",
       "820                                      17  \n",
       "385                                       8  \n",
       "785                                      26  "
      ]
     },
     "execution_count": 531,
     "metadata": {},
     "output_type": "execute_result"
    }
   ],
   "source": [
    "X_train.head()"
   ]
  },
  {
   "cell_type": "code",
   "execution_count": 532,
   "id": "4939f659",
   "metadata": {},
   "outputs": [
    {
     "data": {
      "text/plain": [
       "667    0\n",
       "737    0\n",
       "820    1\n",
       "385    1\n",
       "785    1\n",
       "Name: Taken_product, dtype: int64"
      ]
     },
     "execution_count": 532,
     "metadata": {},
     "output_type": "execute_result"
    }
   ],
   "source": [
    "y_train.head()"
   ]
  },
  {
   "cell_type": "code",
   "execution_count": 533,
   "id": "153004fc",
   "metadata": {},
   "outputs": [
    {
     "data": {
      "text/html": [
       "<div>\n",
       "<style scoped>\n",
       "    .dataframe tbody tr th:only-of-type {\n",
       "        vertical-align: middle;\n",
       "    }\n",
       "\n",
       "    .dataframe tbody tr th {\n",
       "        vertical-align: top;\n",
       "    }\n",
       "\n",
       "    .dataframe thead th {\n",
       "        text-align: right;\n",
       "    }\n",
       "</style>\n",
       "<table border=\"1\" class=\"dataframe\">\n",
       "  <thead>\n",
       "    <tr style=\"text-align: right;\">\n",
       "      <th></th>\n",
       "      <th>Yearly_avg_view_on_travel_page</th>\n",
       "      <th>preferred_device</th>\n",
       "      <th>total_likes_on_outstation_checkin_given</th>\n",
       "      <th>yearly_avg_Outstation_checkins</th>\n",
       "      <th>member_in_family</th>\n",
       "      <th>preferred_location_type</th>\n",
       "      <th>Yearly_avg_comment_on_travel_page</th>\n",
       "      <th>total_likes_on_outofstation_checkin_received</th>\n",
       "      <th>week_since_last_outstation_checkin</th>\n",
       "      <th>following_company_page</th>\n",
       "      <th>montly_avg_comment_on_company_page</th>\n",
       "      <th>working_flag</th>\n",
       "      <th>travelling_network_rating</th>\n",
       "      <th>Adult_flag</th>\n",
       "      <th>Daily_Avg_mins_spend_on_traveling_page</th>\n",
       "    </tr>\n",
       "  </thead>\n",
       "  <tbody>\n",
       "    <tr>\n",
       "      <th>304</th>\n",
       "      <td>245.0</td>\n",
       "      <td>1</td>\n",
       "      <td>24120</td>\n",
       "      <td>9</td>\n",
       "      <td>2</td>\n",
       "      <td>3</td>\n",
       "      <td>47</td>\n",
       "      <td>4675</td>\n",
       "      <td>0</td>\n",
       "      <td>0</td>\n",
       "      <td>20</td>\n",
       "      <td>0</td>\n",
       "      <td>4</td>\n",
       "      <td>1</td>\n",
       "      <td>9</td>\n",
       "    </tr>\n",
       "    <tr>\n",
       "      <th>1072</th>\n",
       "      <td>297.0</td>\n",
       "      <td>1</td>\n",
       "      <td>20838</td>\n",
       "      <td>2</td>\n",
       "      <td>2</td>\n",
       "      <td>3</td>\n",
       "      <td>95</td>\n",
       "      <td>2538</td>\n",
       "      <td>5</td>\n",
       "      <td>0</td>\n",
       "      <td>22</td>\n",
       "      <td>0</td>\n",
       "      <td>2</td>\n",
       "      <td>0</td>\n",
       "      <td>16</td>\n",
       "    </tr>\n",
       "    <tr>\n",
       "      <th>126</th>\n",
       "      <td>202.0</td>\n",
       "      <td>1</td>\n",
       "      <td>44910</td>\n",
       "      <td>1</td>\n",
       "      <td>3</td>\n",
       "      <td>3</td>\n",
       "      <td>57</td>\n",
       "      <td>4304</td>\n",
       "      <td>1</td>\n",
       "      <td>0</td>\n",
       "      <td>24</td>\n",
       "      <td>0</td>\n",
       "      <td>2</td>\n",
       "      <td>0</td>\n",
       "      <td>7</td>\n",
       "    </tr>\n",
       "    <tr>\n",
       "      <th>976</th>\n",
       "      <td>267.0</td>\n",
       "      <td>1</td>\n",
       "      <td>21684</td>\n",
       "      <td>3</td>\n",
       "      <td>1</td>\n",
       "      <td>0</td>\n",
       "      <td>53</td>\n",
       "      <td>7818</td>\n",
       "      <td>1</td>\n",
       "      <td>0</td>\n",
       "      <td>26</td>\n",
       "      <td>0</td>\n",
       "      <td>3</td>\n",
       "      <td>0</td>\n",
       "      <td>14</td>\n",
       "    </tr>\n",
       "    <tr>\n",
       "      <th>236</th>\n",
       "      <td>239.0</td>\n",
       "      <td>1</td>\n",
       "      <td>5714</td>\n",
       "      <td>24</td>\n",
       "      <td>1</td>\n",
       "      <td>5</td>\n",
       "      <td>40</td>\n",
       "      <td>5245</td>\n",
       "      <td>2</td>\n",
       "      <td>0</td>\n",
       "      <td>30</td>\n",
       "      <td>1</td>\n",
       "      <td>4</td>\n",
       "      <td>0</td>\n",
       "      <td>9</td>\n",
       "    </tr>\n",
       "  </tbody>\n",
       "</table>\n",
       "</div>"
      ],
      "text/plain": [
       "      Yearly_avg_view_on_travel_page  preferred_device  \\\n",
       "304                            245.0                 1   \n",
       "1072                           297.0                 1   \n",
       "126                            202.0                 1   \n",
       "976                            267.0                 1   \n",
       "236                            239.0                 1   \n",
       "\n",
       "      total_likes_on_outstation_checkin_given  yearly_avg_Outstation_checkins  \\\n",
       "304                                     24120                               9   \n",
       "1072                                    20838                               2   \n",
       "126                                     44910                               1   \n",
       "976                                     21684                               3   \n",
       "236                                      5714                              24   \n",
       "\n",
       "      member_in_family  preferred_location_type  \\\n",
       "304                  2                        3   \n",
       "1072                 2                        3   \n",
       "126                  3                        3   \n",
       "976                  1                        0   \n",
       "236                  1                        5   \n",
       "\n",
       "      Yearly_avg_comment_on_travel_page  \\\n",
       "304                                  47   \n",
       "1072                                 95   \n",
       "126                                  57   \n",
       "976                                  53   \n",
       "236                                  40   \n",
       "\n",
       "      total_likes_on_outofstation_checkin_received  \\\n",
       "304                                           4675   \n",
       "1072                                          2538   \n",
       "126                                           4304   \n",
       "976                                           7818   \n",
       "236                                           5245   \n",
       "\n",
       "      week_since_last_outstation_checkin  following_company_page  \\\n",
       "304                                    0                       0   \n",
       "1072                                   5                       0   \n",
       "126                                    1                       0   \n",
       "976                                    1                       0   \n",
       "236                                    2                       0   \n",
       "\n",
       "      montly_avg_comment_on_company_page  working_flag  \\\n",
       "304                                   20             0   \n",
       "1072                                  22             0   \n",
       "126                                   24             0   \n",
       "976                                   26             0   \n",
       "236                                   30             1   \n",
       "\n",
       "      travelling_network_rating  Adult_flag  \\\n",
       "304                           4           1   \n",
       "1072                          2           0   \n",
       "126                           2           0   \n",
       "976                           3           0   \n",
       "236                           4           0   \n",
       "\n",
       "      Daily_Avg_mins_spend_on_traveling_page  \n",
       "304                                        9  \n",
       "1072                                      16  \n",
       "126                                        7  \n",
       "976                                       14  \n",
       "236                                        9  "
      ]
     },
     "execution_count": 533,
     "metadata": {},
     "output_type": "execute_result"
    }
   ],
   "source": [
    "X_test.head()"
   ]
  },
  {
   "cell_type": "code",
   "execution_count": 534,
   "id": "69c26758",
   "metadata": {},
   "outputs": [
    {
     "data": {
      "text/plain": [
       "304     0\n",
       "1072    0\n",
       "126     0\n",
       "976     0\n",
       "236     0\n",
       "Name: Taken_product, dtype: int64"
      ]
     },
     "execution_count": 534,
     "metadata": {},
     "output_type": "execute_result"
    }
   ],
   "source": [
    "y_test.head()"
   ]
  },
  {
   "cell_type": "code",
   "execution_count": 535,
   "id": "df699520",
   "metadata": {},
   "outputs": [
    {
     "data": {
      "text/plain": [
       "(775, 15)"
      ]
     },
     "execution_count": 535,
     "metadata": {},
     "output_type": "execute_result"
    }
   ],
   "source": [
    "X_train.shape"
   ]
  },
  {
   "cell_type": "code",
   "execution_count": 536,
   "id": "7ea6fe3c",
   "metadata": {},
   "outputs": [
    {
     "data": {
      "text/plain": [
       "(775,)"
      ]
     },
     "execution_count": 536,
     "metadata": {},
     "output_type": "execute_result"
    }
   ],
   "source": [
    "y_train.shape"
   ]
  },
  {
   "cell_type": "code",
   "execution_count": 537,
   "id": "aac8125f",
   "metadata": {},
   "outputs": [
    {
     "data": {
      "text/plain": [
       "(333, 15)"
      ]
     },
     "execution_count": 537,
     "metadata": {},
     "output_type": "execute_result"
    }
   ],
   "source": [
    "X_test.shape"
   ]
  },
  {
   "cell_type": "code",
   "execution_count": 539,
   "id": "517500c8",
   "metadata": {},
   "outputs": [
    {
     "data": {
      "text/plain": [
       "(333,)"
      ]
     },
     "execution_count": 539,
     "metadata": {},
     "output_type": "execute_result"
    }
   ],
   "source": [
    "y_test.shape"
   ]
  },
  {
   "cell_type": "markdown",
   "id": "d261581a",
   "metadata": {},
   "source": [
    "### CART"
   ]
  },
  {
   "cell_type": "code",
   "execution_count": 559,
   "id": "bf8a6ac4",
   "metadata": {},
   "outputs": [],
   "source": [
    "from sklearn.tree import DecisionTreeClassifier #from scikit Learn"
   ]
  },
  {
   "cell_type": "code",
   "execution_count": 560,
   "id": "6d095fcf",
   "metadata": {},
   "outputs": [],
   "source": [
    "# Initialise a Decision Tree Classifier\n",
    "dt_model = DecisionTreeClassifier(criterion = 'gini' )"
   ]
  },
  {
   "cell_type": "code",
   "execution_count": 561,
   "id": "426d214d",
   "metadata": {},
   "outputs": [
    {
     "data": {
      "text/plain": [
       "DecisionTreeClassifier()"
      ]
     },
     "execution_count": 561,
     "metadata": {},
     "output_type": "execute_result"
    }
   ],
   "source": [
    "# Fit the model\n",
    "dt_model.fit(X_train, y_train)"
   ]
  },
  {
   "cell_type": "code",
   "execution_count": 562,
   "id": "cb3e68f1",
   "metadata": {},
   "outputs": [],
   "source": [
    "from sklearn import tree\n",
    "\n",
    "train_char_label = ['No', 'Yes']\n",
    "ld_Tree_File = open('ld_Tree_File.dot','w')\n",
    "dot_data = tree.export_graphviz(dt_model, \n",
    "                                out_file=ld_Tree_File, \n",
    "                                feature_names = list(X_train), \n",
    "                                class_names = list(train_char_label))\n",
    "\n",
    "ld_Tree_File.close()"
   ]
  },
  {
   "cell_type": "code",
   "execution_count": 563,
   "id": "515995a1",
   "metadata": {},
   "outputs": [
    {
     "name": "stdout",
     "output_type": "stream",
     "text": [
      "                                                   Imp\n",
      "Yearly_avg_view_on_travel_page                0.210679\n",
      "total_likes_on_outstation_checkin_given       0.157230\n",
      "total_likes_on_outofstation_checkin_received  0.150109\n",
      "Yearly_avg_comment_on_travel_page             0.086972\n",
      "yearly_avg_Outstation_checkins                0.084508\n",
      "following_company_page                        0.059435\n",
      "week_since_last_outstation_checkin            0.054322\n",
      "Daily_Avg_mins_spend_on_traveling_page        0.050265\n",
      "working_flag                                  0.043323\n",
      "travelling_network_rating                     0.043006\n",
      "montly_avg_comment_on_company_page            0.023914\n",
      "preferred_location_type                       0.023266\n",
      "member_in_family                              0.012290\n",
      "Adult_flag                                    0.000683\n",
      "preferred_device                              0.000000\n"
     ]
    }
   ],
   "source": [
    "print (pd.DataFrame(dt_model.feature_importances_, columns = [\"Imp\"], index = X_train.columns).sort_values('Imp',ascending=False))"
   ]
  },
  {
   "cell_type": "code",
   "execution_count": 564,
   "id": "7b940a65",
   "metadata": {},
   "outputs": [],
   "source": [
    "y_predict = dt_model.predict(X_test)"
   ]
  },
  {
   "cell_type": "code",
   "execution_count": 565,
   "id": "ce7a6d60",
   "metadata": {},
   "outputs": [
    {
     "data": {
      "text/plain": [
       "(333,)"
      ]
     },
     "execution_count": 565,
     "metadata": {},
     "output_type": "execute_result"
    }
   ],
   "source": [
    "y_predict.shape"
   ]
  },
  {
   "cell_type": "code",
   "execution_count": 566,
   "id": "5273aeae",
   "metadata": {},
   "outputs": [],
   "source": [
    "ytrain_predict = dt_model.predict(X_train)\n",
    "ytest_predict = dt_model.predict(X_test)"
   ]
  },
  {
   "cell_type": "code",
   "execution_count": 567,
   "id": "dc531304",
   "metadata": {},
   "outputs": [
    {
     "name": "stdout",
     "output_type": "stream",
     "text": [
      "ytrain_predict (775,)\n",
      "ytest_predict (333,)\n"
     ]
    }
   ],
   "source": [
    "print('ytrain_predict',ytrain_predict.shape)\n",
    "print('ytest_predict',ytest_predict.shape)"
   ]
  },
  {
   "cell_type": "code",
   "execution_count": 568,
   "id": "9840c740",
   "metadata": {},
   "outputs": [
    {
     "data": {
      "text/plain": [
       "array([0, 0, 0, 0, 0, 0, 0, 0, 0, 0, 0, 1, 1, 1, 0, 0, 0, 1, 0, 1, 0, 0,\n",
       "       0, 0, 0, 1, 1, 1, 0, 1, 0, 0, 0, 1, 0, 0, 1, 0, 0, 1, 0, 0, 0, 0,\n",
       "       0, 0, 0, 1, 0, 0, 0, 0, 0, 0, 0, 0, 0, 0, 0, 1, 0, 0, 0, 0, 0, 0,\n",
       "       0, 0, 0, 1, 0, 1, 0, 0, 0, 0, 0, 0, 0, 0, 0, 0, 0, 0, 0, 0, 0, 0,\n",
       "       0, 1, 0, 0, 0, 1, 0, 0, 0, 0, 0, 0, 0, 0, 0, 0, 1, 0, 1, 0, 0, 0,\n",
       "       0, 0, 0, 0, 0, 1, 0, 0, 1, 1, 1, 0, 0, 1, 1, 1, 1, 0, 0, 0, 1, 0,\n",
       "       0, 0, 0, 0, 0, 1, 1, 0, 0, 1, 1, 0, 0, 0, 0, 0, 1, 1, 0, 1, 1, 0,\n",
       "       0, 1, 0, 1, 1, 0, 0, 1, 0, 0, 0, 0, 0, 0, 1, 0, 0, 0, 0, 0, 0, 1,\n",
       "       0, 1, 0, 0, 0, 0, 0, 0, 0, 0, 1, 0, 0, 1, 1, 0, 0, 0, 0, 0, 0, 0,\n",
       "       0, 0, 0, 1, 1, 0, 1, 0, 0, 0, 1, 0, 0, 0, 0, 0, 0, 1, 0, 1, 0, 1,\n",
       "       0, 0, 0, 1, 1, 1, 0, 0, 1, 0, 1, 0, 0, 1, 0, 1, 0, 0, 0, 0, 0, 1,\n",
       "       0, 0, 0, 0, 1, 0, 0, 0, 0, 1, 0, 1, 1, 0, 0, 0, 0, 0, 0, 0, 1, 0,\n",
       "       0, 0, 1, 0, 1, 0, 1, 0, 1, 1, 0, 0, 0, 0, 0, 0, 1, 1, 0, 1, 0, 0,\n",
       "       1, 1, 0, 1, 0, 0, 1, 0, 1, 1, 1, 0, 0, 0, 0, 0, 0, 0, 0, 0, 1, 0,\n",
       "       0, 0, 1, 0, 0, 0, 0, 0, 0, 1, 0, 1, 0, 1, 0, 0, 0, 0, 1, 0, 0, 0,\n",
       "       0, 1, 0])"
      ]
     },
     "execution_count": 568,
     "metadata": {},
     "output_type": "execute_result"
    }
   ],
   "source": [
    "ytest_predict"
   ]
  },
  {
   "cell_type": "code",
   "execution_count": 569,
   "id": "61f2aed8",
   "metadata": {},
   "outputs": [
    {
     "data": {
      "text/plain": [
       "array([[1., 0.],\n",
       "       [1., 0.],\n",
       "       [1., 0.],\n",
       "       [1., 0.],\n",
       "       [1., 0.],\n",
       "       [1., 0.],\n",
       "       [1., 0.],\n",
       "       [1., 0.],\n",
       "       [1., 0.],\n",
       "       [1., 0.],\n",
       "       [1., 0.],\n",
       "       [0., 1.],\n",
       "       [0., 1.],\n",
       "       [0., 1.],\n",
       "       [1., 0.],\n",
       "       [1., 0.],\n",
       "       [1., 0.],\n",
       "       [0., 1.],\n",
       "       [1., 0.],\n",
       "       [0., 1.],\n",
       "       [1., 0.],\n",
       "       [1., 0.],\n",
       "       [1., 0.],\n",
       "       [1., 0.],\n",
       "       [1., 0.],\n",
       "       [0., 1.],\n",
       "       [0., 1.],\n",
       "       [0., 1.],\n",
       "       [1., 0.],\n",
       "       [0., 1.],\n",
       "       [1., 0.],\n",
       "       [1., 0.],\n",
       "       [1., 0.],\n",
       "       [0., 1.],\n",
       "       [1., 0.],\n",
       "       [1., 0.],\n",
       "       [0., 1.],\n",
       "       [1., 0.],\n",
       "       [1., 0.],\n",
       "       [0., 1.],\n",
       "       [1., 0.],\n",
       "       [1., 0.],\n",
       "       [1., 0.],\n",
       "       [1., 0.],\n",
       "       [1., 0.],\n",
       "       [1., 0.],\n",
       "       [1., 0.],\n",
       "       [0., 1.],\n",
       "       [1., 0.],\n",
       "       [1., 0.],\n",
       "       [1., 0.],\n",
       "       [1., 0.],\n",
       "       [1., 0.],\n",
       "       [1., 0.],\n",
       "       [1., 0.],\n",
       "       [1., 0.],\n",
       "       [1., 0.],\n",
       "       [1., 0.],\n",
       "       [1., 0.],\n",
       "       [0., 1.],\n",
       "       [1., 0.],\n",
       "       [1., 0.],\n",
       "       [1., 0.],\n",
       "       [1., 0.],\n",
       "       [1., 0.],\n",
       "       [1., 0.],\n",
       "       [1., 0.],\n",
       "       [1., 0.],\n",
       "       [1., 0.],\n",
       "       [0., 1.],\n",
       "       [1., 0.],\n",
       "       [0., 1.],\n",
       "       [1., 0.],\n",
       "       [1., 0.],\n",
       "       [1., 0.],\n",
       "       [1., 0.],\n",
       "       [1., 0.],\n",
       "       [1., 0.],\n",
       "       [1., 0.],\n",
       "       [1., 0.],\n",
       "       [1., 0.],\n",
       "       [1., 0.],\n",
       "       [1., 0.],\n",
       "       [1., 0.],\n",
       "       [1., 0.],\n",
       "       [1., 0.],\n",
       "       [1., 0.],\n",
       "       [1., 0.],\n",
       "       [1., 0.],\n",
       "       [0., 1.],\n",
       "       [1., 0.],\n",
       "       [1., 0.],\n",
       "       [1., 0.],\n",
       "       [0., 1.],\n",
       "       [1., 0.],\n",
       "       [1., 0.],\n",
       "       [1., 0.],\n",
       "       [1., 0.],\n",
       "       [1., 0.],\n",
       "       [1., 0.],\n",
       "       [1., 0.],\n",
       "       [1., 0.],\n",
       "       [1., 0.],\n",
       "       [1., 0.],\n",
       "       [0., 1.],\n",
       "       [1., 0.],\n",
       "       [0., 1.],\n",
       "       [1., 0.],\n",
       "       [1., 0.],\n",
       "       [1., 0.],\n",
       "       [1., 0.],\n",
       "       [1., 0.],\n",
       "       [1., 0.],\n",
       "       [1., 0.],\n",
       "       [1., 0.],\n",
       "       [0., 1.],\n",
       "       [1., 0.],\n",
       "       [1., 0.],\n",
       "       [0., 1.],\n",
       "       [0., 1.],\n",
       "       [0., 1.],\n",
       "       [1., 0.],\n",
       "       [1., 0.],\n",
       "       [0., 1.],\n",
       "       [0., 1.],\n",
       "       [0., 1.],\n",
       "       [0., 1.],\n",
       "       [1., 0.],\n",
       "       [1., 0.],\n",
       "       [1., 0.],\n",
       "       [0., 1.],\n",
       "       [1., 0.],\n",
       "       [1., 0.],\n",
       "       [1., 0.],\n",
       "       [1., 0.],\n",
       "       [1., 0.],\n",
       "       [1., 0.],\n",
       "       [0., 1.],\n",
       "       [0., 1.],\n",
       "       [1., 0.],\n",
       "       [1., 0.],\n",
       "       [0., 1.],\n",
       "       [0., 1.],\n",
       "       [1., 0.],\n",
       "       [1., 0.],\n",
       "       [1., 0.],\n",
       "       [1., 0.],\n",
       "       [1., 0.],\n",
       "       [0., 1.],\n",
       "       [0., 1.],\n",
       "       [1., 0.],\n",
       "       [0., 1.],\n",
       "       [0., 1.],\n",
       "       [1., 0.],\n",
       "       [1., 0.],\n",
       "       [0., 1.],\n",
       "       [1., 0.],\n",
       "       [0., 1.],\n",
       "       [0., 1.],\n",
       "       [1., 0.],\n",
       "       [1., 0.],\n",
       "       [0., 1.],\n",
       "       [1., 0.],\n",
       "       [1., 0.],\n",
       "       [1., 0.],\n",
       "       [1., 0.],\n",
       "       [1., 0.],\n",
       "       [1., 0.],\n",
       "       [0., 1.],\n",
       "       [1., 0.],\n",
       "       [1., 0.],\n",
       "       [1., 0.],\n",
       "       [1., 0.],\n",
       "       [1., 0.],\n",
       "       [1., 0.],\n",
       "       [0., 1.],\n",
       "       [1., 0.],\n",
       "       [0., 1.],\n",
       "       [1., 0.],\n",
       "       [1., 0.],\n",
       "       [1., 0.],\n",
       "       [1., 0.],\n",
       "       [1., 0.],\n",
       "       [1., 0.],\n",
       "       [1., 0.],\n",
       "       [1., 0.],\n",
       "       [0., 1.],\n",
       "       [1., 0.],\n",
       "       [1., 0.],\n",
       "       [0., 1.],\n",
       "       [0., 1.],\n",
       "       [1., 0.],\n",
       "       [1., 0.],\n",
       "       [1., 0.],\n",
       "       [1., 0.],\n",
       "       [1., 0.],\n",
       "       [1., 0.],\n",
       "       [1., 0.],\n",
       "       [1., 0.],\n",
       "       [1., 0.],\n",
       "       [1., 0.],\n",
       "       [0., 1.],\n",
       "       [0., 1.],\n",
       "       [1., 0.],\n",
       "       [0., 1.],\n",
       "       [1., 0.],\n",
       "       [1., 0.],\n",
       "       [1., 0.],\n",
       "       [0., 1.],\n",
       "       [1., 0.],\n",
       "       [1., 0.],\n",
       "       [1., 0.],\n",
       "       [1., 0.],\n",
       "       [1., 0.],\n",
       "       [1., 0.],\n",
       "       [0., 1.],\n",
       "       [1., 0.],\n",
       "       [0., 1.],\n",
       "       [1., 0.],\n",
       "       [0., 1.],\n",
       "       [1., 0.],\n",
       "       [1., 0.],\n",
       "       [1., 0.],\n",
       "       [0., 1.],\n",
       "       [0., 1.],\n",
       "       [0., 1.],\n",
       "       [1., 0.],\n",
       "       [1., 0.],\n",
       "       [0., 1.],\n",
       "       [1., 0.],\n",
       "       [0., 1.],\n",
       "       [1., 0.],\n",
       "       [1., 0.],\n",
       "       [0., 1.],\n",
       "       [1., 0.],\n",
       "       [0., 1.],\n",
       "       [1., 0.],\n",
       "       [1., 0.],\n",
       "       [1., 0.],\n",
       "       [1., 0.],\n",
       "       [1., 0.],\n",
       "       [0., 1.],\n",
       "       [1., 0.],\n",
       "       [1., 0.],\n",
       "       [1., 0.],\n",
       "       [1., 0.],\n",
       "       [0., 1.],\n",
       "       [1., 0.],\n",
       "       [1., 0.],\n",
       "       [1., 0.],\n",
       "       [1., 0.],\n",
       "       [0., 1.],\n",
       "       [1., 0.],\n",
       "       [0., 1.],\n",
       "       [0., 1.],\n",
       "       [1., 0.],\n",
       "       [1., 0.],\n",
       "       [1., 0.],\n",
       "       [1., 0.],\n",
       "       [1., 0.],\n",
       "       [1., 0.],\n",
       "       [1., 0.],\n",
       "       [0., 1.],\n",
       "       [1., 0.],\n",
       "       [1., 0.],\n",
       "       [1., 0.],\n",
       "       [0., 1.],\n",
       "       [1., 0.],\n",
       "       [0., 1.],\n",
       "       [1., 0.],\n",
       "       [0., 1.],\n",
       "       [1., 0.],\n",
       "       [0., 1.],\n",
       "       [0., 1.],\n",
       "       [1., 0.],\n",
       "       [1., 0.],\n",
       "       [1., 0.],\n",
       "       [1., 0.],\n",
       "       [1., 0.],\n",
       "       [1., 0.],\n",
       "       [0., 1.],\n",
       "       [0., 1.],\n",
       "       [1., 0.],\n",
       "       [0., 1.],\n",
       "       [1., 0.],\n",
       "       [1., 0.],\n",
       "       [0., 1.],\n",
       "       [0., 1.],\n",
       "       [1., 0.],\n",
       "       [0., 1.],\n",
       "       [1., 0.],\n",
       "       [1., 0.],\n",
       "       [0., 1.],\n",
       "       [1., 0.],\n",
       "       [0., 1.],\n",
       "       [0., 1.],\n",
       "       [0., 1.],\n",
       "       [1., 0.],\n",
       "       [1., 0.],\n",
       "       [1., 0.],\n",
       "       [1., 0.],\n",
       "       [1., 0.],\n",
       "       [1., 0.],\n",
       "       [1., 0.],\n",
       "       [1., 0.],\n",
       "       [1., 0.],\n",
       "       [0., 1.],\n",
       "       [1., 0.],\n",
       "       [1., 0.],\n",
       "       [1., 0.],\n",
       "       [0., 1.],\n",
       "       [1., 0.],\n",
       "       [1., 0.],\n",
       "       [1., 0.],\n",
       "       [1., 0.],\n",
       "       [1., 0.],\n",
       "       [1., 0.],\n",
       "       [0., 1.],\n",
       "       [1., 0.],\n",
       "       [0., 1.],\n",
       "       [1., 0.],\n",
       "       [0., 1.],\n",
       "       [1., 0.],\n",
       "       [1., 0.],\n",
       "       [1., 0.],\n",
       "       [1., 0.],\n",
       "       [0., 1.],\n",
       "       [1., 0.],\n",
       "       [1., 0.],\n",
       "       [1., 0.],\n",
       "       [1., 0.],\n",
       "       [0., 1.],\n",
       "       [1., 0.]])"
      ]
     },
     "execution_count": 569,
     "metadata": {},
     "output_type": "execute_result"
    }
   ],
   "source": [
    "ytest_predict_prob=dt_model.predict_proba(X_test)\n",
    "ytest_predict_prob"
   ]
  },
  {
   "cell_type": "code",
   "execution_count": 570,
   "id": "5d5587d1",
   "metadata": {},
   "outputs": [
    {
     "data": {
      "text/html": [
       "<div>\n",
       "<style scoped>\n",
       "    .dataframe tbody tr th:only-of-type {\n",
       "        vertical-align: middle;\n",
       "    }\n",
       "\n",
       "    .dataframe tbody tr th {\n",
       "        vertical-align: top;\n",
       "    }\n",
       "\n",
       "    .dataframe thead th {\n",
       "        text-align: right;\n",
       "    }\n",
       "</style>\n",
       "<table border=\"1\" class=\"dataframe\">\n",
       "  <thead>\n",
       "    <tr style=\"text-align: right;\">\n",
       "      <th></th>\n",
       "      <th>0</th>\n",
       "      <th>1</th>\n",
       "    </tr>\n",
       "  </thead>\n",
       "  <tbody>\n",
       "    <tr>\n",
       "      <th>0</th>\n",
       "      <td>1.0</td>\n",
       "      <td>0.0</td>\n",
       "    </tr>\n",
       "    <tr>\n",
       "      <th>1</th>\n",
       "      <td>1.0</td>\n",
       "      <td>0.0</td>\n",
       "    </tr>\n",
       "    <tr>\n",
       "      <th>2</th>\n",
       "      <td>1.0</td>\n",
       "      <td>0.0</td>\n",
       "    </tr>\n",
       "    <tr>\n",
       "      <th>3</th>\n",
       "      <td>1.0</td>\n",
       "      <td>0.0</td>\n",
       "    </tr>\n",
       "    <tr>\n",
       "      <th>4</th>\n",
       "      <td>1.0</td>\n",
       "      <td>0.0</td>\n",
       "    </tr>\n",
       "  </tbody>\n",
       "</table>\n",
       "</div>"
      ],
      "text/plain": [
       "     0    1\n",
       "0  1.0  0.0\n",
       "1  1.0  0.0\n",
       "2  1.0  0.0\n",
       "3  1.0  0.0\n",
       "4  1.0  0.0"
      ]
     },
     "execution_count": 570,
     "metadata": {},
     "output_type": "execute_result"
    }
   ],
   "source": [
    " pd.DataFrame(ytest_predict_prob).head()"
   ]
  },
  {
   "cell_type": "code",
   "execution_count": 571,
   "id": "2ed7612e",
   "metadata": {},
   "outputs": [
    {
     "name": "stdout",
     "output_type": "stream",
     "text": [
      "AUC: 1.000\n"
     ]
    },
    {
     "data": {
      "image/png": "[encoded data removed]",
      "text/plain": [
       "<Figure size 432x288 with 1 Axes>"
      ]
     },
     "metadata": {
      "needs_background": "light"
     },
     "output_type": "display_data"
    }
   ],
   "source": [
    "# predict probabilities\n",
    "probs = dt_model.predict_proba(X_train)\n",
    "# keep probabilities for the positive outcome only\n",
    "probs = probs[:, 1]\n",
    "# calculate AUC\n",
    "from sklearn.metrics import roc_auc_score\n",
    "auc = roc_auc_score(y_train, probs)\n",
    "print('AUC: %.3f' % auc)\n",
    "# calculate roc curve\n",
    "from sklearn.metrics import roc_curve\n",
    "fpr, tpr, thresholds = roc_curve(y_train, probs)\n",
    "plt.plot([0, 1], [0, 1], linestyle='--')\n",
    "# plot the roc curve for the model\n",
    "plt.plot(fpr, tpr, marker='.')\n",
    "# show the plot\n",
    "plt.show()"
   ]
  },
  {
   "cell_type": "code",
   "execution_count": 572,
   "id": "82c14870",
   "metadata": {},
   "outputs": [
    {
     "name": "stdout",
     "output_type": "stream",
     "text": [
      "AUC: 0.880\n"
     ]
    },
    {
     "data": {
      "image/png": "[encoded data removed]",
      "text/plain": [
       "<Figure size 432x288 with 1 Axes>"
      ]
     },
     "metadata": {
      "needs_background": "light"
     },
     "output_type": "display_data"
    }
   ],
   "source": [
    "# predict probabilities\n",
    "probs = dt_model.predict_proba(X_test)\n",
    "# keep probabilities for the positive outcome only\n",
    "probs = probs[:, 1]\n",
    "# calculate AUC\n",
    "from sklearn.metrics import roc_auc_score\n",
    "auc = roc_auc_score(y_test, probs)\n",
    "print('AUC: %.3f' % auc)\n",
    "# calculate roc curve\n",
    "from sklearn.metrics import roc_curve\n",
    "fpr, tpr, thresholds = roc_curve(y_test, probs)\n",
    "plt.plot([0, 1], [0, 1], linestyle='--')\n",
    "# plot the roc curve for the model\n",
    "plt.plot(fpr, tpr, marker='.')\n",
    "# show the plot\n",
    "plt.show()"
   ]
  },
  {
   "cell_type": "code",
   "execution_count": 573,
   "id": "00263c28",
   "metadata": {},
   "outputs": [],
   "source": [
    "from sklearn.metrics import classification_report,confusion_matrix"
   ]
  },
  {
   "cell_type": "code",
   "execution_count": 574,
   "id": "ba325232",
   "metadata": {},
   "outputs": [
    {
     "data": {
      "text/plain": [
       "array([[594,   0],\n",
       "       [  0, 181]])"
      ]
     },
     "execution_count": 574,
     "metadata": {},
     "output_type": "execute_result"
    }
   ],
   "source": [
    "confusion_matrix(y_train, ytrain_predict)"
   ]
  },
  {
   "cell_type": "code",
   "execution_count": 576,
   "id": "033ca19a",
   "metadata": {},
   "outputs": [
    {
     "data": {
      "text/plain": [
       "1.0"
      ]
     },
     "execution_count": 576,
     "metadata": {},
     "output_type": "execute_result"
    }
   ],
   "source": [
    "#Train Data Accuracy\n",
    "dt_model.score(X_train,y_train) "
   ]
  },
  {
   "cell_type": "code",
   "execution_count": 578,
   "id": "04aff97d",
   "metadata": {},
   "outputs": [
    {
     "name": "stdout",
     "output_type": "stream",
     "text": [
      "              precision    recall  f1-score   support\n",
      "\n",
      "           0       1.00      1.00      1.00       594\n",
      "           1       1.00      1.00      1.00       181\n",
      "\n",
      "    accuracy                           1.00       775\n",
      "   macro avg       1.00      1.00      1.00       775\n",
      "weighted avg       1.00      1.00      1.00       775\n",
      "\n"
     ]
    }
   ],
   "source": [
    "print(classification_report(y_train, ytrain_predict))"
   ]
  },
  {
   "cell_type": "code",
   "execution_count": 579,
   "id": "3c5a512a",
   "metadata": {},
   "outputs": [
    {
     "data": {
      "text/plain": [
       "array([[226,  12],\n",
       "       [ 18,  77]])"
      ]
     },
     "execution_count": 579,
     "metadata": {},
     "output_type": "execute_result"
    }
   ],
   "source": [
    "confusion_matrix(y_test, ytest_predict)"
   ]
  },
  {
   "cell_type": "code",
   "execution_count": 580,
   "id": "c87a32a7",
   "metadata": {},
   "outputs": [
    {
     "data": {
      "text/plain": [
       "0.9099099099099099"
      ]
     },
     "execution_count": 580,
     "metadata": {},
     "output_type": "execute_result"
    }
   ],
   "source": [
    "#Test Data Accuracy\n",
    "dt_model.score(X_test,y_test)"
   ]
  },
  {
   "cell_type": "code",
   "execution_count": 582,
   "id": "97bc406e",
   "metadata": {},
   "outputs": [
    {
     "name": "stdout",
     "output_type": "stream",
     "text": [
      "              precision    recall  f1-score   support\n",
      "\n",
      "           0       0.93      0.95      0.94       238\n",
      "           1       0.87      0.81      0.84        95\n",
      "\n",
      "    accuracy                           0.91       333\n",
      "   macro avg       0.90      0.88      0.89       333\n",
      "weighted avg       0.91      0.91      0.91       333\n",
      "\n"
     ]
    }
   ],
   "source": [
    "print(classification_report(y_test, ytest_predict))"
   ]
  },
  {
   "cell_type": "markdown",
   "id": "9d17c9af",
   "metadata": {},
   "source": [
    "#### Tuning"
   ]
  },
  {
   "cell_type": "code",
   "execution_count": 583,
   "id": "3a731d9e",
   "metadata": {},
   "outputs": [
    {
     "data": {
      "text/plain": [
       "DecisionTreeClassifier(max_depth=9, min_samples_leaf=10, min_samples_split=80)"
      ]
     },
     "execution_count": 583,
     "metadata": {},
     "output_type": "execute_result"
    }
   ],
   "source": [
    "reg_dt_model = DecisionTreeClassifier(criterion = 'gini', max_depth = 9,min_samples_leaf=10,min_samples_split=80)\n",
    "reg_dt_model.fit(X_train, y_train)"
   ]
  },
  {
   "cell_type": "code",
   "execution_count": 584,
   "id": "908c8232",
   "metadata": {},
   "outputs": [],
   "source": [
    "ld_tree_regularized = open('ld_tree_regularized.dot','w')\n",
    "dot_data = tree.export_graphviz(reg_dt_model, out_file= ld_tree_regularized , feature_names = list(X_train), class_names = list(train_char_label))\n",
    "\n",
    "ld_tree_regularized.close()\n",
    "dot_data"
   ]
  },
  {
   "cell_type": "code",
   "execution_count": 585,
   "id": "6fc22405",
   "metadata": {},
   "outputs": [
    {
     "name": "stdout",
     "output_type": "stream",
     "text": [
      "                                                   Imp\n",
      "Yearly_avg_view_on_travel_page                0.392451\n",
      "total_likes_on_outofstation_checkin_received  0.292289\n",
      "following_company_page                        0.157448\n",
      "yearly_avg_Outstation_checkins                0.095914\n",
      "member_in_family                              0.027941\n",
      "total_likes_on_outstation_checkin_given       0.025798\n",
      "Yearly_avg_comment_on_travel_page             0.008159\n",
      "preferred_device                              0.000000\n",
      "preferred_location_type                       0.000000\n",
      "week_since_last_outstation_checkin            0.000000\n",
      "montly_avg_comment_on_company_page            0.000000\n",
      "working_flag                                  0.000000\n",
      "travelling_network_rating                     0.000000\n",
      "Adult_flag                                    0.000000\n",
      "Daily_Avg_mins_spend_on_traveling_page        0.000000\n"
     ]
    }
   ],
   "source": [
    "print (pd.DataFrame(reg_dt_model.feature_importances_, columns = [\"Imp\"], index = X_train.columns).sort_values('Imp',ascending=False))"
   ]
  },
  {
   "cell_type": "code",
   "execution_count": 586,
   "id": "1637b40c",
   "metadata": {},
   "outputs": [],
   "source": [
    "ytrain_predict = reg_dt_model.predict(X_train)\n",
    "ytest_predict = reg_dt_model.predict(X_test)"
   ]
  },
  {
   "cell_type": "code",
   "execution_count": 587,
   "id": "2f11406a",
   "metadata": {},
   "outputs": [
    {
     "name": "stdout",
     "output_type": "stream",
     "text": [
      "ytrain_predict (775,)\n",
      "ytest_predict (333,)\n"
     ]
    }
   ],
   "source": [
    "print('ytrain_predict',ytrain_predict.shape)\n",
    "print('ytest_predict',ytest_predict.shape)"
   ]
  },
  {
   "cell_type": "code",
   "execution_count": 588,
   "id": "07a22ff3",
   "metadata": {},
   "outputs": [
    {
     "data": {
      "text/plain": [
       "array([0, 0, 0, 0, 0, 0, 0, 0, 1, 0, 0, 0, 0, 0, 0, 0, 0, 0, 0, 1, 0, 1,\n",
       "       0, 0, 0, 1, 0, 0, 0, 1, 0, 0, 0, 0, 0, 0, 0, 0, 0, 0, 1, 0, 0, 0,\n",
       "       0, 0, 0, 0, 0, 0, 0, 0, 0, 0, 0, 0, 0, 0, 0, 0, 1, 0, 0, 0, 0, 0,\n",
       "       0, 0, 0, 1, 0, 1, 0, 0, 0, 0, 0, 0, 0, 0, 0, 0, 0, 0, 0, 1, 0, 0,\n",
       "       0, 0, 0, 0, 0, 0, 0, 0, 0, 0, 0, 0, 0, 0, 0, 0, 0, 0, 0, 0, 0, 0,\n",
       "       0, 0, 0, 0, 0, 0, 0, 0, 0, 0, 1, 0, 0, 1, 1, 1, 0, 0, 0, 0, 0, 0,\n",
       "       0, 0, 0, 0, 0, 0, 1, 0, 0, 0, 0, 0, 0, 0, 0, 0, 0, 1, 0, 1, 1, 0,\n",
       "       0, 1, 0, 0, 1, 0, 0, 0, 0, 0, 0, 0, 0, 0, 1, 0, 0, 0, 0, 0, 0, 0,\n",
       "       0, 1, 0, 0, 0, 0, 0, 0, 0, 0, 1, 0, 0, 1, 1, 1, 0, 0, 0, 0, 1, 0,\n",
       "       1, 0, 0, 1, 1, 1, 1, 0, 0, 0, 0, 0, 0, 0, 0, 0, 0, 0, 0, 0, 0, 1,\n",
       "       0, 0, 0, 0, 0, 1, 0, 0, 0, 0, 0, 0, 0, 1, 0, 0, 0, 0, 0, 0, 0, 0,\n",
       "       0, 0, 0, 0, 0, 0, 0, 0, 0, 1, 0, 1, 0, 0, 0, 0, 0, 0, 0, 0, 1, 0,\n",
       "       0, 1, 1, 0, 1, 0, 1, 0, 1, 1, 0, 0, 0, 0, 0, 0, 0, 1, 0, 0, 0, 1,\n",
       "       1, 1, 1, 1, 1, 0, 0, 0, 0, 1, 1, 0, 0, 0, 0, 0, 0, 0, 0, 0, 0, 0,\n",
       "       0, 0, 0, 0, 1, 0, 0, 0, 1, 1, 0, 1, 0, 1, 1, 0, 0, 0, 1, 0, 0, 0,\n",
       "       0, 1, 0])"
      ]
     },
     "execution_count": 588,
     "metadata": {},
     "output_type": "execute_result"
    }
   ],
   "source": [
    "ytest_predict"
   ]
  },
  {
   "cell_type": "code",
   "execution_count": 589,
   "id": "4e459f65",
   "metadata": {},
   "outputs": [
    {
     "data": {
      "text/plain": [
       "array([[0.84210526, 0.15789474],\n",
       "       [0.94366197, 0.05633803],\n",
       "       [1.        , 0.        ],\n",
       "       [1.        , 0.        ],\n",
       "       [0.7037037 , 0.2962963 ],\n",
       "       [0.94366197, 0.05633803],\n",
       "       [1.        , 0.        ],\n",
       "       [0.94366197, 0.05633803],\n",
       "       [0.36231884, 0.63768116],\n",
       "       [1.        , 0.        ],\n",
       "       [1.        , 0.        ],\n",
       "       [0.7037037 , 0.2962963 ],\n",
       "       [0.76363636, 0.23636364],\n",
       "       [0.52307692, 0.47692308],\n",
       "       [0.52307692, 0.47692308],\n",
       "       [0.94366197, 0.05633803],\n",
       "       [1.        , 0.        ],\n",
       "       [0.6       , 0.4       ],\n",
       "       [0.76363636, 0.23636364],\n",
       "       [0.36231884, 0.63768116],\n",
       "       [1.        , 0.        ],\n",
       "       [0.4       , 0.6       ],\n",
       "       [0.52307692, 0.47692308],\n",
       "       [0.94366197, 0.05633803],\n",
       "       [1.        , 0.        ],\n",
       "       [0.36231884, 0.63768116],\n",
       "       [0.76363636, 0.23636364],\n",
       "       [0.7037037 , 0.2962963 ],\n",
       "       [1.        , 0.        ],\n",
       "       [0.        , 1.        ],\n",
       "       [1.        , 0.        ],\n",
       "       [0.52307692, 0.47692308],\n",
       "       [1.        , 0.        ],\n",
       "       [0.52307692, 0.47692308],\n",
       "       [0.52307692, 0.47692308],\n",
       "       [0.7037037 , 0.2962963 ],\n",
       "       [0.52307692, 0.47692308],\n",
       "       [1.        , 0.        ],\n",
       "       [1.        , 0.        ],\n",
       "       [0.52307692, 0.47692308],\n",
       "       [0.36231884, 0.63768116],\n",
       "       [1.        , 0.        ],\n",
       "       [1.        , 0.        ],\n",
       "       [0.78947368, 0.21052632],\n",
       "       [1.        , 0.        ],\n",
       "       [0.84210526, 0.15789474],\n",
       "       [0.52307692, 0.47692308],\n",
       "       [0.76363636, 0.23636364],\n",
       "       [1.        , 0.        ],\n",
       "       [0.52307692, 0.47692308],\n",
       "       [0.94366197, 0.05633803],\n",
       "       [0.94366197, 0.05633803],\n",
       "       [0.6       , 0.4       ],\n",
       "       [0.78947368, 0.21052632],\n",
       "       [1.        , 0.        ],\n",
       "       [0.78947368, 0.21052632],\n",
       "       [0.78947368, 0.21052632],\n",
       "       [0.94366197, 0.05633803],\n",
       "       [0.78947368, 0.21052632],\n",
       "       [0.78947368, 0.21052632],\n",
       "       [0.36231884, 0.63768116],\n",
       "       [0.6       , 0.4       ],\n",
       "       [0.6       , 0.4       ],\n",
       "       [1.        , 0.        ],\n",
       "       [1.        , 0.        ],\n",
       "       [0.6       , 0.4       ],\n",
       "       [0.52307692, 0.47692308],\n",
       "       [0.78947368, 0.21052632],\n",
       "       [0.52307692, 0.47692308],\n",
       "       [0.36231884, 0.63768116],\n",
       "       [1.        , 0.        ],\n",
       "       [0.36231884, 0.63768116],\n",
       "       [0.78947368, 0.21052632],\n",
       "       [0.78947368, 0.21052632],\n",
       "       [0.52307692, 0.47692308],\n",
       "       [1.        , 0.        ],\n",
       "       [0.78947368, 0.21052632],\n",
       "       [0.94366197, 0.05633803],\n",
       "       [0.78947368, 0.21052632],\n",
       "       [0.76363636, 0.23636364],\n",
       "       [0.84210526, 0.15789474],\n",
       "       [0.94366197, 0.05633803],\n",
       "       [1.        , 0.        ],\n",
       "       [1.        , 0.        ],\n",
       "       [1.        , 0.        ],\n",
       "       [0.36231884, 0.63768116],\n",
       "       [0.78947368, 0.21052632],\n",
       "       [1.        , 0.        ],\n",
       "       [1.        , 0.        ],\n",
       "       [0.52307692, 0.47692308],\n",
       "       [0.94366197, 0.05633803],\n",
       "       [1.        , 0.        ],\n",
       "       [1.        , 0.        ],\n",
       "       [0.52307692, 0.47692308],\n",
       "       [0.76363636, 0.23636364],\n",
       "       [0.76363636, 0.23636364],\n",
       "       [0.94366197, 0.05633803],\n",
       "       [0.52307692, 0.47692308],\n",
       "       [1.        , 0.        ],\n",
       "       [0.94366197, 0.05633803],\n",
       "       [0.52307692, 0.47692308],\n",
       "       [1.        , 0.        ],\n",
       "       [1.        , 0.        ],\n",
       "       [0.52307692, 0.47692308],\n",
       "       [0.6       , 0.4       ],\n",
       "       [0.84210526, 0.15789474],\n",
       "       [0.52941176, 0.47058824],\n",
       "       [1.        , 0.        ],\n",
       "       [1.        , 0.        ],\n",
       "       [1.        , 0.        ],\n",
       "       [1.        , 0.        ],\n",
       "       [0.6       , 0.4       ],\n",
       "       [1.        , 0.        ],\n",
       "       [0.7037037 , 0.2962963 ],\n",
       "       [0.76363636, 0.23636364],\n",
       "       [0.52307692, 0.47692308],\n",
       "       [1.        , 0.        ],\n",
       "       [0.78947368, 0.21052632],\n",
       "       [0.6       , 0.4       ],\n",
       "       [0.52941176, 0.47058824],\n",
       "       [0.36231884, 0.63768116],\n",
       "       [0.52307692, 0.47692308],\n",
       "       [1.        , 0.        ],\n",
       "       [0.        , 1.        ],\n",
       "       [0.        , 1.        ],\n",
       "       [0.36231884, 0.63768116],\n",
       "       [0.76363636, 0.23636364],\n",
       "       [0.52941176, 0.47058824],\n",
       "       [1.        , 0.        ],\n",
       "       [0.84210526, 0.15789474],\n",
       "       [0.52307692, 0.47692308],\n",
       "       [0.78947368, 0.21052632],\n",
       "       [1.        , 0.        ],\n",
       "       [1.        , 0.        ],\n",
       "       [1.        , 0.        ],\n",
       "       [0.76363636, 0.23636364],\n",
       "       [0.94366197, 0.05633803],\n",
       "       [0.7037037 , 0.2962963 ],\n",
       "       [0.        , 1.        ],\n",
       "       [0.52941176, 0.47058824],\n",
       "       [1.        , 0.        ],\n",
       "       [0.6       , 0.4       ],\n",
       "       [0.7037037 , 0.2962963 ],\n",
       "       [0.94366197, 0.05633803],\n",
       "       [0.78947368, 0.21052632],\n",
       "       [1.        , 0.        ],\n",
       "       [0.94366197, 0.05633803],\n",
       "       [1.        , 0.        ],\n",
       "       [0.52307692, 0.47692308],\n",
       "       [0.36231884, 0.63768116],\n",
       "       [0.6       , 0.4       ],\n",
       "       [0.36231884, 0.63768116],\n",
       "       [0.        , 1.        ],\n",
       "       [0.76363636, 0.23636364],\n",
       "       [0.6       , 0.4       ],\n",
       "       [0.36231884, 0.63768116],\n",
       "       [1.        , 0.        ],\n",
       "       [0.52941176, 0.47058824],\n",
       "       [0.36231884, 0.63768116],\n",
       "       [0.94366197, 0.05633803],\n",
       "       [0.78947368, 0.21052632],\n",
       "       [0.7037037 , 0.2962963 ],\n",
       "       [1.        , 0.        ],\n",
       "       [0.94366197, 0.05633803],\n",
       "       [0.94366197, 0.05633803],\n",
       "       [1.        , 0.        ],\n",
       "       [0.78947368, 0.21052632],\n",
       "       [1.        , 0.        ],\n",
       "       [0.36231884, 0.63768116],\n",
       "       [1.        , 0.        ],\n",
       "       [0.7037037 , 0.2962963 ],\n",
       "       [0.52941176, 0.47058824],\n",
       "       [1.        , 0.        ],\n",
       "       [0.76363636, 0.23636364],\n",
       "       [1.        , 0.        ],\n",
       "       [0.76363636, 0.23636364],\n",
       "       [0.6       , 0.4       ],\n",
       "       [0.4       , 0.6       ],\n",
       "       [0.6       , 0.4       ],\n",
       "       [0.76363636, 0.23636364],\n",
       "       [1.        , 0.        ],\n",
       "       [1.        , 0.        ],\n",
       "       [1.        , 0.        ],\n",
       "       [1.        , 0.        ],\n",
       "       [0.6       , 0.4       ],\n",
       "       [0.76363636, 0.23636364],\n",
       "       [0.        , 1.        ],\n",
       "       [0.52941176, 0.47058824],\n",
       "       [1.        , 0.        ],\n",
       "       [0.36231884, 0.63768116],\n",
       "       [0.        , 1.        ],\n",
       "       [0.4       , 0.6       ],\n",
       "       [0.52307692, 0.47692308],\n",
       "       [1.        , 0.        ],\n",
       "       [0.94366197, 0.05633803],\n",
       "       [1.        , 0.        ],\n",
       "       [0.36231884, 0.63768116],\n",
       "       [0.52941176, 0.47058824],\n",
       "       [0.36231884, 0.63768116],\n",
       "       [1.        , 0.        ],\n",
       "       [1.        , 0.        ],\n",
       "       [0.36231884, 0.63768116],\n",
       "       [0.4       , 0.6       ],\n",
       "       [0.36231884, 0.63768116],\n",
       "       [0.        , 1.        ],\n",
       "       [0.78947368, 0.21052632],\n",
       "       [0.52307692, 0.47692308],\n",
       "       [0.76363636, 0.23636364],\n",
       "       [0.7037037 , 0.2962963 ],\n",
       "       [1.        , 0.        ],\n",
       "       [0.52307692, 0.47692308],\n",
       "       [1.        , 0.        ],\n",
       "       [0.78947368, 0.21052632],\n",
       "       [1.        , 0.        ],\n",
       "       [1.        , 0.        ],\n",
       "       [0.52307692, 0.47692308],\n",
       "       [0.52307692, 0.47692308],\n",
       "       [0.52307692, 0.47692308],\n",
       "       [1.        , 0.        ],\n",
       "       [0.        , 1.        ],\n",
       "       [1.        , 0.        ],\n",
       "       [1.        , 0.        ],\n",
       "       [0.94366197, 0.05633803],\n",
       "       [0.52307692, 0.47692308],\n",
       "       [0.76363636, 0.23636364],\n",
       "       [0.36231884, 0.63768116],\n",
       "       [1.        , 0.        ],\n",
       "       [1.        , 0.        ],\n",
       "       [0.52307692, 0.47692308],\n",
       "       [1.        , 0.        ],\n",
       "       [1.        , 0.        ],\n",
       "       [1.        , 0.        ],\n",
       "       [0.52941176, 0.47058824],\n",
       "       [0.36231884, 0.63768116],\n",
       "       [0.94366197, 0.05633803],\n",
       "       [0.76363636, 0.23636364],\n",
       "       [0.52307692, 0.47692308],\n",
       "       [0.6       , 0.4       ],\n",
       "       [0.78947368, 0.21052632],\n",
       "       [0.94366197, 0.05633803],\n",
       "       [0.76363636, 0.23636364],\n",
       "       [0.52307692, 0.47692308],\n",
       "       [0.94366197, 0.05633803],\n",
       "       [0.7037037 , 0.2962963 ],\n",
       "       [0.76363636, 0.23636364],\n",
       "       [1.        , 0.        ],\n",
       "       [0.52307692, 0.47692308],\n",
       "       [1.        , 0.        ],\n",
       "       [0.94366197, 0.05633803],\n",
       "       [1.        , 0.        ],\n",
       "       [1.        , 0.        ],\n",
       "       [0.36231884, 0.63768116],\n",
       "       [1.        , 0.        ],\n",
       "       [0.        , 1.        ],\n",
       "       [0.52307692, 0.47692308],\n",
       "       [0.6       , 0.4       ],\n",
       "       [0.78947368, 0.21052632],\n",
       "       [0.94366197, 0.05633803],\n",
       "       [0.94366197, 0.05633803],\n",
       "       [0.52307692, 0.47692308],\n",
       "       [0.78947368, 0.21052632],\n",
       "       [1.        , 0.        ],\n",
       "       [0.        , 1.        ],\n",
       "       [1.        , 0.        ],\n",
       "       [1.        , 0.        ],\n",
       "       [0.36231884, 0.63768116],\n",
       "       [0.36231884, 0.63768116],\n",
       "       [1.        , 0.        ],\n",
       "       [0.        , 1.        ],\n",
       "       [1.        , 0.        ],\n",
       "       [0.36231884, 0.63768116],\n",
       "       [1.        , 0.        ],\n",
       "       [0.        , 1.        ],\n",
       "       [0.36231884, 0.63768116],\n",
       "       [0.94366197, 0.05633803],\n",
       "       [0.7037037 , 0.2962963 ],\n",
       "       [0.52307692, 0.47692308],\n",
       "       [0.94366197, 0.05633803],\n",
       "       [0.52307692, 0.47692308],\n",
       "       [0.6       , 0.4       ],\n",
       "       [0.7037037 , 0.2962963 ],\n",
       "       [0.36231884, 0.63768116],\n",
       "       [0.52941176, 0.47058824],\n",
       "       [0.52941176, 0.47058824],\n",
       "       [0.94366197, 0.05633803],\n",
       "       [0.36231884, 0.63768116],\n",
       "       [0.36231884, 0.63768116],\n",
       "       [0.36231884, 0.63768116],\n",
       "       [0.36231884, 0.63768116],\n",
       "       [0.36231884, 0.63768116],\n",
       "       [0.4       , 0.6       ],\n",
       "       [1.        , 0.        ],\n",
       "       [0.52307692, 0.47692308],\n",
       "       [0.76363636, 0.23636364],\n",
       "       [0.7037037 , 0.2962963 ],\n",
       "       [0.        , 1.        ],\n",
       "       [0.        , 1.        ],\n",
       "       [0.52307692, 0.47692308],\n",
       "       [1.        , 0.        ],\n",
       "       [1.        , 0.        ],\n",
       "       [1.        , 0.        ],\n",
       "       [0.52941176, 0.47058824],\n",
       "       [1.        , 0.        ],\n",
       "       [1.        , 0.        ],\n",
       "       [0.78947368, 0.21052632],\n",
       "       [0.52307692, 0.47692308],\n",
       "       [0.7037037 , 0.2962963 ],\n",
       "       [1.        , 0.        ],\n",
       "       [0.6       , 0.4       ],\n",
       "       [1.        , 0.        ],\n",
       "       [0.7037037 , 0.2962963 ],\n",
       "       [0.52307692, 0.47692308],\n",
       "       [0.36231884, 0.63768116],\n",
       "       [0.94366197, 0.05633803],\n",
       "       [1.        , 0.        ],\n",
       "       [0.76363636, 0.23636364],\n",
       "       [0.36231884, 0.63768116],\n",
       "       [0.        , 1.        ],\n",
       "       [1.        , 0.        ],\n",
       "       [0.36231884, 0.63768116],\n",
       "       [1.        , 0.        ],\n",
       "       [0.36231884, 0.63768116],\n",
       "       [0.36231884, 0.63768116],\n",
       "       [1.        , 0.        ],\n",
       "       [0.94366197, 0.05633803],\n",
       "       [1.        , 0.        ],\n",
       "       [0.36231884, 0.63768116],\n",
       "       [0.76363636, 0.23636364],\n",
       "       [0.7037037 , 0.2962963 ],\n",
       "       [0.94366197, 0.05633803],\n",
       "       [0.52307692, 0.47692308],\n",
       "       [0.        , 1.        ],\n",
       "       [1.        , 0.        ]])"
      ]
     },
     "execution_count": 589,
     "metadata": {},
     "output_type": "execute_result"
    }
   ],
   "source": [
    "ytest_predict_prob=reg_dt_model.predict_proba(X_test)\n",
    "ytest_predict_prob"
   ]
  },
  {
   "cell_type": "code",
   "execution_count": 590,
   "id": "26e558bd",
   "metadata": {},
   "outputs": [
    {
     "data": {
      "text/html": [
       "<div>\n",
       "<style scoped>\n",
       "    .dataframe tbody tr th:only-of-type {\n",
       "        vertical-align: middle;\n",
       "    }\n",
       "\n",
       "    .dataframe tbody tr th {\n",
       "        vertical-align: top;\n",
       "    }\n",
       "\n",
       "    .dataframe thead th {\n",
       "        text-align: right;\n",
       "    }\n",
       "</style>\n",
       "<table border=\"1\" class=\"dataframe\">\n",
       "  <thead>\n",
       "    <tr style=\"text-align: right;\">\n",
       "      <th></th>\n",
       "      <th>0</th>\n",
       "      <th>1</th>\n",
       "    </tr>\n",
       "  </thead>\n",
       "  <tbody>\n",
       "    <tr>\n",
       "      <th>0</th>\n",
       "      <td>0.842105</td>\n",
       "      <td>0.157895</td>\n",
       "    </tr>\n",
       "    <tr>\n",
       "      <th>1</th>\n",
       "      <td>0.943662</td>\n",
       "      <td>0.056338</td>\n",
       "    </tr>\n",
       "    <tr>\n",
       "      <th>2</th>\n",
       "      <td>1.000000</td>\n",
       "      <td>0.000000</td>\n",
       "    </tr>\n",
       "    <tr>\n",
       "      <th>3</th>\n",
       "      <td>1.000000</td>\n",
       "      <td>0.000000</td>\n",
       "    </tr>\n",
       "    <tr>\n",
       "      <th>4</th>\n",
       "      <td>0.703704</td>\n",
       "      <td>0.296296</td>\n",
       "    </tr>\n",
       "  </tbody>\n",
       "</table>\n",
       "</div>"
      ],
      "text/plain": [
       "          0         1\n",
       "0  0.842105  0.157895\n",
       "1  0.943662  0.056338\n",
       "2  1.000000  0.000000\n",
       "3  1.000000  0.000000\n",
       "4  0.703704  0.296296"
      ]
     },
     "execution_count": 590,
     "metadata": {},
     "output_type": "execute_result"
    }
   ],
   "source": [
    " pd.DataFrame(ytest_predict_prob).head()"
   ]
  },
  {
   "cell_type": "code",
   "execution_count": 591,
   "id": "467400e0",
   "metadata": {},
   "outputs": [
    {
     "name": "stdout",
     "output_type": "stream",
     "text": [
      "AUC: 0.886\n"
     ]
    },
    {
     "data": {
      "image/png": "[encoded data removed]",
      "text/plain": [
       "<Figure size 432x288 with 1 Axes>"
      ]
     },
     "metadata": {
      "needs_background": "light"
     },
     "output_type": "display_data"
    }
   ],
   "source": [
    "# predict probabilities\n",
    "probs = reg_dt_model.predict_proba(X_train)\n",
    "# keep probabilities for the positive outcome only\n",
    "probs = probs[:, 1]\n",
    "# calculate AUC\n",
    "from sklearn.metrics import roc_auc_score\n",
    "auc = roc_auc_score(y_train, probs)\n",
    "print('AUC: %.3f' % auc)\n",
    "# calculate roc curve\n",
    "from sklearn.metrics import roc_curve\n",
    "fpr, tpr, thresholds = roc_curve(y_train, probs)\n",
    "plt.plot([0, 1], [0, 1], linestyle='--')\n",
    "# plot the roc curve for the model\n",
    "plt.plot(fpr, tpr, marker='.')\n",
    "# show the plot\n",
    "plt.show()"
   ]
  },
  {
   "cell_type": "code",
   "execution_count": 592,
   "id": "87a87094",
   "metadata": {},
   "outputs": [
    {
     "name": "stdout",
     "output_type": "stream",
     "text": [
      "AUC: 0.881\n"
     ]
    },
    {
     "data": {
      "image/png": "[encoded data removed]",
      "text/plain": [
       "<Figure size 432x288 with 1 Axes>"
      ]
     },
     "metadata": {
      "needs_background": "light"
     },
     "output_type": "display_data"
    }
   ],
   "source": [
    "# predict probabilities\n",
    "probs = reg_dt_model.predict_proba(X_test)\n",
    "# keep probabilities for the positive outcome only\n",
    "probs = probs[:, 1]\n",
    "# calculate AUC\n",
    "from sklearn.metrics import roc_auc_score\n",
    "auc = roc_auc_score(y_test, probs)\n",
    "print('AUC: %.3f' % auc)\n",
    "# calculate roc curve\n",
    "from sklearn.metrics import roc_curve\n",
    "fpr, tpr, thresholds = roc_curve(y_test, probs)\n",
    "plt.plot([0, 1], [0, 1], linestyle='--')\n",
    "# plot the roc curve for the model\n",
    "plt.plot(fpr, tpr, marker='.')\n",
    "# show the plot\n",
    "plt.show()"
   ]
  },
  {
   "cell_type": "code",
   "execution_count": 593,
   "id": "51fdbbb8",
   "metadata": {},
   "outputs": [],
   "source": [
    "from sklearn.metrics import classification_report,confusion_matrix"
   ]
  },
  {
   "cell_type": "code",
   "execution_count": 595,
   "id": "3fd0a399",
   "metadata": {},
   "outputs": [
    {
     "data": {
      "text/plain": [
       "array([[565,  29],\n",
       "       [107,  74]])"
      ]
     },
     "execution_count": 595,
     "metadata": {},
     "output_type": "execute_result"
    }
   ],
   "source": [
    "confusion_matrix(y_train, ytrain_predict)"
   ]
  },
  {
   "cell_type": "code",
   "execution_count": 597,
   "id": "72712de0",
   "metadata": {},
   "outputs": [
    {
     "data": {
      "text/plain": [
       "0.824516129032258"
      ]
     },
     "execution_count": 597,
     "metadata": {},
     "output_type": "execute_result"
    }
   ],
   "source": [
    "#Train Data Accuracy\n",
    "reg_dt_model.score(X_train,y_train)"
   ]
  },
  {
   "cell_type": "code",
   "execution_count": 599,
   "id": "9294fe7f",
   "metadata": {},
   "outputs": [
    {
     "name": "stdout",
     "output_type": "stream",
     "text": [
      "              precision    recall  f1-score   support\n",
      "\n",
      "           0       0.84      0.95      0.89       594\n",
      "           1       0.72      0.41      0.52       181\n",
      "\n",
      "    accuracy                           0.82       775\n",
      "   macro avg       0.78      0.68      0.71       775\n",
      "weighted avg       0.81      0.82      0.81       775\n",
      "\n"
     ]
    }
   ],
   "source": [
    "print(classification_report(y_train, ytrain_predict))"
   ]
  },
  {
   "cell_type": "code",
   "execution_count": 601,
   "id": "d03982db",
   "metadata": {},
   "outputs": [
    {
     "data": {
      "text/plain": [
       "array([[223,  15],\n",
       "       [ 49,  46]])"
      ]
     },
     "execution_count": 601,
     "metadata": {},
     "output_type": "execute_result"
    }
   ],
   "source": [
    "confusion_matrix(y_test, ytest_predict)"
   ]
  },
  {
   "cell_type": "code",
   "execution_count": 603,
   "id": "2116b512",
   "metadata": {},
   "outputs": [
    {
     "data": {
      "text/plain": [
       "0.8078078078078078"
      ]
     },
     "execution_count": 603,
     "metadata": {},
     "output_type": "execute_result"
    }
   ],
   "source": [
    "#Test Data Accuracy\n",
    "reg_dt_model.score(X_test,y_test)"
   ]
  },
  {
   "cell_type": "code",
   "execution_count": 605,
   "id": "972f55f4",
   "metadata": {},
   "outputs": [
    {
     "name": "stdout",
     "output_type": "stream",
     "text": [
      "              precision    recall  f1-score   support\n",
      "\n",
      "           0       0.82      0.94      0.87       238\n",
      "           1       0.75      0.48      0.59        95\n",
      "\n",
      "    accuracy                           0.81       333\n",
      "   macro avg       0.79      0.71      0.73       333\n",
      "weighted avg       0.80      0.81      0.79       333\n",
      "\n"
     ]
    }
   ],
   "source": [
    "print(classification_report(y_test, ytest_predict))"
   ]
  },
  {
   "cell_type": "markdown",
   "id": "45de23e0",
   "metadata": {},
   "source": [
    "#### SMOTE"
   ]
  },
  {
   "cell_type": "code",
   "execution_count": 606,
   "id": "6e1e769d",
   "metadata": {},
   "outputs": [],
   "source": [
    "sm = SMOTE()\n",
    "\n",
    "\n",
    "X_train_res, y_train_res = sm.fit_resample(X_train, y_train.ravel())"
   ]
  },
  {
   "cell_type": "code",
   "execution_count": 607,
   "id": "9e8d82f6",
   "metadata": {},
   "outputs": [
    {
     "data": {
      "text/plain": [
       "(1188, 15)"
      ]
     },
     "execution_count": 607,
     "metadata": {},
     "output_type": "execute_result"
    }
   ],
   "source": [
    "## Let's check the shape after SMOTE\n",
    "X_train_res.shape"
   ]
  },
  {
   "cell_type": "code",
   "execution_count": 608,
   "id": "cc87b6cb",
   "metadata": {},
   "outputs": [
    {
     "data": {
      "text/plain": [
       "DecisionTreeClassifier(max_depth=9, min_samples_leaf=10, min_samples_split=80)"
      ]
     },
     "execution_count": 608,
     "metadata": {},
     "output_type": "execute_result"
    }
   ],
   "source": [
    "smote_cart_model = DecisionTreeClassifier(criterion = 'gini', max_depth = 9,min_samples_leaf=10,min_samples_split=80)\n",
    "smote_cart_model.fit(X_train_res, y_train_res)"
   ]
  },
  {
   "cell_type": "code",
   "execution_count": 609,
   "id": "03f12ea8",
   "metadata": {},
   "outputs": [],
   "source": [
    "ytrain_predict = reg_dt_model.predict(X_train)\n",
    "ytest_predict = reg_dt_model.predict(X_test)"
   ]
  },
  {
   "cell_type": "code",
   "execution_count": 610,
   "id": "0dd0a67b",
   "metadata": {},
   "outputs": [
    {
     "name": "stdout",
     "output_type": "stream",
     "text": [
      "ytrain_predict (775,)\n",
      "ytest_predict (333,)\n"
     ]
    }
   ],
   "source": [
    "print('ytrain_predict',ytrain_predict.shape)\n",
    "print('ytest_predict',ytest_predict.shape)"
   ]
  },
  {
   "cell_type": "code",
   "execution_count": 611,
   "id": "83ab7502",
   "metadata": {},
   "outputs": [
    {
     "data": {
      "text/plain": [
       "array([0, 0, 0, 0, 0, 0, 0, 0, 1, 0, 0, 0, 0, 0, 0, 0, 0, 0, 0, 1, 0, 1,\n",
       "       0, 0, 0, 1, 0, 0, 0, 1, 0, 0, 0, 0, 0, 0, 0, 0, 0, 0, 1, 0, 0, 0,\n",
       "       0, 0, 0, 0, 0, 0, 0, 0, 0, 0, 0, 0, 0, 0, 0, 0, 1, 0, 0, 0, 0, 0,\n",
       "       0, 0, 0, 1, 0, 1, 0, 0, 0, 0, 0, 0, 0, 0, 0, 0, 0, 0, 0, 1, 0, 0,\n",
       "       0, 0, 0, 0, 0, 0, 0, 0, 0, 0, 0, 0, 0, 0, 0, 0, 0, 0, 0, 0, 0, 0,\n",
       "       0, 0, 0, 0, 0, 0, 0, 0, 0, 0, 1, 0, 0, 1, 1, 1, 0, 0, 0, 0, 0, 0,\n",
       "       0, 0, 0, 0, 0, 0, 1, 0, 0, 0, 0, 0, 0, 0, 0, 0, 0, 1, 0, 1, 1, 0,\n",
       "       0, 1, 0, 0, 1, 0, 0, 0, 0, 0, 0, 0, 0, 0, 1, 0, 0, 0, 0, 0, 0, 0,\n",
       "       0, 1, 0, 0, 0, 0, 0, 0, 0, 0, 1, 0, 0, 1, 1, 1, 0, 0, 0, 0, 1, 0,\n",
       "       1, 0, 0, 1, 1, 1, 1, 0, 0, 0, 0, 0, 0, 0, 0, 0, 0, 0, 0, 0, 0, 1,\n",
       "       0, 0, 0, 0, 0, 1, 0, 0, 0, 0, 0, 0, 0, 1, 0, 0, 0, 0, 0, 0, 0, 0,\n",
       "       0, 0, 0, 0, 0, 0, 0, 0, 0, 1, 0, 1, 0, 0, 0, 0, 0, 0, 0, 0, 1, 0,\n",
       "       0, 1, 1, 0, 1, 0, 1, 0, 1, 1, 0, 0, 0, 0, 0, 0, 0, 1, 0, 0, 0, 1,\n",
       "       1, 1, 1, 1, 1, 0, 0, 0, 0, 1, 1, 0, 0, 0, 0, 0, 0, 0, 0, 0, 0, 0,\n",
       "       0, 0, 0, 0, 1, 0, 0, 0, 1, 1, 0, 1, 0, 1, 1, 0, 0, 0, 1, 0, 0, 0,\n",
       "       0, 1, 0])"
      ]
     },
     "execution_count": 611,
     "metadata": {},
     "output_type": "execute_result"
    }
   ],
   "source": [
    "ytest_predict"
   ]
  },
  {
   "cell_type": "code",
   "execution_count": 612,
   "id": "dc748981",
   "metadata": {},
   "outputs": [
    {
     "data": {
      "text/plain": [
       "array([[0.84210526, 0.15789474],\n",
       "       [0.94366197, 0.05633803],\n",
       "       [1.        , 0.        ],\n",
       "       [1.        , 0.        ],\n",
       "       [0.7037037 , 0.2962963 ],\n",
       "       [0.94366197, 0.05633803],\n",
       "       [1.        , 0.        ],\n",
       "       [0.94366197, 0.05633803],\n",
       "       [0.36231884, 0.63768116],\n",
       "       [1.        , 0.        ],\n",
       "       [1.        , 0.        ],\n",
       "       [0.7037037 , 0.2962963 ],\n",
       "       [0.76363636, 0.23636364],\n",
       "       [0.52307692, 0.47692308],\n",
       "       [0.52307692, 0.47692308],\n",
       "       [0.94366197, 0.05633803],\n",
       "       [1.        , 0.        ],\n",
       "       [0.6       , 0.4       ],\n",
       "       [0.76363636, 0.23636364],\n",
       "       [0.36231884, 0.63768116],\n",
       "       [1.        , 0.        ],\n",
       "       [0.4       , 0.6       ],\n",
       "       [0.52307692, 0.47692308],\n",
       "       [0.94366197, 0.05633803],\n",
       "       [1.        , 0.        ],\n",
       "       [0.36231884, 0.63768116],\n",
       "       [0.76363636, 0.23636364],\n",
       "       [0.7037037 , 0.2962963 ],\n",
       "       [1.        , 0.        ],\n",
       "       [0.        , 1.        ],\n",
       "       [1.        , 0.        ],\n",
       "       [0.52307692, 0.47692308],\n",
       "       [1.        , 0.        ],\n",
       "       [0.52307692, 0.47692308],\n",
       "       [0.52307692, 0.47692308],\n",
       "       [0.7037037 , 0.2962963 ],\n",
       "       [0.52307692, 0.47692308],\n",
       "       [1.        , 0.        ],\n",
       "       [1.        , 0.        ],\n",
       "       [0.52307692, 0.47692308],\n",
       "       [0.36231884, 0.63768116],\n",
       "       [1.        , 0.        ],\n",
       "       [1.        , 0.        ],\n",
       "       [0.78947368, 0.21052632],\n",
       "       [1.        , 0.        ],\n",
       "       [0.84210526, 0.15789474],\n",
       "       [0.52307692, 0.47692308],\n",
       "       [0.76363636, 0.23636364],\n",
       "       [1.        , 0.        ],\n",
       "       [0.52307692, 0.47692308],\n",
       "       [0.94366197, 0.05633803],\n",
       "       [0.94366197, 0.05633803],\n",
       "       [0.6       , 0.4       ],\n",
       "       [0.78947368, 0.21052632],\n",
       "       [1.        , 0.        ],\n",
       "       [0.78947368, 0.21052632],\n",
       "       [0.78947368, 0.21052632],\n",
       "       [0.94366197, 0.05633803],\n",
       "       [0.78947368, 0.21052632],\n",
       "       [0.78947368, 0.21052632],\n",
       "       [0.36231884, 0.63768116],\n",
       "       [0.6       , 0.4       ],\n",
       "       [0.6       , 0.4       ],\n",
       "       [1.        , 0.        ],\n",
       "       [1.        , 0.        ],\n",
       "       [0.6       , 0.4       ],\n",
       "       [0.52307692, 0.47692308],\n",
       "       [0.78947368, 0.21052632],\n",
       "       [0.52307692, 0.47692308],\n",
       "       [0.36231884, 0.63768116],\n",
       "       [1.        , 0.        ],\n",
       "       [0.36231884, 0.63768116],\n",
       "       [0.78947368, 0.21052632],\n",
       "       [0.78947368, 0.21052632],\n",
       "       [0.52307692, 0.47692308],\n",
       "       [1.        , 0.        ],\n",
       "       [0.78947368, 0.21052632],\n",
       "       [0.94366197, 0.05633803],\n",
       "       [0.78947368, 0.21052632],\n",
       "       [0.76363636, 0.23636364],\n",
       "       [0.84210526, 0.15789474],\n",
       "       [0.94366197, 0.05633803],\n",
       "       [1.        , 0.        ],\n",
       "       [1.        , 0.        ],\n",
       "       [1.        , 0.        ],\n",
       "       [0.36231884, 0.63768116],\n",
       "       [0.78947368, 0.21052632],\n",
       "       [1.        , 0.        ],\n",
       "       [1.        , 0.        ],\n",
       "       [0.52307692, 0.47692308],\n",
       "       [0.94366197, 0.05633803],\n",
       "       [1.        , 0.        ],\n",
       "       [1.        , 0.        ],\n",
       "       [0.52307692, 0.47692308],\n",
       "       [0.76363636, 0.23636364],\n",
       "       [0.76363636, 0.23636364],\n",
       "       [0.94366197, 0.05633803],\n",
       "       [0.52307692, 0.47692308],\n",
       "       [1.        , 0.        ],\n",
       "       [0.94366197, 0.05633803],\n",
       "       [0.52307692, 0.47692308],\n",
       "       [1.        , 0.        ],\n",
       "       [1.        , 0.        ],\n",
       "       [0.52307692, 0.47692308],\n",
       "       [0.6       , 0.4       ],\n",
       "       [0.84210526, 0.15789474],\n",
       "       [0.52941176, 0.47058824],\n",
       "       [1.        , 0.        ],\n",
       "       [1.        , 0.        ],\n",
       "       [1.        , 0.        ],\n",
       "       [1.        , 0.        ],\n",
       "       [0.6       , 0.4       ],\n",
       "       [1.        , 0.        ],\n",
       "       [0.7037037 , 0.2962963 ],\n",
       "       [0.76363636, 0.23636364],\n",
       "       [0.52307692, 0.47692308],\n",
       "       [1.        , 0.        ],\n",
       "       [0.78947368, 0.21052632],\n",
       "       [0.6       , 0.4       ],\n",
       "       [0.52941176, 0.47058824],\n",
       "       [0.36231884, 0.63768116],\n",
       "       [0.52307692, 0.47692308],\n",
       "       [1.        , 0.        ],\n",
       "       [0.        , 1.        ],\n",
       "       [0.        , 1.        ],\n",
       "       [0.36231884, 0.63768116],\n",
       "       [0.76363636, 0.23636364],\n",
       "       [0.52941176, 0.47058824],\n",
       "       [1.        , 0.        ],\n",
       "       [0.84210526, 0.15789474],\n",
       "       [0.52307692, 0.47692308],\n",
       "       [0.78947368, 0.21052632],\n",
       "       [1.        , 0.        ],\n",
       "       [1.        , 0.        ],\n",
       "       [1.        , 0.        ],\n",
       "       [0.76363636, 0.23636364],\n",
       "       [0.94366197, 0.05633803],\n",
       "       [0.7037037 , 0.2962963 ],\n",
       "       [0.        , 1.        ],\n",
       "       [0.52941176, 0.47058824],\n",
       "       [1.        , 0.        ],\n",
       "       [0.6       , 0.4       ],\n",
       "       [0.7037037 , 0.2962963 ],\n",
       "       [0.94366197, 0.05633803],\n",
       "       [0.78947368, 0.21052632],\n",
       "       [1.        , 0.        ],\n",
       "       [0.94366197, 0.05633803],\n",
       "       [1.        , 0.        ],\n",
       "       [0.52307692, 0.47692308],\n",
       "       [0.36231884, 0.63768116],\n",
       "       [0.6       , 0.4       ],\n",
       "       [0.36231884, 0.63768116],\n",
       "       [0.        , 1.        ],\n",
       "       [0.76363636, 0.23636364],\n",
       "       [0.6       , 0.4       ],\n",
       "       [0.36231884, 0.63768116],\n",
       "       [1.        , 0.        ],\n",
       "       [0.52941176, 0.47058824],\n",
       "       [0.36231884, 0.63768116],\n",
       "       [0.94366197, 0.05633803],\n",
       "       [0.78947368, 0.21052632],\n",
       "       [0.7037037 , 0.2962963 ],\n",
       "       [1.        , 0.        ],\n",
       "       [0.94366197, 0.05633803],\n",
       "       [0.94366197, 0.05633803],\n",
       "       [1.        , 0.        ],\n",
       "       [0.78947368, 0.21052632],\n",
       "       [1.        , 0.        ],\n",
       "       [0.36231884, 0.63768116],\n",
       "       [1.        , 0.        ],\n",
       "       [0.7037037 , 0.2962963 ],\n",
       "       [0.52941176, 0.47058824],\n",
       "       [1.        , 0.        ],\n",
       "       [0.76363636, 0.23636364],\n",
       "       [1.        , 0.        ],\n",
       "       [0.76363636, 0.23636364],\n",
       "       [0.6       , 0.4       ],\n",
       "       [0.4       , 0.6       ],\n",
       "       [0.6       , 0.4       ],\n",
       "       [0.76363636, 0.23636364],\n",
       "       [1.        , 0.        ],\n",
       "       [1.        , 0.        ],\n",
       "       [1.        , 0.        ],\n",
       "       [1.        , 0.        ],\n",
       "       [0.6       , 0.4       ],\n",
       "       [0.76363636, 0.23636364],\n",
       "       [0.        , 1.        ],\n",
       "       [0.52941176, 0.47058824],\n",
       "       [1.        , 0.        ],\n",
       "       [0.36231884, 0.63768116],\n",
       "       [0.        , 1.        ],\n",
       "       [0.4       , 0.6       ],\n",
       "       [0.52307692, 0.47692308],\n",
       "       [1.        , 0.        ],\n",
       "       [0.94366197, 0.05633803],\n",
       "       [1.        , 0.        ],\n",
       "       [0.36231884, 0.63768116],\n",
       "       [0.52941176, 0.47058824],\n",
       "       [0.36231884, 0.63768116],\n",
       "       [1.        , 0.        ],\n",
       "       [1.        , 0.        ],\n",
       "       [0.36231884, 0.63768116],\n",
       "       [0.4       , 0.6       ],\n",
       "       [0.36231884, 0.63768116],\n",
       "       [0.        , 1.        ],\n",
       "       [0.78947368, 0.21052632],\n",
       "       [0.52307692, 0.47692308],\n",
       "       [0.76363636, 0.23636364],\n",
       "       [0.7037037 , 0.2962963 ],\n",
       "       [1.        , 0.        ],\n",
       "       [0.52307692, 0.47692308],\n",
       "       [1.        , 0.        ],\n",
       "       [0.78947368, 0.21052632],\n",
       "       [1.        , 0.        ],\n",
       "       [1.        , 0.        ],\n",
       "       [0.52307692, 0.47692308],\n",
       "       [0.52307692, 0.47692308],\n",
       "       [0.52307692, 0.47692308],\n",
       "       [1.        , 0.        ],\n",
       "       [0.        , 1.        ],\n",
       "       [1.        , 0.        ],\n",
       "       [1.        , 0.        ],\n",
       "       [0.94366197, 0.05633803],\n",
       "       [0.52307692, 0.47692308],\n",
       "       [0.76363636, 0.23636364],\n",
       "       [0.36231884, 0.63768116],\n",
       "       [1.        , 0.        ],\n",
       "       [1.        , 0.        ],\n",
       "       [0.52307692, 0.47692308],\n",
       "       [1.        , 0.        ],\n",
       "       [1.        , 0.        ],\n",
       "       [1.        , 0.        ],\n",
       "       [0.52941176, 0.47058824],\n",
       "       [0.36231884, 0.63768116],\n",
       "       [0.94366197, 0.05633803],\n",
       "       [0.76363636, 0.23636364],\n",
       "       [0.52307692, 0.47692308],\n",
       "       [0.6       , 0.4       ],\n",
       "       [0.78947368, 0.21052632],\n",
       "       [0.94366197, 0.05633803],\n",
       "       [0.76363636, 0.23636364],\n",
       "       [0.52307692, 0.47692308],\n",
       "       [0.94366197, 0.05633803],\n",
       "       [0.7037037 , 0.2962963 ],\n",
       "       [0.76363636, 0.23636364],\n",
       "       [1.        , 0.        ],\n",
       "       [0.52307692, 0.47692308],\n",
       "       [1.        , 0.        ],\n",
       "       [0.94366197, 0.05633803],\n",
       "       [1.        , 0.        ],\n",
       "       [1.        , 0.        ],\n",
       "       [0.36231884, 0.63768116],\n",
       "       [1.        , 0.        ],\n",
       "       [0.        , 1.        ],\n",
       "       [0.52307692, 0.47692308],\n",
       "       [0.6       , 0.4       ],\n",
       "       [0.78947368, 0.21052632],\n",
       "       [0.94366197, 0.05633803],\n",
       "       [0.94366197, 0.05633803],\n",
       "       [0.52307692, 0.47692308],\n",
       "       [0.78947368, 0.21052632],\n",
       "       [1.        , 0.        ],\n",
       "       [0.        , 1.        ],\n",
       "       [1.        , 0.        ],\n",
       "       [1.        , 0.        ],\n",
       "       [0.36231884, 0.63768116],\n",
       "       [0.36231884, 0.63768116],\n",
       "       [1.        , 0.        ],\n",
       "       [0.        , 1.        ],\n",
       "       [1.        , 0.        ],\n",
       "       [0.36231884, 0.63768116],\n",
       "       [1.        , 0.        ],\n",
       "       [0.        , 1.        ],\n",
       "       [0.36231884, 0.63768116],\n",
       "       [0.94366197, 0.05633803],\n",
       "       [0.7037037 , 0.2962963 ],\n",
       "       [0.52307692, 0.47692308],\n",
       "       [0.94366197, 0.05633803],\n",
       "       [0.52307692, 0.47692308],\n",
       "       [0.6       , 0.4       ],\n",
       "       [0.7037037 , 0.2962963 ],\n",
       "       [0.36231884, 0.63768116],\n",
       "       [0.52941176, 0.47058824],\n",
       "       [0.52941176, 0.47058824],\n",
       "       [0.94366197, 0.05633803],\n",
       "       [0.36231884, 0.63768116],\n",
       "       [0.36231884, 0.63768116],\n",
       "       [0.36231884, 0.63768116],\n",
       "       [0.36231884, 0.63768116],\n",
       "       [0.36231884, 0.63768116],\n",
       "       [0.4       , 0.6       ],\n",
       "       [1.        , 0.        ],\n",
       "       [0.52307692, 0.47692308],\n",
       "       [0.76363636, 0.23636364],\n",
       "       [0.7037037 , 0.2962963 ],\n",
       "       [0.        , 1.        ],\n",
       "       [0.        , 1.        ],\n",
       "       [0.52307692, 0.47692308],\n",
       "       [1.        , 0.        ],\n",
       "       [1.        , 0.        ],\n",
       "       [1.        , 0.        ],\n",
       "       [0.52941176, 0.47058824],\n",
       "       [1.        , 0.        ],\n",
       "       [1.        , 0.        ],\n",
       "       [0.78947368, 0.21052632],\n",
       "       [0.52307692, 0.47692308],\n",
       "       [0.7037037 , 0.2962963 ],\n",
       "       [1.        , 0.        ],\n",
       "       [0.6       , 0.4       ],\n",
       "       [1.        , 0.        ],\n",
       "       [0.7037037 , 0.2962963 ],\n",
       "       [0.52307692, 0.47692308],\n",
       "       [0.36231884, 0.63768116],\n",
       "       [0.94366197, 0.05633803],\n",
       "       [1.        , 0.        ],\n",
       "       [0.76363636, 0.23636364],\n",
       "       [0.36231884, 0.63768116],\n",
       "       [0.        , 1.        ],\n",
       "       [1.        , 0.        ],\n",
       "       [0.36231884, 0.63768116],\n",
       "       [1.        , 0.        ],\n",
       "       [0.36231884, 0.63768116],\n",
       "       [0.36231884, 0.63768116],\n",
       "       [1.        , 0.        ],\n",
       "       [0.94366197, 0.05633803],\n",
       "       [1.        , 0.        ],\n",
       "       [0.36231884, 0.63768116],\n",
       "       [0.76363636, 0.23636364],\n",
       "       [0.7037037 , 0.2962963 ],\n",
       "       [0.94366197, 0.05633803],\n",
       "       [0.52307692, 0.47692308],\n",
       "       [0.        , 1.        ],\n",
       "       [1.        , 0.        ]])"
      ]
     },
     "execution_count": 612,
     "metadata": {},
     "output_type": "execute_result"
    }
   ],
   "source": [
    "ytest_predict_prob=reg_dt_model.predict_proba(X_test)\n",
    "ytest_predict_prob"
   ]
  },
  {
   "cell_type": "code",
   "execution_count": 613,
   "id": "91e2b0ee",
   "metadata": {},
   "outputs": [
    {
     "data": {
      "text/html": [
       "<div>\n",
       "<style scoped>\n",
       "    .dataframe tbody tr th:only-of-type {\n",
       "        vertical-align: middle;\n",
       "    }\n",
       "\n",
       "    .dataframe tbody tr th {\n",
       "        vertical-align: top;\n",
       "    }\n",
       "\n",
       "    .dataframe thead th {\n",
       "        text-align: right;\n",
       "    }\n",
       "</style>\n",
       "<table border=\"1\" class=\"dataframe\">\n",
       "  <thead>\n",
       "    <tr style=\"text-align: right;\">\n",
       "      <th></th>\n",
       "      <th>0</th>\n",
       "      <th>1</th>\n",
       "    </tr>\n",
       "  </thead>\n",
       "  <tbody>\n",
       "    <tr>\n",
       "      <th>0</th>\n",
       "      <td>0.842105</td>\n",
       "      <td>0.157895</td>\n",
       "    </tr>\n",
       "    <tr>\n",
       "      <th>1</th>\n",
       "      <td>0.943662</td>\n",
       "      <td>0.056338</td>\n",
       "    </tr>\n",
       "    <tr>\n",
       "      <th>2</th>\n",
       "      <td>1.000000</td>\n",
       "      <td>0.000000</td>\n",
       "    </tr>\n",
       "    <tr>\n",
       "      <th>3</th>\n",
       "      <td>1.000000</td>\n",
       "      <td>0.000000</td>\n",
       "    </tr>\n",
       "    <tr>\n",
       "      <th>4</th>\n",
       "      <td>0.703704</td>\n",
       "      <td>0.296296</td>\n",
       "    </tr>\n",
       "  </tbody>\n",
       "</table>\n",
       "</div>"
      ],
      "text/plain": [
       "          0         1\n",
       "0  0.842105  0.157895\n",
       "1  0.943662  0.056338\n",
       "2  1.000000  0.000000\n",
       "3  1.000000  0.000000\n",
       "4  0.703704  0.296296"
      ]
     },
     "execution_count": 613,
     "metadata": {},
     "output_type": "execute_result"
    }
   ],
   "source": [
    " pd.DataFrame(ytest_predict_prob).head()"
   ]
  },
  {
   "cell_type": "code",
   "execution_count": 614,
   "id": "f8c80166",
   "metadata": {},
   "outputs": [
    {
     "name": "stdout",
     "output_type": "stream",
     "text": [
      "AUC: 0.886\n"
     ]
    },
    {
     "data": {
      "image/png": "[encoded data removed]",
      "text/plain": [
       "<Figure size 432x288 with 1 Axes>"
      ]
     },
     "metadata": {
      "needs_background": "light"
     },
     "output_type": "display_data"
    }
   ],
   "source": [
    "# predict probabilities\n",
    "probs = reg_dt_model.predict_proba(X_train)\n",
    "# keep probabilities for the positive outcome only\n",
    "probs = probs[:, 1]\n",
    "# calculate AUC\n",
    "from sklearn.metrics import roc_auc_score\n",
    "auc = roc_auc_score(y_train, probs)\n",
    "print('AUC: %.3f' % auc)\n",
    "# calculate roc curve\n",
    "from sklearn.metrics import roc_curve\n",
    "fpr, tpr, thresholds = roc_curve(y_train, probs)\n",
    "plt.plot([0, 1], [0, 1], linestyle='--')\n",
    "# plot the roc curve for the model\n",
    "plt.plot(fpr, tpr, marker='.')\n",
    "# show the plot\n",
    "plt.show()"
   ]
  },
  {
   "cell_type": "code",
   "execution_count": 615,
   "id": "087dc428",
   "metadata": {},
   "outputs": [
    {
     "name": "stdout",
     "output_type": "stream",
     "text": [
      "AUC: 0.881\n"
     ]
    },
    {
     "data": {
      "image/png": "[encoded data removed]",
      "text/plain": [
       "<Figure size 432x288 with 1 Axes>"
      ]
     },
     "metadata": {
      "needs_background": "light"
     },
     "output_type": "display_data"
    }
   ],
   "source": [
    "# predict probabilities\n",
    "probs = reg_dt_model.predict_proba(X_test)\n",
    "# keep probabilities for the positive outcome only\n",
    "probs = probs[:, 1]\n",
    "# calculate AUC\n",
    "from sklearn.metrics import roc_auc_score\n",
    "auc = roc_auc_score(y_test, probs)\n",
    "print('AUC: %.3f' % auc)\n",
    "# calculate roc curve\n",
    "from sklearn.metrics import roc_curve\n",
    "fpr, tpr, thresholds = roc_curve(y_test, probs)\n",
    "plt.plot([0, 1], [0, 1], linestyle='--')\n",
    "# plot the roc curve for the model\n",
    "plt.plot(fpr, tpr, marker='.')\n",
    "# show the plot\n",
    "plt.show()"
   ]
  },
  {
   "cell_type": "code",
   "execution_count": 616,
   "id": "b6aec00b",
   "metadata": {},
   "outputs": [],
   "source": [
    "from sklearn.metrics import classification_report,confusion_matrix"
   ]
  },
  {
   "cell_type": "code",
   "execution_count": 617,
   "id": "c4cb4c71",
   "metadata": {},
   "outputs": [
    {
     "data": {
      "text/plain": [
       "array([[565,  29],\n",
       "       [107,  74]])"
      ]
     },
     "execution_count": 617,
     "metadata": {},
     "output_type": "execute_result"
    }
   ],
   "source": [
    "confusion_matrix(y_train, ytrain_predict)"
   ]
  },
  {
   "cell_type": "code",
   "execution_count": 618,
   "id": "1b6b5e6f",
   "metadata": {},
   "outputs": [
    {
     "data": {
      "text/plain": [
       "0.824516129032258"
      ]
     },
     "execution_count": 618,
     "metadata": {},
     "output_type": "execute_result"
    }
   ],
   "source": [
    "#Train Data Accuracy\n",
    "reg_dt_model.score(X_train,y_train)"
   ]
  },
  {
   "cell_type": "code",
   "execution_count": 619,
   "id": "3c981804",
   "metadata": {},
   "outputs": [
    {
     "name": "stdout",
     "output_type": "stream",
     "text": [
      "              precision    recall  f1-score   support\n",
      "\n",
      "           0       0.84      0.95      0.89       594\n",
      "           1       0.72      0.41      0.52       181\n",
      "\n",
      "    accuracy                           0.82       775\n",
      "   macro avg       0.78      0.68      0.71       775\n",
      "weighted avg       0.81      0.82      0.81       775\n",
      "\n"
     ]
    }
   ],
   "source": [
    "print(classification_report(y_train, ytrain_predict))"
   ]
  },
  {
   "cell_type": "code",
   "execution_count": 620,
   "id": "3878473f",
   "metadata": {},
   "outputs": [
    {
     "data": {
      "text/plain": [
       "array([[223,  15],\n",
       "       [ 49,  46]])"
      ]
     },
     "execution_count": 620,
     "metadata": {},
     "output_type": "execute_result"
    }
   ],
   "source": [
    "confusion_matrix(y_test, ytest_predict)"
   ]
  },
  {
   "cell_type": "code",
   "execution_count": 621,
   "id": "926a9597",
   "metadata": {},
   "outputs": [
    {
     "data": {
      "text/plain": [
       "0.8078078078078078"
      ]
     },
     "execution_count": 621,
     "metadata": {},
     "output_type": "execute_result"
    }
   ],
   "source": [
    "#Test Data Accuracy\n",
    "reg_dt_model.score(X_test,y_test)"
   ]
  },
  {
   "cell_type": "code",
   "execution_count": 622,
   "id": "5fe8b14a",
   "metadata": {},
   "outputs": [
    {
     "name": "stdout",
     "output_type": "stream",
     "text": [
      "              precision    recall  f1-score   support\n",
      "\n",
      "           0       0.82      0.94      0.87       238\n",
      "           1       0.75      0.48      0.59        95\n",
      "\n",
      "    accuracy                           0.81       333\n",
      "   macro avg       0.79      0.71      0.73       333\n",
      "weighted avg       0.80      0.81      0.79       333\n",
      "\n"
     ]
    }
   ],
   "source": [
    "print(classification_report(y_test, ytest_predict))"
   ]
  },
  {
   "cell_type": "markdown",
   "id": "2071b244",
   "metadata": {},
   "source": [
    " ### Logistic Regression\n"
   ]
  },
  {
   "cell_type": "code",
   "execution_count": 74,
   "id": "51dec5db",
   "metadata": {},
   "outputs": [],
   "source": [
    "from sklearn.linear_model import LogisticRegression"
   ]
  },
  {
   "cell_type": "code",
   "execution_count": 75,
   "id": "8bc4f800",
   "metadata": {},
   "outputs": [
    {
     "data": {
      "text/plain": [
       "LogisticRegression()"
      ]
     },
     "execution_count": 75,
     "metadata": {},
     "output_type": "execute_result"
    }
   ],
   "source": [
    "log_model = LogisticRegression()\n",
    "log_model.fit(X_train, y_train)"
   ]
  },
  {
   "cell_type": "code",
   "execution_count": 76,
   "id": "ce195882",
   "metadata": {},
   "outputs": [],
   "source": [
    "log_train_predict = log_model.predict(X_train)\n",
    "log_test_predict = log_model.predict(X_test)"
   ]
  },
  {
   "cell_type": "code",
   "execution_count": 78,
   "id": "7e7fb87d",
   "metadata": {},
   "outputs": [
    {
     "data": {
      "text/plain": [
       "0.7948387096774193"
      ]
     },
     "execution_count": 78,
     "metadata": {},
     "output_type": "execute_result"
    }
   ],
   "source": [
    "log_model.score(X_train,y_train)"
   ]
  },
  {
   "cell_type": "code",
   "execution_count": 79,
   "id": "06f97a38",
   "metadata": {},
   "outputs": [
    {
     "data": {
      "text/plain": [
       "0.7477477477477478"
      ]
     },
     "execution_count": 79,
     "metadata": {},
     "output_type": "execute_result"
    }
   ],
   "source": [
    "log_model.score(X_test,y_test)"
   ]
  },
  {
   "cell_type": "code",
   "execution_count": 96,
   "id": "71ff0494",
   "metadata": {
    "scrolled": true
   },
   "outputs": [
    {
     "data": {
      "image/png": "[encoded data removed]",
      "text/plain": [
       "<Figure size 432x288 with 2 Axes>"
      ]
     },
     "metadata": {
      "needs_background": "light"
     },
     "output_type": "display_data"
    }
   ],
   "source": [
    "#Confusion Matrix for Train set\n",
    "confusion_matrix(y_train,log_train_predict)\n",
    "sns.heatmap(confusion_matrix(y_train,log_train_predict),annot = True,cbar = True,fmt = 'd',)\n",
    "plt.xlabel('Predicted Label')\n",
    "plt.ylabel('Actual Label')\n",
    "plt.title('Confusion Matrix for Trainset')\n",
    "plt.show()"
   ]
  },
  {
   "cell_type": "code",
   "execution_count": 97,
   "id": "fe52f633",
   "metadata": {},
   "outputs": [
    {
     "name": "stdout",
     "output_type": "stream",
     "text": [
      "              precision    recall  f1-score   support\n",
      "\n",
      "           0       0.80      0.97      0.88       594\n",
      "           1       0.71      0.20      0.32       181\n",
      "\n",
      "    accuracy                           0.79       775\n",
      "   macro avg       0.76      0.59      0.60       775\n",
      "weighted avg       0.78      0.79      0.75       775\n",
      "\n"
     ]
    }
   ],
   "source": [
    "print(classification_report(y_train,log_train_predict)) "
   ]
  },
  {
   "cell_type": "code",
   "execution_count": 98,
   "id": "3ae850bc",
   "metadata": {},
   "outputs": [
    {
     "data": {
      "image/png": "[encoded data removed]",
      "text/plain": [
       "<Figure size 864x504 with 1 Axes>"
      ]
     },
     "metadata": {
      "needs_background": "light"
     },
     "output_type": "display_data"
    },
    {
     "name": "stdout",
     "output_type": "stream",
     "text": [
      "Area under Curve is 1.0\n"
     ]
    }
   ],
   "source": [
    "from sklearn.metrics import roc_curve,roc_auc_score\n",
    "rf_fpr,rf_tpr,_ = roc_curve(log_train_predict,log_model.predict_proba(X_train)[:,1])\n",
    "plt.figure(figsize = (12,7))\n",
    "plt.plot(rf_fpr,rf_tpr,marker = 'x',label = 'logit')\n",
    "plt.plot(np.arange(0,1.1,0.1),np.arange(0,1.1,0.1))# can directly give plt.plot([0,1],[0,1])\n",
    "plt.xlabel('False Positive Rate')\n",
    "plt.ylabel('True Positive Rate')\n",
    "plt.title('ROC')\n",
    "plt.show()\n",
    "\n",
    "print('Area under Curve is', roc_auc_score(log_train_predict,log_model.predict_proba(X_train)[:,1]))"
   ]
  },
  {
   "cell_type": "code",
   "execution_count": 99,
   "id": "ebda6952",
   "metadata": {},
   "outputs": [
    {
     "data": {
      "image/png": "[encoded data removed]",
      "text/plain": [
       "<Figure size 432x288 with 2 Axes>"
      ]
     },
     "metadata": {
      "needs_background": "light"
     },
     "output_type": "display_data"
    }
   ],
   "source": [
    "#Confusion Matrix for Train set\n",
    "confusion_matrix(y_test,log_test_predict)\n",
    "sns.heatmap(confusion_matrix(y_test,log_test_predict),annot = True,cbar = True,fmt = 'd',)\n",
    "plt.xlabel('Predicted Label')\n",
    "plt.ylabel('Actual Label')\n",
    "plt.title('Confusion Matrix for Testset')\n",
    "plt.show()"
   ]
  },
  {
   "cell_type": "code",
   "execution_count": 100,
   "id": "8dfd0555",
   "metadata": {},
   "outputs": [
    {
     "name": "stdout",
     "output_type": "stream",
     "text": [
      "              precision    recall  f1-score   support\n",
      "\n",
      "           0       0.76      0.95      0.84       238\n",
      "           1       0.65      0.25      0.36        95\n",
      "\n",
      "    accuracy                           0.75       333\n",
      "   macro avg       0.70      0.60      0.60       333\n",
      "weighted avg       0.73      0.75      0.71       333\n",
      "\n"
     ]
    }
   ],
   "source": [
    "print(classification_report(y_test,log_test_predict)) "
   ]
  },
  {
   "cell_type": "code",
   "execution_count": 101,
   "id": "b48ef93a",
   "metadata": {},
   "outputs": [
    {
     "data": {
      "image/png": "[encoded data removed]",
      "text/plain": [
       "<Figure size 864x504 with 1 Axes>"
      ]
     },
     "metadata": {
      "needs_background": "light"
     },
     "output_type": "display_data"
    },
    {
     "name": "stdout",
     "output_type": "stream",
     "text": [
      "Area under Curve is 1.0\n"
     ]
    }
   ],
   "source": [
    "from sklearn.metrics import roc_curve,roc_auc_score\n",
    "rf_fpr,rf_tpr,_ = roc_curve(log_test_predict,log_model.predict_proba(X_test)[:,1])\n",
    "plt.figure(figsize = (12,7))\n",
    "plt.plot(rf_fpr,rf_tpr,marker = 'x',label = 'logit')\n",
    "plt.plot(np.arange(0,1.1,0.1),np.arange(0,1.1,0.1))# can directly give plt.plot([0,1],[0,1])\n",
    "plt.xlabel('False Positive Rate')\n",
    "plt.ylabel('True Positive Rate')\n",
    "plt.title('ROC')\n",
    "plt.show()\n",
    "\n",
    "print('Area under Curve is', roc_auc_score(log_test_predict,log_model.predict_proba(X_test)[:,1]))"
   ]
  },
  {
   "cell_type": "code",
   "execution_count": 150,
   "id": "05f0e71e",
   "metadata": {},
   "outputs": [],
   "source": [
    "grid_log={'penalty':['none', 'l1', 'l2', 'elasticnet'],\n",
    "      'solver':['sag','lbfgs','newtoncg','lbfgs', 'liblinear', 'saga'],\n",
    "      'tol':[0.0001,0.00001]}"
   ]
  },
  {
   "cell_type": "code",
   "execution_count": 151,
   "id": "9ee840d8",
   "metadata": {},
   "outputs": [],
   "source": [
    "grid_search1 = GridSearchCV(estimator = log_model, param_grid = grid_log, cv = 3,n_jobs=-1,scoring='f1')"
   ]
  },
  {
   "cell_type": "code",
   "execution_count": 152,
   "id": "b662e9b5",
   "metadata": {},
   "outputs": [
    {
     "data": {
      "text/plain": [
       "GridSearchCV(cv=3, estimator=LogisticRegression(), n_jobs=-1,\n",
       "             param_grid={'penalty': ['none', 'l1', 'l2', 'elasticnet'],\n",
       "                         'solver': ['sag', 'lbfgs', 'newtoncg', 'lbfgs',\n",
       "                                    'liblinear', 'saga'],\n",
       "                         'tol': [0.0001, 1e-05]},\n",
       "             scoring='f1')"
      ]
     },
     "execution_count": 152,
     "metadata": {},
     "output_type": "execute_result"
    }
   ],
   "source": [
    "grid_search1.fit(X_train, y_train)"
   ]
  },
  {
   "cell_type": "code",
   "execution_count": 153,
   "id": "bb8c93ce",
   "metadata": {},
   "outputs": [
    {
     "name": "stdout",
     "output_type": "stream",
     "text": [
      "{'penalty': 'l2', 'solver': 'liblinear', 'tol': 1e-05} \n",
      "\n",
      "LogisticRegression(solver='liblinear', tol=1e-05)\n"
     ]
    }
   ],
   "source": [
    "print(grid_search1.best_params_,'\\n')\n",
    "print(grid_search1.best_estimator_)"
   ]
  },
  {
   "cell_type": "code",
   "execution_count": 154,
   "id": "8d602693",
   "metadata": {},
   "outputs": [],
   "source": [
    "best_model1 = grid_search1.best_estimator_"
   ]
  },
  {
   "cell_type": "code",
   "execution_count": 155,
   "id": "b28e1f05",
   "metadata": {},
   "outputs": [],
   "source": [
    "# Prediction on the training set\n",
    "\n",
    "log_train_predict = best_model1.predict(X_train)\n",
    "log_test_predict = best_model1.predict(X_test)"
   ]
  },
  {
   "cell_type": "code",
   "execution_count": 156,
   "id": "9358edd1",
   "metadata": {},
   "outputs": [
    {
     "data": {
      "image/png": "[encoded data removed]",
      "text/plain": [
       "<Figure size 432x288 with 2 Axes>"
      ]
     },
     "metadata": {
      "needs_background": "light"
     },
     "output_type": "display_data"
    }
   ],
   "source": [
    "#Confusion Matrix for Train set\n",
    "confusion_matrix(y_train,log_train_predict)\n",
    "sns.heatmap(confusion_matrix(y_train,log_train_predict),annot = True,cbar = True,fmt = 'd',)\n",
    "plt.xlabel('Predicted Label')\n",
    "plt.ylabel('Actual Label')\n",
    "plt.title('Confusion Matrix for Trainset')\n",
    "plt.show()"
   ]
  },
  {
   "cell_type": "code",
   "execution_count": 157,
   "id": "24ed6fec",
   "metadata": {},
   "outputs": [
    {
     "name": "stdout",
     "output_type": "stream",
     "text": [
      "              precision    recall  f1-score   support\n",
      "\n",
      "           0       0.84      0.96      0.90       594\n",
      "           1       0.75      0.41      0.53       181\n",
      "\n",
      "    accuracy                           0.83       775\n",
      "   macro avg       0.80      0.69      0.72       775\n",
      "weighted avg       0.82      0.83      0.81       775\n",
      "\n"
     ]
    }
   ],
   "source": [
    "print(classification_report(y_train,log_train_predict)) "
   ]
  },
  {
   "cell_type": "code",
   "execution_count": 158,
   "id": "a7e3dfd9",
   "metadata": {},
   "outputs": [
    {
     "data": {
      "image/png": "[encoded data removed]",
      "text/plain": [
       "<Figure size 864x504 with 1 Axes>"
      ]
     },
     "metadata": {
      "needs_background": "light"
     },
     "output_type": "display_data"
    },
    {
     "name": "stdout",
     "output_type": "stream",
     "text": [
      "Area under Curve is 1.0\n"
     ]
    }
   ],
   "source": [
    "from sklearn.metrics import roc_curve,roc_auc_score\n",
    "rf_fpr,rf_tpr,_ = roc_curve(log_train_predict,best_model1.predict_proba(X_train)[:,1])\n",
    "plt.figure(figsize = (12,7))\n",
    "plt.plot(rf_fpr,rf_tpr,marker = 'x',label = 'logit')\n",
    "plt.plot(np.arange(0,1.1,0.1),np.arange(0,1.1,0.1))# can directly give plt.plot([0,1],[0,1])\n",
    "plt.xlabel('False Positive Rate')\n",
    "plt.ylabel('True Positive Rate')\n",
    "plt.title('ROC')\n",
    "plt.show()\n",
    "\n",
    "print('Area under Curve is', roc_auc_score(log_train_predict,best_model1.predict_proba(X_train)[:,1]))"
   ]
  },
  {
   "cell_type": "code",
   "execution_count": 159,
   "id": "b279ffa6",
   "metadata": {},
   "outputs": [
    {
     "data": {
      "image/png": "[encoded data removed]",
      "text/plain": [
       "<Figure size 432x288 with 2 Axes>"
      ]
     },
     "metadata": {
      "needs_background": "light"
     },
     "output_type": "display_data"
    }
   ],
   "source": [
    "#Confusion Matrix for Test set\n",
    "confusion_matrix(y_test,log_test_predict)\n",
    "sns.heatmap(confusion_matrix(y_test,log_test_predict),annot = True,cbar = True,fmt = 'd',)\n",
    "plt.xlabel('Predicted Label')\n",
    "plt.ylabel('Actual Label')\n",
    "plt.title('Confusion Matrix for Testset')\n",
    "plt.show()"
   ]
  },
  {
   "cell_type": "code",
   "execution_count": 160,
   "id": "1e7a7eb9",
   "metadata": {},
   "outputs": [
    {
     "name": "stdout",
     "output_type": "stream",
     "text": [
      "              precision    recall  f1-score   support\n",
      "\n",
      "           0       0.80      0.96      0.88       238\n",
      "           1       0.81      0.41      0.55        95\n",
      "\n",
      "    accuracy                           0.80       333\n",
      "   macro avg       0.81      0.69      0.71       333\n",
      "weighted avg       0.81      0.80      0.78       333\n",
      "\n"
     ]
    }
   ],
   "source": [
    "print(classification_report(y_test,log_test_predict)) "
   ]
  },
  {
   "cell_type": "code",
   "execution_count": 161,
   "id": "056ff34e",
   "metadata": {},
   "outputs": [
    {
     "data": {
      "image/png": "[encoded data removed]",
      "text/plain": [
       "<Figure size 864x504 with 1 Axes>"
      ]
     },
     "metadata": {
      "needs_background": "light"
     },
     "output_type": "display_data"
    },
    {
     "name": "stdout",
     "output_type": "stream",
     "text": [
      "Area under Curve is 0.8277777777777777\n"
     ]
    }
   ],
   "source": [
    "from sklearn.metrics import roc_curve,roc_auc_score\n",
    "rf_fpr,rf_tpr,_ = roc_curve(log_test_predict,log_model.predict_proba(X_test)[:,1])\n",
    "plt.figure(figsize = (12,7))\n",
    "plt.plot(rf_fpr,rf_tpr,marker = 'x',label = 'logit')\n",
    "plt.plot(np.arange(0,1.1,0.1),np.arange(0,1.1,0.1))# can directly give plt.plot([0,1],[0,1])\n",
    "plt.xlabel('False Positive Rate')\n",
    "plt.ylabel('True Positive Rate')\n",
    "plt.title('ROC')\n",
    "plt.show()\n",
    "\n",
    "print('Area under Curve is', roc_auc_score(log_test_predict,log_model.predict_proba(X_test)[:,1]))"
   ]
  },
  {
   "cell_type": "code",
   "execution_count": 162,
   "id": "168122db",
   "metadata": {},
   "outputs": [
    {
     "name": "stdout",
     "output_type": "stream",
     "text": [
      "Feature: 0, Score: -0.00432\n",
      "Feature: 1, Score: -0.00670\n",
      "Feature: 2, Score: -0.00002\n",
      "Feature: 3, Score: 0.05264\n",
      "Feature: 4, Score: 0.00134\n",
      "Feature: 5, Score: -0.10861\n",
      "Feature: 6, Score: 0.01410\n",
      "Feature: 7, Score: -0.00013\n",
      "Feature: 8, Score: 0.19914\n",
      "Feature: 9, Score: 1.50029\n",
      "Feature: 10, Score: 0.02048\n",
      "Feature: 11, Score: -0.10358\n",
      "Feature: 12, Score: -0.31731\n",
      "Feature: 13, Score: -0.11384\n",
      "Feature: 14, Score: -0.07678\n"
     ]
    },
    {
     "data": {
      "image/png": "[encoded data removed]",
      "text/plain": [
       "<Figure size 432x288 with 1 Axes>"
      ]
     },
     "metadata": {
      "needs_background": "light"
     },
     "output_type": "display_data"
    }
   ],
   "source": [
    "# get importance\n",
    "importance = best_model1.coef_[0]\n",
    "# summarize feature importance\n",
    "for i,v in enumerate(importance):\n",
    "    print('Feature: %0d, Score: %.5f' % (i,v))\n",
    "# plot feature importance\n",
    "plt.bar([x for x in range(len(importance))], importance)\n",
    "plt.show()"
   ]
  },
  {
   "cell_type": "markdown",
   "id": "2d4c4bbb",
   "metadata": {},
   "source": [
    "### Linear Discriminant Analysis"
   ]
  },
  {
   "cell_type": "code",
   "execution_count": 80,
   "id": "0976e381",
   "metadata": {},
   "outputs": [
    {
     "data": {
      "text/plain": [
       "LinearDiscriminantAnalysis()"
      ]
     },
     "execution_count": 80,
     "metadata": {},
     "output_type": "execute_result"
    }
   ],
   "source": [
    "LDA = LinearDiscriminantAnalysis()\n",
    "lda_model=LDA.fit(X_train, y_train)\n",
    "lda_model"
   ]
  },
  {
   "cell_type": "code",
   "execution_count": 81,
   "id": "dbe57f61",
   "metadata": {},
   "outputs": [],
   "source": [
    "lda_train_predict = lda_model.predict(X_train)\n",
    "lda_test_predict = lda_model.predict(X_test)"
   ]
  },
  {
   "cell_type": "code",
   "execution_count": 82,
   "id": "23210aa3",
   "metadata": {},
   "outputs": [
    {
     "data": {
      "text/plain": [
       "0.8167741935483871"
      ]
     },
     "execution_count": 82,
     "metadata": {},
     "output_type": "execute_result"
    }
   ],
   "source": [
    "lda_model.score(X_train,y_train)"
   ]
  },
  {
   "cell_type": "code",
   "execution_count": 83,
   "id": "f6c05026",
   "metadata": {},
   "outputs": [
    {
     "data": {
      "text/plain": [
       "0.8048048048048048"
      ]
     },
     "execution_count": 83,
     "metadata": {},
     "output_type": "execute_result"
    }
   ],
   "source": [
    "lda_model.score(X_test,y_test)"
   ]
  },
  {
   "cell_type": "code",
   "execution_count": 102,
   "id": "277f822b",
   "metadata": {},
   "outputs": [
    {
     "data": {
      "image/png": "[encoded data removed]",
      "text/plain": [
       "<Figure size 432x288 with 2 Axes>"
      ]
     },
     "metadata": {
      "needs_background": "light"
     },
     "output_type": "display_data"
    }
   ],
   "source": [
    "#Confusion Matrix for Train set\n",
    "confusion_matrix(y_train,lda_train_predict)\n",
    "sns.heatmap(confusion_matrix(y_train,lda_train_predict),annot = True,cbar = True,fmt = 'd',)\n",
    "plt.xlabel('Predicted Label')\n",
    "plt.ylabel('Actual Label')\n",
    "plt.title('Confusion Matrix for Trainset')\n",
    "plt.show()"
   ]
  },
  {
   "cell_type": "code",
   "execution_count": 103,
   "id": "75c80fa6",
   "metadata": {},
   "outputs": [
    {
     "name": "stdout",
     "output_type": "stream",
     "text": [
      "              precision    recall  f1-score   support\n",
      "\n",
      "           0       0.83      0.95      0.89       594\n",
      "           1       0.71      0.37      0.49       181\n",
      "\n",
      "    accuracy                           0.82       775\n",
      "   macro avg       0.77      0.66      0.69       775\n",
      "weighted avg       0.80      0.82      0.79       775\n",
      "\n"
     ]
    }
   ],
   "source": [
    "print(classification_report(y_train,lda_train_predict)) "
   ]
  },
  {
   "cell_type": "code",
   "execution_count": 104,
   "id": "c00448b2",
   "metadata": {},
   "outputs": [
    {
     "data": {
      "image/png": "[encoded data removed]",
      "text/plain": [
       "<Figure size 864x504 with 1 Axes>"
      ]
     },
     "metadata": {
      "needs_background": "light"
     },
     "output_type": "display_data"
    },
    {
     "name": "stdout",
     "output_type": "stream",
     "text": [
      "Area under Curve is 0.7991331361497107\n"
     ]
    }
   ],
   "source": [
    "from sklearn.metrics import roc_curve,roc_auc_score\n",
    "rf_fpr,rf_tpr,_ = roc_curve(y_train,lda_model.predict_proba(X_train)[:,1])\n",
    "plt.figure(figsize = (12,7))\n",
    "plt.plot(rf_fpr,rf_tpr,marker = 'x',label = 'LDA')\n",
    "plt.plot(np.arange(0,1.1,0.1),np.arange(0,1.1,0.1))# can directly give plt.plot([0,1],[0,1])\n",
    "plt.xlabel('False Positive Rate')\n",
    "plt.ylabel('True Positive Rate')\n",
    "plt.title('ROC')\n",
    "plt.show()\n",
    "\n",
    "print('Area under Curve is', roc_auc_score(y_train,lda_model.predict_proba(X_train)[:,1]))"
   ]
  },
  {
   "cell_type": "code",
   "execution_count": 105,
   "id": "36956bbd",
   "metadata": {},
   "outputs": [
    {
     "data": {
      "image/png": "[encoded data removed]",
      "text/plain": [
       "<Figure size 432x288 with 2 Axes>"
      ]
     },
     "metadata": {
      "needs_background": "light"
     },
     "output_type": "display_data"
    }
   ],
   "source": [
    "#Confusion Matrix for Test set\n",
    "confusion_matrix(y_test,lda_test_predict)\n",
    "sns.heatmap(confusion_matrix(y_test,lda_test_predict),annot = True,cbar = True,fmt = 'd',)\n",
    "plt.xlabel('Predicted Label')\n",
    "plt.ylabel('Actual Label')\n",
    "plt.title('Confusion Matrix for Testset')\n",
    "plt.show()"
   ]
  },
  {
   "cell_type": "code",
   "execution_count": 106,
   "id": "d072a1e3",
   "metadata": {},
   "outputs": [
    {
     "name": "stdout",
     "output_type": "stream",
     "text": [
      "              precision    recall  f1-score   support\n",
      "\n",
      "           0       0.80      0.96      0.88       238\n",
      "           1       0.81      0.41      0.55        95\n",
      "\n",
      "    accuracy                           0.80       333\n",
      "   macro avg       0.81      0.69      0.71       333\n",
      "weighted avg       0.81      0.80      0.78       333\n",
      "\n"
     ]
    }
   ],
   "source": [
    "print(classification_report(y_test,lda_test_predict)) "
   ]
  },
  {
   "cell_type": "code",
   "execution_count": 107,
   "id": "cf485d23",
   "metadata": {},
   "outputs": [
    {
     "data": {
      "image/png": "[encoded data removed]",
      "text/plain": [
       "<Figure size 864x504 with 1 Axes>"
      ]
     },
     "metadata": {
      "needs_background": "light"
     },
     "output_type": "display_data"
    },
    {
     "name": "stdout",
     "output_type": "stream",
     "text": [
      "Area under Curve is 0.8264927023440954\n"
     ]
    }
   ],
   "source": [
    "from sklearn.metrics import roc_curve,roc_auc_score\n",
    "rf_fpr,rf_tpr,_ = roc_curve(y_test,lda_model.predict_proba(X_test)[:,1])\n",
    "plt.figure(figsize = (12,7))\n",
    "plt.plot(rf_fpr,rf_tpr,marker = 'x',label = 'LDA')\n",
    "plt.plot(np.arange(0,1.1,0.1),np.arange(0,1.1,0.1))# can directly give plt.plot([0,1],[0,1])\n",
    "plt.xlabel('False Positive Rate')\n",
    "plt.ylabel('True Positive Rate')\n",
    "plt.title('ROC')\n",
    "plt.show()\n",
    "\n",
    "print('Area under Curve is', roc_auc_score(y_test,lda_model.predict_proba(X_test)[:,1]))"
   ]
  },
  {
   "cell_type": "code",
   "execution_count": 163,
   "id": "df6f0d6e",
   "metadata": {},
   "outputs": [],
   "source": [
    "grid_lda={ 'solver':['svd', 'lsqr', 'eigen'],\n",
    "          'shrinkage':['auto', 'float','none'],\n",
    "          'tol':[0.001,0.0001,0.00001]}"
   ]
  },
  {
   "cell_type": "code",
   "execution_count": 164,
   "id": "b9afd7ed",
   "metadata": {},
   "outputs": [],
   "source": [
    "grid_search2 = GridSearchCV(estimator = lda_model, param_grid = grid_lda, cv = 3,n_jobs=-1,scoring='f1')"
   ]
  },
  {
   "cell_type": "code",
   "execution_count": 165,
   "id": "12a3b6d1",
   "metadata": {},
   "outputs": [
    {
     "data": {
      "text/plain": [
       "GridSearchCV(cv=3, estimator=LinearDiscriminantAnalysis(), n_jobs=-1,\n",
       "             param_grid={'shrinkage': ['auto', 'float', 'none'],\n",
       "                         'solver': ['svd', 'lsqr', 'eigen'],\n",
       "                         'tol': [0.001, 0.0001, 1e-05]},\n",
       "             scoring='f1')"
      ]
     },
     "execution_count": 165,
     "metadata": {},
     "output_type": "execute_result"
    }
   ],
   "source": [
    "grid_search2.fit(X_train, y_train)"
   ]
  },
  {
   "cell_type": "code",
   "execution_count": 166,
   "id": "c7144a09",
   "metadata": {},
   "outputs": [
    {
     "data": {
      "text/plain": [
       "0.8048048048048048"
      ]
     },
     "execution_count": 166,
     "metadata": {},
     "output_type": "execute_result"
    }
   ],
   "source": [
    "lda_model.score(X_test,y_test)"
   ]
  },
  {
   "cell_type": "code",
   "execution_count": 167,
   "id": "7ffad2af",
   "metadata": {},
   "outputs": [
    {
     "name": "stdout",
     "output_type": "stream",
     "text": [
      "{'shrinkage': 'auto', 'solver': 'lsqr', 'tol': 0.001} \n",
      "\n",
      "LinearDiscriminantAnalysis(shrinkage='auto', solver='lsqr', tol=0.001)\n"
     ]
    }
   ],
   "source": [
    "print(grid_search2.best_params_,'\\n')\n",
    "print(grid_search2.best_estimator_)"
   ]
  },
  {
   "cell_type": "code",
   "execution_count": 168,
   "id": "245a4993",
   "metadata": {},
   "outputs": [],
   "source": [
    "best_model2 = grid_search2.best_estimator_"
   ]
  },
  {
   "cell_type": "code",
   "execution_count": 169,
   "id": "a8023fb6",
   "metadata": {},
   "outputs": [],
   "source": [
    "lda_train_predict = best_model2.predict(X_train)\n",
    "lda_test_predict = best_model2.predict(X_test)"
   ]
  },
  {
   "cell_type": "code",
   "execution_count": 170,
   "id": "57b7f7d5",
   "metadata": {},
   "outputs": [
    {
     "data": {
      "image/png": "[encoded data removed]",
      "text/plain": [
       "<Figure size 432x288 with 2 Axes>"
      ]
     },
     "metadata": {
      "needs_background": "light"
     },
     "output_type": "display_data"
    }
   ],
   "source": [
    "#Confusion Matrix for Train set\n",
    "confusion_matrix(y_train,lda_train_predict)\n",
    "sns.heatmap(confusion_matrix(y_train,lda_train_predict),annot = True,cbar = True,fmt = 'd',)\n",
    "plt.xlabel('Predicted Label')\n",
    "plt.ylabel('Actual Label')\n",
    "plt.title('Confusion Matrix for Trainset')\n",
    "plt.show()"
   ]
  },
  {
   "cell_type": "code",
   "execution_count": 171,
   "id": "ddb03bb6",
   "metadata": {},
   "outputs": [
    {
     "name": "stdout",
     "output_type": "stream",
     "text": [
      "              precision    recall  f1-score   support\n",
      "\n",
      "           0       0.83      0.95      0.89       594\n",
      "           1       0.71      0.36      0.48       181\n",
      "\n",
      "    accuracy                           0.82       775\n",
      "   macro avg       0.77      0.66      0.69       775\n",
      "weighted avg       0.80      0.82      0.79       775\n",
      "\n"
     ]
    }
   ],
   "source": [
    "print(classification_report(y_train,lda_train_predict)) "
   ]
  },
  {
   "cell_type": "code",
   "execution_count": 172,
   "id": "844f3041",
   "metadata": {},
   "outputs": [
    {
     "data": {
      "image/png": "[encoded data removed]",
      "text/plain": [
       "<Figure size 864x504 with 1 Axes>"
      ]
     },
     "metadata": {
      "needs_background": "light"
     },
     "output_type": "display_data"
    },
    {
     "name": "stdout",
     "output_type": "stream",
     "text": [
      "Area under Curve is 0.7994214706921889\n"
     ]
    }
   ],
   "source": [
    "from sklearn.metrics import roc_curve,roc_auc_score\n",
    "rf_fpr,rf_tpr,_ = roc_curve(y_train,best_model2.predict_proba(X_train)[:,1])\n",
    "plt.figure(figsize = (12,7))\n",
    "plt.plot(rf_fpr,rf_tpr,marker = 'x',label = 'LDA')\n",
    "plt.plot(np.arange(0,1.1,0.1),np.arange(0,1.1,0.1))# can directly give plt.plot([0,1],[0,1])\n",
    "plt.xlabel('False Positive Rate')\n",
    "plt.ylabel('True Positive Rate')\n",
    "plt.title('ROC')\n",
    "plt.show()\n",
    "\n",
    "print('Area under Curve is', roc_auc_score(y_train,best_model2.predict_proba(X_train)[:,1]))"
   ]
  },
  {
   "cell_type": "code",
   "execution_count": 173,
   "id": "fefa734f",
   "metadata": {},
   "outputs": [
    {
     "data": {
      "image/png": "[encoded data removed]",
      "text/plain": [
       "<Figure size 432x288 with 2 Axes>"
      ]
     },
     "metadata": {
      "needs_background": "light"
     },
     "output_type": "display_data"
    }
   ],
   "source": [
    "#Confusion Matrix for Test set\n",
    "confusion_matrix(y_test,lda_test_predict)\n",
    "sns.heatmap(confusion_matrix(y_test,lda_test_predict),annot = True,cbar = True,fmt = 'd',)\n",
    "plt.xlabel('Predicted Label')\n",
    "plt.ylabel('Actual Label')\n",
    "plt.title('Confusion Matrix for Testset')\n",
    "plt.show()"
   ]
  },
  {
   "cell_type": "code",
   "execution_count": 174,
   "id": "ad2c458d",
   "metadata": {},
   "outputs": [
    {
     "name": "stdout",
     "output_type": "stream",
     "text": [
      "              precision    recall  f1-score   support\n",
      "\n",
      "           0       0.80      0.96      0.88       238\n",
      "           1       0.81      0.41      0.55        95\n",
      "\n",
      "    accuracy                           0.80       333\n",
      "   macro avg       0.81      0.69      0.71       333\n",
      "weighted avg       0.81      0.80      0.78       333\n",
      "\n"
     ]
    }
   ],
   "source": [
    "print(classification_report(y_test,lda_test_predict)) "
   ]
  },
  {
   "cell_type": "code",
   "execution_count": 175,
   "id": "b00f8851",
   "metadata": {},
   "outputs": [
    {
     "data": {
      "image/png": "[encoded data removed]",
      "text/plain": [
       "<Figure size 864x504 with 1 Axes>"
      ]
     },
     "metadata": {
      "needs_background": "light"
     },
     "output_type": "display_data"
    },
    {
     "name": "stdout",
     "output_type": "stream",
     "text": [
      "Area under Curve is 0.8264927023440954\n"
     ]
    }
   ],
   "source": [
    "from sklearn.metrics import roc_curve,roc_auc_score\n",
    "rf_fpr,rf_tpr,_ = roc_curve(y_test,lda_model.predict_proba(X_test)[:,1])\n",
    "plt.figure(figsize = (12,7))\n",
    "plt.plot(rf_fpr,rf_tpr,marker = 'x',label = 'LDA')\n",
    "plt.plot(np.arange(0,1.1,0.1),np.arange(0,1.1,0.1))# can directly give plt.plot([0,1],[0,1])\n",
    "plt.xlabel('False Positive Rate')\n",
    "plt.ylabel('True Positive Rate')\n",
    "plt.title('ROC')\n",
    "plt.show()\n",
    "\n",
    "print('Area under Curve is', roc_auc_score(y_test,lda_model.predict_proba(X_test)[:,1]))"
   ]
  },
  {
   "cell_type": "markdown",
   "id": "4b8b3331",
   "metadata": {},
   "source": []
  },
  {
   "cell_type": "code",
   "execution_count": 176,
   "id": "cd9f3e17",
   "metadata": {},
   "outputs": [
    {
     "name": "stdout",
     "output_type": "stream",
     "text": [
      "Feature: 0, Score: -0.00435\n",
      "Feature: 1, Score: -0.00000\n",
      "Feature: 2, Score: -0.00002\n",
      "Feature: 3, Score: 0.04493\n",
      "Feature: 4, Score: -0.01770\n",
      "Feature: 5, Score: -0.10604\n",
      "Feature: 6, Score: 0.01241\n",
      "Feature: 7, Score: -0.00011\n",
      "Feature: 8, Score: 0.18326\n",
      "Feature: 9, Score: 1.72181\n",
      "Feature: 10, Score: 0.02008\n",
      "Feature: 11, Score: -0.01746\n",
      "Feature: 12, Score: -0.26658\n",
      "Feature: 13, Score: -0.30463\n",
      "Feature: 14, Score: -0.06291\n"
     ]
    },
    {
     "data": {
      "image/png": "[encoded data removed]",
      "text/plain": [
       "<Figure size 432x288 with 1 Axes>"
      ]
     },
     "metadata": {
      "needs_background": "light"
     },
     "output_type": "display_data"
    }
   ],
   "source": [
    "# get importance\n",
    "importance = best_model2.coef_[0]\n",
    "# summarize feature importance\n",
    "for i,v in enumerate(importance):\n",
    "\tprint('Feature: %0d, Score: %.5f' % (i,v))\n",
    "# plot feature importance\n",
    "plt.bar([x for x in range(len(importance))], importance)\n",
    "plt.show()"
   ]
  },
  {
   "cell_type": "markdown",
   "id": "c83cea72",
   "metadata": {},
   "source": [
    " ###  Random Forest"
   ]
  },
  {
   "cell_type": "code",
   "execution_count": 84,
   "id": "dca7aa6d",
   "metadata": {},
   "outputs": [],
   "source": [
    "from sklearn.ensemble import RandomForestClassifier\n",
    "\n",
    "RF_model=RandomForestClassifier(n_estimators=100,random_state=1)\n",
    "RF_model=RF_model.fit(X_train, y_train)"
   ]
  },
  {
   "cell_type": "code",
   "execution_count": 85,
   "id": "772060fb",
   "metadata": {},
   "outputs": [
    {
     "name": "stdout",
     "output_type": "stream",
     "text": [
      "1.0\n"
     ]
    }
   ],
   "source": [
    "RF_train_predict = RF_model.predict(X_train)\n",
    "model_score = RF_model.score(X_train, y_train)\n",
    "print(model_score)"
   ]
  },
  {
   "cell_type": "code",
   "execution_count": 86,
   "id": "7f599ac3",
   "metadata": {},
   "outputs": [
    {
     "name": "stdout",
     "output_type": "stream",
     "text": [
      "0.9669669669669669\n"
     ]
    }
   ],
   "source": [
    "RF_test_predict = RF_model.predict(X_test)\n",
    "model_score = RF_model.score(X_test, y_test)\n",
    "print(model_score)\n"
   ]
  },
  {
   "cell_type": "code",
   "execution_count": 108,
   "id": "47d2e548",
   "metadata": {},
   "outputs": [
    {
     "data": {
      "image/png": "[encoded data removed]",
      "text/plain": [
       "<Figure size 432x288 with 2 Axes>"
      ]
     },
     "metadata": {
      "needs_background": "light"
     },
     "output_type": "display_data"
    }
   ],
   "source": [
    "#Confusion Matrix for Train set\n",
    "confusion_matrix(y_train,RF_train_predict)\n",
    "sns.heatmap(confusion_matrix(y_train,RF_train_predict),annot = True,cbar = True,fmt = 'd',)\n",
    "plt.xlabel('Predicted Label')\n",
    "plt.ylabel('Actual Label')\n",
    "plt.title('Confusion Matrix for Trainset')\n",
    "plt.show()"
   ]
  },
  {
   "cell_type": "code",
   "execution_count": 109,
   "id": "e8461aa4",
   "metadata": {},
   "outputs": [
    {
     "name": "stdout",
     "output_type": "stream",
     "text": [
      "              precision    recall  f1-score   support\n",
      "\n",
      "           0       1.00      1.00      1.00       594\n",
      "           1       1.00      1.00      1.00       181\n",
      "\n",
      "    accuracy                           1.00       775\n",
      "   macro avg       1.00      1.00      1.00       775\n",
      "weighted avg       1.00      1.00      1.00       775\n",
      "\n"
     ]
    }
   ],
   "source": [
    "print(classification_report(y_train,RF_train_predict)) "
   ]
  },
  {
   "cell_type": "code",
   "execution_count": 110,
   "id": "9a86184d",
   "metadata": {},
   "outputs": [
    {
     "data": {
      "image/png": "[encoded data removed]",
      "text/plain": [
       "<Figure size 864x504 with 1 Axes>"
      ]
     },
     "metadata": {
      "needs_background": "light"
     },
     "output_type": "display_data"
    },
    {
     "name": "stdout",
     "output_type": "stream",
     "text": [
      "Area under Curve is 1.0\n"
     ]
    }
   ],
   "source": [
    "from sklearn.metrics import roc_curve,roc_auc_score\n",
    "rf_fpr,rf_tpr,_ = roc_curve(y_train,RF_model.predict_proba(X_train)[:,1])\n",
    "plt.figure(figsize = (12,7))\n",
    "plt.plot(rf_fpr,rf_tpr,marker = 'x',label = 'RF')\n",
    "plt.plot(np.arange(0,1.1,0.1),np.arange(0,1.1,0.1))# can directly give plt.plot([0,1],[0,1])\n",
    "plt.xlabel('False Positive Rate')\n",
    "plt.ylabel('True Positive Rate')\n",
    "plt.title('ROC')\n",
    "plt.show()\n",
    "\n",
    "print('Area under Curve is', roc_auc_score(y_train,RF_model.predict_proba(X_train)[:,1]))"
   ]
  },
  {
   "cell_type": "code",
   "execution_count": 111,
   "id": "bc59a5e6",
   "metadata": {},
   "outputs": [
    {
     "data": {
      "image/png": "[encoded data removed]",
      "text/plain": [
       "<Figure size 432x288 with 2 Axes>"
      ]
     },
     "metadata": {
      "needs_background": "light"
     },
     "output_type": "display_data"
    }
   ],
   "source": [
    "#Confusion Matrix for Test set\n",
    "confusion_matrix(y_test,RF_test_predict)\n",
    "sns.heatmap(confusion_matrix(y_test,RF_test_predict),annot = True,cbar = True,fmt = 'd',)\n",
    "plt.xlabel('Predicted Label')\n",
    "plt.ylabel('Actual Label')\n",
    "plt.title('Confusion Matrix for Testset')\n",
    "plt.show()"
   ]
  },
  {
   "cell_type": "code",
   "execution_count": 112,
   "id": "4c8f50a4",
   "metadata": {},
   "outputs": [
    {
     "name": "stdout",
     "output_type": "stream",
     "text": [
      "              precision    recall  f1-score   support\n",
      "\n",
      "           0       0.96      1.00      0.98       238\n",
      "           1       1.00      0.88      0.94        95\n",
      "\n",
      "    accuracy                           0.97       333\n",
      "   macro avg       0.98      0.94      0.96       333\n",
      "weighted avg       0.97      0.97      0.97       333\n",
      "\n"
     ]
    }
   ],
   "source": [
    "print(classification_report(y_test,RF_test_predict)) "
   ]
  },
  {
   "cell_type": "code",
   "execution_count": 113,
   "id": "51032423",
   "metadata": {
    "scrolled": false
   },
   "outputs": [
    {
     "data": {
      "image/png": "[encoded data removed]",
      "text/plain": [
       "<Figure size 864x504 with 1 Axes>"
      ]
     },
     "metadata": {
      "needs_background": "light"
     },
     "output_type": "display_data"
    },
    {
     "name": "stdout",
     "output_type": "stream",
     "text": [
      "Area under Curve is 0.9997125165855815\n"
     ]
    }
   ],
   "source": [
    "from sklearn.metrics import roc_curve,roc_auc_score\n",
    "rf_fpr,rf_tpr,_ = roc_curve(y_test,RF_model.predict_proba(X_test)[:,1])\n",
    "plt.figure(figsize = (12,7))\n",
    "plt.plot(rf_fpr,rf_tpr,marker = 'x',label = 'RF')\n",
    "plt.plot(np.arange(0,1.1,0.1),np.arange(0,1.1,0.1))# can directly give plt.plot([0,1],[0,1])\n",
    "plt.xlabel('False Positive Rate')\n",
    "plt.ylabel('True Positive Rate')\n",
    "plt.title('ROC')\n",
    "plt.show()\n",
    "\n",
    "print('Area under Curve is', roc_auc_score(y_test,RF_model.predict_proba(X_test)[:,1]))"
   ]
  },
  {
   "cell_type": "code",
   "execution_count": 126,
   "id": "5032bd28",
   "metadata": {},
   "outputs": [
    {
     "name": "stdout",
     "output_type": "stream",
     "text": [
      "1.0\n"
     ]
    }
   ],
   "source": [
    "from sklearn.ensemble import RandomForestClassifier\n",
    "\n",
    "RF_model=RandomForestClassifier(n_estimators=100,random_state=1)\n",
    "RF_model=RF_model.fit(X_train, y_train)\n",
    "RF_train_predict = RF_model.predict(X_train)\n",
    "model_score = RF_model.score(X_train, y_train)\n",
    "print(model_score)"
   ]
  },
  {
   "cell_type": "code",
   "execution_count": 127,
   "id": "93f55b4c",
   "metadata": {},
   "outputs": [
    {
     "name": "stdout",
     "output_type": "stream",
     "text": [
      "0.9669669669669669\n"
     ]
    }
   ],
   "source": [
    "RF_test_predict = RF_model.predict(X_test)\n",
    "model_score = RF_model.score(X_test, y_test)\n",
    "print(model_score)"
   ]
  },
  {
   "cell_type": "markdown",
   "id": "d84b49ac",
   "metadata": {},
   "source": [
    "### RF using grid search"
   ]
  },
  {
   "cell_type": "code",
   "execution_count": 128,
   "id": "65ebeee5",
   "metadata": {},
   "outputs": [],
   "source": [
    "from sklearn.model_selection import RandomizedSearchCV"
   ]
  },
  {
   "cell_type": "code",
   "execution_count": 129,
   "id": "10f3a4c1",
   "metadata": {},
   "outputs": [
    {
     "name": "stdout",
     "output_type": "stream",
     "text": [
      "{'n_estimators': [200, 400, 600, 800, 1000, 1200, 1400, 1600, 1800, 2000], 'max_features': ['auto', 'sqrt'], 'max_depth': [10, 20, 30, 40, 50, 60, 70, 80, 90, 100, 110, None], 'min_samples_split': [2, 5, 10], 'min_samples_leaf': [1, 2, 4], 'bootstrap': [True, False]}\n"
     ]
    },
    {
     "data": {
      "text/plain": [
       "{'bootstrap': [True, False],\n",
       " 'max_depth': [10, 20, 30, 40, 50, 60, 70, 80, 90, 100, None],\n",
       " 'max_features': ['auto', 'sqrt'],\n",
       " 'min_samples_leaf': [1, 2, 4],\n",
       " 'min_samples_split': [2, 5, 10],\n",
       " 'n_estimators': [100, 200, 300]}"
      ]
     },
     "execution_count": 129,
     "metadata": {},
     "output_type": "execute_result"
    }
   ],
   "source": [
    "from sklearn.model_selection import RandomizedSearchCV# Number of trees in random forest\n",
    "n_estimators = [int(x) for x in np.linspace(start = 200, stop = 2000, num = 10)]\n",
    "# Number of features to consider at every split\n",
    "max_features = ['auto', 'sqrt']\n",
    "# Maximum number of levels in tree\n",
    "max_depth = [int(x) for x in np.linspace(10, 110, num = 11)]\n",
    "max_depth.append(None)\n",
    "# Minimum number of samples required to split a node\n",
    "min_samples_split = [2, 5, 10]\n",
    "# Minimum number of samples required at each leaf node\n",
    "min_samples_leaf = [1, 2, 4]\n",
    "# Method of selecting samples for training each tree\n",
    "bootstrap = [True, False]# Create the random grid\n",
    "random_grid = {'n_estimators': n_estimators,\n",
    "               'max_features': max_features,\n",
    "               'max_depth': max_depth,\n",
    "               'min_samples_split': min_samples_split,\n",
    "               'min_samples_leaf': min_samples_leaf,\n",
    "               'bootstrap': bootstrap}\n",
    "print(random_grid)\n",
    "{'bootstrap': [True, False],\n",
    " 'max_depth': [10, 20, 30, 40, 50, 60, 70, 80, 90, 100, None],\n",
    " 'max_features': ['auto', 'sqrt'],\n",
    " 'min_samples_leaf': [1, 2, 4],\n",
    " 'min_samples_split': [2, 5, 10],\n",
    " 'n_estimators': [100,200,300 ]}"
   ]
  },
  {
   "cell_type": "code",
   "execution_count": 130,
   "id": "57cea602",
   "metadata": {},
   "outputs": [],
   "source": [
    "param_grid={\n",
    "    'max_depth':[7,8,9,10],\n",
    "    'max_features':[3,4,5],\n",
    "    'min_samples_leaf':[50,100],\n",
    "    'min_samples_split':[150,300],\n",
    "    'n_estimators':[100,200,300]\n",
    "}\n",
    "rfcl =RandomForestClassifier()\n",
    "grid_search= GridSearchCV(estimator=rfcl,param_grid=param_grid,cv=3)"
   ]
  },
  {
   "cell_type": "code",
   "execution_count": 131,
   "id": "ae9fa57f",
   "metadata": {},
   "outputs": [
    {
     "name": "stdout",
     "output_type": "stream",
     "text": [
      "Fitting 3 folds for each of 100 candidates, totalling 300 fits\n"
     ]
    },
    {
     "data": {
      "text/plain": [
       "RandomizedSearchCV(cv=3, estimator=RandomForestClassifier(), n_iter=100,\n",
       "                   n_jobs=-1,\n",
       "                   param_distributions={'bootstrap': [True, False],\n",
       "                                        'max_depth': [10, 20, 30, 40, 50, 60,\n",
       "                                                      70, 80, 90, 100, 110,\n",
       "                                                      None],\n",
       "                                        'max_features': ['auto', 'sqrt'],\n",
       "                                        'min_samples_leaf': [1, 2, 4],\n",
       "                                        'min_samples_split': [2, 5, 10],\n",
       "                                        'n_estimators': [200, 400, 600, 800,\n",
       "                                                         1000, 1200, 1400, 1600,\n",
       "                                                         1800, 2000]},\n",
       "                   random_state=42, verbose=2)"
      ]
     },
     "execution_count": 131,
     "metadata": {},
     "output_type": "execute_result"
    }
   ],
   "source": [
    "# Use the random grid to search for best hyperparameters\n",
    "# First create the base model to tune\n",
    "rf = RandomForestClassifier()\n",
    "# Random search of parameters, using 3 fold cross validation, \n",
    "# search across 100 different combinations, and use all available cores\n",
    "rf_random = RandomizedSearchCV(estimator = rf, param_distributions = random_grid, n_iter = 100, cv = 3, verbose=2, random_state=42, n_jobs = -1)# Fit the random search model\n",
    "rf_random.fit(X_train, y_train)"
   ]
  },
  {
   "cell_type": "code",
   "execution_count": 132,
   "id": "3dba2389",
   "metadata": {},
   "outputs": [
    {
     "data": {
      "text/plain": [
       "{'n_estimators': 400,\n",
       " 'min_samples_split': 2,\n",
       " 'min_samples_leaf': 1,\n",
       " 'max_features': 'sqrt',\n",
       " 'max_depth': None,\n",
       " 'bootstrap': False}"
      ]
     },
     "execution_count": 132,
     "metadata": {},
     "output_type": "execute_result"
    }
   ],
   "source": [
    "rf_random.best_params_"
   ]
  },
  {
   "cell_type": "code",
   "execution_count": 133,
   "id": "4b607824",
   "metadata": {},
   "outputs": [],
   "source": [
    "best_grid = rf_random.best_estimator_"
   ]
  },
  {
   "cell_type": "code",
   "execution_count": 134,
   "id": "0e1d49fe",
   "metadata": {},
   "outputs": [
    {
     "data": {
      "text/plain": [
       "RandomForestClassifier(bootstrap=False, max_features='sqrt', n_estimators=400)"
      ]
     },
     "execution_count": 134,
     "metadata": {},
     "output_type": "execute_result"
    }
   ],
   "source": [
    "best_grid"
   ]
  },
  {
   "cell_type": "code",
   "execution_count": 135,
   "id": "f9404aaa",
   "metadata": {},
   "outputs": [],
   "source": [
    "RF_train_predict = best_grid.predict(X_train)\n",
    "RF_test_predict = best_grid.predict(X_test)"
   ]
  },
  {
   "cell_type": "code",
   "execution_count": 136,
   "id": "3d37aec5",
   "metadata": {},
   "outputs": [
    {
     "data": {
      "image/png": "[encoded data removed]",
      "text/plain": [
       "<Figure size 432x288 with 2 Axes>"
      ]
     },
     "metadata": {
      "needs_background": "light"
     },
     "output_type": "display_data"
    }
   ],
   "source": [
    "#Confusion Matrix for Test set\n",
    "confusion_matrix(y_train,RF_train_predict)\n",
    "sns.heatmap(confusion_matrix(y_train,RF_train_predict),annot = True,cbar = True,fmt = 'd',)\n",
    "plt.xlabel('Predicted Label')\n",
    "plt.ylabel('Actual Label')\n",
    "plt.title('Confusion Matrix for Trainset')\n",
    "plt.show()"
   ]
  },
  {
   "cell_type": "code",
   "execution_count": 137,
   "id": "ed1dfdc9",
   "metadata": {},
   "outputs": [
    {
     "name": "stdout",
     "output_type": "stream",
     "text": [
      "              precision    recall  f1-score   support\n",
      "\n",
      "           0       1.00      1.00      1.00       594\n",
      "           1       1.00      1.00      1.00       181\n",
      "\n",
      "    accuracy                           1.00       775\n",
      "   macro avg       1.00      1.00      1.00       775\n",
      "weighted avg       1.00      1.00      1.00       775\n",
      "\n"
     ]
    }
   ],
   "source": [
    "print(classification_report(y_train,RF_train_predict)) "
   ]
  },
  {
   "cell_type": "code",
   "execution_count": 138,
   "id": "0051934a",
   "metadata": {},
   "outputs": [
    {
     "data": {
      "image/png": "[encoded data removed]",
      "text/plain": [
       "<Figure size 864x504 with 1 Axes>"
      ]
     },
     "metadata": {
      "needs_background": "light"
     },
     "output_type": "display_data"
    },
    {
     "name": "stdout",
     "output_type": "stream",
     "text": [
      "Area under Curve is 1.0\n"
     ]
    }
   ],
   "source": [
    "from sklearn.metrics import roc_curve,roc_auc_score\n",
    "rf_fpr,rf_tpr,_ = roc_curve(y_train,best_grid.predict_proba(X_train)[:,1])\n",
    "plt.figure(figsize = (12,7))\n",
    "plt.plot(rf_fpr,rf_tpr,marker = 'x',label = 'RF')\n",
    "plt.plot(np.arange(0,1.1,0.1),np.arange(0,1.1,0.1))\n",
    "plt.xlabel('False Positive Rate')\n",
    "plt.ylabel('True Positive Rate')\n",
    "plt.title('ROC')\n",
    "plt.show()\n",
    "\n",
    "print('Area under Curve is', roc_auc_score(y_train,best_grid.predict_proba(X_train)[:,1]))"
   ]
  },
  {
   "cell_type": "code",
   "execution_count": 139,
   "id": "4470d334",
   "metadata": {},
   "outputs": [
    {
     "data": {
      "image/png": "[encoded data removed]",
      "text/plain": [
       "<Figure size 432x288 with 2 Axes>"
      ]
     },
     "metadata": {
      "needs_background": "light"
     },
     "output_type": "display_data"
    }
   ],
   "source": [
    "#Confusion Matrix for Test set\n",
    "confusion_matrix(y_test,RF_test_predict)\n",
    "sns.heatmap(confusion_matrix(y_test,RF_test_predict),annot = True,cbar = True,fmt = 'd',)\n",
    "plt.xlabel('Predicted Label')\n",
    "plt.ylabel('Actual Label')\n",
    "plt.title('Confusion Matrix for Trainset')\n",
    "plt.show()"
   ]
  },
  {
   "cell_type": "code",
   "execution_count": 140,
   "id": "76f32e6a",
   "metadata": {},
   "outputs": [
    {
     "name": "stdout",
     "output_type": "stream",
     "text": [
      "              precision    recall  f1-score   support\n",
      "\n",
      "           0       0.98      1.00      0.99       238\n",
      "           1       1.00      0.94      0.97        95\n",
      "\n",
      "    accuracy                           0.98       333\n",
      "   macro avg       0.99      0.97      0.98       333\n",
      "weighted avg       0.98      0.98      0.98       333\n",
      "\n"
     ]
    }
   ],
   "source": [
    "print(classification_report(y_test,RF_test_predict)) "
   ]
  },
  {
   "cell_type": "code",
   "execution_count": 141,
   "id": "ec5ffab0",
   "metadata": {},
   "outputs": [
    {
     "data": {
      "image/png": "[encoded data removed]",
      "text/plain": [
       "<Figure size 864x504 with 1 Axes>"
      ]
     },
     "metadata": {
      "needs_background": "light"
     },
     "output_type": "display_data"
    },
    {
     "name": "stdout",
     "output_type": "stream",
     "text": [
      "Area under Curve is 0.9998230871295887\n"
     ]
    }
   ],
   "source": [
    "from sklearn.metrics import roc_curve,roc_auc_score\n",
    "rf_fpr,rf_tpr,_ = roc_curve(y_test,best_grid.predict_proba(X_test)[:,1])\n",
    "plt.figure(figsize = (12,7))\n",
    "plt.plot(rf_fpr,rf_tpr,marker = 'x',label = 'RF')\n",
    "plt.plot(np.arange(0,1.1,0.1),np.arange(0,1.1,0.1))# can directly give plt.plot([0,1],[0,1])\n",
    "plt.xlabel('False Positive Rate')\n",
    "plt.ylabel('True Positive Rate')\n",
    "plt.title('ROC')\n",
    "plt.show()\n",
    "\n",
    "print('Area under Curve is', roc_auc_score(y_test,best_grid.predict_proba(X_test)[:,1]))"
   ]
  },
  {
   "cell_type": "code",
   "execution_count": 142,
   "id": "ad11fc61",
   "metadata": {},
   "outputs": [
    {
     "name": "stdout",
     "output_type": "stream",
     "text": [
      "Feature: 0, Score: 0.16721\n",
      "Feature: 1, Score: 0.00000\n",
      "Feature: 2, Score: 0.13371\n",
      "Feature: 3, Score: 0.10159\n",
      "Feature: 4, Score: 0.04066\n",
      "Feature: 5, Score: 0.04581\n",
      "Feature: 6, Score: 0.06683\n",
      "Feature: 7, Score: 0.16377\n",
      "Feature: 8, Score: 0.04865\n",
      "Feature: 9, Score: 0.05470\n",
      "Feature: 10, Score: 0.03511\n",
      "Feature: 11, Score: 0.01508\n",
      "Feature: 12, Score: 0.04360\n",
      "Feature: 13, Score: 0.01443\n",
      "Feature: 14, Score: 0.06886\n"
     ]
    },
    {
     "data": {
      "image/png": "[encoded data removed]",
      "text/plain": [
       "<Figure size 432x288 with 1 Axes>"
      ]
     },
     "metadata": {
      "needs_background": "light"
     },
     "output_type": "display_data"
    }
   ],
   "source": [
    "# get importance\n",
    "importance = best_grid.feature_importances_\n",
    "# summarize feature importance\n",
    "for i,v in enumerate(importance):\n",
    "\tprint('Feature: %0d, Score: %.5f' % (i,v))\n",
    "# plot feature importance\n",
    "plt.bar([x for x in range(len(importance))], importance)\n",
    "plt.show()"
   ]
  },
  {
   "cell_type": "markdown",
   "id": "23f75e77",
   "metadata": {},
   "source": [
    "### KNN"
   ]
  },
  {
   "cell_type": "code",
   "execution_count": 87,
   "id": "55903ab9",
   "metadata": {},
   "outputs": [],
   "source": [
    "from sklearn.neighbors import KNeighborsClassifier\n"
   ]
  },
  {
   "cell_type": "code",
   "execution_count": 88,
   "id": "654f0567",
   "metadata": {},
   "outputs": [
    {
     "data": {
      "text/plain": [
       "[1.0,\n",
       " 0.954954954954955,\n",
       " 0.8558558558558559,\n",
       " 0.7867867867867868,\n",
       " 0.7687687687687688,\n",
       " 0.7327327327327328,\n",
       " 0.7297297297297297,\n",
       " 0.7357357357357357,\n",
       " 0.7447447447447447,\n",
       " 0.7507507507507507]"
      ]
     },
     "execution_count": 88,
     "metadata": {},
     "output_type": "execute_result"
    }
   ],
   "source": [
    "# empty list that will hold accuracy scores\n",
    "ac_scores = []\n",
    "\n",
    "# perform accuracy metrics for values from 1,3,5....19\n",
    "for k in range(1,20,2):\n",
    "    KNN = KNeighborsClassifier(n_neighbors=k)\n",
    "    KNN.fit(X_train, y_train)\n",
    "    # evaluate test accuracy\n",
    "    scores = KNN.score(X_test, y_test)\n",
    "    ac_scores.append(scores)\n",
    "\n",
    "# accuracy scores for 1,3,5,7....\n",
    "MCE = [1-x for x in ac_scores]\n",
    "acc = [x for x in ac_scores]\n",
    "acc"
   ]
  },
  {
   "cell_type": "code",
   "execution_count": 89,
   "id": "658d4764",
   "metadata": {},
   "outputs": [
    {
     "data": {
      "image/png": "[encoded data removed]",
      "text/plain": [
       "<Figure size 432x288 with 1 Axes>"
      ]
     },
     "metadata": {
      "needs_background": "light"
     },
     "output_type": "display_data"
    }
   ],
   "source": [
    "import matplotlib.pyplot as plt\n",
    "# plot misclassification error vs k\n",
    "plt.plot(range(1,20,2), MCE)\n",
    "plt.xlabel('Number of Neighbors K')\n",
    "plt.ylabel('Misclassification Error')\n",
    "plt.show()"
   ]
  },
  {
   "cell_type": "markdown",
   "id": "fdba4c6b",
   "metadata": {},
   "source": [
    "### By scree plot we see 3 is optimum number of k neighbours with accordance MCE"
   ]
  },
  {
   "cell_type": "markdown",
   "id": "8f602433",
   "metadata": {},
   "source": [
    "##### Therefore, building the KNN model with k=3"
   ]
  },
  {
   "cell_type": "code",
   "execution_count": 90,
   "id": "ab70748c",
   "metadata": {},
   "outputs": [],
   "source": [
    "#model score k=3\n",
    "KNN_model=KNeighborsClassifier(n_neighbors=3)\n",
    "KNN_model.fit(X_train,y_train)\n",
    "KNN_train_predict = KNN_model.predict(X_train)\n",
    "\n",
    "KNN_test_predict = KNN_model.predict(X_test)\n"
   ]
  },
  {
   "cell_type": "code",
   "execution_count": 91,
   "id": "7ee718b0",
   "metadata": {},
   "outputs": [
    {
     "data": {
      "text/plain": [
       "0.9935483870967742"
      ]
     },
     "execution_count": 91,
     "metadata": {},
     "output_type": "execute_result"
    }
   ],
   "source": [
    "KNN_model.score(X_train,y_train)"
   ]
  },
  {
   "cell_type": "code",
   "execution_count": 92,
   "id": "09af18fe",
   "metadata": {},
   "outputs": [
    {
     "data": {
      "text/plain": [
       "0.954954954954955"
      ]
     },
     "execution_count": 92,
     "metadata": {},
     "output_type": "execute_result"
    }
   ],
   "source": [
    "KNN_model.score(X_test,y_test)"
   ]
  },
  {
   "cell_type": "code",
   "execution_count": 114,
   "id": "a3789f1d",
   "metadata": {},
   "outputs": [
    {
     "data": {
      "image/png": "[encoded data removed]",
      "text/plain": [
       "<Figure size 432x288 with 2 Axes>"
      ]
     },
     "metadata": {
      "needs_background": "light"
     },
     "output_type": "display_data"
    }
   ],
   "source": [
    "#Confusion Matrix for Train set\n",
    "confusion_matrix(y_train,KNN_train_predict)\n",
    "sns.heatmap(confusion_matrix(y_train,KNN_train_predict),annot = True,cbar = True,fmt = 'd',)\n",
    "plt.xlabel('Predicted Label')\n",
    "plt.ylabel('Actual Label')\n",
    "plt.title('Confusion Matrix for Trainset')\n",
    "plt.show()"
   ]
  },
  {
   "cell_type": "code",
   "execution_count": 115,
   "id": "f6da9eb2",
   "metadata": {},
   "outputs": [
    {
     "name": "stdout",
     "output_type": "stream",
     "text": [
      "              precision    recall  f1-score   support\n",
      "\n",
      "           0       0.99      1.00      1.00       594\n",
      "           1       0.99      0.98      0.99       181\n",
      "\n",
      "    accuracy                           0.99       775\n",
      "   macro avg       0.99      0.99      0.99       775\n",
      "weighted avg       0.99      0.99      0.99       775\n",
      "\n"
     ]
    }
   ],
   "source": [
    "print(classification_report(y_train,KNN_train_predict)) "
   ]
  },
  {
   "cell_type": "code",
   "execution_count": 116,
   "id": "9d33604c",
   "metadata": {},
   "outputs": [
    {
     "data": {
      "image/png": "[encoded data removed]",
      "text/plain": [
       "<Figure size 864x504 with 1 Axes>"
      ]
     },
     "metadata": {
      "needs_background": "light"
     },
     "output_type": "display_data"
    },
    {
     "name": "stdout",
     "output_type": "stream",
     "text": [
      "Area under Curve is 0.9994047286864967\n"
     ]
    }
   ],
   "source": [
    "from sklearn.metrics import roc_curve,roc_auc_score\n",
    "rf_fpr,rf_tpr,_ = roc_curve(y_train,KNN_model.predict_proba(X_train)[:,1])\n",
    "plt.figure(figsize = (12,7))\n",
    "plt.plot(rf_fpr,rf_tpr,marker = 'x',label = 'RF')\n",
    "plt.plot(np.arange(0,1.1,0.1),np.arange(0,1.1,0.1))# can directly give plt.plot([0,1],[0,1])\n",
    "plt.xlabel('False Positive Rate')\n",
    "plt.ylabel('True Positive Rate')\n",
    "plt.title('ROC')\n",
    "plt.show()\n",
    "\n",
    "print('Area under Curve is', roc_auc_score(y_train,KNN_model.predict_proba(X_train)[:,1]))"
   ]
  },
  {
   "cell_type": "code",
   "execution_count": 117,
   "id": "938b92ab",
   "metadata": {},
   "outputs": [
    {
     "data": {
      "image/png": "[encoded data removed]",
      "text/plain": [
       "<Figure size 432x288 with 2 Axes>"
      ]
     },
     "metadata": {
      "needs_background": "light"
     },
     "output_type": "display_data"
    }
   ],
   "source": [
    "#Confusion Matrix for Train set\n",
    "confusion_matrix(y_test,KNN_test_predict)\n",
    "sns.heatmap(confusion_matrix(y_test,KNN_test_predict),annot = True,cbar = True,fmt = 'd',)\n",
    "plt.xlabel('Predicted Label')\n",
    "plt.ylabel('Actual Label')\n",
    "plt.title('Confusion Matrix for Testset')\n",
    "plt.show()"
   ]
  },
  {
   "cell_type": "code",
   "execution_count": 118,
   "id": "5d796f13",
   "metadata": {},
   "outputs": [
    {
     "name": "stdout",
     "output_type": "stream",
     "text": [
      "              precision    recall  f1-score   support\n",
      "\n",
      "           0       0.96      0.97      0.97       238\n",
      "           1       0.93      0.91      0.92        95\n",
      "\n",
      "    accuracy                           0.95       333\n",
      "   macro avg       0.95      0.94      0.94       333\n",
      "weighted avg       0.95      0.95      0.95       333\n",
      "\n"
     ]
    }
   ],
   "source": [
    "print(classification_report(y_test,KNN_test_predict)) "
   ]
  },
  {
   "cell_type": "code",
   "execution_count": 119,
   "id": "5f741233",
   "metadata": {},
   "outputs": [
    {
     "data": {
      "image/png": "[encoded data removed]",
      "text/plain": [
       "<Figure size 864x504 with 1 Axes>"
      ]
     },
     "metadata": {
      "needs_background": "light"
     },
     "output_type": "display_data"
    },
    {
     "name": "stdout",
     "output_type": "stream",
     "text": [
      "Area under Curve is 0.9896505970809376\n"
     ]
    }
   ],
   "source": [
    "from sklearn.metrics import roc_curve,roc_auc_score\n",
    "rf_fpr,rf_tpr,_ = roc_curve(y_test,KNN_model.predict_proba(X_test)[:,1])\n",
    "plt.figure(figsize = (12,7))\n",
    "plt.plot(rf_fpr,rf_tpr,marker = 'x',label = 'RF')\n",
    "plt.plot(np.arange(0,1.1,0.1),np.arange(0,1.1,0.1))# can directly give plt.plot([0,1],[0,1])\n",
    "plt.xlabel('False Positive Rate')\n",
    "plt.ylabel('True Positive Rate')\n",
    "plt.title('ROC')\n",
    "plt.show()\n",
    "\n",
    "print('Area under Curve is', roc_auc_score(y_test,KNN_model.predict_proba(X_test)[:,1]))"
   ]
  },
  {
   "cell_type": "markdown",
   "id": "cd0e3914",
   "metadata": {},
   "source": [
    "### SMOTE"
   ]
  },
  {
   "cell_type": "code",
   "execution_count": 177,
   "id": "0d81c66e",
   "metadata": {},
   "outputs": [],
   "source": [
    "from imblearn.over_sampling import SMOTE \n",
    "from sklearn import metrics\n"
   ]
  },
  {
   "cell_type": "code",
   "execution_count": 178,
   "id": "f231604c",
   "metadata": {},
   "outputs": [],
   "source": [
    "sm = SMOTE()\n",
    "\n",
    "\n",
    "X_train_res, y_train_res = sm.fit_resample(X_train, y_train.ravel())"
   ]
  },
  {
   "cell_type": "code",
   "execution_count": 179,
   "id": "b961f4fe",
   "metadata": {},
   "outputs": [
    {
     "data": {
      "text/plain": [
       "(1188, 15)"
      ]
     },
     "execution_count": 179,
     "metadata": {},
     "output_type": "execute_result"
    }
   ],
   "source": [
    "## Let's check the shape after SMOTE\n",
    "X_train_res.shape"
   ]
  },
  {
   "cell_type": "markdown",
   "id": "a8b5d94f",
   "metadata": {},
   "source": [
    "###  LOGIT"
   ]
  },
  {
   "cell_type": "code",
   "execution_count": 180,
   "id": "dce6f2ff",
   "metadata": {},
   "outputs": [
    {
     "data": {
      "text/plain": [
       "LogisticRegression()"
      ]
     },
     "execution_count": 180,
     "metadata": {},
     "output_type": "execute_result"
    }
   ],
   "source": [
    "smote_log_model = LogisticRegression()\n",
    "smote_log_model.fit(X_train_res, y_train_res)"
   ]
  },
  {
   "cell_type": "code",
   "execution_count": 181,
   "id": "81f794f1",
   "metadata": {},
   "outputs": [],
   "source": [
    "smote_log_train_predict = smote_log_model.predict(X_train_res)\n",
    "smote_log_test_predict = smote_log_model.predict(X_test)"
   ]
  },
  {
   "cell_type": "code",
   "execution_count": 182,
   "id": "eaade7da",
   "metadata": {},
   "outputs": [
    {
     "name": "stdout",
     "output_type": "stream",
     "text": [
      "0.6725589225589226\n",
      "[[387 207]\n",
      " [182 412]]\n",
      "              precision    recall  f1-score   support\n",
      "\n",
      "           0       0.68      0.65      0.67       594\n",
      "           1       0.67      0.69      0.68       594\n",
      "\n",
      "    accuracy                           0.67      1188\n",
      "   macro avg       0.67      0.67      0.67      1188\n",
      "weighted avg       0.67      0.67      0.67      1188\n",
      "\n"
     ]
    }
   ],
   "source": [
    "## Performance Matrix on train data set with SMOTE\n",
    "smote_log_train_predict = smote_log_model.predict(X_train_res)\n",
    "model_score = smote_log_model.score(X_train_res, y_train_res)\n",
    "print(model_score)\n",
    "print(metrics.confusion_matrix(y_train_res, smote_log_train_predict))\n",
    "print(metrics.classification_report(y_train_res ,smote_log_train_predict))"
   ]
  },
  {
   "cell_type": "code",
   "execution_count": 183,
   "id": "09cb5a0e",
   "metadata": {},
   "outputs": [
    {
     "name": "stdout",
     "output_type": "stream",
     "text": [
      "0.6726726726726727\n",
      "[[151  87]\n",
      " [ 22  73]]\n",
      "              precision    recall  f1-score   support\n",
      "\n",
      "           0       0.87      0.63      0.73       238\n",
      "           1       0.46      0.77      0.57        95\n",
      "\n",
      "    accuracy                           0.67       333\n",
      "   macro avg       0.66      0.70      0.65       333\n",
      "weighted avg       0.75      0.67      0.69       333\n",
      "\n"
     ]
    }
   ],
   "source": [
    "smote_log_test_predict = smote_log_model.predict(X_test)\n",
    "model_score = smote_log_model.score(X_test, y_test)\n",
    "print(model_score)\n",
    "print(metrics.confusion_matrix(y_test, smote_log_test_predict))\n",
    "print(metrics.classification_report(y_test ,smote_log_test_predict))"
   ]
  },
  {
   "cell_type": "markdown",
   "id": "e2e022aa",
   "metadata": {},
   "source": [
    "###   LDA"
   ]
  },
  {
   "cell_type": "code",
   "execution_count": 184,
   "id": "ad532d8f",
   "metadata": {},
   "outputs": [
    {
     "data": {
      "text/plain": [
       "LinearDiscriminantAnalysis()"
      ]
     },
     "execution_count": 184,
     "metadata": {},
     "output_type": "execute_result"
    }
   ],
   "source": [
    "\n",
    "\n",
    "smote_lda_model = LinearDiscriminantAnalysis()\n",
    "smote_lda_model.fit(X_train_res, y_train_res)"
   ]
  },
  {
   "cell_type": "code",
   "execution_count": 185,
   "id": "aae06297",
   "metadata": {},
   "outputs": [],
   "source": [
    "smote_lda_train_predict = smote_lda_model.predict(X_train_res)\n",
    "smote_lda_test_predict = smote_lda_model.predict(X_test)"
   ]
  },
  {
   "cell_type": "code",
   "execution_count": 186,
   "id": "d5aad16d",
   "metadata": {},
   "outputs": [
    {
     "name": "stdout",
     "output_type": "stream",
     "text": [
      "0.6725589225589226\n",
      "[[442 152]\n",
      " [152 442]]\n",
      "              precision    recall  f1-score   support\n",
      "\n",
      "           0       0.74      0.74      0.74       594\n",
      "           1       0.74      0.74      0.74       594\n",
      "\n",
      "    accuracy                           0.74      1188\n",
      "   macro avg       0.74      0.74      0.74      1188\n",
      "weighted avg       0.74      0.74      0.74      1188\n",
      "\n"
     ]
    }
   ],
   "source": [
    "## Performance Matrix on train data set with SMOTE\n",
    "smote_lda_train_predict = smote_lda_model.predict(X_train_res)\n",
    "model_score = smote_log_model.score(X_train_res, y_train_res)\n",
    "print(model_score)\n",
    "print(metrics.confusion_matrix(y_train_res, smote_lda_train_predict))\n",
    "print(metrics.classification_report(y_train_res ,smote_lda_train_predict))"
   ]
  },
  {
   "cell_type": "code",
   "execution_count": 187,
   "id": "e7bef18f",
   "metadata": {},
   "outputs": [
    {
     "name": "stdout",
     "output_type": "stream",
     "text": [
      "0.7357357357357357\n",
      "[[173  65]\n",
      " [ 23  72]]\n",
      "              precision    recall  f1-score   support\n",
      "\n",
      "           0       0.88      0.73      0.80       238\n",
      "           1       0.53      0.76      0.62        95\n",
      "\n",
      "    accuracy                           0.74       333\n",
      "   macro avg       0.70      0.74      0.71       333\n",
      "weighted avg       0.78      0.74      0.75       333\n",
      "\n"
     ]
    }
   ],
   "source": [
    "smote_log_test_predict = smote_lda_model.predict(X_test)\n",
    "model_score = smote_lda_model.score(X_test, y_test)\n",
    "print(model_score)\n",
    "print(metrics.confusion_matrix(y_test, smote_lda_test_predict))\n",
    "print(metrics.classification_report(y_test ,smote_lda_test_predict))"
   ]
  },
  {
   "cell_type": "markdown",
   "id": "de43a342",
   "metadata": {},
   "source": [
    "###  KNN"
   ]
  },
  {
   "cell_type": "code",
   "execution_count": 188,
   "id": "c44c4cc2",
   "metadata": {},
   "outputs": [
    {
     "data": {
      "text/plain": [
       "KNeighborsClassifier(n_neighbors=3)"
      ]
     },
     "execution_count": 188,
     "metadata": {},
     "output_type": "execute_result"
    }
   ],
   "source": [
    "Smote_KNN = KNeighborsClassifier(n_neighbors=3)\n",
    "Smote_KNN.fit(X_train_res, y_train_res)"
   ]
  },
  {
   "cell_type": "code",
   "execution_count": 189,
   "id": "b5821a4f",
   "metadata": {},
   "outputs": [],
   "source": [
    "Smote_KNN_train_predict = Smote_KNN.predict(X_train_res)\n",
    "Smote_KNN_test_predict = Smote_KNN.predict(X_test)"
   ]
  },
  {
   "cell_type": "code",
   "execution_count": 190,
   "id": "ce452569",
   "metadata": {},
   "outputs": [
    {
     "name": "stdout",
     "output_type": "stream",
     "text": [
      "0.9856902356902357\n",
      "[[591   3]\n",
      " [ 14 580]]\n",
      "              precision    recall  f1-score   support\n",
      "\n",
      "           0       0.98      0.99      0.99       594\n",
      "           1       0.99      0.98      0.99       594\n",
      "\n",
      "    accuracy                           0.99      1188\n",
      "   macro avg       0.99      0.99      0.99      1188\n",
      "weighted avg       0.99      0.99      0.99      1188\n",
      "\n"
     ]
    }
   ],
   "source": [
    "## Performance Matrix on train data set with SMOTE\n",
    "Smote_KNN_train_predict = Smote_KNN.predict(X_train_res)\n",
    "model_score = Smote_KNN.score(X_train_res, y_train_res)\n",
    "print(model_score)\n",
    "print(metrics.confusion_matrix(y_train_res, Smote_KNN_train_predict))\n",
    "print(metrics.classification_report(y_train_res ,Smote_KNN_train_predict))"
   ]
  },
  {
   "cell_type": "code",
   "execution_count": 191,
   "id": "88ea76b0",
   "metadata": {},
   "outputs": [
    {
     "name": "stdout",
     "output_type": "stream",
     "text": [
      "0.975975975975976\n",
      "[[230   8]\n",
      " [  0  95]]\n",
      "              precision    recall  f1-score   support\n",
      "\n",
      "           0       1.00      0.97      0.98       238\n",
      "           1       0.92      1.00      0.96        95\n",
      "\n",
      "    accuracy                           0.98       333\n",
      "   macro avg       0.96      0.98      0.97       333\n",
      "weighted avg       0.98      0.98      0.98       333\n",
      "\n"
     ]
    }
   ],
   "source": [
    "smote_log_test_predict = Smote_KNN.predict(X_test)\n",
    "model_score = Smote_KNN.score(X_test, y_test)\n",
    "print(model_score)\n",
    "print(metrics.confusion_matrix(y_test, smote_log_test_predict))\n",
    "print(metrics.classification_report(y_test ,smote_log_test_predict))"
   ]
  },
  {
   "cell_type": "markdown",
   "id": "f82719f3",
   "metadata": {},
   "source": [
    "###  RF\n"
   ]
  },
  {
   "cell_type": "code",
   "execution_count": 192,
   "id": "63e85a49",
   "metadata": {},
   "outputs": [],
   "source": [
    "Smote_RF_model=RandomForestClassifier(n_estimators=100,random_state=1)\n",
    "Smote_RF_model=Smote_RF_model.fit(X_train_res, y_train_res)"
   ]
  },
  {
   "cell_type": "code",
   "execution_count": 193,
   "id": "fb19392b",
   "metadata": {},
   "outputs": [],
   "source": [
    "Smote_RF_train_predict = Smote_RF_model.predict(X_train_res)\n",
    "Smote_RF_test_predict = Smote_RF_model.predict(X_test)"
   ]
  },
  {
   "cell_type": "code",
   "execution_count": 194,
   "id": "9a63a6ca",
   "metadata": {},
   "outputs": [
    {
     "name": "stdout",
     "output_type": "stream",
     "text": [
      "1.0\n",
      "[[594   0]\n",
      " [  0 594]]\n",
      "              precision    recall  f1-score   support\n",
      "\n",
      "           0       1.00      1.00      1.00       594\n",
      "           1       1.00      1.00      1.00       594\n",
      "\n",
      "    accuracy                           1.00      1188\n",
      "   macro avg       1.00      1.00      1.00      1188\n",
      "weighted avg       1.00      1.00      1.00      1188\n",
      "\n"
     ]
    }
   ],
   "source": [
    "## Performance Matrix on train data set with SMOTE\n",
    "Smote_RF_train_predict = Smote_RF_model.predict(X_train_res)\n",
    "model_score = Smote_RF_model.score(X_train_res, y_train_res)\n",
    "print(model_score)\n",
    "print(metrics.confusion_matrix(y_train_res, Smote_RF_train_predict))\n",
    "print(metrics.classification_report(y_train_res ,Smote_RF_train_predict))"
   ]
  },
  {
   "cell_type": "code",
   "execution_count": 195,
   "id": "48f5b6f4",
   "metadata": {},
   "outputs": [
    {
     "name": "stdout",
     "output_type": "stream",
     "text": [
      "0.9819819819819819\n",
      "[[235   3]\n",
      " [  3  92]]\n",
      "              precision    recall  f1-score   support\n",
      "\n",
      "           0       0.99      0.99      0.99       238\n",
      "           1       0.97      0.97      0.97        95\n",
      "\n",
      "    accuracy                           0.98       333\n",
      "   macro avg       0.98      0.98      0.98       333\n",
      "weighted avg       0.98      0.98      0.98       333\n",
      "\n"
     ]
    }
   ],
   "source": [
    "Smote_RF_test_predict = Smote_RF_model.predict(X_test)\n",
    "model_score = Smote_RF_model.score(X_test, y_test)\n",
    "print(model_score)\n",
    "print(metrics.confusion_matrix(y_test, Smote_RF_test_predict))\n",
    "print(metrics.classification_report(y_test ,Smote_RF_test_predict))"
   ]
  }
 ],
 "metadata": {
  "kernelspec": {
   "display_name": "Python 3",
   "language": "python",
   "name": "python3"
  },
  "language_info": {
   "codemirror_mode": {
    "name": "ipython",
    "version": 3
   },
   "file_extension": ".py",
   "mimetype": "text/x-python",
   "name": "python",
   "nbconvert_exporter": "python",
   "pygments_lexer": "ipython3",
   "version": "3.8.8"
  }
 },
 "nbformat": 4,
 "nbformat_minor": 5
}
